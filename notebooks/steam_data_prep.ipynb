{
 "cells": [
  {
   "cell_type": "markdown",
   "id": "5e343bd9-44d3-4805-aaa8-116975a0584f",
   "metadata": {},
   "source": [
    "## Data preparation for Steam datasets"
   ]
  },
  {
   "cell_type": "code",
   "execution_count": null,
   "id": "cb29ec25-e35a-48ce-8052-4f45f8c66167",
   "metadata": {},
   "outputs": [],
   "source": [
    "# import libraries\n",
    "import pandas as pd\n",
    "import string\n",
    "import nltk\n",
    "import re\n",
    "import ast\n",
    "from nltk.stem.porter import PorterStemmer\n",
    "from sklearn.preprocessing import MultiLabelBinarizer\n",
    "from sklearn.feature_extraction.text import TfidfVectorizer"
   ]
  },
  {
   "cell_type": "code",
   "execution_count": null,
   "id": "99bd8fab",
   "metadata": {},
   "outputs": [],
   "source": [
    "USER_PLAYTIME_PATH = '../data/steam_playtime.csv'"
   ]
  },
  {
   "cell_type": "markdown",
   "id": "c2eebc13-4f7e-4d3e-bd7a-089b1ef6daee",
   "metadata": {},
   "source": [
    "### PLAYTIME DATA PREP"
   ]
  },
  {
   "cell_type": "code",
   "execution_count": null,
   "id": "794bf509-972e-4b6a-a1f1-5397a55dd3fc",
   "metadata": {},
   "outputs": [],
   "source": [
    "# load steam_playtime.csv\n",
    "users_df = pd.read_csv('../data/steam_playtime.csv')"
   ]
  },
  {
   "cell_type": "code",
   "execution_count": null,
   "id": "c161acce-b6ce-42fd-8639-428e38a4c7b9",
   "metadata": {},
   "outputs": [],
   "source": [
    "\n",
    "\n",
    "# drop counterstrike i.e. drop rows where appid is 730, 10 or 240\n",
    "users_df = users_df[~users_df['appid'].isin([730, 10, 240])]\n",
    "\n",
    "# drop user playtimes over x minutes\n",
    "users_df = users_df[users_df['playtime_forever'] < 12000]\n",
    "\n",
    "# remove user playtimes under 60 minutes\n",
    "users_df = users_df[users_df['playtime_forever'] > 60]\n",
    "\n",
    "# drop playtime_2weeks column, not much there\n",
    "users_df = users_df.drop(columns = ['playtime_2weeks'])"
   ]
  },
  {
   "cell_type": "code",
   "execution_count": null,
   "id": "14849b37-5b1b-43e8-9cc8-acc30f1507d7",
   "metadata": {},
   "outputs": [],
   "source": [
    "len(users_df)"
   ]
  },
  {
   "cell_type": "code",
   "execution_count": null,
   "id": "0ec8645d-9ebf-44d5-8604-2ec4f1c079fa",
   "metadata": {},
   "outputs": [],
   "source": [
    "len(users_df['steam_id'].unique())"
   ]
  },
  {
   "cell_type": "code",
   "execution_count": null,
   "id": "c81a86f0-7bb3-4398-b9ad-3f3bd4b075f9",
   "metadata": {},
   "outputs": [],
   "source": [
    "users_df['playtime_forever'].mean()"
   ]
  },
  {
   "cell_type": "code",
   "execution_count": null,
   "id": "9b1c9f85-1f5c-4123-9e08-a1427927da97",
   "metadata": {},
   "outputs": [],
   "source": [
    "users_df['playtime_forever'].median()"
   ]
  },
  {
   "cell_type": "markdown",
   "id": "39a84a71-f4bf-4fd0-b845-b24ba12b359c",
   "metadata": {},
   "source": [
    "### GAME DATA PREP"
   ]
  },
  {
   "cell_type": "code",
   "execution_count": null,
   "id": "bcfefd6d-de00-44d6-a478-8e19cbd03cb3",
   "metadata": {},
   "outputs": [],
   "source": [
    "# load steam_app_metadata.csv\n",
    "games_df = pd.read_csv('../data/steam_app_metadata.csv')"
   ]
  },
  {
   "cell_type": "code",
   "execution_count": null,
   "id": "4f5d9a74",
   "metadata": {},
   "outputs": [],
   "source": [
    "# remove games from games_df that are not in users_df\n",
    "games_df = games_df[games_df['appid'].isin(users_df['appid'].unique())]"
   ]
  },
  {
   "cell_type": "markdown",
   "id": "c95ad03f-9d53-42e2-bc99-547acbac4947",
   "metadata": {},
   "source": [
    "#### one hot encode categories and genres"
   ]
  },
  {
   "cell_type": "code",
   "execution_count": null,
   "id": "79308513-43b6-4d79-83d1-4a52a242d57a",
   "metadata": {},
   "outputs": [],
   "source": [
    "# make categories and genres into lists\n",
    "games_df['categories'] = games_df['categories'].apply(ast.literal_eval)\n",
    "games_df['genres'] = games_df['genres'].apply(ast.literal_eval)"
   ]
  },
  {
   "cell_type": "code",
   "execution_count": null,
   "id": "e75fc72a-7314-4307-ad8a-ea39c2467de8",
   "metadata": {},
   "outputs": [],
   "source": [
    "# multilabel binarizer\n",
    "mlb = MultiLabelBinarizer()"
   ]
  },
  {
   "cell_type": "code",
   "execution_count": null,
   "id": "3bc5fd1c-c603-4ddb-b58b-656f2861627f",
   "metadata": {},
   "outputs": [],
   "source": [
    "# encode categories \n",
    "games_df = games_df.join(pd.DataFrame(mlb.fit_transform(games_df.pop('categories')),\n",
    "                          columns=mlb.classes_,\n",
    "                          index=games_df.index))"
   ]
  },
  {
   "cell_type": "code",
   "execution_count": null,
   "id": "4fd22c31-306a-40be-a1ad-a22ad5d7b8bc",
   "metadata": {},
   "outputs": [],
   "source": [
    "# encode genres\n",
    "games_df = games_df.join(pd.DataFrame(mlb.fit_transform(games_df.pop('genres')),\n",
    "                          columns=mlb.classes_,\n",
    "                          index=games_df.index))"
   ]
  },
  {
   "cell_type": "markdown",
   "id": "a37fcb33-6412-415e-9327-c0de5b802778",
   "metadata": {},
   "source": [
    "#### process description column NLP style"
   ]
  },
  {
   "cell_type": "code",
   "execution_count": null,
   "id": "85d7fb81-ceaf-43d3-a856-7764ab386924",
   "metadata": {},
   "outputs": [],
   "source": [
    "# fill 'description' column NaN with empty string\n",
    "games_df['description'] = games_df['description'].fillna('')"
   ]
  },
  {
   "cell_type": "code",
   "execution_count": null,
   "id": "d4f2330d-c1bf-4e68-9fde-8fb7707f2155",
   "metadata": {},
   "outputs": [],
   "source": [
    "stopwords = nltk.corpus.stopwords.words('english')\n",
    "porter = PorterStemmer()"
   ]
  },
  {
   "cell_type": "code",
   "execution_count": null,
   "id": "1ced1e8e-1d89-47af-93e3-40e166f02c58",
   "metadata": {},
   "outputs": [],
   "source": [
    "# function to clean text\n",
    "def clean_text(text):\n",
    "    # remove tags\n",
    "    text = re.sub(r'<.*?>',' ',text)\n",
    "    # remove URL links\n",
    "    text = re.sub(r'http\\S+', ' ', text)\n",
    "    # remove non-breaking space\n",
    "    text = text.replace(u'\\xa0', u' ')\n",
    "    # remove hex\n",
    "    text = re.sub(r'[^\\x00-\\x7f]',r'', text)\n",
    "    # remove punctuation\n",
    "    text = text.translate(str.maketrans('', '', string.punctuation))\n",
    "    # remove numbers\n",
    "    text = re.sub(r'[0-9]+', '', text)\n",
    "    # make lowercase\n",
    "    text = text.lower()\n",
    "    # tokenize text\n",
    "    tokens = nltk.word_tokenize(text)\n",
    "    # remove stopwords\n",
    "    tokens = [w for w in tokens if w not in stopwords]\n",
    "    # stem words\n",
    "    tokens = [porter.stem(w) for w in tokens]\n",
    "    # make tokens into string\n",
    "    text = ' '.join(tokens)\n",
    "    # return clean text\n",
    "    return text"
   ]
  },
  {
   "cell_type": "code",
   "execution_count": null,
   "id": "cd0a1ec3-4263-488b-a40b-c261cc091616",
   "metadata": {},
   "outputs": [],
   "source": [
    "# apply clean_text function to description column\n",
    "games_df['description'] = games_df['description'].apply(clean_text)"
   ]
  },
  {
   "cell_type": "code",
   "execution_count": null,
   "id": "c53bb28e-ed2c-49ca-9800-a0133fee51e5",
   "metadata": {},
   "outputs": [],
   "source": [
    "# make description column into type string, otherwise tfidf cries\n",
    "games_df['description'] = games_df['description'].astype(str)"
   ]
  },
  {
   "cell_type": "code",
   "execution_count": null,
   "id": "0136cf01-a792-47ce-9dcd-14f2ed566780",
   "metadata": {},
   "outputs": [],
   "source": [
    "# instantiate tfidfvectorizer\n",
    "tfidf = TfidfVectorizer(max_features=1500, lowercase=False, min_df=5, ngram_range=(1,3))"
   ]
  },
  {
   "cell_type": "code",
   "execution_count": null,
   "id": "6c5e8855-f244-4c37-8753-a8ea10bea445",
   "metadata": {},
   "outputs": [],
   "source": [
    "# fit tfidfvectorizer to description column\n",
    "tfidf_matrix = tfidf.fit_transform(games_df['description'])"
   ]
  },
  {
   "cell_type": "code",
   "execution_count": null,
   "id": "dfbd7d36-90b1-4a47-b494-92f9cf18922f",
   "metadata": {
    "tags": []
   },
   "outputs": [],
   "source": [
    "# make matrix into dataframe\n",
    "tfidf_df = pd.DataFrame(tfidf_matrix.toarray(), columns=tfidf.get_feature_names())"
   ]
  },
  {
   "cell_type": "code",
   "execution_count": null,
   "id": "a2c9acdc-c328-4fa2-a855-510d6206b28f",
   "metadata": {},
   "outputs": [],
   "source": [
    "games_df = pd.concat([games_df, tfidf_df], axis=1)"
   ]
  },
  {
   "cell_type": "code",
   "execution_count": null,
   "id": "f1fdd41c-3a21-4476-81ec-c2649fa159ae",
   "metadata": {},
   "outputs": [],
   "source": [
    "games_df.shape"
   ]
  },
  {
   "cell_type": "markdown",
   "id": "78f8ee05-8015-4c9b-bad8-4aef4f070eb4",
   "metadata": {},
   "source": [
    "#### Save some dataframes and other stuff"
   ]
  },
  {
   "cell_type": "code",
   "execution_count": null,
   "id": "0ae8afc1-dd0f-4650-a0ab-1c7246be0310",
   "metadata": {},
   "outputs": [],
   "source": [
    "# make a dataframe from appid, name, developer and publisher. for our recommendations\n",
    "# i have to go by location because 'name' is possibly a tf-idf term now\n",
    "gameinfo_df = games_df.iloc[:, [0,1,3,4]]"
   ]
  },
  {
   "cell_type": "code",
   "execution_count": null,
   "id": "3f5577a3-9e64-4289-97b7-c49a5f5366f8",
   "metadata": {},
   "outputs": [],
   "source": [
    "# save gameinfo_df to csv\n",
    "gameinfo_df.to_csv('../data/steam_gameinfo.csv', index=False)"
   ]
  },
  {
   "cell_type": "code",
   "execution_count": null,
   "id": "93b747ea-8f7f-4090-88ff-0eedf1baddb5",
   "metadata": {},
   "outputs": [],
   "source": [
    "# drop rows from users_df where appid is not in games_df\n",
    "# play time for games is still in user profiles even if a game is no longer on steam\n",
    "users_df = users_df[users_df['appid'].isin(games_df['appid'])]"
   ]
  },
  {
   "cell_type": "code",
   "execution_count": null,
   "id": "eae3ea6c-f7ce-4242-af1b-d7ba77af61de",
   "metadata": {},
   "outputs": [],
   "source": [
    "# save users_df to csv\n",
    "users_df.to_csv('../data/steam_playtime_clean.csv', index=False)"
   ]
  },
  {
   "cell_type": "code",
   "execution_count": null,
   "id": "7e6e0fe5-bb6b-49cb-a24b-3909dc154776",
   "metadata": {},
   "outputs": [],
   "source": [
    "# drop name, developer and publisher from games_df\n",
    "games_df = games_df.drop(columns = ['name', 'developer', 'publisher', 'description'])"
   ]
  },
  {
   "cell_type": "code",
   "execution_count": null,
   "id": "91921372-1cb3-4946-8779-ecb59d96b71b",
   "metadata": {},
   "outputs": [],
   "source": [
    "# save games_df to csv\n",
    "games_df.to_csv('../data/steam_app_metadata_clean.csv', index=False)"
   ]
  },
  {
   "cell_type": "code",
   "execution_count": null,
   "id": "4c16d2f0-cac3-440c-ba45-4265b9f7b43f",
   "metadata": {},
   "outputs": [],
   "source": []
  }
 ],
 "metadata": {
  "kernelspec": {
   "display_name": "Python 3.9.7 ('base')",
   "language": "python",
   "name": "python3"
  },
  "language_info": {
   "codemirror_mode": {
    "name": "ipython",
    "version": 3
   },
   "file_extension": ".py",
   "mimetype": "text/x-python",
   "name": "python",
   "nbconvert_exporter": "python",
   "pygments_lexer": "ipython3",
   "version": "3.9.7 (default, Sep 16 2021, 13:09:58) \n[GCC 7.5.0]"
  },
  "vscode": {
   "interpreter": {
    "hash": "4a3c54e841fe8ed729f88f1a4dbf5907a70c4a9986278aeeef34dd666b803d5d"
   }
  }
 },
 "nbformat": 4,
 "nbformat_minor": 5
}
