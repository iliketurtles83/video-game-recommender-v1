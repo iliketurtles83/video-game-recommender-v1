{
 "cells": [
  {
   "cell_type": "markdown",
   "id": "5e343bd9-44d3-4805-aaa8-116975a0584f",
   "metadata": {},
   "source": [
    "## Data preparation for Steam datasets"
   ]
  },
  {
   "cell_type": "code",
   "execution_count": 32,
   "id": "cb29ec25-e35a-48ce-8052-4f45f8c66167",
   "metadata": {},
   "outputs": [],
   "source": [
    "import pandas as pd\n",
    "import string\n",
    "import nltk\n",
    "import re      \n",
    "import ast\n",
    "from nltk.stem.porter import PorterStemmer\n",
    "from sklearn.preprocessing import MultiLabelBinarizer"
   ]
  },
  {
   "cell_type": "markdown",
   "id": "c2eebc13-4f7e-4d3e-bd7a-089b1ef6daee",
   "metadata": {},
   "source": [
    "### PLAYTIME DATA PREP"
   ]
  },
  {
   "cell_type": "code",
   "execution_count": 33,
   "id": "794bf509-972e-4b6a-a1f1-5397a55dd3fc",
   "metadata": {},
   "outputs": [],
   "source": [
    "# load steam_playtime.csv\n",
    "users_df = pd.read_csv('../data/steam_playtime.csv')"
   ]
  },
  {
   "cell_type": "code",
   "execution_count": 34,
   "id": "41abd06f",
   "metadata": {},
   "outputs": [
    {
     "data": {
      "text/plain": [
       "2641446"
      ]
     },
     "execution_count": 34,
     "metadata": {},
     "output_type": "execute_result"
    }
   ],
   "source": [
    "len(users_df)"
   ]
  },
  {
   "cell_type": "code",
   "execution_count": 35,
   "id": "c161acce-b6ce-42fd-8639-428e38a4c7b9",
   "metadata": {},
   "outputs": [],
   "source": [
    "# drop counterstrike i.e. drop rows where appid is 730, 10 or 240\n",
    "users_df = users_df[~users_df['appid'].isin([730, 10, 240])]\n",
    "\n",
    "# remove user playtimes over x minutes\n",
    "users_df = users_df[users_df['playtime_forever'] < 130000]"
   ]
  },
  {
   "cell_type": "code",
   "execution_count": 36,
   "id": "b40257fc",
   "metadata": {},
   "outputs": [],
   "source": [
    "# remove user playtimes under x minutes\n",
    "users_df = users_df[users_df['playtime_forever'] > 10]"
   ]
  },
  {
   "cell_type": "code",
   "execution_count": 37,
   "id": "59192b29",
   "metadata": {},
   "outputs": [],
   "source": [
    "# drop ridiculous playtime_2weeks values\n",
    "users_df = users_df[users_df['playtime_2weeks'] < 5000]"
   ]
  },
  {
   "cell_type": "code",
   "execution_count": 38,
   "id": "b8e9b882",
   "metadata": {},
   "outputs": [],
   "source": [
    "# RUN THIS IF YOU WANT TO DROP GAMES WITH ONLY ONE PLAYTIME\n",
    "# group by appid and get count, mean, median, min, max\n",
    "playtime_by_game = users_df.groupby('appid').agg({'playtime_forever': ['count', 'mean', 'median', 'min', 'max']}).round(2)\n",
    "# get appids where count is 1\n",
    "only_one_playtime = playtime_by_game[playtime_by_game[('playtime_forever', 'count')] == 1].index\n",
    "# exclude games with only one playtime\n",
    "users_df = users_df[~users_df['appid'].isin(only_one_playtime)]"
   ]
  },
  {
   "cell_type": "markdown",
   "id": "39a84a71-f4bf-4fd0-b845-b24ba12b359c",
   "metadata": {},
   "source": [
    "### GAME DATA PREP"
   ]
  },
  {
   "cell_type": "code",
   "execution_count": 39,
   "id": "bcfefd6d-de00-44d6-a478-8e19cbd03cb3",
   "metadata": {},
   "outputs": [],
   "source": [
    "# load steam_app_metadata.csv\n",
    "games_df = pd.read_csv('../data/steam_app_metadata.csv')"
   ]
  },
  {
   "cell_type": "code",
   "execution_count": 40,
   "id": "494c2406",
   "metadata": {},
   "outputs": [],
   "source": [
    "# remove duplicate appid\n",
    "games_df = games_df.drop_duplicates(subset=['appid'])"
   ]
  },
  {
   "cell_type": "code",
   "execution_count": 41,
   "id": "d1cfd141",
   "metadata": {},
   "outputs": [],
   "source": [
    "# get duplicates for name\n",
    "dupl_game_names = games_df[games_df.duplicated(subset=['name'])]"
   ]
  },
  {
   "cell_type": "code",
   "execution_count": 42,
   "id": "cf54e66b",
   "metadata": {},
   "outputs": [],
   "source": [
    "# rename appid's in users_df that are duplicates to original appid\n",
    "for index, row in dupl_game_names.iterrows():\n",
    "    dupl_appid = row['appid']\n",
    "    orig_appid = games_df[games_df['name'] == row['name']]['appid'].iloc[0]\n",
    "    users_df.loc[users_df['appid'] == dupl_appid, 'appid'] = orig_appid"
   ]
  },
  {
   "cell_type": "code",
   "execution_count": 43,
   "id": "32657d46",
   "metadata": {},
   "outputs": [],
   "source": [
    "# remove duplicate game names from games_df\n",
    "games_df = games_df.drop_duplicates(subset=['name'])"
   ]
  },
  {
   "cell_type": "code",
   "execution_count": 44,
   "id": "ee8ac7b5",
   "metadata": {},
   "outputs": [],
   "source": [
    "no_description = games_df[games_df['description'].isnull() | (games_df['description'] == '')]\n",
    "games_df = games_df[~games_df['appid'].isin(no_description['appid'])]"
   ]
  },
  {
   "cell_type": "code",
   "execution_count": 45,
   "id": "22d180a3",
   "metadata": {},
   "outputs": [],
   "source": [
    "no_dev_or_pub = games_df[(games_df['developer'] == 'None') & games_df['publisher'].isnull()]\n",
    "games_df = games_df[~games_df['appid'].isin(no_dev_or_pub['appid'])]"
   ]
  },
  {
   "cell_type": "code",
   "execution_count": 46,
   "id": "b1da05f1",
   "metadata": {},
   "outputs": [],
   "source": [
    "# Fill NaN for publisher with developer\n",
    "games_df['publisher'] = games_df['publisher'].fillna(games_df['developer'])"
   ]
  },
  {
   "cell_type": "code",
   "execution_count": 47,
   "id": "4f5d9a74",
   "metadata": {},
   "outputs": [],
   "source": [
    "# remove games from games_df that are not in users_df\n",
    "games_df = games_df[games_df['appid'].isin(users_df['appid'].unique())]"
   ]
  },
  {
   "cell_type": "code",
   "execution_count": 48,
   "id": "e26e28d8",
   "metadata": {},
   "outputs": [
    {
     "data": {
      "text/html": [
       "<div>\n",
       "<style scoped>\n",
       "    .dataframe tbody tr th:only-of-type {\n",
       "        vertical-align: middle;\n",
       "    }\n",
       "\n",
       "    .dataframe tbody tr th {\n",
       "        vertical-align: top;\n",
       "    }\n",
       "\n",
       "    .dataframe thead th {\n",
       "        text-align: right;\n",
       "    }\n",
       "</style>\n",
       "<table border=\"1\" class=\"dataframe\">\n",
       "  <thead>\n",
       "    <tr style=\"text-align: right;\">\n",
       "      <th></th>\n",
       "      <th>appid</th>\n",
       "      <th>name</th>\n",
       "      <th>description</th>\n",
       "      <th>developer</th>\n",
       "      <th>publisher</th>\n",
       "      <th>categories</th>\n",
       "      <th>genres</th>\n",
       "    </tr>\n",
       "  </thead>\n",
       "  <tbody>\n",
       "    <tr>\n",
       "      <th>1</th>\n",
       "      <td>300</td>\n",
       "      <td>Day of Defeat: Source</td>\n",
       "      <td>Day of Defeat offers intense online action gam...</td>\n",
       "      <td>Valve</td>\n",
       "      <td>Valve</td>\n",
       "      <td>['Multi-player', 'Cross-Platform Multiplayer',...</td>\n",
       "      <td>['Action']</td>\n",
       "    </tr>\n",
       "    <tr>\n",
       "      <th>2</th>\n",
       "      <td>320</td>\n",
       "      <td>Half-Life 2: Deathmatch</td>\n",
       "      <td>Fast multiplayer action set in the Half-Life 2...</td>\n",
       "      <td>Valve</td>\n",
       "      <td>Valve</td>\n",
       "      <td>['Multi-player', 'Valve Anti-Cheat enabled', '...</td>\n",
       "      <td>['Action']</td>\n",
       "    </tr>\n",
       "    <tr>\n",
       "      <th>3</th>\n",
       "      <td>340</td>\n",
       "      <td>Half-Life 2: Lost Coast</td>\n",
       "      <td>Originally planned as a section of the Highway...</td>\n",
       "      <td>Valve</td>\n",
       "      <td>Valve</td>\n",
       "      <td>['Single-player', 'Commentary available', 'Rem...</td>\n",
       "      <td>['Action']</td>\n",
       "    </tr>\n",
       "    <tr>\n",
       "      <th>4</th>\n",
       "      <td>10180</td>\n",
       "      <td>Call of Duty®: Modern Warfare® 2</td>\n",
       "      <td>The most-anticipated game of the year and the ...</td>\n",
       "      <td>Infinity Ward</td>\n",
       "      <td>Activision</td>\n",
       "      <td>['Single-player', 'Multi-player', 'Co-op', 'St...</td>\n",
       "      <td>['Action']</td>\n",
       "    </tr>\n",
       "    <tr>\n",
       "      <th>6</th>\n",
       "      <td>550</td>\n",
       "      <td>Left 4 Dead 2</td>\n",
       "      <td>Set in the zombie apocalypse, Left 4 Dead 2 (L...</td>\n",
       "      <td>Valve</td>\n",
       "      <td>Valve</td>\n",
       "      <td>['Single-player', 'Multi-player', 'PvP', 'Onli...</td>\n",
       "      <td>['Action']</td>\n",
       "    </tr>\n",
       "    <tr>\n",
       "      <th>...</th>\n",
       "      <td>...</td>\n",
       "      <td>...</td>\n",
       "      <td>...</td>\n",
       "      <td>...</td>\n",
       "      <td>...</td>\n",
       "      <td>...</td>\n",
       "      <td>...</td>\n",
       "    </tr>\n",
       "    <tr>\n",
       "      <th>25916</th>\n",
       "      <td>2096610</td>\n",
       "      <td>Crysis 3 Remastered</td>\n",
       "      <td>Experience the single-player experience  from ...</td>\n",
       "      <td>Crytek</td>\n",
       "      <td>Crytek</td>\n",
       "      <td>['Single-player', 'Steam Achievements', 'Full ...</td>\n",
       "      <td>['Action']</td>\n",
       "    </tr>\n",
       "    <tr>\n",
       "      <th>25918</th>\n",
       "      <td>438450</td>\n",
       "      <td>3DF Zephyr Lite Steam Edition</td>\n",
       "      <td>3DF Zephyr allows you to automatically and eas...</td>\n",
       "      <td>3Dflow SRL</td>\n",
       "      <td>3Dflow SRL</td>\n",
       "      <td>['Steam Trading Cards']</td>\n",
       "      <td>['Animation &amp; Modeling', 'Design &amp; Illustratio...</td>\n",
       "    </tr>\n",
       "    <tr>\n",
       "      <th>25925</th>\n",
       "      <td>1416050</td>\n",
       "      <td>Shovel Knight Dig</td>\n",
       "      <td>When Drill Knight and his dastardly digging cr...</td>\n",
       "      <td>Nitrome</td>\n",
       "      <td>Yacht Club Games</td>\n",
       "      <td>['Single-player', 'Steam Achievements', 'Full ...</td>\n",
       "      <td>['Action', 'Adventure', 'Indie', 'Strategy']</td>\n",
       "    </tr>\n",
       "    <tr>\n",
       "      <th>25928</th>\n",
       "      <td>1894430</td>\n",
       "      <td>Plan B: Terraform</td>\n",
       "      <td>&lt;h1&gt;CHECK OUT OUR PREVIOUS GAME&lt;/h1&gt;&lt;p&gt;&lt;a href...</td>\n",
       "      <td>Gaddy Games</td>\n",
       "      <td>Gaddy Games</td>\n",
       "      <td>['Single-player', 'Steam Cloud']</td>\n",
       "      <td>['Indie', 'Simulation', 'Strategy', 'Early Acc...</td>\n",
       "    </tr>\n",
       "    <tr>\n",
       "      <th>25941</th>\n",
       "      <td>2013360</td>\n",
       "      <td>The Oregon Trail</td>\n",
       "      <td>The Oregon Trail™ by Gameloft—Experience The O...</td>\n",
       "      <td>Gameloft</td>\n",
       "      <td>Gameloft</td>\n",
       "      <td>['Single-player', 'Steam Achievements', 'Full ...</td>\n",
       "      <td>['Adventure', 'Casual']</td>\n",
       "    </tr>\n",
       "  </tbody>\n",
       "</table>\n",
       "<p>19818 rows × 7 columns</p>\n",
       "</div>"
      ],
      "text/plain": [
       "         appid                              name  \\\n",
       "1          300             Day of Defeat: Source   \n",
       "2          320           Half-Life 2: Deathmatch   \n",
       "3          340           Half-Life 2: Lost Coast   \n",
       "4        10180  Call of Duty®: Modern Warfare® 2   \n",
       "6          550                     Left 4 Dead 2   \n",
       "...        ...                               ...   \n",
       "25916  2096610               Crysis 3 Remastered   \n",
       "25918   438450     3DF Zephyr Lite Steam Edition   \n",
       "25925  1416050                 Shovel Knight Dig   \n",
       "25928  1894430                 Plan B: Terraform   \n",
       "25941  2013360                  The Oregon Trail   \n",
       "\n",
       "                                             description      developer  \\\n",
       "1      Day of Defeat offers intense online action gam...          Valve   \n",
       "2      Fast multiplayer action set in the Half-Life 2...          Valve   \n",
       "3      Originally planned as a section of the Highway...          Valve   \n",
       "4      The most-anticipated game of the year and the ...  Infinity Ward   \n",
       "6      Set in the zombie apocalypse, Left 4 Dead 2 (L...          Valve   \n",
       "...                                                  ...            ...   \n",
       "25916  Experience the single-player experience  from ...         Crytek   \n",
       "25918  3DF Zephyr allows you to automatically and eas...     3Dflow SRL   \n",
       "25925  When Drill Knight and his dastardly digging cr...        Nitrome   \n",
       "25928  <h1>CHECK OUT OUR PREVIOUS GAME</h1><p><a href...    Gaddy Games   \n",
       "25941  The Oregon Trail™ by Gameloft—Experience The O...       Gameloft   \n",
       "\n",
       "              publisher                                         categories  \\\n",
       "1                 Valve  ['Multi-player', 'Cross-Platform Multiplayer',...   \n",
       "2                 Valve  ['Multi-player', 'Valve Anti-Cheat enabled', '...   \n",
       "3                 Valve  ['Single-player', 'Commentary available', 'Rem...   \n",
       "4            Activision  ['Single-player', 'Multi-player', 'Co-op', 'St...   \n",
       "6                 Valve  ['Single-player', 'Multi-player', 'PvP', 'Onli...   \n",
       "...                 ...                                                ...   \n",
       "25916            Crytek  ['Single-player', 'Steam Achievements', 'Full ...   \n",
       "25918        3Dflow SRL                            ['Steam Trading Cards']   \n",
       "25925  Yacht Club Games  ['Single-player', 'Steam Achievements', 'Full ...   \n",
       "25928       Gaddy Games                   ['Single-player', 'Steam Cloud']   \n",
       "25941          Gameloft  ['Single-player', 'Steam Achievements', 'Full ...   \n",
       "\n",
       "                                                  genres  \n",
       "1                                             ['Action']  \n",
       "2                                             ['Action']  \n",
       "3                                             ['Action']  \n",
       "4                                             ['Action']  \n",
       "6                                             ['Action']  \n",
       "...                                                  ...  \n",
       "25916                                         ['Action']  \n",
       "25918  ['Animation & Modeling', 'Design & Illustratio...  \n",
       "25925       ['Action', 'Adventure', 'Indie', 'Strategy']  \n",
       "25928  ['Indie', 'Simulation', 'Strategy', 'Early Acc...  \n",
       "25941                            ['Adventure', 'Casual']  \n",
       "\n",
       "[19818 rows x 7 columns]"
      ]
     },
     "execution_count": 48,
     "metadata": {},
     "output_type": "execute_result"
    }
   ],
   "source": [
    "games_df"
   ]
  },
  {
   "cell_type": "code",
   "execution_count": 49,
   "id": "84fef9f0",
   "metadata": {},
   "outputs": [
    {
     "data": {
      "text/plain": [
       "19818"
      ]
     },
     "execution_count": 49,
     "metadata": {},
     "output_type": "execute_result"
    }
   ],
   "source": [
    "len(games_df)"
   ]
  },
  {
   "cell_type": "code",
   "execution_count": 50,
   "id": "e2455090",
   "metadata": {},
   "outputs": [],
   "source": [
    "# create games df for flask app\n",
    "games_flask_df = games_df[['appid', 'name', 'developer', 'publisher', 'description', 'genres', 'categories']]"
   ]
  },
  {
   "cell_type": "markdown",
   "id": "c95ad03f-9d53-42e2-bc99-547acbac4947",
   "metadata": {},
   "source": [
    "#### one hot encode categories and genres"
   ]
  },
  {
   "cell_type": "code",
   "execution_count": 51,
   "id": "79308513-43b6-4d79-83d1-4a52a242d57a",
   "metadata": {},
   "outputs": [],
   "source": [
    "# make categories and genres into lists\n",
    "games_df['categories'] = games_df['categories'].apply(ast.literal_eval)\n",
    "games_df['genres'] = games_df['genres'].apply(ast.literal_eval)"
   ]
  },
  {
   "cell_type": "code",
   "execution_count": 52,
   "id": "e75fc72a-7314-4307-ad8a-ea39c2467de8",
   "metadata": {},
   "outputs": [],
   "source": [
    "# multilabel binarizer\n",
    "mlb = MultiLabelBinarizer()"
   ]
  },
  {
   "cell_type": "code",
   "execution_count": 53,
   "id": "3bc5fd1c-c603-4ddb-b58b-656f2861627f",
   "metadata": {},
   "outputs": [],
   "source": [
    "# encode categories \n",
    "games_df = games_df.join(pd.DataFrame(mlb.fit_transform(games_df.pop('categories')),\n",
    "                          columns=mlb.classes_,\n",
    "                          index=games_df.index))"
   ]
  },
  {
   "cell_type": "code",
   "execution_count": 54,
   "id": "4fd22c31-306a-40be-a1ad-a22ad5d7b8bc",
   "metadata": {},
   "outputs": [],
   "source": [
    "# encode genres\n",
    "games_df = games_df.join(pd.DataFrame(mlb.fit_transform(games_df.pop('genres')),\n",
    "                          columns=mlb.classes_,\n",
    "                          index=games_df.index))"
   ]
  },
  {
   "cell_type": "markdown",
   "id": "a37fcb33-6412-415e-9327-c0de5b802778",
   "metadata": {},
   "source": [
    "#### process description column NLP style"
   ]
  },
  {
   "cell_type": "code",
   "execution_count": 55,
   "id": "85d7fb81-ceaf-43d3-a856-7764ab386924",
   "metadata": {},
   "outputs": [],
   "source": [
    "# fill 'description' column NaN with empty string, NO LONGER NECESSARY?\n",
    "games_df['description'] = games_df['description'].fillna('')"
   ]
  },
  {
   "cell_type": "code",
   "execution_count": 56,
   "id": "d4f2330d-c1bf-4e68-9fde-8fb7707f2155",
   "metadata": {},
   "outputs": [],
   "source": [
    "stopwords = nltk.corpus.stopwords.words('english')\n",
    "porter = PorterStemmer()"
   ]
  },
  {
   "cell_type": "code",
   "execution_count": 57,
   "id": "b5d0142b",
   "metadata": {},
   "outputs": [],
   "source": [
    "# lemmatizer\n",
    "from nltk.stem import WordNetLemmatizer\n",
    "lemmatizer = WordNetLemmatizer()"
   ]
  },
  {
   "cell_type": "code",
   "execution_count": 58,
   "id": "edeaa222",
   "metadata": {},
   "outputs": [
    {
     "name": "stderr",
     "output_type": "stream",
     "text": [
      "[nltk_data] Downloading package wordnet to /home/berry/nltk_data...\n",
      "[nltk_data]   Package wordnet is already up-to-date!\n"
     ]
    },
    {
     "data": {
      "text/plain": [
       "True"
      ]
     },
     "execution_count": 58,
     "metadata": {},
     "output_type": "execute_result"
    }
   ],
   "source": [
    "nltk.download('wordnet')"
   ]
  },
  {
   "cell_type": "code",
   "execution_count": 59,
   "id": "029769c9",
   "metadata": {},
   "outputs": [],
   "source": [
    "# function to clean text for flask app\n",
    "def clean_text_for_app(text):\n",
    "    # remove tags\n",
    "    text = re.sub(r'<.*?>',' ',text)\n",
    "    # remove URL links\n",
    "    text = re.sub(r'http\\S+', ' ', text)\n",
    "        # remove hex\n",
    "    text = re.sub(r'[^\\x00-\\x7f]',r'', text)\n",
    "    return text\n"
   ]
  },
  {
   "cell_type": "code",
   "execution_count": 60,
   "id": "1ced1e8e-1d89-47af-93e3-40e166f02c58",
   "metadata": {},
   "outputs": [],
   "source": [
    "# function to clean text\n",
    "def clean_text(text):\n",
    "    # remove tags\n",
    "    text = re.sub(r'<.*?>',' ',text)\n",
    "    # remove URL links\n",
    "    text = re.sub(r'http\\S+', ' ', text)\n",
    "    # remove non-breaking space\n",
    "    text = text.replace(u'\\xa0', u' ')\n",
    "    # remove hex\n",
    "    text = re.sub(r'[^\\x00-\\x7f]',r'', text)\n",
    "    # remove punctuation\n",
    "    text = text.translate(str.maketrans('', '', string.punctuation))\n",
    "    # remove numbers\n",
    "    text = re.sub(r'[0-9]+', '', text)\n",
    "    # make lowercase\n",
    "    text = text.lower()\n",
    "    # tokenize text\n",
    "    tokens = nltk.word_tokenize(text)\n",
    "    # remove stopwords\n",
    "    tokens = [w for w in tokens if w not in stopwords]\n",
    "    # lemmatize words\n",
    "    tokens = [lemmatizer.lemmatize(w) for w in tokens]\n",
    "    # stem words\n",
    "    # tokens = [porter.stem(w) for w in tokens]\n",
    "    # make tokens into string\n",
    "    text = ' '.join(tokens)\n",
    "    # return clean text\n",
    "    return text"
   ]
  },
  {
   "cell_type": "code",
   "execution_count": 61,
   "id": "cd0a1ec3-4263-488b-a40b-c261cc091616",
   "metadata": {},
   "outputs": [],
   "source": [
    "# apply clean_text function to description column\n",
    "games_df['description_clean'] = games_df['description'].apply(clean_text)"
   ]
  },
  {
   "cell_type": "code",
   "execution_count": 62,
   "id": "b73616ba",
   "metadata": {},
   "outputs": [
    {
     "name": "stderr",
     "output_type": "stream",
     "text": [
      "/tmp/ipykernel_26851/550236609.py:1: SettingWithCopyWarning: \n",
      "A value is trying to be set on a copy of a slice from a DataFrame.\n",
      "Try using .loc[row_indexer,col_indexer] = value instead\n",
      "\n",
      "See the caveats in the documentation: https://pandas.pydata.org/pandas-docs/stable/user_guide/indexing.html#returning-a-view-versus-a-copy\n",
      "  games_flask_df['description'] = games_flask_df['description'].apply(clean_text_for_app)\n"
     ]
    }
   ],
   "source": [
    "games_flask_df['description'] = games_flask_df['description'].apply(clean_text_for_app)"
   ]
  },
  {
   "cell_type": "markdown",
   "id": "78f8ee05-8015-4c9b-bad8-4aef4f070eb4",
   "metadata": {},
   "source": [
    "#### Save some dataframes and other stuff"
   ]
  },
  {
   "cell_type": "code",
   "execution_count": 63,
   "id": "e8ed3a67",
   "metadata": {},
   "outputs": [],
   "source": [
    "users_df = users_df.drop(columns= ['playtime_2weeks'])"
   ]
  },
  {
   "cell_type": "code",
   "execution_count": 64,
   "id": "93b747ea-8f7f-4090-88ff-0eedf1baddb5",
   "metadata": {},
   "outputs": [],
   "source": [
    "# drop rows from users_df where appid is not in games_df\n",
    "# playtime for games is still in user profiles even if a game is no longer on steam\n",
    "users_df = users_df[users_df['appid'].isin(games_df['appid'])]"
   ]
  },
  {
   "cell_type": "code",
   "execution_count": 65,
   "id": "15d79157",
   "metadata": {},
   "outputs": [
    {
     "data": {
      "text/plain": [
       "2245369"
      ]
     },
     "execution_count": 65,
     "metadata": {},
     "output_type": "execute_result"
    }
   ],
   "source": [
    "len(users_df)"
   ]
  },
  {
   "cell_type": "code",
   "execution_count": 66,
   "id": "eae3ea6c-f7ce-4242-af1b-d7ba77af61de",
   "metadata": {},
   "outputs": [],
   "source": [
    "# save users_df to csv\n",
    "users_df.to_csv('../data/steam_playtime_clean.csv', index=False)"
   ]
  },
  {
   "cell_type": "code",
   "execution_count": 67,
   "id": "7e6e0fe5-bb6b-49cb-a24b-3909dc154776",
   "metadata": {},
   "outputs": [],
   "source": [
    "# drop name, developer and publisher from games_df\n",
    "# games_df = games_df.drop(columns = ['name', 'developer', 'publisher', 'description'])"
   ]
  },
  {
   "cell_type": "code",
   "execution_count": 68,
   "id": "91921372-1cb3-4946-8779-ecb59d96b71b",
   "metadata": {},
   "outputs": [],
   "source": [
    "# save games_df to csv\n",
    "games_df.to_csv('../data/steam_app_metadata_clean.csv', index=False)"
   ]
  },
  {
   "cell_type": "code",
   "execution_count": 69,
   "id": "4c16d2f0-cac3-440c-ba45-4265b9f7b43f",
   "metadata": {},
   "outputs": [],
   "source": [
    "# save a version for flask_app\n",
    "games_flask_df.to_csv('../data/steam_metadata_flask.csv', index=False)"
   ]
  }
 ],
 "metadata": {
  "kernelspec": {
   "display_name": "Python 3.9.7 ('base')",
   "language": "python",
   "name": "python3"
  },
  "language_info": {
   "codemirror_mode": {
    "name": "ipython",
    "version": 3
   },
   "file_extension": ".py",
   "mimetype": "text/x-python",
   "name": "python",
   "nbconvert_exporter": "python",
   "pygments_lexer": "ipython3",
   "version": "3.9.7"
  },
  "vscode": {
   "interpreter": {
    "hash": "4a3c54e841fe8ed729f88f1a4dbf5907a70c4a9986278aeeef34dd666b803d5d"
   }
  }
 },
 "nbformat": 4,
 "nbformat_minor": 5
}
