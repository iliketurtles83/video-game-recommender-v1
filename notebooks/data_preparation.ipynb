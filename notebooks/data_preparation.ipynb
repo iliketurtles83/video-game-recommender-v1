{
 "cells": [
  {
   "cell_type": "markdown",
   "id": "5e343bd9-44d3-4805-aaa8-116975a0584f",
   "metadata": {},
   "source": [
    "## Data preparation for Steam datasets"
   ]
  },
  {
   "cell_type": "code",
   "execution_count": 162,
   "id": "cb29ec25-e35a-48ce-8052-4f45f8c66167",
   "metadata": {},
   "outputs": [],
   "source": [
    "import pandas as pd\n",
    "import pickle\n",
    "import string\n",
    "import nltk\n",
    "import re      \n",
    "import ast\n",
    "from nltk.stem.porter import PorterStemmer\n",
    "from sklearn.preprocessing import MultiLabelBinarizer"
   ]
  },
  {
   "cell_type": "markdown",
   "id": "c2eebc13-4f7e-4d3e-bd7a-089b1ef6daee",
   "metadata": {},
   "source": [
    "### PLAYTIME DATA PREP"
   ]
  },
  {
   "cell_type": "code",
   "execution_count": 163,
   "id": "794bf509-972e-4b6a-a1f1-5397a55dd3fc",
   "metadata": {},
   "outputs": [],
   "source": [
    "# load steam_playtime.csv\n",
    "users_df = pd.read_csv('../data/steam_playtime.csv')"
   ]
  },
  {
   "cell_type": "code",
   "execution_count": 164,
   "id": "41abd06f",
   "metadata": {},
   "outputs": [
    {
     "data": {
      "text/plain": [
       "2731661"
      ]
     },
     "execution_count": 164,
     "metadata": {},
     "output_type": "execute_result"
    }
   ],
   "source": [
    "len(users_df)"
   ]
  },
  {
   "attachments": {},
   "cell_type": "markdown",
   "id": "2c2ad337",
   "metadata": {},
   "source": [
    "user playtimes inliers max/min values based on z-score and iqr as shown in data analysis<br>\n",
    "z_max = ~128000<br>\n",
    "z_min = 1<br>\n",
    "iqr_max = ~1600<br>\n",
    "iqr_min = 1"
   ]
  },
  {
   "cell_type": "code",
   "execution_count": 165,
   "id": "c161acce-b6ce-42fd-8639-428e38a4c7b9",
   "metadata": {},
   "outputs": [],
   "source": [
    "# drop counterstrike i.e. drop rows where appid is 730, 10 or 240\n",
    "# users_df = users_df[~users_df['appid'].isin([730, 10, 240])]\n",
    "\n",
    "# remove user playtimes over x minutes\n",
    "users_df = users_df[users_df['playtime_forever'] < 1700]"
   ]
  },
  {
   "cell_type": "code",
   "execution_count": 166,
   "id": "b40257fc",
   "metadata": {},
   "outputs": [],
   "source": [
    "# remove user playtimes under x minutes\n",
    "#users_df = users_df[users_df['playtime_forever'] > 10]"
   ]
  },
  {
   "cell_type": "code",
   "execution_count": 167,
   "id": "59192b29",
   "metadata": {},
   "outputs": [],
   "source": [
    "# drop ridiculous playtime_2weeks values\n",
    "users_df = users_df[users_df['playtime_2weeks'] < 5000]"
   ]
  },
  {
   "cell_type": "code",
   "execution_count": 168,
   "id": "b8e9b882",
   "metadata": {},
   "outputs": [],
   "source": [
    "# RUN THIS IF YOU WANT TO DROP GAMES WITH ONLY ONE PLAYTIME\n",
    "# group by appid and get count, mean, median, min, max\n",
    "playtime_by_game = users_df.groupby('appid').agg({'playtime_forever': ['count', 'mean', 'median', 'min', 'max']}).round(2)\n",
    "# get appids where count is 1\n",
    "only_one_playtime = playtime_by_game[playtime_by_game[('playtime_forever', 'count')] == 1].index\n",
    "# exclude games with only one playtime\n",
    "users_df = users_df[~users_df['appid'].isin(only_one_playtime)]"
   ]
  },
  {
   "cell_type": "markdown",
   "id": "39a84a71-f4bf-4fd0-b845-b24ba12b359c",
   "metadata": {},
   "source": [
    "### GAME DATA PREP"
   ]
  },
  {
   "cell_type": "code",
   "execution_count": 169,
   "id": "bcfefd6d-de00-44d6-a478-8e19cbd03cb3",
   "metadata": {},
   "outputs": [],
   "source": [
    "# load steam_app_metadata.csv\n",
    "games_df = pd.read_csv('../data/steam_app_metadata.csv')"
   ]
  },
  {
   "cell_type": "code",
   "execution_count": 170,
   "id": "494c2406",
   "metadata": {},
   "outputs": [],
   "source": [
    "# remove duplicate appid\n",
    "games_df = games_df.drop_duplicates(subset=['appid'])"
   ]
  },
  {
   "cell_type": "code",
   "execution_count": 171,
   "id": "d1cfd141",
   "metadata": {},
   "outputs": [],
   "source": [
    "# get duplicates for name\n",
    "dupl_game_names = games_df[games_df.duplicated(subset=['name'])]"
   ]
  },
  {
   "cell_type": "code",
   "execution_count": 172,
   "id": "cf54e66b",
   "metadata": {},
   "outputs": [],
   "source": [
    "# rename appid's in users_df that are duplicates to original appid\n",
    "for index, row in dupl_game_names.iterrows():\n",
    "    dupl_appid = row['appid']\n",
    "    orig_appid = games_df[games_df['name'] == row['name']]['appid'].iloc[0]\n",
    "    users_df.loc[users_df['appid'] == dupl_appid, 'appid'] = orig_appid"
   ]
  },
  {
   "cell_type": "code",
   "execution_count": 173,
   "id": "32657d46",
   "metadata": {},
   "outputs": [],
   "source": [
    "# remove duplicate game names from games_df\n",
    "games_df = games_df.drop_duplicates(subset=['name'])"
   ]
  },
  {
   "cell_type": "code",
   "execution_count": 174,
   "id": "ee8ac7b5",
   "metadata": {},
   "outputs": [],
   "source": [
    "no_description = games_df[games_df['description'].isnull() | (games_df['description'] == '')]\n",
    "games_df = games_df[~games_df['appid'].isin(no_description['appid'])]"
   ]
  },
  {
   "cell_type": "code",
   "execution_count": 175,
   "id": "22d180a3",
   "metadata": {},
   "outputs": [],
   "source": [
    "# remove games with no publisher or developer\n",
    "no_dev_or_pub = games_df[(games_df['developer'] == 'None') & games_df['publisher'].isnull()]\n",
    "games_df = games_df[~games_df['appid'].isin(no_dev_or_pub['appid'])]"
   ]
  },
  {
   "cell_type": "code",
   "execution_count": 176,
   "id": "b1da05f1",
   "metadata": {},
   "outputs": [],
   "source": [
    "# Fill NaN for publisher with developer\n",
    "games_df['publisher'] = games_df['publisher'].fillna(games_df['developer'])"
   ]
  },
  {
   "cell_type": "code",
   "execution_count": 177,
   "id": "4f5d9a74",
   "metadata": {},
   "outputs": [],
   "source": [
    "# remove games from games_df that are not in users_df\n",
    "games_df = games_df[games_df['appid'].isin(users_df['appid'].unique())]"
   ]
  },
  {
   "cell_type": "code",
   "execution_count": 178,
   "id": "e2455090",
   "metadata": {},
   "outputs": [],
   "source": [
    "# create games df for flask app\n",
    "games_flask_df = games_df[['appid', 'name', 'developer', 'publisher', 'description']]"
   ]
  },
  {
   "cell_type": "code",
   "execution_count": 179,
   "id": "0a979df5",
   "metadata": {},
   "outputs": [],
   "source": [
    "# prepend developer to description_clean\n",
    "games_df['description'] = games_df['developer'] + ' ' + games_df['description']"
   ]
  },
  {
   "cell_type": "markdown",
   "id": "c95ad03f-9d53-42e2-bc99-547acbac4947",
   "metadata": {},
   "source": [
    "#### one hot encode categories and genres"
   ]
  },
  {
   "cell_type": "code",
   "execution_count": 181,
   "id": "79308513-43b6-4d79-83d1-4a52a242d57a",
   "metadata": {},
   "outputs": [],
   "source": [
    "# make categories and genres into lists\n",
    "games_df['categories'] = games_df['categories'].apply(ast.literal_eval)\n",
    "games_df['genres'] = games_df['genres'].apply(ast.literal_eval)"
   ]
  },
  {
   "cell_type": "code",
   "execution_count": 182,
   "id": "aab775c2",
   "metadata": {},
   "outputs": [
    {
     "name": "stderr",
     "output_type": "stream",
     "text": [
      "/tmp/ipykernel_39937/353577868.py:2: SettingWithCopyWarning: \n",
      "A value is trying to be set on a copy of a slice from a DataFrame.\n",
      "Try using .loc[row_indexer,col_indexer] = value instead\n",
      "\n",
      "See the caveats in the documentation: https://pandas.pydata.org/pandas-docs/stable/user_guide/indexing.html#returning-a-view-versus-a-copy\n",
      "  games_flask_df['categories'] = games_df['categories'].apply(lambda x: ', '.join(x))\n"
     ]
    }
   ],
   "source": [
    "# games_flask_df genres and categories lists as comma separated strings into games_flask_df\n",
    "games_flask_df['categories'] = games_df['categories'].apply(lambda x: ', '.join(x))\n",
    "games_flask_df['genres'] = games_df['genres'].apply(lambda x: ', '.join(x))"
   ]
  },
  {
   "cell_type": "code",
   "execution_count": 183,
   "id": "e75fc72a-7314-4307-ad8a-ea39c2467de8",
   "metadata": {},
   "outputs": [],
   "source": [
    "# multilabel binarizer\n",
    "mlb = MultiLabelBinarizer()"
   ]
  },
  {
   "cell_type": "code",
   "execution_count": 184,
   "id": "3bc5fd1c-c603-4ddb-b58b-656f2861627f",
   "metadata": {},
   "outputs": [],
   "source": [
    "# encode categories \n",
    "games_df = games_df.join(pd.DataFrame(mlb.fit_transform(games_df.pop('categories')),\n",
    "                          columns=mlb.classes_,\n",
    "                          index=games_df.index))"
   ]
  },
  {
   "cell_type": "code",
   "execution_count": 185,
   "id": "4fd22c31-306a-40be-a1ad-a22ad5d7b8bc",
   "metadata": {},
   "outputs": [],
   "source": [
    "# encode genres\n",
    "games_df = games_df.join(pd.DataFrame(mlb.fit_transform(games_df.pop('genres')),\n",
    "                          columns=mlb.classes_,\n",
    "                          index=games_df.index))"
   ]
  },
  {
   "cell_type": "markdown",
   "id": "a37fcb33-6412-415e-9327-c0de5b802778",
   "metadata": {},
   "source": [
    "#### process description column NLP style"
   ]
  },
  {
   "cell_type": "code",
   "execution_count": 186,
   "id": "85d7fb81-ceaf-43d3-a856-7764ab386924",
   "metadata": {},
   "outputs": [],
   "source": [
    "# fill 'description' column NaN with empty string, NO LONGER NECESSARY?\n",
    "games_df['description'] = games_df['description'].fillna('')"
   ]
  },
  {
   "cell_type": "code",
   "execution_count": 187,
   "id": "d4f2330d-c1bf-4e68-9fde-8fb7707f2155",
   "metadata": {},
   "outputs": [],
   "source": [
    "stopwords = nltk.corpus.stopwords.words('english')\n",
    "porter = PorterStemmer()"
   ]
  },
  {
   "cell_type": "code",
   "execution_count": 188,
   "id": "b5d0142b",
   "metadata": {},
   "outputs": [],
   "source": [
    "# lemmatizer\n",
    "from nltk.stem import WordNetLemmatizer\n",
    "lemmatizer = WordNetLemmatizer()"
   ]
  },
  {
   "cell_type": "code",
   "execution_count": 189,
   "id": "edeaa222",
   "metadata": {},
   "outputs": [
    {
     "name": "stderr",
     "output_type": "stream",
     "text": [
      "[nltk_data] Downloading package wordnet to /home/berry/nltk_data...\n",
      "[nltk_data]   Package wordnet is already up-to-date!\n"
     ]
    },
    {
     "data": {
      "text/plain": [
       "True"
      ]
     },
     "execution_count": 189,
     "metadata": {},
     "output_type": "execute_result"
    }
   ],
   "source": [
    "nltk.download('wordnet')"
   ]
  },
  {
   "cell_type": "code",
   "execution_count": 190,
   "id": "b2764d6f",
   "metadata": {},
   "outputs": [],
   "source": [
    "tag_regex = re.compile(r'<[^>]+>')"
   ]
  },
  {
   "cell_type": "code",
   "execution_count": 191,
   "id": "029769c9",
   "metadata": {},
   "outputs": [],
   "source": [
    "# function to clean text for flask app\n",
    "def clean_text_for_app(text):\n",
    "    # remove tags\n",
    "    text = tag_regex.sub(' ', text)\n",
    "    # remove URL links\n",
    "    text = re.sub(r'http\\S+', ' ', text)\n",
    "    # remove hex\n",
    "    text = re.sub(r'[^\\x00-\\x7f]',r'', text)\n",
    "    return text\n"
   ]
  },
  {
   "cell_type": "code",
   "execution_count": 192,
   "id": "1ced1e8e-1d89-47af-93e3-40e166f02c58",
   "metadata": {},
   "outputs": [],
   "source": [
    "# function to clean text\n",
    "def clean_text(text):\n",
    "    # remove tags\n",
    "    text = tag_regex.sub(' ', text)\n",
    "    # remove URL links\n",
    "    text = re.sub(r'http\\S+', ' ', text)\n",
    "    # remove non-breaking space\n",
    "    text = text.replace(u'\\xa0', u' ')\n",
    "    # remove hex\n",
    "    text = re.sub(r'[^\\x00-\\x7f]',r'', text)\n",
    "    # hyphens to space\n",
    "    text = text.replace('-', ' ')\n",
    "    # remove \"&quot;\n",
    "    text = text.replace('&quot;', '')\n",
    "    # remove punctuation\n",
    "    text = text.translate(str.maketrans('', '', string.punctuation))\n",
    "    # remove numbers\n",
    "    text = text.translate(str.maketrans('', '', string.digits))\n",
    "    # make lowercase\n",
    "    text = text.lower()\n",
    "    # tokenize text\n",
    "    tokens = nltk.word_tokenize(text)\n",
    "    # remove stopwords\n",
    "    tokens = [w for w in tokens if w not in stopwords]\n",
    "    # lemmatize words\n",
    "    tokens = [lemmatizer.lemmatize(w) for w in tokens]\n",
    "    # stem words\n",
    "    tokens = [porter.stem(w) for w in tokens]\n",
    "    # make tokens into string\n",
    "    text = ' '.join(tokens)\n",
    "    # return clean text\n",
    "    return text"
   ]
  },
  {
   "cell_type": "code",
   "execution_count": 193,
   "id": "cd0a1ec3-4263-488b-a40b-c261cc091616",
   "metadata": {},
   "outputs": [],
   "source": [
    "# apply clean_text function to description column\n",
    "games_df['description_clean'] = games_df['description'].apply(clean_text)"
   ]
  },
  {
   "cell_type": "code",
   "execution_count": 194,
   "id": "b73616ba",
   "metadata": {},
   "outputs": [],
   "source": [
    "games_flask_df['description'] = games_flask_df['description'].apply(clean_text_for_app)"
   ]
  },
  {
   "cell_type": "markdown",
   "id": "78f8ee05-8015-4c9b-bad8-4aef4f070eb4",
   "metadata": {},
   "source": [
    "#### Save some dataframes and other stuff"
   ]
  },
  {
   "cell_type": "code",
   "execution_count": 195,
   "id": "e8ed3a67",
   "metadata": {},
   "outputs": [],
   "source": [
    "users_df = users_df.drop(columns= ['playtime_2weeks'])"
   ]
  },
  {
   "cell_type": "code",
   "execution_count": 196,
   "id": "93b747ea-8f7f-4090-88ff-0eedf1baddb5",
   "metadata": {},
   "outputs": [],
   "source": [
    "# drop rows from users_df where appid is not in games_df\n",
    "# playtime for games is still in user profiles even if a game is no longer on steam\n",
    "users_df = users_df[users_df['appid'].isin(games_df['appid'])]"
   ]
  },
  {
   "cell_type": "code",
   "execution_count": 197,
   "id": "2e46819f",
   "metadata": {},
   "outputs": [
    {
     "data": {
      "text/plain": [
       "True"
      ]
     },
     "execution_count": 197,
     "metadata": {},
     "output_type": "execute_result"
    }
   ],
   "source": [
    "# check datasets appid length\n",
    "len(users_df['appid'].unique()) == len(games_df['appid'].unique() == len(games_df))"
   ]
  },
  {
   "cell_type": "code",
   "execution_count": 198,
   "id": "eae3ea6c-f7ce-4242-af1b-d7ba77af61de",
   "metadata": {},
   "outputs": [],
   "source": [
    "# save users_df to csv\n",
    "users_df.to_csv('../data/steam_playtime_clean.csv', index=False)"
   ]
  },
  {
   "cell_type": "code",
   "execution_count": 199,
   "id": "7e6e0fe5-bb6b-49cb-a24b-3909dc154776",
   "metadata": {},
   "outputs": [],
   "source": [
    "# drop features not needed for model\n",
    "games_df = games_df.drop(columns = ['developer', 'publisher', 'description'])"
   ]
  },
  {
   "cell_type": "code",
   "execution_count": 200,
   "id": "361a804f",
   "metadata": {},
   "outputs": [],
   "source": [
    "# reset games_df index\n",
    "games_df = games_df.reset_index(drop=True)"
   ]
  },
  {
   "cell_type": "code",
   "execution_count": 201,
   "id": "91921372-1cb3-4946-8779-ecb59d96b71b",
   "metadata": {},
   "outputs": [],
   "source": [
    "# save games_df to pickle\n",
    "games_df.to_pickle('../data/steam_games_clean.pkl')"
   ]
  },
  {
   "cell_type": "code",
   "execution_count": 202,
   "id": "4c16d2f0-cac3-440c-ba45-4265b9f7b43f",
   "metadata": {},
   "outputs": [],
   "source": [
    "# save a version for flask_app\n",
    "games_flask_df.to_csv('../data/steam_metadata_flask.csv', index=False)"
   ]
  }
 ],
 "metadata": {
  "kernelspec": {
   "display_name": "Python 3.9.7 ('base')",
   "language": "python",
   "name": "python3"
  },
  "language_info": {
   "codemirror_mode": {
    "name": "ipython",
    "version": 3
   },
   "file_extension": ".py",
   "mimetype": "text/x-python",
   "name": "python",
   "nbconvert_exporter": "python",
   "pygments_lexer": "ipython3",
   "version": "3.9.7"
  },
  "vscode": {
   "interpreter": {
    "hash": "4a3c54e841fe8ed729f88f1a4dbf5907a70c4a9986278aeeef34dd666b803d5d"
   }
  }
 },
 "nbformat": 4,
 "nbformat_minor": 5
}
