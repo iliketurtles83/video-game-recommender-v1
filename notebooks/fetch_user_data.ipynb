{
 "cells": [
  {
   "attachments": {},
   "cell_type": "markdown",
   "metadata": {},
   "source": [
    "### Steam API requests to collect users metadata."
   ]
  },
  {
   "cell_type": "code",
   "execution_count": null,
   "metadata": {},
   "outputs": [],
   "source": [
    "# import libraries\n",
    "import numpy as np\n",
    "import pandas as pd\n",
    "import os\n",
    "import requests as re\n",
    "import time\n",
    "from tqdm import tqdm\n",
    "import random\n",
    "from src.utils.utils import get_userids_from_steamid_uk\n",
    "\n"
   ]
  },
  {
   "cell_type": "code",
   "execution_count": null,
   "metadata": {},
   "outputs": [],
   "source": [
    "# import path, api key and steam id\n",
    "USER_PLAYTIME_PATH = '../data/steam_playtime.csv'\n",
    "steam_api_key = os.environ['STEAM_API']\n",
    "steam_id = os.environ['STEAM_ID']"
   ]
  },
  {
   "cell_type": "code",
   "execution_count": null,
   "metadata": {},
   "outputs": [],
   "source": [
    "# get playtime data. if it doesn't exist create it with columns appid, steam_id, playtime_2weeks, playtime_forever\n",
    "if os.path.exists(USER_PLAYTIME_PATH):\n",
    "    playtime_df = pd.read_csv(USER_PLAYTIME_PATH)\n",
    "else:\n",
    "    playtime_df = pd.DataFrame(columns = ['appid', 'steam_id', 'playtime_2weeks', 'playtime_forever'])\n"
   ]
  },
  {
   "cell_type": "code",
   "execution_count": null,
   "metadata": {},
   "outputs": [],
   "source": [
    "playtime_df.head()"
   ]
  },
  {
   "cell_type": "code",
   "execution_count": null,
   "metadata": {},
   "outputs": [],
   "source": [
    "# set up url\n",
    "owned_url = 'http://api.steampowered.com/IPlayerService/GetOwnedGames/v0001/'\n",
    "ownedparams = {'key': steam_api_key, 'steamid': steam_id, 'format': 'json'}"
   ]
  },
  {
   "cell_type": "code",
   "execution_count": null,
   "metadata": {},
   "outputs": [],
   "source": [
    "# function to get steam users playtime data \n",
    "def user_playtimes(steamid):\n",
    "    # global playtime_df\n",
    "    global playtime_df\n",
    "    # check if we parsed this one, i.e. steam_id is not in our dataframe steam_id column\n",
    "    if steamid not in playtime_df['steam_id'].values:\n",
    "        urlparams = {'key': steam_api_key, 'steamid': steamid, 'format': 'json'}\n",
    "        url_request = re.get(owned_url, params=urlparams)\n",
    "        time.sleep(1)\n",
    "        # if status_code is not 200, return\n",
    "        if url_request.status_code != 200:\n",
    "            print (url_request.status_code, end=\" \")\n",
    "            return\n",
    "        else:\n",
    "            req_json = url_request.json()\n",
    "            if 'games' in req_json['response']:\n",
    "                print ('p', end='') # p for parsing\n",
    "                # parse req_json fields for games user has played\n",
    "                for game in req_json['response']['games']:\n",
    "                    if game['playtime_forever'] > 0:\n",
    "                        appid = game['appid']\n",
    "                        playtime_forever = game['playtime_forever']\n",
    "                        # if key playtime_2weeks exists\n",
    "                        if 'playtime_2weeks' in game:\n",
    "                            playtime_2weeks = game['playtime_2weeks']\n",
    "                        else:\n",
    "                            playtime_2weeks = 0\n",
    "                        # append to dataframe\n",
    "                        playtime_df = playtime_df.append({'appid': appid, \n",
    "                                                          'steam_id': steamid, \n",
    "                                                          'playtime_2weeks': playtime_2weeks, \n",
    "                                                          'playtime_forever': playtime_forever},\n",
    "                                                         ignore_index=True)\n",
    "            else:\n",
    "                return"
   ]
  },
  {
   "cell_type": "code",
   "execution_count": null,
   "metadata": {},
   "outputs": [],
   "source": [
    "# url for getting friend list steam id's\n",
    "getfriendlist_url = 'http://api.steampowered.com/ISteamUser/GetFriendList/v0001/'\n",
    "getfriendparams = {'key': steam_api_key, 'steamid': steam_id, 'relationship': 'all', 'format': 'json'}"
   ]
  },
  {
   "cell_type": "code",
   "execution_count": null,
   "metadata": {},
   "outputs": [],
   "source": [
    "# function to get friends steam id's recursively, recursive depth set to 6\n",
    "def friends_games(steamid, depth = 0):\n",
    "    if depth == 6:\n",
    "        return\n",
    "    getfriendparams = {'key': steam_api_key, 'steamid': steamid, 'relationship': 'all', 'format': 'json'}\n",
    "    url_request = re.get(getfriendlist_url, params=getfriendparams)\n",
    "    time.sleep(1)\n",
    "    # if status_code is not 200, return\n",
    "    if url_request.status_code != 200:\n",
    "        print(url_request.status_code, end=\" \")\n",
    "        return\n",
    "    else:\n",
    "        req_json = url_request.json()\n",
    "        if 'friendslist' in req_json:\n",
    "            for friend in req_json['friendslist']['friends']:\n",
    "                steamid = friend['steamid']\n",
    "                # get playtime data for this friend\n",
    "                user_playtimes(steamid)\n",
    "                # run friends_games on this friend\n",
    "                friends_games(steamid, depth+1)\n",
    "                time.sleep(2)\n",
    "        else:\n",
    "            return"
   ]
  },
  {
   "cell_type": "code",
   "execution_count": null,
   "metadata": {},
   "outputs": [],
   "source": [
    "# test run, parse through my friends\n",
    "friends_games(steam_id)"
   ]
  },
  {
   "cell_type": "code",
   "execution_count": null,
   "metadata": {},
   "outputs": [],
   "source": [
    "history = get_userids_from_steamid_uk()"
   ]
  },
  {
   "cell_type": "code",
   "execution_count": null,
   "metadata": {},
   "outputs": [],
   "source": [
    "# loop through data and get user playtimes, takes less than a day :)\n",
    "for someid in tqdm(history['someid']):\n",
    "    user_playtimes(someid)"
   ]
  },
  {
   "cell_type": "code",
   "execution_count": null,
   "metadata": {},
   "outputs": [],
   "source": [
    "len(playtime_df)"
   ]
  },
  {
   "cell_type": "code",
   "execution_count": null,
   "metadata": {},
   "outputs": [],
   "source": [
    "# create a list of unique steam_id's from playtime\n",
    "steamids = list(set(playtime_df['steam_id']))"
   ]
  },
  {
   "cell_type": "code",
   "execution_count": null,
   "metadata": {},
   "outputs": [],
   "source": [
    "# loop that picks random steam_id's from steamid_df and runs friends_games on it\n",
    "for i in range(10):\n",
    "    random_steamid = random.choice(steamids)\n",
    "    friends_games(random_steamid)\n",
    "    time.sleep(5)"
   ]
  },
  {
   "cell_type": "code",
   "execution_count": null,
   "metadata": {},
   "outputs": [],
   "source": [
    "# save data to csv\n",
    "playtime_df.to_csv(USER_PLAYTIME_PATH, index=False)"
   ]
  },
  {
   "cell_type": "code",
   "execution_count": null,
   "metadata": {},
   "outputs": [],
   "source": []
  }
 ],
 "metadata": {
  "kernelspec": {
   "display_name": "base",
   "language": "python",
   "name": "python3"
  },
  "language_info": {
   "codemirror_mode": {
    "name": "ipython",
    "version": 3
   },
   "file_extension": ".py",
   "mimetype": "text/x-python",
   "name": "python",
   "nbconvert_exporter": "python",
   "pygments_lexer": "ipython3",
   "version": "3.9.7"
  },
  "orig_nbformat": 4,
  "vscode": {
   "interpreter": {
    "hash": "4a3c54e841fe8ed729f88f1a4dbf5907a70c4a9986278aeeef34dd666b803d5d"
   }
  }
 },
 "nbformat": 4,
 "nbformat_minor": 2
}
