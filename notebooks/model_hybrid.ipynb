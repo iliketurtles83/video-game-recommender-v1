{
 "cells": [
  {
   "attachments": {},
   "cell_type": "markdown",
   "id": "b0b49732-d1f7-4bc4-ab84-915610b450f5",
   "metadata": {},
   "source": [
    "## True hybrid content-based and collaborative filtering model"
   ]
  },
  {
   "cell_type": "code",
   "execution_count": 1,
   "id": "8f5f38da-ffa5-45f0-922d-b0e867e2210c",
   "metadata": {},
   "outputs": [],
   "source": [
    "import pandas as pd\n",
    "import numpy as np\n",
    "import pickle\n",
    "from tqdm import tqdm\n",
    "from sklearn.preprocessing import StandardScaler\n",
    "from sklearn.preprocessing import RobustScaler\n",
    "from sklearn.feature_extraction.text import TfidfVectorizer\n",
    "from surprise import Reader, Dataset, KNNWithZScore\n",
    "from surprise.model_selection import train_test_split\n",
    "from surprise.model_selection import GridSearchCV\n",
    "from surprise import accuracy\n",
    "from sklearn.metrics.pairwise import cosine_similarity"
   ]
  },
  {
   "cell_type": "code",
   "execution_count": 42,
   "id": "f5d3b57c-f639-4ddf-a348-0c3181310762",
   "metadata": {},
   "outputs": [],
   "source": [
    "# import our processed datasets\n",
    "users_df = pd.read_csv('../data/steam_playtime_clean.csv')\n",
    "games_df = pd.read_csv('../data/steam_app_metadata_clean.csv')\n",
    "# gamesinfo_df = pd.read_csv('../data/steam_gameinfo.csv')"
   ]
  },
  {
   "attachments": {},
   "cell_type": "markdown",
   "id": "0ecb52ae-5db1-4051-af51-a1a18ce0f68c",
   "metadata": {},
   "source": [
    "### COLLABORATIVE FILTERING FOR USER PLAYTIME DATA"
   ]
  },
  {
   "cell_type": "code",
   "execution_count": 3,
   "id": "10b8991d",
   "metadata": {},
   "outputs": [
    {
     "data": {
      "text/plain": [
       "True"
      ]
     },
     "execution_count": 3,
     "metadata": {},
     "output_type": "execute_result"
    }
   ],
   "source": [
    "# check datasets appid length\n",
    "len(users_df['appid'].unique()) == len(games_df['appid'].unique() == len(games_df))"
   ]
  },
  {
   "attachments": {},
   "cell_type": "markdown",
   "id": "ebd0dce2",
   "metadata": {},
   "source": [
    "#### 3 Scaling methods\n",
    "#### Test around to see which method or combination of methods is best\n",
    "1. RobustScaler and StandardScaler\n",
    "2. Just normalize\n",
    "3. RobustScaler and Normalize?"
   ]
  },
  {
   "cell_type": "code",
   "execution_count": null,
   "id": "f5ec7e7f-ab41-4bc2-9fe6-3b5f294ffcdc",
   "metadata": {},
   "outputs": [],
   "source": [
    "# first do robustscaler to minimize outliers\n",
    "scaler = RobustScaler(with_centering=True, with_scaling=True, quantile_range=(25.0, 75.0), copy=True)\n",
    "users_df['playtime_forever'] = scaler.fit_transform(users_df['playtime_forever'].array.reshape(-1,1))"
   ]
  },
  {
   "cell_type": "code",
   "execution_count": 6,
   "id": "584860f1-5a60-438e-a714-4130169f3aac",
   "metadata": {},
   "outputs": [],
   "source": [
    "# use StandardScaler to scale user playtimes\n",
    "scaler = StandardScaler()\n",
    "users_df['playtime_forever'] = scaler.fit_transform(users_df['playtime_forever'].values.reshape(-1, 1))"
   ]
  },
  {
   "cell_type": "code",
   "execution_count": 4,
   "id": "b5e28b84",
   "metadata": {},
   "outputs": [],
   "source": [
    "# Normalize the targets between 0 and 1. Makes it easy to train.\n",
    "min_playtime = min(users_df['playtime_forever'])\n",
    "max_playtime = max(users_df['playtime_forever'])\n",
    "users_df['playtime_forever'] = users_df['playtime_forever'].apply(lambda x: (x - min_playtime) / (max_playtime - min_playtime)).values"
   ]
  },
  {
   "cell_type": "code",
   "execution_count": 5,
   "id": "b57aeb1b-80c6-40cb-b2f0-5b3836a8211d",
   "metadata": {},
   "outputs": [],
   "source": [
    "# instantiate surprise.Reader()\n",
    "reader = Reader()\n",
    "\n",
    "# make surprise dataset\n",
    "data = Dataset.load_from_df(users_df[['steam_id', 'appid', 'playtime_forever']], reader)"
   ]
  },
  {
   "cell_type": "code",
   "execution_count": 6,
   "id": "848c5dc1-22bf-41cd-aff3-dc5df929a102",
   "metadata": {},
   "outputs": [],
   "source": [
    "# make a training and test set\n",
    "trainset, testset = train_test_split(data, test_size=0.25)"
   ]
  },
  {
   "attachments": {},
   "cell_type": "markdown",
   "id": "0a487ce3-ba02-4f74-bff5-df05341821be",
   "metadata": {},
   "source": [
    "#### Collaborative Filtering: KNNWithZScore"
   ]
  },
  {
   "attachments": {},
   "cell_type": "markdown",
   "id": "28625fdd",
   "metadata": {},
   "source": [
    "GridSearch for KNN"
   ]
  },
  {
   "cell_type": "code",
   "execution_count": 25,
   "id": "dee9d4dc-b6c0-4298-a7da-607a0a3c9d8d",
   "metadata": {},
   "outputs": [],
   "source": [
    "# set up gridsearch param_grid for KNNWithZScore\n",
    "knn_param_grid = {'k': [1000, 2000, 3000]}"
   ]
  },
  {
   "cell_type": "code",
   "execution_count": 26,
   "id": "ebd9fe85-6808-441f-a40b-7cb1d51e873b",
   "metadata": {},
   "outputs": [],
   "source": [
    "grid_search = GridSearchCV(KNNWithZScore, knn_param_grid, cv=4, n_jobs=3, joblib_verbose=10, verbose=10)"
   ]
  },
  {
   "cell_type": "code",
   "execution_count": 27,
   "id": "f93ce9e5-e90f-44ae-bed5-6df72c7a9828",
   "metadata": {},
   "outputs": [
    {
     "name": "stdout",
     "output_type": "stream",
     "text": [
      "Computing the msd similarity matrix...\n",
      "Computing the msd similarity matrix...\n",
      "Computing the msd similarity matrix...\n",
      "Done computing similarity matrix.\n",
      "Done computing similarity matrix.\n",
      "Done computing similarity matrix.\n"
     ]
    }
   ],
   "source": [
    "grid_search.fit(data)"
   ]
  },
  {
   "cell_type": "code",
   "execution_count": 1,
   "id": "1ef00892-80d0-4c61-97cc-c2cddbe35a0f",
   "metadata": {},
   "outputs": [
    {
     "ename": "NameError",
     "evalue": "name 'grid_search' is not defined",
     "output_type": "error",
     "traceback": [
      "\u001b[0;31m---------------------------------------------------------------------------\u001b[0m",
      "\u001b[0;31mNameError\u001b[0m                                 Traceback (most recent call last)",
      "Cell \u001b[0;32mIn[1], line 2\u001b[0m\n\u001b[1;32m      1\u001b[0m \u001b[39m# print best params for grid search\u001b[39;00m\n\u001b[0;32m----> 2\u001b[0m \u001b[39mprint\u001b[39m(\u001b[39m'\u001b[39m\u001b[39mBest params: \u001b[39m\u001b[39m'\u001b[39m, grid_search\u001b[39m.\u001b[39mbest_params)\n",
      "\u001b[0;31mNameError\u001b[0m: name 'grid_search' is not defined"
     ]
    }
   ],
   "source": [
    "# print best params for grid search\n",
    "print('Best params: ', grid_search.best_params)"
   ]
  },
  {
   "cell_type": "code",
   "execution_count": 16,
   "id": "bde3b0ea-97ba-458f-b12a-123073c634e1",
   "metadata": {},
   "outputs": [
    {
     "name": "stdout",
     "output_type": "stream",
     "text": [
      "Score:  {'rmse': 0.9886161579841967, 'mae': 0.9872910001510786}\n"
     ]
    }
   ],
   "source": [
    "# print best score for grid search\n",
    "print('Score: ', grid_search.best_score)"
   ]
  },
  {
   "attachments": {},
   "cell_type": "markdown",
   "id": "a566db2b",
   "metadata": {},
   "source": [
    "#### Train KNN"
   ]
  },
  {
   "cell_type": "code",
   "execution_count": 9,
   "id": "e3c613d7",
   "metadata": {},
   "outputs": [],
   "source": [
    "k_value = 3000"
   ]
  },
  {
   "cell_type": "code",
   "execution_count": 12,
   "id": "8d745473-dd35-45fb-b790-4469df945736",
   "metadata": {},
   "outputs": [],
   "source": [
    "# make knn model with best params from gridsearch\n",
    "knn = KNNWithZScore(k=k_value, sim_options={'name': 'pearson_baseline', 'user_based': False})"
   ]
  },
  {
   "cell_type": "code",
   "execution_count": 13,
   "id": "cdd67ccd-087b-4d6a-a7f7-240c38aad310",
   "metadata": {},
   "outputs": [
    {
     "name": "stdout",
     "output_type": "stream",
     "text": [
      "Estimating biases using als...\n",
      "Computing the pearson_baseline similarity matrix...\n",
      "Done computing similarity matrix.\n"
     ]
    }
   ],
   "source": [
    "# fit the training data and test with our test set\n",
    "predictions = knn.fit(trainset).test(testset)"
   ]
  },
  {
   "cell_type": "code",
   "execution_count": 14,
   "id": "d6253e04-89d9-40fb-a107-041e3b0c5492",
   "metadata": {},
   "outputs": [
    {
     "name": "stdout",
     "output_type": "stream",
     "text": [
      "RMSE: 0.9887\n"
     ]
    },
    {
     "data": {
      "text/plain": [
       "0.9886885593584188"
      ]
     },
     "execution_count": 14,
     "metadata": {},
     "output_type": "execute_result"
    }
   ],
   "source": [
    "# get accuracy\n",
    "accuracy.rmse(predictions)"
   ]
  },
  {
   "cell_type": "code",
   "execution_count": 7,
   "id": "55c36a55-00b0-4b57-8e89-166264837cc0",
   "metadata": {},
   "outputs": [],
   "source": [
    "# build a full trainset now\n",
    "trainset = data.build_full_trainset()"
   ]
  },
  {
   "cell_type": "code",
   "execution_count": 10,
   "id": "503b9be7-d1c7-4c21-a4d0-89847508edbc",
   "metadata": {},
   "outputs": [],
   "source": [
    "# instantiate new knn\n",
    "knn = KNNWithZScore(k=k_value, sim_options={'name': 'pearson_baseline', 'user_based': False})"
   ]
  },
  {
   "cell_type": "code",
   "execution_count": 11,
   "id": "c5ef7c1d-ff85-43fc-9764-95ec6bbb517a",
   "metadata": {},
   "outputs": [
    {
     "name": "stdout",
     "output_type": "stream",
     "text": [
      "Estimating biases using als...\n",
      "Computing the pearson_baseline similarity matrix...\n",
      "Done computing similarity matrix.\n"
     ]
    },
    {
     "data": {
      "text/plain": [
       "<surprise.prediction_algorithms.knns.KNNWithZScore at 0x7f1688320520>"
      ]
     },
     "execution_count": 11,
     "metadata": {},
     "output_type": "execute_result"
    }
   ],
   "source": [
    "# fit the knn\n",
    "knn.fit(trainset)"
   ]
  },
  {
   "attachments": {},
   "cell_type": "markdown",
   "id": "aadfee73",
   "metadata": {},
   "source": [
    "#### Recommend KNN"
   ]
  },
  {
   "cell_type": "code",
   "execution_count": 12,
   "id": "83ecbe4d-a9ed-41f6-8d2d-5ab44323fd0c",
   "metadata": {},
   "outputs": [],
   "source": [
    "# function that takes game title and returns the knn model inner id\n",
    "def get_innerid(title):\n",
    "    # get appid from games_df\n",
    "    appid = games_df[games_df['name'] == title]['appid'].values[0]\n",
    "    inner_id = trainset.to_inner_iid(appid)\n",
    "    return inner_id"
   ]
  },
  {
   "cell_type": "code",
   "execution_count": 13,
   "id": "a9b660de-3341-4729-838d-852dbadb8f8f",
   "metadata": {},
   "outputs": [],
   "source": [
    "# function that takes knn model innerid and returns the game title\n",
    "def get_title(inner_id):\n",
    "    steam_id = trainset.to_raw_iid(inner_id)\n",
    "    title = games_df[games_df['appid'] == steam_id].iloc[0]['name']\n",
    "    return title"
   ]
  },
  {
   "cell_type": "code",
   "execution_count": 14,
   "id": "eef5b604",
   "metadata": {},
   "outputs": [],
   "source": [
    "def get_knn_appid(inner_id):\n",
    "    return trainset.to_raw_iid(inner_id)"
   ]
  },
  {
   "attachments": {},
   "cell_type": "markdown",
   "id": "4a6edc3f-faed-4f6a-8472-32350e354b52",
   "metadata": {},
   "source": [
    "### CONTENT-BASED Cosine Similarity for Game Metadata"
   ]
  },
  {
   "cell_type": "code",
   "execution_count": 15,
   "id": "17252e1d",
   "metadata": {},
   "outputs": [],
   "source": [
    "# instantiate tfidfvectorizer\n",
    "tfidf = TfidfVectorizer(max_features=1500, lowercase=False, min_df=5, ngram_range=(1,3))"
   ]
  },
  {
   "cell_type": "code",
   "execution_count": 16,
   "id": "d99dc8f9",
   "metadata": {},
   "outputs": [],
   "source": [
    "# make description column into type string, otherwise tfidf cries\n",
    "games_df['description_clean'] = games_df['description_clean'].astype(str)"
   ]
  },
  {
   "cell_type": "code",
   "execution_count": 17,
   "id": "1b78726a",
   "metadata": {},
   "outputs": [],
   "source": [
    "# fit tfidfvectorizer to description column\n",
    "tfidf_matrix = tfidf.fit_transform(games_df['description_clean'])"
   ]
  },
  {
   "cell_type": "code",
   "execution_count": 18,
   "id": "d79bac55",
   "metadata": {},
   "outputs": [],
   "source": [
    "# make matrix into dataframe\n",
    "tfidf_df = pd.DataFrame(tfidf_matrix.toarray(), columns=tfidf.get_feature_names_out())"
   ]
  },
  {
   "cell_type": "code",
   "execution_count": 19,
   "id": "441a6283",
   "metadata": {},
   "outputs": [],
   "source": [
    "# games_df columns 5 to second last are the tags\n",
    "game_tags = games_df.iloc[:, 5:-1]"
   ]
  },
  {
   "cell_type": "code",
   "execution_count": 20,
   "id": "6dfd8742",
   "metadata": {},
   "outputs": [],
   "source": [
    "# concatentate tfidf_df and game_tags\n",
    "tfidf_df = pd.concat([tfidf_df, game_tags], axis=1)"
   ]
  },
  {
   "cell_type": "code",
   "execution_count": 21,
   "id": "47ee1a21",
   "metadata": {},
   "outputs": [],
   "source": [
    "# make matrix for cosine sim\n",
    "matrix = tfidf_df.values"
   ]
  },
  {
   "cell_type": "code",
   "execution_count": 22,
   "id": "343b1bee-53a3-419b-b731-e05cb30ae8c7",
   "metadata": {},
   "outputs": [
    {
     "data": {
      "text/plain": [
       "(19818, 1574)"
      ]
     },
     "execution_count": 22,
     "metadata": {},
     "output_type": "execute_result"
    }
   ],
   "source": [
    "matrix.shape"
   ]
  },
  {
   "cell_type": "code",
   "execution_count": 23,
   "id": "94646139-38c9-4d31-b852-bc8025978650",
   "metadata": {},
   "outputs": [],
   "source": [
    "# make a cosine similarity matrix, maybe linear kernel instead?\n",
    "cosine_sim = cosine_similarity(matrix, matrix)"
   ]
  },
  {
   "cell_type": "code",
   "execution_count": 24,
   "id": "42ae5421",
   "metadata": {},
   "outputs": [
    {
     "data": {
      "text/plain": [
       "(19818, 19818)"
      ]
     },
     "execution_count": 24,
     "metadata": {},
     "output_type": "execute_result"
    }
   ],
   "source": [
    "cosine_sim.shape"
   ]
  },
  {
   "cell_type": "code",
   "execution_count": 43,
   "id": "6726e269-d9f0-47df-8c94-9633514229ce",
   "metadata": {},
   "outputs": [],
   "source": [
    "# Construct a reverse map of indices and game titles\n",
    "indices = pd.Series(games_df.index, index=games_df['name'])"
   ]
  },
  {
   "cell_type": "code",
   "execution_count": 45,
   "id": "635fa25f-225a-4238-b8d7-7c53abdc62fa",
   "metadata": {},
   "outputs": [],
   "source": [
    "def recommend_content(title, sim_matrix):\n",
    "    '''Get similar games based on content using the similarity matrix'''\n",
    "    # get index for our game\n",
    "    idx = indices[title]\n",
    "    \n",
    "    # get pairwise similarity scores of all games w.r.t to our game\n",
    "    sim_scores = list(enumerate(sim_matrix[idx]))\n",
    "    \n",
    "    # sort scores based on similarity\n",
    "    sorted_sim_scores = sorted(sim_scores, key=lambda x: x[1], reverse=True)\n",
    "    \n",
    "    # make a dictionary with title as key and score as value\n",
    "    content_similar_scores = {indices.index[i[0]]: i[1] for i in sorted_sim_scores[1:21]}\n",
    "\n",
    "    return content_similar_scores"
   ]
  },
  {
   "cell_type": "code",
   "execution_count": 27,
   "id": "019197ec",
   "metadata": {},
   "outputs": [
    {
     "data": {
      "text/plain": [
       "{'Jump King': 0.9090909090909093,\n",
       " '3000th Duel': 0.9090909090909093,\n",
       " 'Driven Out': 0.9090909090909093,\n",
       " 'Blasphemous': 0.8800214111431761,\n",
       " 'Intruders: Hide and Seek': 0.875921833811626,\n",
       " 'Hollow Knight': 0.8703882797784892,\n",
       " 'Moonlighter': 0.8703882797784892,\n",
       " 'Mute Crimson+': 0.8703882797784892,\n",
       " 'Road 96 🛣️': 0.8703882797784892,\n",
       " 'Celeste': 0.8703882797784892,\n",
       " 'Jenny LeClue - Detectivu': 0.8703882797784892,\n",
       " 'Valfaris': 0.8609166731619822,\n",
       " 'GRIS': 0.8581163303210333,\n",
       " 'Over the Alps': 0.8581163303210333,\n",
       " 'Lost Ruins': 0.8581163303210333,\n",
       " 'Super Meat Boy Forever': 0.8451443077823318,\n",
       " 'Slime Rancher': 0.836242010007091,\n",
       " 'CARRION': 0.836242010007091,\n",
       " 'ScourgeBringer': 0.836242010007091,\n",
       " 'Shovel Knight: Specter of Torment': 0.836242010007091}"
      ]
     },
     "execution_count": 27,
     "metadata": {},
     "output_type": "execute_result"
    }
   ],
   "source": [
    "# test cosine similarity matrix\n",
    "recommend_content('LIMBO')"
   ]
  },
  {
   "attachments": {},
   "cell_type": "markdown",
   "id": "cb555794",
   "metadata": {},
   "source": [
    "### Create one weighted similarity matrix from knn and cosine similarity matrices"
   ]
  },
  {
   "cell_type": "code",
   "execution_count": 28,
   "id": "09e623be",
   "metadata": {},
   "outputs": [
    {
     "name": "stdout",
     "output_type": "stream",
     "text": [
      "Computing the pearson_baseline similarity matrix...\n",
      "Done computing similarity matrix.\n"
     ]
    }
   ],
   "source": [
    "knn_similarities = knn.compute_similarities()"
   ]
  },
  {
   "cell_type": "code",
   "execution_count": 29,
   "id": "b543d4c0",
   "metadata": {},
   "outputs": [],
   "source": [
    "# make knn_similarities into a numpy array\n",
    "knn_similarities = np.array(knn_similarities)"
   ]
  },
  {
   "cell_type": "code",
   "execution_count": 30,
   "id": "f97bd594",
   "metadata": {},
   "outputs": [
    {
     "data": {
      "text/plain": [
       "True"
      ]
     },
     "execution_count": 30,
     "metadata": {},
     "output_type": "execute_result"
    }
   ],
   "source": [
    "# Test\n",
    "(knn_similarities.transpose() == knn_similarities).all()"
   ]
  },
  {
   "cell_type": "code",
   "execution_count": 31,
   "id": "e24f0974",
   "metadata": {},
   "outputs": [],
   "source": [
    "# function for mapping from knn similarity matrix to cosine similarity indices\n",
    "def knn_index_to_cos_index(knn_index):\n",
    "    return indices[get_title(knn_index)]"
   ]
  },
  {
   "cell_type": "code",
   "execution_count": 32,
   "id": "1d650eb7",
   "metadata": {},
   "outputs": [],
   "source": [
    "# given a knn vector, sort it to cosine vector order\n",
    "def knn_vector_to_cos_vector(knn_vector):\n",
    "    # make cos_vector that is of length knn_vector\n",
    "    cos_vector = np.zeros(len(knn_vector))\n",
    "    for i in range(len(knn_vector)):\n",
    "        cos_vector[knn_index_to_cos_index(i)] = knn_vector[i]\n",
    "    return cos_vector"
   ]
  },
  {
   "cell_type": "code",
   "execution_count": 34,
   "id": "bbd6c6ad",
   "metadata": {},
   "outputs": [],
   "source": [
    "# create a copy of knn_similarities with cosine indices\n",
    "knn_sim_ordered = np.copy(knn_similarities)"
   ]
  },
  {
   "cell_type": "code",
   "execution_count": 35,
   "id": "3af1311d",
   "metadata": {},
   "outputs": [
    {
     "name": "stderr",
     "output_type": "stream",
     "text": [
      "100%|██████████| 19818/19818 [00:04<00:00, 4297.03it/s]\n"
     ]
    }
   ],
   "source": [
    "for i in tqdm(range(len(knn_similarities))):\n",
    "    knn_sim_ordered[knn_index_to_cos_index(i)] = knn_similarities[i]"
   ]
  },
  {
   "cell_type": "code",
   "execution_count": 36,
   "id": "934d9bb3",
   "metadata": {},
   "outputs": [
    {
     "data": {
      "text/plain": [
       "True"
      ]
     },
     "execution_count": 36,
     "metadata": {},
     "output_type": "execute_result"
    }
   ],
   "source": [
    "# test if vectors are in the correct location\n",
    "knn_sim_ordered[indices['LIMBO']].mean() == knn_similarities[get_innerid('LIMBO')].mean()"
   ]
  },
  {
   "cell_type": "code",
   "execution_count": 37,
   "id": "c07c8585",
   "metadata": {},
   "outputs": [],
   "source": [
    "# do the transpose\n",
    "knn_sim_ordered = knn_sim_ordered.transpose()"
   ]
  },
  {
   "cell_type": "code",
   "execution_count": 38,
   "id": "fcfe6d1d",
   "metadata": {},
   "outputs": [],
   "source": [
    "knn_sim_ordered_2 = np.copy(knn_sim_ordered)"
   ]
  },
  {
   "cell_type": "code",
   "execution_count": 39,
   "id": "8b2bb3e9",
   "metadata": {},
   "outputs": [
    {
     "name": "stderr",
     "output_type": "stream",
     "text": [
      "100%|██████████| 19818/19818 [00:05<00:00, 3440.45it/s]\n"
     ]
    }
   ],
   "source": [
    "for i in tqdm(range(len(knn_similarities))):\n",
    "    knn_sim_ordered_2[knn_index_to_cos_index(i)] = knn_sim_ordered[i]"
   ]
  },
  {
   "cell_type": "code",
   "execution_count": 40,
   "id": "c5040d9d",
   "metadata": {},
   "outputs": [
    {
     "data": {
      "text/plain": [
       "True"
      ]
     },
     "execution_count": 40,
     "metadata": {},
     "output_type": "execute_result"
    }
   ],
   "source": [
    "# test if transpose is the same as original\n",
    "(knn_sim_ordered_2.transpose() == knn_sim_ordered_2).all()"
   ]
  },
  {
   "cell_type": "code",
   "execution_count": 41,
   "id": "f4ec3db9",
   "metadata": {},
   "outputs": [
    {
     "data": {
      "text/plain": [
       "{'Mark of the Ninja': 0.8270509213987579,\n",
       " 'VVVVVV': 0.8235271539319691,\n",
       " 'World of Goo': 0.8231959832567497,\n",
       " \"Mirror's Edge™\": 0.8184542146833247,\n",
       " 'Dead Space': 0.7965762606112908,\n",
       " 'ORION: Prelude': 0.7853443560497188,\n",
       " 'Magicka': 0.7791670352261109,\n",
       " 'Trine 2: Complete Story': 0.7686020973785362,\n",
       " 'INSIDE': 0.7651592572208243,\n",
       " 'F.E.A.R. 3': 0.7624763911310805,\n",
       " 'Rock of Ages': 0.7596923464643296,\n",
       " 'Little Nightmares': 0.7578189386583029,\n",
       " 'Scribblenauts Unlimited': 0.7487106438148136,\n",
       " 'McPixel': 0.7445713729424711,\n",
       " 'To the Moon': 0.7405275249772677,\n",
       " 'Gone Home': 0.7386569119513423,\n",
       " 'Tomb Raider': 0.7362503212578412,\n",
       " 'Dear Esther': 0.7170404371258016,\n",
       " 'Indie Game: The Movie': 0.7156302502155343,\n",
       " 'Deadlight': 0.704006593446912}"
      ]
     },
     "execution_count": 41,
     "metadata": {},
     "output_type": "execute_result"
    }
   ],
   "source": [
    "# test if knn_sim_ordered_2 is proper, should give same results as knn\n",
    "recommend_content('LIMBO', knn_sim_ordered_2)"
   ]
  },
  {
   "cell_type": "code",
   "execution_count": 42,
   "id": "0e7e73dd",
   "metadata": {},
   "outputs": [],
   "source": [
    "# change weights if desired\n",
    "knn_sim_weight = 0.75\n",
    "cos_sim_weight = 0.25"
   ]
  },
  {
   "cell_type": "code",
   "execution_count": 43,
   "id": "cc97518d",
   "metadata": {},
   "outputs": [],
   "source": [
    "# make a weighted similarity matrix 0.75 knn, 0.25 cosine\n",
    "weighted_sim = (knn_sim_ordered_2 * knn_sim_weight) + (cosine_sim * cos_sim_weight)"
   ]
  },
  {
   "cell_type": "code",
   "execution_count": 44,
   "id": "d507962c",
   "metadata": {},
   "outputs": [
    {
     "data": {
      "text/plain": [
       "{'Mark of the Ninja': 0.8021063728672503,\n",
       " 'VVVVVV': 0.7775459027156847,\n",
       " 'Dead Space': 0.7733138131288303,\n",
       " \"Mirror's Edge™\": 0.7584975075735776,\n",
       " 'INSIDE': 0.75378938949706,\n",
       " 'Tomb Raider': 0.7480251038935409,\n",
       " 'Trine 2: Complete Story': 0.7409394967738444,\n",
       " 'World of Goo': 0.740488478421895,\n",
       " 'Little Nightmares': 0.728264741260435,\n",
       " 'Magicka': 0.7206125916478496,\n",
       " 'Deadlight': 0.7186974629343026,\n",
       " 'Firewatch': 0.717219242194181,\n",
       " 'Gone Home': 0.7130835930544159,\n",
       " 'To the Moon': 0.7061513160218327,\n",
       " 'McPixel': 0.6916789774291098,\n",
       " 'ORION: Prelude': 0.6901382464067753,\n",
       " \"Hellblade: Senua's Sacrifice\": 0.6872420125138625,\n",
       " 'METAL GEAR SOLID V: GROUND ZEROES': 0.6753099630586775,\n",
       " 'F.E.A.R. 3': 0.6723610748742316,\n",
       " 'Brutal Legend': 0.6696558244998068}"
      ]
     },
     "execution_count": 44,
     "metadata": {},
     "output_type": "execute_result"
    }
   ],
   "source": [
    "# test weighted matrix, should give same results as weighted_recommend_content\n",
    "recommend_content('LIMBO', sim_matrix=weighted_sim)"
   ]
  },
  {
   "cell_type": "code",
   "execution_count": 45,
   "id": "c96f2657",
   "metadata": {},
   "outputs": [],
   "source": [
    "# store weighted similarity matrix in pickle\n",
    "pickle.dump(weighted_sim, open('../models/weighted_sim.pkl', 'wb'))"
   ]
  },
  {
   "attachments": {},
   "cell_type": "markdown",
   "id": "c4c88b13",
   "metadata": {},
   "source": [
    "### Matrix is big and symmetric, do stuff to save space"
   ]
  },
  {
   "cell_type": "code",
   "execution_count": 33,
   "id": "52c644bd",
   "metadata": {},
   "outputs": [],
   "source": [
    "# convert float64 to float16 to save space\n",
    "weighted_sim_compressed = np.array(weighted_sim, dtype=np.float16)"
   ]
  },
  {
   "cell_type": "code",
   "execution_count": 110,
   "id": "42c82081",
   "metadata": {},
   "outputs": [],
   "source": [
    "# store upper in pickle \n",
    "pickle.dump(weighted_sim_compressed, open('../models/weighted_sim_compressed.pkl', 'wb'))"
   ]
  },
  {
   "attachments": {},
   "cell_type": "markdown",
   "id": "107c198b",
   "metadata": {},
   "source": [
    "Upper triangle of symmetric matrix to array WIP\n",
    "\n",
    "Theoretically even more space could be saved, possibly at the expense of column retrieval overhead"
   ]
  },
  {
   "cell_type": "code",
   "execution_count": 94,
   "id": "a8fd25a7",
   "metadata": {},
   "outputs": [],
   "source": [
    "# keep only upper triangle of matrix\n",
    "compressed_upper_triangle = np.triu(weighted_sim_compressed, k=1)"
   ]
  },
  {
   "cell_type": "code",
   "execution_count": 111,
   "id": "b74fc142",
   "metadata": {},
   "outputs": [],
   "source": [
    "upper_triangle_indices = np.triu_indices(len(weighted_sim_compressed), k=1)"
   ]
  },
  {
   "cell_type": "code",
   "execution_count": 112,
   "id": "2bae8047",
   "metadata": {},
   "outputs": [],
   "source": [
    "# make compressed_upper_triangle into an array\n",
    "compressed_upper_triangle = compressed_upper_triangle[np.nonzero(compressed_upper_triangle)]"
   ]
  },
  {
   "cell_type": "code",
   "execution_count": null,
   "id": "a1bccaa6",
   "metadata": {},
   "outputs": [],
   "source": [
    "column_length=weighted_sim_compressed.shape[0]"
   ]
  },
  {
   "cell_type": "code",
   "execution_count": 25,
   "id": "6b064ab4",
   "metadata": {},
   "outputs": [],
   "source": [
    "def get_similarity_array(i, length=column_length, array=compressed_upper_triangle):\n",
    "    '''Given the index i, return array equivalent to weighted_sim[i]'''\n"
   ]
  },
  {
   "cell_type": "code",
   "execution_count": 52,
   "id": "f795169c",
   "metadata": {},
   "outputs": [],
   "source": [
    "def recommend_content_upper(title, upper_matrix_array = upper):\n",
    "    ''' Get similar games based on weighted'''\n",
    "    idx = indices[title]\n",
    "\n",
    "    # create pairwise similarity score from upper matrix array\n",
    "    sim_scores =\n",
    "\n",
    "    # sort scores based on similarity\n",
    "    sorted_sim_scores = sorted(sim_scores, key=lambda x: x[0], reverse=True)\n",
    "\n",
    "    # make a dictionary with title as key and score as value\n",
    "    content_similar_scores = {indices.index[i[1]]: i[0] for i in sorted_sim_scores[1:21]}\n",
    "\n",
    "    return content_similar_scores\n",
    "\n",
    "\n",
    "    "
   ]
  },
  {
   "cell_type": "code",
   "execution_count": 53,
   "id": "75ef1bf2",
   "metadata": {},
   "outputs": [
    {
     "ename": "IndexError",
     "evalue": "tuple index out of range",
     "output_type": "error",
     "traceback": [
      "\u001b[0;31m---------------------------------------------------------------------------\u001b[0m",
      "\u001b[0;31mIndexError\u001b[0m                                Traceback (most recent call last)",
      "Cell \u001b[0;32mIn[53], line 2\u001b[0m\n\u001b[1;32m      1\u001b[0m \u001b[39m# test recommendation retrieval\u001b[39;00m\n\u001b[0;32m----> 2\u001b[0m recommend_content_upper(\u001b[39m'\u001b[39;49m\u001b[39mLIMBO\u001b[39;49m\u001b[39m'\u001b[39;49m)\n",
      "Cell \u001b[0;32mIn[52], line 6\u001b[0m, in \u001b[0;36mrecommend_content_upper\u001b[0;34m(title, upper_matrix_array)\u001b[0m\n\u001b[1;32m      3\u001b[0m idx \u001b[39m=\u001b[39m indices[title]\n\u001b[1;32m      5\u001b[0m \u001b[39m# create pairwise similarity score from upper matrix array\u001b[39;00m\n\u001b[0;32m----> 6\u001b[0m sim_scores \u001b[39m=\u001b[39m [(access_value(idx, i, \u001b[39mlen\u001b[39m(weighted_sim), upper_matrix_array), i) \u001b[39mfor\u001b[39;00m i \u001b[39min\u001b[39;00m \u001b[39mrange\u001b[39m(\u001b[39mlen\u001b[39m(weighted_sim)) \u001b[39mif\u001b[39;00m i \u001b[39m!=\u001b[39m idx]\n\u001b[1;32m      8\u001b[0m \u001b[39m# sort scores based on similarity\u001b[39;00m\n\u001b[1;32m      9\u001b[0m sorted_sim_scores \u001b[39m=\u001b[39m \u001b[39msorted\u001b[39m(sim_scores, key\u001b[39m=\u001b[39m\u001b[39mlambda\u001b[39;00m x: x[\u001b[39m0\u001b[39m], reverse\u001b[39m=\u001b[39m\u001b[39mTrue\u001b[39;00m)\n",
      "Cell \u001b[0;32mIn[52], line 6\u001b[0m, in \u001b[0;36m<listcomp>\u001b[0;34m(.0)\u001b[0m\n\u001b[1;32m      3\u001b[0m idx \u001b[39m=\u001b[39m indices[title]\n\u001b[1;32m      5\u001b[0m \u001b[39m# create pairwise similarity score from upper matrix array\u001b[39;00m\n\u001b[0;32m----> 6\u001b[0m sim_scores \u001b[39m=\u001b[39m [(access_value(idx, i, \u001b[39mlen\u001b[39;49m(weighted_sim), upper_matrix_array), i) \u001b[39mfor\u001b[39;00m i \u001b[39min\u001b[39;00m \u001b[39mrange\u001b[39m(\u001b[39mlen\u001b[39m(weighted_sim)) \u001b[39mif\u001b[39;00m i \u001b[39m!=\u001b[39m idx]\n\u001b[1;32m      8\u001b[0m \u001b[39m# sort scores based on similarity\u001b[39;00m\n\u001b[1;32m      9\u001b[0m sorted_sim_scores \u001b[39m=\u001b[39m \u001b[39msorted\u001b[39m(sim_scores, key\u001b[39m=\u001b[39m\u001b[39mlambda\u001b[39;00m x: x[\u001b[39m0\u001b[39m], reverse\u001b[39m=\u001b[39m\u001b[39mTrue\u001b[39;00m)\n",
      "Cell \u001b[0;32mIn[51], line 3\u001b[0m, in \u001b[0;36maccess_value\u001b[0;34m(i, j, size, matrix)\u001b[0m\n\u001b[1;32m      1\u001b[0m \u001b[39mdef\u001b[39;00m \u001b[39maccess_value\u001b[39m(i, j, size, matrix):\n\u001b[1;32m      2\u001b[0m     index \u001b[39m=\u001b[39m i \u001b[39m*\u001b[39m (size \u001b[39m-\u001b[39m \u001b[39m1\u001b[39m) \u001b[39m+\u001b[39m j \u001b[39m-\u001b[39m (i\u001b[39m*\u001b[39m(i\u001b[39m+\u001b[39m\u001b[39m1\u001b[39m)) \u001b[39m/\u001b[39m\u001b[39m/\u001b[39m \u001b[39m2\u001b[39m\n\u001b[0;32m----> 3\u001b[0m     \u001b[39mreturn\u001b[39;00m matrix[index]\n",
      "\u001b[0;31mIndexError\u001b[0m: tuple index out of range"
     ]
    }
   ],
   "source": [
    "# test recommendation retrieval\n",
    "recommend_content_upper('LIMBO')"
   ]
  },
  {
   "cell_type": "code",
   "execution_count": 103,
   "id": "d5c0d80b",
   "metadata": {},
   "outputs": [],
   "source": [
    "# store upper in pickle\n",
    "pickle.dump(compressed_upper_triangle, open('../models/compressed_triangle_test.pkl', 'wb'))"
   ]
  }
 ],
 "metadata": {
  "kernelspec": {
   "display_name": "vgenv",
   "language": "python",
   "name": "python3"
  },
  "language_info": {
   "codemirror_mode": {
    "name": "ipython",
    "version": 3
   },
   "file_extension": ".py",
   "mimetype": "text/x-python",
   "name": "python",
   "nbconvert_exporter": "python",
   "pygments_lexer": "ipython3",
   "version": "3.9.7"
  },
  "vscode": {
   "interpreter": {
    "hash": "e001bd8958d257f2b8a5f22964dbb72a9c6d26505f9599b23f40d21e591583c3"
   }
  }
 },
 "nbformat": 4,
 "nbformat_minor": 5
}
