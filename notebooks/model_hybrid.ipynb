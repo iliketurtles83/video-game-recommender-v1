{
 "cells": [
  {
   "cell_type": "markdown",
   "id": "b0b49732-d1f7-4bc4-ab84-915610b450f5",
   "metadata": {},
   "source": [
    "## True hybrid content-based and collaborative filtering model"
   ]
  },
  {
   "cell_type": "code",
   "execution_count": 17,
   "id": "8f5f38da-ffa5-45f0-922d-b0e867e2210c",
   "metadata": {},
   "outputs": [],
   "source": [
    "import pandas as pd\n",
    "import numpy as np\n",
    "import pickle\n",
    "from tqdm import tqdm\n",
    "# from sklearn.preprocessing import StandardScaler\n",
    "# from sklearn.preprocessing import RobustScaler\n",
    "from sklearn.feature_extraction.text import TfidfVectorizer\n",
    "from sklearn.feature_extraction.text import CountVectorizer\n",
    "from sklearn.metrics.pairwise import cosine_similarity\n",
    "from surprise import Reader, Dataset, KNNWithZScore\n",
    "from surprise.model_selection import train_test_split\n",
    "from surprise.model_selection import GridSearchCV\n",
    "from surprise import accuracy"
   ]
  },
  {
   "cell_type": "code",
   "execution_count": 18,
   "id": "f5d3b57c-f639-4ddf-a348-0c3181310762",
   "metadata": {},
   "outputs": [],
   "source": [
    "# import our processed datasets\n",
    "users_df = pd.read_csv('../data/steam_playtime_clean.csv')\n",
    "games_df = pickle.load(open('../data/steam_games_clean.pkl', 'rb'))"
   ]
  },
  {
   "cell_type": "markdown",
   "id": "0ecb52ae-5db1-4051-af51-a1a18ce0f68c",
   "metadata": {},
   "source": [
    "### COLLABORATIVE FILTERING FOR USER PLAYTIME DATA"
   ]
  },
  {
   "cell_type": "markdown",
   "id": "ebd0dce2",
   "metadata": {},
   "source": [
    "#### 3 Scaling methods\n",
    "#### Test around to see which method or combination of methods is best\n",
    "1. RobustScaler and StandardScaler\n",
    "2. Just normalize\n",
    "3. RobustScaler and Normalize?"
   ]
  },
  {
   "cell_type": "code",
   "execution_count": 3,
   "id": "f5ec7e7f-ab41-4bc2-9fe6-3b5f294ffcdc",
   "metadata": {},
   "outputs": [],
   "source": [
    "# first do robustscaler to minimize outliers\n",
    "# scaler = RobustScaler(with_centering=True, with_scaling=True, quantile_range=(25.0, 75.0), copy=True)\n",
    "# users_df['playtime_forever'] = scaler.fit_transform(users_df['playtime_forever'].array.reshape(-1,1))"
   ]
  },
  {
   "cell_type": "code",
   "execution_count": 4,
   "id": "584860f1-5a60-438e-a714-4130169f3aac",
   "metadata": {},
   "outputs": [],
   "source": [
    "# use StandardScaler to scale user playtimes\n",
    "# scaler = StandardScaler()\n",
    "# users_df['playtime_forever'] = scaler.fit_transform(users_df['playtime_forever'].values.reshape(-1, 1))"
   ]
  },
  {
   "cell_type": "code",
   "execution_count": 19,
   "id": "b5e28b84",
   "metadata": {},
   "outputs": [],
   "source": [
    "# Normalize the targets between 0 and 1. Makes it easy to train.\n",
    "min_playtime = min(users_df['playtime_forever'])\n",
    "max_playtime = max(users_df['playtime_forever'])\n",
    "users_df['playtime_forever'] = users_df['playtime_forever'].apply(lambda x: (x - min_playtime) / (max_playtime - min_playtime)).values"
   ]
  },
  {
   "cell_type": "code",
   "execution_count": 20,
   "id": "b57aeb1b-80c6-40cb-b2f0-5b3836a8211d",
   "metadata": {},
   "outputs": [],
   "source": [
    "# instantiate surprise.Reader()\n",
    "reader = Reader()\n",
    "\n",
    "# make surprise dataset\n",
    "data = Dataset.load_from_df(users_df[['steam_id', 'appid', 'playtime_forever']], reader)"
   ]
  },
  {
   "cell_type": "code",
   "execution_count": 21,
   "id": "848c5dc1-22bf-41cd-aff3-dc5df929a102",
   "metadata": {},
   "outputs": [],
   "source": [
    "# make a training and test set\n",
    "trainset, testset = train_test_split(data, test_size=0.25)"
   ]
  },
  {
   "cell_type": "markdown",
   "id": "0a487ce3-ba02-4f74-bff5-df05341821be",
   "metadata": {},
   "source": [
    "#### Collaborative Filtering: KNNWithZScore"
   ]
  },
  {
   "cell_type": "markdown",
   "id": "28625fdd",
   "metadata": {},
   "source": [
    "GridSearch for KNN"
   ]
  },
  {
   "cell_type": "code",
   "execution_count": 26,
   "id": "dee9d4dc-b6c0-4298-a7da-607a0a3c9d8d",
   "metadata": {},
   "outputs": [],
   "source": [
    "# set up gridsearch param_grid for KNNWithZScore\n",
    "knn_param_grid = { 'k': [1650, 1675] }"
   ]
  },
  {
   "cell_type": "code",
   "execution_count": 27,
   "id": "ebd9fe85-6808-441f-a40b-7cb1d51e873b",
   "metadata": {},
   "outputs": [],
   "source": [
    "grid_search = GridSearchCV(KNNWithZScore, knn_param_grid, cv=4, n_jobs=3, joblib_verbose=10)"
   ]
  },
  {
   "cell_type": "code",
   "execution_count": 28,
   "id": "f93ce9e5-e90f-44ae-bed5-6df72c7a9828",
   "metadata": {},
   "outputs": [
    {
     "name": "stderr",
     "output_type": "stream",
     "text": [
      "[Parallel(n_jobs=3)]: Using backend LokyBackend with 3 concurrent workers.\n"
     ]
    },
    {
     "name": "stdout",
     "output_type": "stream",
     "text": [
      "Computing the msd similarity matrix...\n",
      "Computing the msd similarity matrix...\n",
      "Computing the msd similarity matrix...\n",
      "Done computing similarity matrix.\n",
      "Done computing similarity matrix.\n",
      "Done computing similarity matrix.\n",
      "Computing the msd similarity matrix...\n"
     ]
    },
    {
     "name": "stderr",
     "output_type": "stream",
     "text": [
      "[Parallel(n_jobs=3)]: Done   2 tasks      | elapsed:  6.7min\n"
     ]
    },
    {
     "name": "stdout",
     "output_type": "stream",
     "text": [
      "Computing the msd similarity matrix...\n",
      "Computing the msd similarity matrix...\n",
      "Done computing similarity matrix.\n",
      "Done computing similarity matrix.\n",
      "Done computing similarity matrix.\n",
      "Computing the msd similarity matrix...\n",
      "Computing the msd similarity matrix...\n",
      "Computing the msd similarity matrix...\n",
      "Done computing similarity matrix.\n",
      "Done computing similarity matrix.\n",
      "Done computing similarity matrix.\n"
     ]
    },
    {
     "name": "stderr",
     "output_type": "stream",
     "text": [
      "[Parallel(n_jobs=3)]: Done   7 tasks      | elapsed: 19.7min\n"
     ]
    },
    {
     "name": "stdout",
     "output_type": "stream",
     "text": [
      "Computing the msd similarity matrix...\n",
      "Computing the msd similarity matrix...\n"
     ]
    },
    {
     "name": "stderr",
     "output_type": "stream",
     "text": [
      "[Parallel(n_jobs=3)]: Done   9 out of  12 | elapsed: 19.8min remaining:  6.6min\n"
     ]
    },
    {
     "name": "stdout",
     "output_type": "stream",
     "text": [
      "Computing the msd similarity matrix...\n",
      "Done computing similarity matrix.\n",
      "Done computing similarity matrix.\n",
      "Done computing similarity matrix.\n"
     ]
    },
    {
     "name": "stderr",
     "output_type": "stream",
     "text": [
      "[Parallel(n_jobs=3)]: Done  12 out of  12 | elapsed: 26.4min finished\n"
     ]
    }
   ],
   "source": [
    "grid_search.fit(data)"
   ]
  },
  {
   "cell_type": "code",
   "execution_count": 29,
   "id": "1ef00892-80d0-4c61-97cc-c2cddbe35a0f",
   "metadata": {},
   "outputs": [
    {
     "name": "stdout",
     "output_type": "stream",
     "text": [
      "Best params:  {'rmse': {'k': 1675}, 'mae': {'k': 1675}}\n"
     ]
    }
   ],
   "source": [
    "# print best params for grid search\n",
    "print('Best params: ', grid_search.best_params)"
   ]
  },
  {
   "cell_type": "code",
   "execution_count": 30,
   "id": "bde3b0ea-97ba-458f-b12a-123073c634e1",
   "metadata": {},
   "outputs": [
    {
     "name": "stdout",
     "output_type": "stream",
     "text": [
      "Score:  {'rmse': 0.8562411001447227, 'mae': 0.8297702315139189}\n"
     ]
    }
   ],
   "source": [
    "# print best score for grid search\n",
    "print('Score: ', grid_search.best_score)"
   ]
  },
  {
   "cell_type": "markdown",
   "id": "a566db2b",
   "metadata": {},
   "source": [
    "#### Train KNN"
   ]
  },
  {
   "cell_type": "code",
   "execution_count": 22,
   "id": "e3c613d7",
   "metadata": {},
   "outputs": [],
   "source": [
    "k_value = 1675"
   ]
  },
  {
   "cell_type": "code",
   "execution_count": 7,
   "id": "8d745473-dd35-45fb-b790-4469df945736",
   "metadata": {},
   "outputs": [],
   "source": [
    "# make knn model with best params from gridsearch\n",
    "knn = KNNWithZScore(k=k_value, sim_options={'name': 'pearson_baseline', 'user_based': False})"
   ]
  },
  {
   "cell_type": "code",
   "execution_count": 8,
   "id": "cdd67ccd-087b-4d6a-a7f7-240c38aad310",
   "metadata": {},
   "outputs": [
    {
     "name": "stdout",
     "output_type": "stream",
     "text": [
      "Estimating biases using als...\n",
      "Computing the pearson_baseline similarity matrix...\n",
      "Done computing similarity matrix.\n"
     ]
    }
   ],
   "source": [
    "# fit the training data and test with our test set\n",
    "predictions = knn.fit(trainset).test(testset)"
   ]
  },
  {
   "cell_type": "code",
   "execution_count": 9,
   "id": "d6253e04-89d9-40fb-a107-041e3b0c5492",
   "metadata": {},
   "outputs": [
    {
     "name": "stdout",
     "output_type": "stream",
     "text": [
      "RMSE: 0.8563\n"
     ]
    },
    {
     "data": {
      "text/plain": [
       "0.8562545716382787"
      ]
     },
     "execution_count": 9,
     "metadata": {},
     "output_type": "execute_result"
    }
   ],
   "source": [
    "# get accuracy\n",
    "accuracy.rmse(predictions)"
   ]
  },
  {
   "cell_type": "code",
   "execution_count": 23,
   "id": "55c36a55-00b0-4b57-8e89-166264837cc0",
   "metadata": {},
   "outputs": [],
   "source": [
    "# build a full trainset now\n",
    "trainset = data.build_full_trainset()"
   ]
  },
  {
   "cell_type": "code",
   "execution_count": 24,
   "id": "503b9be7-d1c7-4c21-a4d0-89847508edbc",
   "metadata": {},
   "outputs": [],
   "source": [
    "# instantiate new knn\n",
    "knn = KNNWithZScore(k=k_value, sim_options={'name': 'pearson_baseline', 'user_based': False})"
   ]
  },
  {
   "cell_type": "code",
   "execution_count": 25,
   "id": "c5ef7c1d-ff85-43fc-9764-95ec6bbb517a",
   "metadata": {},
   "outputs": [
    {
     "name": "stdout",
     "output_type": "stream",
     "text": [
      "Estimating biases using als...\n",
      "Computing the pearson_baseline similarity matrix...\n",
      "Done computing similarity matrix.\n"
     ]
    },
    {
     "data": {
      "text/plain": [
       "<surprise.prediction_algorithms.knns.KNNWithZScore at 0x7fbe584b7520>"
      ]
     },
     "execution_count": 25,
     "metadata": {},
     "output_type": "execute_result"
    }
   ],
   "source": [
    "# fit the knn\n",
    "knn.fit(trainset)"
   ]
  },
  {
   "cell_type": "markdown",
   "id": "aadfee73",
   "metadata": {},
   "source": [
    "#### Recommend KNN"
   ]
  },
  {
   "cell_type": "code",
   "execution_count": 26,
   "id": "83ecbe4d-a9ed-41f6-8d2d-5ab44323fd0c",
   "metadata": {},
   "outputs": [],
   "source": [
    "# function that takes game title and returns the knn model inner id\n",
    "def get_innerid(title):\n",
    "    # get appid from games_df\n",
    "    appid = games_df[games_df['name'] == title]['appid'].values[0]\n",
    "    inner_id = trainset.to_inner_iid(appid)\n",
    "    return inner_id"
   ]
  },
  {
   "cell_type": "code",
   "execution_count": 27,
   "id": "a9b660de-3341-4729-838d-852dbadb8f8f",
   "metadata": {},
   "outputs": [],
   "source": [
    "# function that takes knn model innerid and returns the game title\n",
    "def get_title(inner_id):\n",
    "    steam_id = trainset.to_raw_iid(inner_id)\n",
    "    title = games_df[games_df['appid'] == steam_id].iloc[0]['name']\n",
    "    return title"
   ]
  },
  {
   "cell_type": "code",
   "execution_count": 28,
   "id": "eef5b604",
   "metadata": {},
   "outputs": [],
   "source": [
    "def get_knn_appid(inner_id):\n",
    "    return trainset.to_raw_iid(inner_id)"
   ]
  },
  {
   "attachments": {},
   "cell_type": "markdown",
   "id": "4a6edc3f-faed-4f6a-8472-32350e354b52",
   "metadata": {},
   "source": [
    "### Content-Based Filtering of Game Metadata"
   ]
  },
  {
   "cell_type": "code",
   "execution_count": 29,
   "id": "d99dc8f9",
   "metadata": {},
   "outputs": [],
   "source": [
    "# make description column into type string, otherwise tfidf cries\n",
    "games_df['description_clean'] = games_df['description_clean'].astype(str)"
   ]
  },
  {
   "cell_type": "code",
   "execution_count": 30,
   "id": "441a6283",
   "metadata": {},
   "outputs": [],
   "source": [
    "# games_df drop columns not needed for model\n",
    "game_tags = games_df.drop(columns=['appid', 'description_clean', 'name'])"
   ]
  },
  {
   "attachments": {},
   "cell_type": "markdown",
   "id": "8f3900cf",
   "metadata": {},
   "source": [
    "#### TF-IDF"
   ]
  },
  {
   "cell_type": "code",
   "execution_count": 22,
   "id": "17252e1d",
   "metadata": {},
   "outputs": [],
   "source": [
    "# instantiate tfidfvectorizer\n",
    "tfidf = TfidfVectorizer(max_features=1000, min_df=5, ngram_range=(1,1))"
   ]
  },
  {
   "cell_type": "code",
   "execution_count": 23,
   "id": "1b78726a",
   "metadata": {},
   "outputs": [],
   "source": [
    "# fit tfidfvectorizer to description column\n",
    "tfidf_matrix = tfidf.fit_transform(games_df['description_clean'])"
   ]
  },
  {
   "cell_type": "code",
   "execution_count": 24,
   "id": "f1f2810c",
   "metadata": {},
   "outputs": [],
   "source": [
    "# concatenate game_tags to tfidf_matrix\n",
    "matrix = np.concatenate((tfidf_matrix.toarray(), game_tags.values), axis=1)\n"
   ]
  },
  {
   "attachments": {},
   "cell_type": "markdown",
   "id": "9e19eea0",
   "metadata": {},
   "source": [
    "#### CountVectorizer"
   ]
  },
  {
   "cell_type": "code",
   "execution_count": 31,
   "id": "52ab1e10",
   "metadata": {},
   "outputs": [],
   "source": [
    "# try CountVectorizer\n",
    "countvec = CountVectorizer(max_features=1000, min_df=5, ngram_range=(1,3))\n",
    "countvec_matrix = countvec.fit_transform(games_df['description_clean'])"
   ]
  },
  {
   "cell_type": "code",
   "execution_count": 32,
   "id": "2cc21773",
   "metadata": {},
   "outputs": [],
   "source": [
    "matrix = np.concatenate((countvec_matrix.toarray(), game_tags.values), axis=1)"
   ]
  },
  {
   "cell_type": "code",
   "execution_count": 33,
   "id": "94646139-38c9-4d31-b852-bc8025978650",
   "metadata": {},
   "outputs": [],
   "source": [
    "# make a cosine similarity matrix, maybe linear kernel instead?\n",
    "cosine_sim = cosine_similarity(matrix, matrix)"
   ]
  },
  {
   "cell_type": "code",
   "execution_count": 34,
   "id": "6726e269-d9f0-47df-8c94-9633514229ce",
   "metadata": {},
   "outputs": [],
   "source": [
    "# Construct a reverse map of indices and game titles\n",
    "indices = pd.Series(games_df.index, index=games_df['name'])"
   ]
  },
  {
   "cell_type": "code",
   "execution_count": 35,
   "id": "635fa25f-225a-4238-b8d7-7c53abdc62fa",
   "metadata": {},
   "outputs": [],
   "source": [
    "def recommend_content(title, sim_matrix):\n",
    "    '''Get similar games based on content using the similarity matrix'''\n",
    "    # get index for our game\n",
    "    idx = indices[title]\n",
    "    \n",
    "    # get pairwise similarity scores of all games w.r.t to our game\n",
    "    sim_scores = list(enumerate(sim_matrix[idx]))\n",
    "    \n",
    "    # sort scores based on similarity\n",
    "    sorted_sim_scores = sorted(sim_scores, key=lambda x: x[1], reverse=True)\n",
    "    \n",
    "    # make a dictionary with title as key and score as value\n",
    "    content_similar_scores = {indices.index[i[0]]: i[1] for i in sorted_sim_scores[1:21]}\n",
    "\n",
    "    return content_similar_scores"
   ]
  },
  {
   "cell_type": "code",
   "execution_count": 95,
   "id": "019197ec",
   "metadata": {},
   "outputs": [
    {
     "data": {
      "text/plain": [
       "{'DOOM VFR': 0.25,\n",
       " 'Borderlands Game of the Year': 0.2362204724409449,\n",
       " 'Dead Rising® 2': 0.2295081967213115,\n",
       " 'Pyre': 0.2272727272727273,\n",
       " 'Steel Storm: Burning Retribution': 0.22499999999999998,\n",
       " 'Fossilfuel': 0.2246376811594203,\n",
       " 'Titanfall® 2': 0.22307692307692306,\n",
       " 'Blue Estate The Game': 0.21311475409836067,\n",
       " 'Call of Duty®: Black Ops': 0.21212121212121215,\n",
       " 'RAGE': 0.20661157024793386,\n",
       " 'Akuto: Showdown': 0.2053571428571429,\n",
       " 'Sanctum 2': 0.204225352112676,\n",
       " 'Painkiller Hell & Damnation': 0.203125,\n",
       " 'Zombie Army Trilogy': 0.20300751879699253,\n",
       " 'Military Conflict: Vietnam': 0.20300751879699253,\n",
       " 'Wolfenstein II: The New Colossus': 0.19827586206896552,\n",
       " 'Bulby - Diamond Course': 0.19791666666666663,\n",
       " 'Wolfenstein: The New Order': 0.19685039370078738,\n",
       " 'MORDHAU': 0.19565217391304346,\n",
       " 'Lode Runner Legacy': 0.1937984496124031}"
      ]
     },
     "execution_count": 95,
     "metadata": {},
     "output_type": "execute_result"
    }
   ],
   "source": [
    "# test cosine similarity matrix\n",
    "recommend_content('DOOM', cosine_sim)"
   ]
  },
  {
   "cell_type": "markdown",
   "id": "cb555794",
   "metadata": {},
   "source": [
    "### Create one weighted similarity matrix from knn and cosine similarity matrices"
   ]
  },
  {
   "cell_type": "code",
   "execution_count": 36,
   "id": "09e623be",
   "metadata": {},
   "outputs": [
    {
     "name": "stdout",
     "output_type": "stream",
     "text": [
      "Computing the pearson_baseline similarity matrix...\n",
      "Done computing similarity matrix.\n"
     ]
    }
   ],
   "source": [
    "knn_similarities = knn.compute_similarities()"
   ]
  },
  {
   "cell_type": "code",
   "execution_count": 37,
   "id": "b543d4c0",
   "metadata": {},
   "outputs": [],
   "source": [
    "# make knn_similarities into a numpy array\n",
    "knn_similarities = np.array(knn_similarities)"
   ]
  },
  {
   "cell_type": "code",
   "execution_count": 38,
   "id": "f97bd594",
   "metadata": {},
   "outputs": [
    {
     "data": {
      "text/plain": [
       "True"
      ]
     },
     "execution_count": 38,
     "metadata": {},
     "output_type": "execute_result"
    }
   ],
   "source": [
    "# Test\n",
    "(knn_similarities.transpose() == knn_similarities).all()"
   ]
  },
  {
   "cell_type": "code",
   "execution_count": 39,
   "id": "b95b55d5",
   "metadata": {},
   "outputs": [
    {
     "data": {
      "text/plain": [
       "21435"
      ]
     },
     "execution_count": 39,
     "metadata": {},
     "output_type": "execute_result"
    }
   ],
   "source": [
    "len(knn_similarities)"
   ]
  },
  {
   "cell_type": "code",
   "execution_count": 40,
   "id": "e24f0974",
   "metadata": {},
   "outputs": [],
   "source": [
    "# function for mapping from knn similarity matrix to cosine similarity indices\n",
    "def knn_index_to_cos_index(knn_index):\n",
    "    return indices[get_title(knn_index)]"
   ]
  },
  {
   "cell_type": "code",
   "execution_count": 41,
   "id": "1d650eb7",
   "metadata": {},
   "outputs": [],
   "source": [
    "# given a knn vector, sort it to cosine vector order\n",
    "def knn_vector_to_cos_vector(knn_vector):\n",
    "    # make cos_vector that is of length knn_vector\n",
    "    cos_vector = np.zeros(len(knn_vector))\n",
    "    for i in range(len(knn_vector)):\n",
    "        cos_vector[knn_index_to_cos_index(i)] = knn_vector[i]\n",
    "    return cos_vector"
   ]
  },
  {
   "cell_type": "code",
   "execution_count": 42,
   "id": "bbd6c6ad",
   "metadata": {},
   "outputs": [],
   "source": [
    "# create a copy of knn_similarities with cosine indices\n",
    "knn_sim_ordered = np.copy(knn_similarities)"
   ]
  },
  {
   "cell_type": "code",
   "execution_count": 43,
   "id": "3af1311d",
   "metadata": {},
   "outputs": [
    {
     "name": "stderr",
     "output_type": "stream",
     "text": [
      "100%|██████████| 21435/21435 [00:05<00:00, 4190.00it/s]\n"
     ]
    }
   ],
   "source": [
    "for i in tqdm(range(len(knn_similarities))):\n",
    "    knn_sim_ordered[knn_index_to_cos_index(i)] = knn_similarities[i]"
   ]
  },
  {
   "cell_type": "code",
   "execution_count": 44,
   "id": "934d9bb3",
   "metadata": {},
   "outputs": [
    {
     "data": {
      "text/plain": [
       "True"
      ]
     },
     "execution_count": 44,
     "metadata": {},
     "output_type": "execute_result"
    }
   ],
   "source": [
    "# test if vectors are in the correct location\n",
    "knn_sim_ordered[indices['LIMBO']].mean() == knn_similarities[get_innerid('LIMBO')].mean()"
   ]
  },
  {
   "cell_type": "code",
   "execution_count": 45,
   "id": "c07c8585",
   "metadata": {},
   "outputs": [],
   "source": [
    "# do the transpose\n",
    "knn_sim_ordered = knn_sim_ordered.transpose()"
   ]
  },
  {
   "cell_type": "code",
   "execution_count": 46,
   "id": "fcfe6d1d",
   "metadata": {},
   "outputs": [],
   "source": [
    "knn_sim_ordered_2 = np.copy(knn_sim_ordered)"
   ]
  },
  {
   "cell_type": "code",
   "execution_count": 47,
   "id": "8b2bb3e9",
   "metadata": {},
   "outputs": [
    {
     "name": "stderr",
     "output_type": "stream",
     "text": [
      "100%|██████████| 21435/21435 [00:06<00:00, 3403.11it/s]\n"
     ]
    }
   ],
   "source": [
    "for i in tqdm(range(len(knn_similarities))):\n",
    "    knn_sim_ordered_2[knn_index_to_cos_index(i)] = knn_sim_ordered[i]"
   ]
  },
  {
   "cell_type": "code",
   "execution_count": 48,
   "id": "c5040d9d",
   "metadata": {},
   "outputs": [
    {
     "data": {
      "text/plain": [
       "True"
      ]
     },
     "execution_count": 48,
     "metadata": {},
     "output_type": "execute_result"
    }
   ],
   "source": [
    "# test if transpose is the same as original\n",
    "(knn_sim_ordered_2.transpose() == knn_sim_ordered_2).all()"
   ]
  },
  {
   "cell_type": "code",
   "execution_count": 49,
   "id": "f4ec3db9",
   "metadata": {},
   "outputs": [
    {
     "data": {
      "text/plain": [
       "{'I Expect You To Die': 0.27454736630620946,\n",
       " 'Commander Keen': 0.274106323975587,\n",
       " 'Headsnatchers': 0.27209856158671086,\n",
       " 'Nex Machina': 0.269534692735038,\n",
       " 'Fahrenheit: Indigo Prophecy Remastered': 0.262391855381297,\n",
       " 'Accounting (Legacy)': 0.2612691703633596,\n",
       " 'And Yet It Moves': 0.26093998595581996,\n",
       " 'Panzer Paladin': 0.26008657046697836,\n",
       " 'The Wonderful End of the World': 0.25888171040719943,\n",
       " 'OLDTV': 0.25008569384672946,\n",
       " '1... 2... 3... KICK IT! (Drop That Beat Like an Ugly Baby)': 0.24525422130661106,\n",
       " 'Fury Unleashed': 0.2376934345259899,\n",
       " 'Space Pilgrim Episode III: Delta Pavonis': 0.236696946905187,\n",
       " 'Overload': 0.23559746525533365,\n",
       " 'Omerta - City of Gangsters': 0.23480290972712897,\n",
       " 'Space Pilgrim Episode II: Epsilon Indi': 0.22503780408171592,\n",
       " 'Splice': 0.22219693551355096,\n",
       " 'Auditorium': 0.21837039831672872,\n",
       " 'Agent Origins: Escape': 0.21499978825928656,\n",
       " 'Darwinia': 0.2146224077241486}"
      ]
     },
     "execution_count": 49,
     "metadata": {},
     "output_type": "execute_result"
    }
   ],
   "source": [
    "# test if knn_sim_ordered_2 is proper, should give same results as knn\n",
    "recommend_content('LIMBO', knn_sim_ordered_2)"
   ]
  },
  {
   "cell_type": "code",
   "execution_count": 50,
   "id": "0e7e73dd",
   "metadata": {},
   "outputs": [],
   "source": [
    "# change weights if desired\n",
    "knn_sim_weight = 0.7\n",
    "cos_sim_weight = 0.3"
   ]
  },
  {
   "cell_type": "code",
   "execution_count": 51,
   "id": "cc97518d",
   "metadata": {},
   "outputs": [],
   "source": [
    "# make a weighted similarity matrix 0.75 knn, 0.25 cosine\n",
    "weighted_sim = (knn_sim_ordered_2 * knn_sim_weight) + (cosine_sim * cos_sim_weight)"
   ]
  },
  {
   "cell_type": "code",
   "execution_count": 52,
   "id": "86b48a73",
   "metadata": {},
   "outputs": [],
   "source": [
    "# remove a couple from memory to save space\n",
    "del knn_sim_ordered_2\n",
    "del cosine_sim\n",
    "del knn_similarities"
   ]
  },
  {
   "cell_type": "code",
   "execution_count": 53,
   "id": "d507962c",
   "metadata": {},
   "outputs": [
    {
     "data": {
      "text/plain": [
       "{'Nex Machina': 0.2595309088605261,\n",
       " 'Livelock': 0.2552686431111519,\n",
       " '140': 0.24787706477603316,\n",
       " 'INSIDE': 0.24111370775417346,\n",
       " 'Headsnatchers': 0.23151155612288807,\n",
       " 'Panzer Paladin': 0.2296603290081999,\n",
       " 'Fury Unleashed': 0.2293690698979703,\n",
       " 'Fahrenheit: Indigo Prophecy Remastered': 0.2241262905147024,\n",
       " 'Commander Keen': 0.2227987927563931,\n",
       " 'I Expect You To Die': 0.22233429087212297,\n",
       " 'ElecHead': 0.22156468376279898,\n",
       " 'OLDTV': 0.2209282329220969,\n",
       " 'Daymare: 1998': 0.21828723950951817,\n",
       " 'Accounting (Legacy)': 0.21735120040238848,\n",
       " '1... 2... 3... KICK IT! (Drop That Beat Like an Ugly Baby)': 0.21621413205614004,\n",
       " 'East 73: Magenta Fairytale': 0.21105794120443452,\n",
       " 'The Last Tree': 0.2069314642580795,\n",
       " 'And Yet It Moves': 0.20672547373268055,\n",
       " 'The Wonderful End of the World': 0.2060927469620648,\n",
       " 'Bud Spencer & Terence Hill - Slaps And Beans': 0.20601741688064584}"
      ]
     },
     "execution_count": 53,
     "metadata": {},
     "output_type": "execute_result"
    }
   ],
   "source": [
    "# test weighted matrix, should give same results as weighted_recommend_content in model_ensemble\n",
    "recommend_content('LIMBO', weighted_sim)"
   ]
  },
  {
   "attachments": {},
   "cell_type": "markdown",
   "id": "c4c88b13",
   "metadata": {},
   "source": [
    "Convert float64 to float16 to save space"
   ]
  },
  {
   "cell_type": "code",
   "execution_count": 54,
   "id": "52c644bd",
   "metadata": {},
   "outputs": [],
   "source": [
    "weighted_sim_compressed = np.array(weighted_sim, dtype=np.float16)"
   ]
  },
  {
   "cell_type": "code",
   "execution_count": 55,
   "id": "67d2fe62",
   "metadata": {},
   "outputs": [
    {
     "data": {
      "text/plain": [
       "{'Wolfenstein II: The New Colossus': 0.265,\n",
       " 'Catherine Classic': 0.265,\n",
       " 'Alien: Isolation': 0.2644,\n",
       " 'The Evil Within 2': 0.2605,\n",
       " '>observer_': 0.2595,\n",
       " 'Amnesia: The Dark Descent': 0.2515,\n",
       " 'Penumbra Overture': 0.2512,\n",
       " 'Mutant Year Zero: Road to Eden': 0.2471,\n",
       " 'Hard West': 0.2274,\n",
       " 'Penumbra: Black Plague Gold Edition': 0.2264,\n",
       " 'Evil Maze': 0.2212,\n",
       " 'Apartment 666': 0.2206,\n",
       " 'Mafia: Definitive Edition': 0.2201,\n",
       " 'Insincere': 0.2184,\n",
       " 'This Book Is A Dungeon': 0.2184,\n",
       " 'Amnesia: A Machine for Pigs': 0.2179,\n",
       " 'Encased: A Sci-Fi Post-Apocalyptic RPG': 0.215,\n",
       " 'Call of Cthulhu®': 0.2136,\n",
       " 'The Turing Test': 0.2118,\n",
       " 'Pyre': 0.2117}"
      ]
     },
     "execution_count": 55,
     "metadata": {},
     "output_type": "execute_result"
    }
   ],
   "source": [
    "# test compressed matrix\n",
    "recommend_content('SOMA', weighted_sim_compressed)"
   ]
  },
  {
   "cell_type": "code",
   "execution_count": 56,
   "id": "42c82081",
   "metadata": {},
   "outputs": [],
   "source": [
    "pickle.dump(weighted_sim_compressed, open('../models/weighted_sim_compressed.pkl', 'wb'))"
   ]
  },
  {
   "cell_type": "markdown",
   "id": "107c198b",
   "metadata": {},
   "source": [
    "Upper triangle of symmetric matrix to array WIP\n",
    "\n",
    "Theoretically even more space could be saved, possibly at the expense of column retrieval overhead"
   ]
  },
  {
   "cell_type": "code",
   "execution_count": 54,
   "id": "3d2fc87e",
   "metadata": {},
   "outputs": [],
   "source": [
    "# load weighted\n",
    "weighted_sim_compressed = pickle.load(open('../models/weighted_sim_compressed.pkl', 'rb'))"
   ]
  },
  {
   "cell_type": "code",
   "execution_count": 55,
   "id": "a8fd25a7",
   "metadata": {},
   "outputs": [],
   "source": [
    "# keep only upper triangle of matrix\n",
    "compressed_upper_triangle = np.triu(weighted_sim_compressed, k=1)"
   ]
  },
  {
   "cell_type": "code",
   "execution_count": 56,
   "id": "b74fc142",
   "metadata": {},
   "outputs": [],
   "source": [
    "upper_triangle_indices = np.triu_indices(len(weighted_sim_compressed), k=1)"
   ]
  },
  {
   "cell_type": "code",
   "execution_count": 57,
   "id": "2bae8047",
   "metadata": {},
   "outputs": [],
   "source": [
    "# make compressed_upper_triangle into an array\n",
    "compressed_upper_triangle = compressed_upper_triangle[upper_triangle_indices]"
   ]
  },
  {
   "cell_type": "code",
   "execution_count": 58,
   "id": "b49b8ef9",
   "metadata": {},
   "outputs": [],
   "source": [
    "def return_matrix_value(i, j, array=compressed_upper_triangle, upper_indices=upper_triangle_indices):\n",
    "    '''get matrix[i][j] value from array'''\n",
    "    if i == j:\n",
    "        return 1\n",
    "    elif i > j:\n",
    "        i, j = j, i\n",
    "    return array[np.where((upper_indices[0] == i) & (upper_indices[1] == j))][0]"
   ]
  },
  {
   "cell_type": "code",
   "execution_count": 60,
   "id": "835f849b",
   "metadata": {},
   "outputs": [
    {
     "data": {
      "text/plain": [
       "True"
      ]
     },
     "execution_count": 60,
     "metadata": {},
     "output_type": "execute_result"
    }
   ],
   "source": [
    "# test return_matrix_value\n",
    "return_matrix_value(1, 1) == weighted_sim_compressed[1][1]"
   ]
  },
  {
   "cell_type": "code",
   "execution_count": 59,
   "id": "dcebf6e3",
   "metadata": {},
   "outputs": [],
   "source": [
    "# currently returns an incomplete column\n",
    "def return_matrix_column (i, array=compressed_upper_triangle, upper_indices=upper_triangle_indices):\n",
    "    '''reconstruct matrix[i] column from array'''\n",
    "    return array[np.where(upper_indices[0] == i)]"
   ]
  },
  {
   "cell_type": "code",
   "execution_count": 61,
   "id": "28192988",
   "metadata": {},
   "outputs": [
    {
     "data": {
      "text/plain": [
       "19817"
      ]
     },
     "execution_count": 61,
     "metadata": {},
     "output_type": "execute_result"
    }
   ],
   "source": [
    "# test return_matrix_column length\n",
    "len(return_matrix_column(0)) == len(weighted_sim_compressed[0])"
   ]
  },
  {
   "cell_type": "code",
   "execution_count": 65,
   "id": "f795169c",
   "metadata": {},
   "outputs": [
    {
     "ename": "SyntaxError",
     "evalue": "invalid syntax (708955166.py, line 6)",
     "output_type": "error",
     "traceback": [
      "\u001b[0;36m  Cell \u001b[0;32mIn[65], line 6\u001b[0;36m\u001b[0m\n\u001b[0;31m    sim_scores =\u001b[0m\n\u001b[0m                ^\u001b[0m\n\u001b[0;31mSyntaxError\u001b[0m\u001b[0;31m:\u001b[0m invalid syntax\n"
     ]
    }
   ],
   "source": [
    "def recommend_content_upper(title, upper_matrix_array = compressed_upper_triangle):\n",
    "    ''' Get similar games based on weighted'''\n",
    "    idx = indices[title]\n",
    "\n",
    "    # create pairwise similarity score from upper matrix array\n",
    "    sim_scores = return_matrix_column(idx, upper_matrix_array)\n",
    "\n",
    "    # sort scores based on similarity\n",
    "    sorted_sim_scores = sorted(sim_scores, key=lambda x: x[0], reverse=True)\n",
    "\n",
    "    # make a dictionary with title as key and score as value\n",
    "    content_similar_scores = {indices.index[i[1]]: i[0] for i in sorted_sim_scores[1:21]}\n",
    "\n",
    "    return content_similar_scores"
   ]
  },
  {
   "cell_type": "code",
   "execution_count": null,
   "id": "75ef1bf2",
   "metadata": {},
   "outputs": [
    {
     "ename": "IndexError",
     "evalue": "tuple index out of range",
     "output_type": "error",
     "traceback": [
      "\u001b[0;31m---------------------------------------------------------------------------\u001b[0m",
      "\u001b[0;31mIndexError\u001b[0m                                Traceback (most recent call last)",
      "Cell \u001b[0;32mIn[53], line 2\u001b[0m\n\u001b[1;32m      1\u001b[0m \u001b[39m# test recommendation retrieval\u001b[39;00m\n\u001b[0;32m----> 2\u001b[0m recommend_content_upper(\u001b[39m'\u001b[39;49m\u001b[39mLIMBO\u001b[39;49m\u001b[39m'\u001b[39;49m)\n",
      "Cell \u001b[0;32mIn[52], line 6\u001b[0m, in \u001b[0;36mrecommend_content_upper\u001b[0;34m(title, upper_matrix_array)\u001b[0m\n\u001b[1;32m      3\u001b[0m idx \u001b[39m=\u001b[39m indices[title]\n\u001b[1;32m      5\u001b[0m \u001b[39m# create pairwise similarity score from upper matrix array\u001b[39;00m\n\u001b[0;32m----> 6\u001b[0m sim_scores \u001b[39m=\u001b[39m [(access_value(idx, i, \u001b[39mlen\u001b[39m(weighted_sim), upper_matrix_array), i) \u001b[39mfor\u001b[39;00m i \u001b[39min\u001b[39;00m \u001b[39mrange\u001b[39m(\u001b[39mlen\u001b[39m(weighted_sim)) \u001b[39mif\u001b[39;00m i \u001b[39m!=\u001b[39m idx]\n\u001b[1;32m      8\u001b[0m \u001b[39m# sort scores based on similarity\u001b[39;00m\n\u001b[1;32m      9\u001b[0m sorted_sim_scores \u001b[39m=\u001b[39m \u001b[39msorted\u001b[39m(sim_scores, key\u001b[39m=\u001b[39m\u001b[39mlambda\u001b[39;00m x: x[\u001b[39m0\u001b[39m], reverse\u001b[39m=\u001b[39m\u001b[39mTrue\u001b[39;00m)\n",
      "Cell \u001b[0;32mIn[52], line 6\u001b[0m, in \u001b[0;36m<listcomp>\u001b[0;34m(.0)\u001b[0m\n\u001b[1;32m      3\u001b[0m idx \u001b[39m=\u001b[39m indices[title]\n\u001b[1;32m      5\u001b[0m \u001b[39m# create pairwise similarity score from upper matrix array\u001b[39;00m\n\u001b[0;32m----> 6\u001b[0m sim_scores \u001b[39m=\u001b[39m [(access_value(idx, i, \u001b[39mlen\u001b[39;49m(weighted_sim), upper_matrix_array), i) \u001b[39mfor\u001b[39;00m i \u001b[39min\u001b[39;00m \u001b[39mrange\u001b[39m(\u001b[39mlen\u001b[39m(weighted_sim)) \u001b[39mif\u001b[39;00m i \u001b[39m!=\u001b[39m idx]\n\u001b[1;32m      8\u001b[0m \u001b[39m# sort scores based on similarity\u001b[39;00m\n\u001b[1;32m      9\u001b[0m sorted_sim_scores \u001b[39m=\u001b[39m \u001b[39msorted\u001b[39m(sim_scores, key\u001b[39m=\u001b[39m\u001b[39mlambda\u001b[39;00m x: x[\u001b[39m0\u001b[39m], reverse\u001b[39m=\u001b[39m\u001b[39mTrue\u001b[39;00m)\n",
      "Cell \u001b[0;32mIn[51], line 3\u001b[0m, in \u001b[0;36maccess_value\u001b[0;34m(i, j, size, matrix)\u001b[0m\n\u001b[1;32m      1\u001b[0m \u001b[39mdef\u001b[39;00m \u001b[39maccess_value\u001b[39m(i, j, size, matrix):\n\u001b[1;32m      2\u001b[0m     index \u001b[39m=\u001b[39m i \u001b[39m*\u001b[39m (size \u001b[39m-\u001b[39m \u001b[39m1\u001b[39m) \u001b[39m+\u001b[39m j \u001b[39m-\u001b[39m (i\u001b[39m*\u001b[39m(i\u001b[39m+\u001b[39m\u001b[39m1\u001b[39m)) \u001b[39m/\u001b[39m\u001b[39m/\u001b[39m \u001b[39m2\u001b[39m\n\u001b[0;32m----> 3\u001b[0m     \u001b[39mreturn\u001b[39;00m matrix[index]\n",
      "\u001b[0;31mIndexError\u001b[0m: tuple index out of range"
     ]
    }
   ],
   "source": [
    "# test recommendation retrieval\n",
    "recommend_content_upper('LIMBO')"
   ]
  },
  {
   "cell_type": "code",
   "execution_count": null,
   "id": "d5c0d80b",
   "metadata": {},
   "outputs": [],
   "source": [
    "# store upper in pickle\n",
    "pickle.dump(compressed_upper_triangle, open('../models/compressed_triangle_test.pkl', 'wb'))"
   ]
  }
 ],
 "metadata": {
  "kernelspec": {
   "display_name": "Python 3 (ipykernel)",
   "language": "python",
   "name": "python3"
  },
  "language_info": {
   "codemirror_mode": {
    "name": "ipython",
    "version": 3
   },
   "file_extension": ".py",
   "mimetype": "text/x-python",
   "name": "python",
   "nbconvert_exporter": "python",
   "pygments_lexer": "ipython3",
   "version": "3.9.7"
  },
  "vscode": {
   "interpreter": {
    "hash": "e001bd8958d257f2b8a5f22964dbb72a9c6d26505f9599b23f40d21e591583c3"
   }
  }
 },
 "nbformat": 4,
 "nbformat_minor": 5
}
