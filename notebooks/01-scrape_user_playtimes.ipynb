{
 "cells": [
  {
   "attachments": {},
   "cell_type": "markdown",
   "metadata": {},
   "source": [
    "### Scrape user playtimes using Steam API\n",
    "\n",
    "We will use the Steam API to get user data. We will focus on the playtimes but see what other interesting information we might find. Maybe achievements as an indicator."
   ]
  },
  {
   "cell_type": "code",
   "execution_count": 2,
   "metadata": {},
   "outputs": [],
   "source": [
    "import pandas as pd\n",
    "import os\n",
    "import requests as re\n",
    "import time\n",
    "from tqdm import tqdm\n",
    "import random"
   ]
  },
  {
   "cell_type": "code",
   "execution_count": 3,
   "metadata": {},
   "outputs": [],
   "source": [
    "# import path, api key and steam id\n",
    "USER_PLAYTIME_PATH = '../data/steam_playtime.csv'\n",
    "STEAM_API_KEY = os.environ['STEAM_API']\n",
    "MY_STEAM_ID = os.environ['STEAM_ID']"
   ]
  },
  {
   "cell_type": "code",
   "execution_count": 4,
   "metadata": {},
   "outputs": [],
   "source": [
    "# urls for api calls\n",
    "owned_url = 'http://api.steampowered.com/IPlayerService/GetOwnedGames/v0001/'\n",
    "getfriendlist_url = 'http://api.steampowered.com/ISteamUser/GetFriendList/v0001/'"
   ]
  },
  {
   "cell_type": "code",
   "execution_count": 5,
   "metadata": {},
   "outputs": [],
   "source": [
    "# If you have saved the data previously then load it. if it doesn't exist create it.\n",
    "if os.path.exists(USER_PLAYTIME_PATH):\n",
    "    playtime_df = pd.read_csv(USER_PLAYTIME_PATH)\n",
    "else:\n",
    "    playtime_df = pd.DataFrame(columns = ['appid', 'steam_id', 'playtime_2weeks', 'playtime_forever'])\n"
   ]
  },
  {
   "cell_type": "code",
   "execution_count": 6,
   "metadata": {},
   "outputs": [
    {
     "data": {
      "text/plain": [
       "2731661"
      ]
     },
     "execution_count": 6,
     "metadata": {},
     "output_type": "execute_result"
    }
   ],
   "source": [
    "len(playtime_df)"
   ]
  },
  {
   "cell_type": "markdown",
   "metadata": {},
   "source": [
    "### Checking the API return\n",
    "I know we can get playtime but what else"
   ]
  },
  {
   "cell_type": "code",
   "execution_count": null,
   "metadata": {},
   "outputs": [],
   "source": []
  },
  {
   "cell_type": "code",
   "execution_count": 7,
   "metadata": {},
   "outputs": [],
   "source": [
    "def parse_playtime_json(steamid, json_data) -> list[dict]:\n",
    "    \"\"\" Get game playtimes from the json data and return a list of dicts \"\"\"\n",
    "    \n",
    "    user_playtimes = [] \n",
    "    for game in json_data['response']['games']:\n",
    "        if game['playtime_forever'] > 0:\n",
    "            appid = game['appid']\n",
    "            playtime_forever = game['playtime_forever']\n",
    "            if 'playtime_2weeks' in game:\n",
    "                playtime_2weeks = game['playtime_2weeks']\n",
    "            else:\n",
    "                playtime_2weeks = 0\n",
    "            user_playtimes.append({'appid': appid, \n",
    "                                    'steam_id': steamid, \n",
    "                                    'playtime_2weeks': playtime_2weeks, \n",
    "                                    'playtime_forever': playtime_forever})\n",
    "    return user_playtimes"
   ]
  },
  {
   "cell_type": "code",
   "execution_count": 8,
   "metadata": {},
   "outputs": [],
   "source": [
    "def get_user_playtimes(steamid):\n",
    "    \"\"\"Function to get steam users playtime data\"\"\"\n",
    "    \n",
    "    global playtime_df\n",
    "    \n",
    "    # Check if we parsed this one, i.e. steam_id is not in our dataframe steam_id column\n",
    "    if steamid not in playtime_df['steam_id'].values:\n",
    "        urlparams = {'key': STEAM_API_KEY, 'steamid': steamid, 'format': 'json'}\n",
    "        url_request = re.get(owned_url, params=urlparams)\n",
    "        time.sleep(1)\n",
    "        \n",
    "        # If status_code is not 200, return\n",
    "        if url_request.status_code != 200:\n",
    "            print(url_request.status_code, end='')\n",
    "            return\n",
    "        \n",
    "        req_json = url_request.json()\n",
    "        if 'games' in req_json['response']:\n",
    "            print('p', end='')  # p for parsing\n",
    "            \n",
    "            # Parse req_json fields for games user has played\n",
    "            user_playtimes = []\n",
    "            for game in req_json['response']['games']:\n",
    "                if game['playtime_forever'] > 0:\n",
    "                    appid = game['appid']\n",
    "                    playtime_forever = game['playtime_forever']\n",
    "                    playtime_2weeks = game.get('playtime_2weeks', 0)\n",
    "                    \n",
    "                    # Append to user_playtimes list\n",
    "                    user_playtimes.append({'appid': appid, \n",
    "                                           'steam_id': steamid, \n",
    "                                           'playtime_2weeks': playtime_2weeks, \n",
    "                                           'playtime_forever': playtime_forever})\n",
    "            \n",
    "            # Append user_playtimes to playtime_df dataframe\n",
    "            playtime_df = playtime_df.append(user_playtimes, ignore_index=True)\n"
   ]
  },
  {
   "cell_type": "code",
   "execution_count": 9,
   "metadata": {},
   "outputs": [],
   "source": [
    "def friends_games(steamid, depth = 0):\n",
    "    \"\"\" function to get friends steam id's recursively, recursive depth set to 6 \"\"\"\n",
    "    if depth == 6:\n",
    "        return\n",
    "    getfriendparams = {\n",
    "        'key': STEAM_API_KEY,\n",
    "        'steamid': steamid, \n",
    "        'relationship': 'all', \n",
    "        'format': 'json'}\n",
    "    url_request = re.get(getfriendlist_url, params=getfriendparams)\n",
    "    time.sleep(1)\n",
    "    if url_request.status_code != 200:\n",
    "        print(url_request.status_code, end='')\n",
    "    else:\n",
    "        req_json = url_request.json()\n",
    "        if 'friendslist' in req_json:\n",
    "            for friend in req_json['friendslist']['friends']:\n",
    "                steamid = friend['steamid']\n",
    "                # get playtime data for this friend\n",
    "                get_user_playtimes(steamid)\n",
    "                # run friends_games on this friend\n",
    "                friends_games(steamid, depth+1)\n",
    "                time.sleep(2)\n",
    "        else:\n",
    "            return"
   ]
  },
  {
   "cell_type": "code",
   "execution_count": null,
   "metadata": {},
   "outputs": [],
   "source": [
    "# test run, parse through my friends\n",
    "friends_games(MY_STEAM_ID)"
   ]
  },
  {
   "attachments": {},
   "cell_type": "markdown",
   "metadata": {},
   "source": [
    "### GET PLAYTIME DATA FROM STEAMID.UK ID's"
   ]
  },
  {
   "cell_type": "code",
   "execution_count": null,
   "metadata": {},
   "outputs": [],
   "source": [
    "def get_userids_from_steamid_uk() -> pd.DataFrame:\n",
    "    \"\"\" \n",
    "    parse the csv files from https://steamid.uk/downloads/\n",
    "    and return a dataframe with unique userids. \n",
    "    Download files from the site above and place them in your data folder.\n",
    "    :return: dataframe with unique userids from steamid.uk\n",
    "    \"\"\"\n",
    "\n",
    "    sources = ['../data/3digitURLhistory04_06_2019.csv',\n",
    "    '../data/3digitURLhistory16_04_2019.csv',\n",
    "    '../data/3digitURLhistory18_01_2020.csv',\n",
    "    '../data/3digitURLhistory18_03_2019.csv']\n",
    "    \n",
    "    source_col0 = '../data/3digitURLhistory26_02_2019.csv'\n",
    "\n",
    "    # create DataFrame with feature 'someid'\n",
    "    history = pd.DataFrame(columns=['someid'])\n",
    "\n",
    "    # read in the csv files\n",
    "    for source in sources:\n",
    "        history = history.append(pd.read_csv(source, header=None, usecols=[1], names=['someid']))\n",
    "\n",
    "    history = history.append(pd.read_csv(source_col0, header=None, usecols=[0], names=['someid']))\n",
    "\n",
    "    # return unique ids\n",
    "    return history.drop_duplicates()"
   ]
  },
  {
   "cell_type": "code",
   "execution_count": null,
   "metadata": {},
   "outputs": [],
   "source": [
    "# create DataFrame with feature 'someid'\n",
    "history = get_userids_from_steamid_uk()"
   ]
  },
  {
   "cell_type": "code",
   "execution_count": null,
   "metadata": {},
   "outputs": [],
   "source": [
    "history.to_csv('../data/steamid_uk_userids.csv', index=False)"
   ]
  },
  {
   "cell_type": "code",
   "execution_count": null,
   "metadata": {},
   "outputs": [],
   "source": [
    "# loop through data and get user playtimes, takes less than a day :)\n",
    "for someid in tqdm(history['someid']):\n",
    "    get_user_playtimes(someid)"
   ]
  },
  {
   "cell_type": "code",
   "execution_count": 14,
   "metadata": {},
   "outputs": [
    {
     "data": {
      "text/plain": [
       "2806582"
      ]
     },
     "execution_count": 14,
     "metadata": {},
     "output_type": "execute_result"
    }
   ],
   "source": [
    "len(playtime_df)"
   ]
  },
  {
   "attachments": {},
   "cell_type": "markdown",
   "metadata": {},
   "source": [
    "### GET PLAYTIME DATA RECURSIVELY"
   ]
  },
  {
   "cell_type": "code",
   "execution_count": 10,
   "metadata": {},
   "outputs": [],
   "source": [
    "# create a list of unique steam_id's from playtime\n",
    "steamids = list(set(playtime_df['steam_id']))"
   ]
  },
  {
   "cell_type": "code",
   "execution_count": 13,
   "metadata": {},
   "outputs": [
    {
     "name": "stdout",
     "output_type": "stream",
     "text": [
      "401p401401401401401pppppppppppppppppppppppppppppppppppppppppppppppppppppppp401ppppppppppppppppppppppppppp401pppppppp401401pppppppppppppppp401ppppppppppppppppppppppppppppppppppppppppppppppppppppppppppppppppppppppppppppppppppppppppppppppppppppppppppppppppppppppppppppppppppppppppppppppp"
     ]
    },
    {
     "ename": "KeyboardInterrupt",
     "evalue": "",
     "output_type": "error",
     "traceback": [
      "\u001b[0;31m---------------------------------------------------------------------------\u001b[0m",
      "\u001b[0;31mKeyboardInterrupt\u001b[0m                         Traceback (most recent call last)",
      "\u001b[0;32m/tmp/ipykernel_3894/1703873804.py\u001b[0m in \u001b[0;36m<module>\u001b[0;34m\u001b[0m\n\u001b[1;32m      2\u001b[0m \u001b[0;32mfor\u001b[0m \u001b[0mi\u001b[0m \u001b[0;32min\u001b[0m \u001b[0mrange\u001b[0m\u001b[0;34m(\u001b[0m\u001b[0;36m5\u001b[0m\u001b[0;34m)\u001b[0m\u001b[0;34m:\u001b[0m\u001b[0;34m\u001b[0m\u001b[0;34m\u001b[0m\u001b[0m\n\u001b[1;32m      3\u001b[0m     \u001b[0mrandom_steamid\u001b[0m \u001b[0;34m=\u001b[0m \u001b[0mrandom\u001b[0m\u001b[0;34m.\u001b[0m\u001b[0mchoice\u001b[0m\u001b[0;34m(\u001b[0m\u001b[0msteamids\u001b[0m\u001b[0;34m)\u001b[0m\u001b[0;34m\u001b[0m\u001b[0;34m\u001b[0m\u001b[0m\n\u001b[0;32m----> 4\u001b[0;31m     \u001b[0mfriends_games\u001b[0m\u001b[0;34m(\u001b[0m\u001b[0mrandom_steamid\u001b[0m\u001b[0;34m)\u001b[0m\u001b[0;34m\u001b[0m\u001b[0;34m\u001b[0m\u001b[0m\n\u001b[0m\u001b[1;32m      5\u001b[0m     \u001b[0mtime\u001b[0m\u001b[0;34m.\u001b[0m\u001b[0msleep\u001b[0m\u001b[0;34m(\u001b[0m\u001b[0;36m5\u001b[0m\u001b[0;34m)\u001b[0m\u001b[0;34m\u001b[0m\u001b[0;34m\u001b[0m\u001b[0m\n",
      "\u001b[0;32m/tmp/ipykernel_3894/604281621.py\u001b[0m in \u001b[0;36mfriends_games\u001b[0;34m(steamid, depth)\u001b[0m\n\u001b[1;32m     20\u001b[0m                 \u001b[0mget_user_playtimes\u001b[0m\u001b[0;34m(\u001b[0m\u001b[0msteamid\u001b[0m\u001b[0;34m)\u001b[0m\u001b[0;34m\u001b[0m\u001b[0;34m\u001b[0m\u001b[0m\n\u001b[1;32m     21\u001b[0m                 \u001b[0;31m# run friends_games on this friend\u001b[0m\u001b[0;34m\u001b[0m\u001b[0;34m\u001b[0m\u001b[0m\n\u001b[0;32m---> 22\u001b[0;31m                 \u001b[0mfriends_games\u001b[0m\u001b[0;34m(\u001b[0m\u001b[0msteamid\u001b[0m\u001b[0;34m,\u001b[0m \u001b[0mdepth\u001b[0m\u001b[0;34m+\u001b[0m\u001b[0;36m1\u001b[0m\u001b[0;34m)\u001b[0m\u001b[0;34m\u001b[0m\u001b[0;34m\u001b[0m\u001b[0m\n\u001b[0m\u001b[1;32m     23\u001b[0m                 \u001b[0mtime\u001b[0m\u001b[0;34m.\u001b[0m\u001b[0msleep\u001b[0m\u001b[0;34m(\u001b[0m\u001b[0;36m2\u001b[0m\u001b[0;34m)\u001b[0m\u001b[0;34m\u001b[0m\u001b[0;34m\u001b[0m\u001b[0m\n\u001b[1;32m     24\u001b[0m         \u001b[0;32melse\u001b[0m\u001b[0;34m:\u001b[0m\u001b[0;34m\u001b[0m\u001b[0;34m\u001b[0m\u001b[0m\n",
      "\u001b[0;32m/tmp/ipykernel_3894/604281621.py\u001b[0m in \u001b[0;36mfriends_games\u001b[0;34m(steamid, depth)\u001b[0m\n\u001b[1;32m     20\u001b[0m                 \u001b[0mget_user_playtimes\u001b[0m\u001b[0;34m(\u001b[0m\u001b[0msteamid\u001b[0m\u001b[0;34m)\u001b[0m\u001b[0;34m\u001b[0m\u001b[0;34m\u001b[0m\u001b[0m\n\u001b[1;32m     21\u001b[0m                 \u001b[0;31m# run friends_games on this friend\u001b[0m\u001b[0;34m\u001b[0m\u001b[0;34m\u001b[0m\u001b[0m\n\u001b[0;32m---> 22\u001b[0;31m                 \u001b[0mfriends_games\u001b[0m\u001b[0;34m(\u001b[0m\u001b[0msteamid\u001b[0m\u001b[0;34m,\u001b[0m \u001b[0mdepth\u001b[0m\u001b[0;34m+\u001b[0m\u001b[0;36m1\u001b[0m\u001b[0;34m)\u001b[0m\u001b[0;34m\u001b[0m\u001b[0;34m\u001b[0m\u001b[0m\n\u001b[0m\u001b[1;32m     23\u001b[0m                 \u001b[0mtime\u001b[0m\u001b[0;34m.\u001b[0m\u001b[0msleep\u001b[0m\u001b[0;34m(\u001b[0m\u001b[0;36m2\u001b[0m\u001b[0;34m)\u001b[0m\u001b[0;34m\u001b[0m\u001b[0;34m\u001b[0m\u001b[0m\n\u001b[1;32m     24\u001b[0m         \u001b[0;32melse\u001b[0m\u001b[0;34m:\u001b[0m\u001b[0;34m\u001b[0m\u001b[0;34m\u001b[0m\u001b[0m\n",
      "\u001b[0;32m/tmp/ipykernel_3894/604281621.py\u001b[0m in \u001b[0;36mfriends_games\u001b[0;34m(steamid, depth)\u001b[0m\n\u001b[1;32m     20\u001b[0m                 \u001b[0mget_user_playtimes\u001b[0m\u001b[0;34m(\u001b[0m\u001b[0msteamid\u001b[0m\u001b[0;34m)\u001b[0m\u001b[0;34m\u001b[0m\u001b[0;34m\u001b[0m\u001b[0m\n\u001b[1;32m     21\u001b[0m                 \u001b[0;31m# run friends_games on this friend\u001b[0m\u001b[0;34m\u001b[0m\u001b[0;34m\u001b[0m\u001b[0m\n\u001b[0;32m---> 22\u001b[0;31m                 \u001b[0mfriends_games\u001b[0m\u001b[0;34m(\u001b[0m\u001b[0msteamid\u001b[0m\u001b[0;34m,\u001b[0m \u001b[0mdepth\u001b[0m\u001b[0;34m+\u001b[0m\u001b[0;36m1\u001b[0m\u001b[0;34m)\u001b[0m\u001b[0;34m\u001b[0m\u001b[0;34m\u001b[0m\u001b[0m\n\u001b[0m\u001b[1;32m     23\u001b[0m                 \u001b[0mtime\u001b[0m\u001b[0;34m.\u001b[0m\u001b[0msleep\u001b[0m\u001b[0;34m(\u001b[0m\u001b[0;36m2\u001b[0m\u001b[0;34m)\u001b[0m\u001b[0;34m\u001b[0m\u001b[0;34m\u001b[0m\u001b[0m\n\u001b[1;32m     24\u001b[0m         \u001b[0;32melse\u001b[0m\u001b[0;34m:\u001b[0m\u001b[0;34m\u001b[0m\u001b[0;34m\u001b[0m\u001b[0m\n",
      "\u001b[0;32m/tmp/ipykernel_3894/604281621.py\u001b[0m in \u001b[0;36mfriends_games\u001b[0;34m(steamid, depth)\u001b[0m\n\u001b[1;32m     20\u001b[0m                 \u001b[0mget_user_playtimes\u001b[0m\u001b[0;34m(\u001b[0m\u001b[0msteamid\u001b[0m\u001b[0;34m)\u001b[0m\u001b[0;34m\u001b[0m\u001b[0;34m\u001b[0m\u001b[0m\n\u001b[1;32m     21\u001b[0m                 \u001b[0;31m# run friends_games on this friend\u001b[0m\u001b[0;34m\u001b[0m\u001b[0;34m\u001b[0m\u001b[0m\n\u001b[0;32m---> 22\u001b[0;31m                 \u001b[0mfriends_games\u001b[0m\u001b[0;34m(\u001b[0m\u001b[0msteamid\u001b[0m\u001b[0;34m,\u001b[0m \u001b[0mdepth\u001b[0m\u001b[0;34m+\u001b[0m\u001b[0;36m1\u001b[0m\u001b[0;34m)\u001b[0m\u001b[0;34m\u001b[0m\u001b[0;34m\u001b[0m\u001b[0m\n\u001b[0m\u001b[1;32m     23\u001b[0m                 \u001b[0mtime\u001b[0m\u001b[0;34m.\u001b[0m\u001b[0msleep\u001b[0m\u001b[0;34m(\u001b[0m\u001b[0;36m2\u001b[0m\u001b[0;34m)\u001b[0m\u001b[0;34m\u001b[0m\u001b[0;34m\u001b[0m\u001b[0m\n\u001b[1;32m     24\u001b[0m         \u001b[0;32melse\u001b[0m\u001b[0;34m:\u001b[0m\u001b[0;34m\u001b[0m\u001b[0;34m\u001b[0m\u001b[0m\n",
      "\u001b[0;32m/tmp/ipykernel_3894/604281621.py\u001b[0m in \u001b[0;36mfriends_games\u001b[0;34m(steamid, depth)\u001b[0m\n\u001b[1;32m     20\u001b[0m                 \u001b[0mget_user_playtimes\u001b[0m\u001b[0;34m(\u001b[0m\u001b[0msteamid\u001b[0m\u001b[0;34m)\u001b[0m\u001b[0;34m\u001b[0m\u001b[0;34m\u001b[0m\u001b[0m\n\u001b[1;32m     21\u001b[0m                 \u001b[0;31m# run friends_games on this friend\u001b[0m\u001b[0;34m\u001b[0m\u001b[0;34m\u001b[0m\u001b[0m\n\u001b[0;32m---> 22\u001b[0;31m                 \u001b[0mfriends_games\u001b[0m\u001b[0;34m(\u001b[0m\u001b[0msteamid\u001b[0m\u001b[0;34m,\u001b[0m \u001b[0mdepth\u001b[0m\u001b[0;34m+\u001b[0m\u001b[0;36m1\u001b[0m\u001b[0;34m)\u001b[0m\u001b[0;34m\u001b[0m\u001b[0;34m\u001b[0m\u001b[0m\n\u001b[0m\u001b[1;32m     23\u001b[0m                 \u001b[0mtime\u001b[0m\u001b[0;34m.\u001b[0m\u001b[0msleep\u001b[0m\u001b[0;34m(\u001b[0m\u001b[0;36m2\u001b[0m\u001b[0;34m)\u001b[0m\u001b[0;34m\u001b[0m\u001b[0;34m\u001b[0m\u001b[0m\n\u001b[1;32m     24\u001b[0m         \u001b[0;32melse\u001b[0m\u001b[0;34m:\u001b[0m\u001b[0;34m\u001b[0m\u001b[0;34m\u001b[0m\u001b[0m\n",
      "\u001b[0;32m/tmp/ipykernel_3894/604281621.py\u001b[0m in \u001b[0;36mfriends_games\u001b[0;34m(steamid, depth)\u001b[0m\n\u001b[1;32m     21\u001b[0m                 \u001b[0;31m# run friends_games on this friend\u001b[0m\u001b[0;34m\u001b[0m\u001b[0;34m\u001b[0m\u001b[0m\n\u001b[1;32m     22\u001b[0m                 \u001b[0mfriends_games\u001b[0m\u001b[0;34m(\u001b[0m\u001b[0msteamid\u001b[0m\u001b[0;34m,\u001b[0m \u001b[0mdepth\u001b[0m\u001b[0;34m+\u001b[0m\u001b[0;36m1\u001b[0m\u001b[0;34m)\u001b[0m\u001b[0;34m\u001b[0m\u001b[0;34m\u001b[0m\u001b[0m\n\u001b[0;32m---> 23\u001b[0;31m                 \u001b[0mtime\u001b[0m\u001b[0;34m.\u001b[0m\u001b[0msleep\u001b[0m\u001b[0;34m(\u001b[0m\u001b[0;36m2\u001b[0m\u001b[0;34m)\u001b[0m\u001b[0;34m\u001b[0m\u001b[0;34m\u001b[0m\u001b[0m\n\u001b[0m\u001b[1;32m     24\u001b[0m         \u001b[0;32melse\u001b[0m\u001b[0;34m:\u001b[0m\u001b[0;34m\u001b[0m\u001b[0;34m\u001b[0m\u001b[0m\n\u001b[1;32m     25\u001b[0m             \u001b[0;32mreturn\u001b[0m\u001b[0;34m\u001b[0m\u001b[0;34m\u001b[0m\u001b[0m\n",
      "\u001b[0;31mKeyboardInterrupt\u001b[0m: "
     ]
    }
   ],
   "source": [
    "# loop that picks random steam_id's from steamids and runs friends_games on it\n",
    "for i in range(5):\n",
    "    random_steamid = random.choice(steamids)\n",
    "    friends_games(random_steamid)\n",
    "    time.sleep(5)"
   ]
  },
  {
   "cell_type": "code",
   "execution_count": 15,
   "metadata": {},
   "outputs": [],
   "source": [
    "# save data to csv\n",
    "playtime_df.to_csv(USER_PLAYTIME_PATH, index=False)"
   ]
  },
  {
   "cell_type": "code",
   "execution_count": null,
   "metadata": {},
   "outputs": [],
   "source": []
  }
 ],
 "metadata": {
  "kernelspec": {
   "display_name": "base",
   "language": "python",
   "name": "python3"
  },
  "language_info": {
   "codemirror_mode": {
    "name": "ipython",
    "version": 3
   },
   "file_extension": ".py",
   "mimetype": "text/x-python",
   "name": "python",
   "nbconvert_exporter": "python",
   "pygments_lexer": "ipython3",
   "version": "3.9.18"
  },
  "orig_nbformat": 4
 },
 "nbformat": 4,
 "nbformat_minor": 2
}
