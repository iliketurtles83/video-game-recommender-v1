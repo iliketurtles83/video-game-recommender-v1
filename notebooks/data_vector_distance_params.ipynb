{
 "cells": [
  {
   "attachments": {},
   "cell_type": "markdown",
   "metadata": {},
   "source": [
    "### Testing various vectorizer parameters and distance metrics\n",
    "change game title to any valid game you want to run tests on"
   ]
  },
  {
   "cell_type": "code",
   "execution_count": 10,
   "metadata": {},
   "outputs": [],
   "source": [
    "\n",
    "import pandas as pd\n",
    "import numpy as np\n",
    "import pickle\n",
    "from sklearn.feature_extraction.text import CountVectorizer\n",
    "from sklearn.feature_extraction.text import TfidfVectorizer\n",
    "# manhattan is pretty useless and takes time\n",
    "# from sklearn.metrics.pairwise import manhattan_distances\n",
    "from sklearn.metrics.pairwise import pairwise_distances\n",
    "from sklearn.metrics.pairwise import euclidean_distances\n",
    "from sklearn.metrics.pairwise import cosine_similarity"
   ]
  },
  {
   "cell_type": "code",
   "execution_count": 11,
   "metadata": {},
   "outputs": [],
   "source": [
    "games_df = pickle.load(open('../data/steam_games_clean.pkl', 'rb'))"
   ]
  },
  {
   "cell_type": "code",
   "execution_count": 12,
   "metadata": {},
   "outputs": [],
   "source": [
    "# make description column into type string, otherwise tfidf cries\n",
    "games_df['description_clean'] = games_df['description_clean'].astype(str)"
   ]
  },
  {
   "cell_type": "code",
   "execution_count": 13,
   "metadata": {},
   "outputs": [],
   "source": [
    "# games_df drop columns not needed for model\n",
    "game_tags = games_df.drop(columns=['appid', 'description_clean', 'name'])"
   ]
  },
  {
   "cell_type": "code",
   "execution_count": 14,
   "metadata": {},
   "outputs": [],
   "source": [
    "# Construct a reverse map of indices and game titles\n",
    "indices = pd.Series(games_df.index, index=games_df['name'])"
   ]
  },
  {
   "cell_type": "code",
   "execution_count": 15,
   "metadata": {},
   "outputs": [],
   "source": [
    "vectorizer_params = [\n",
    "    {'max_features': 500, 'min_df': 2, 'ngram_range': (1, 1)},\n",
    "    {'max_features': 500, 'min_df': 5, 'ngram_range': (1, 1)},\n",
    "    {'max_features': 1000, 'min_df': 2, 'ngram_range': (1, 1)},\n",
    "    {'max_features': 1000, 'min_df': 5, 'ngram_range': (1, 1)},\n",
    "    {'max_features': 2000, 'min_df': 2, 'ngram_range': (1, 1)},\n",
    "    {'max_features': 2000, 'min_df': 5, 'ngram_range': (1, 1)},\n",
    "    {'max_features': 500, 'min_df': 2, 'ngram_range': (1, 2)},\n",
    "    {'max_features': 500, 'min_df': 5, 'ngram_range': (1, 2)},\n",
    "    {'max_features': 1000, 'min_df': 2, 'ngram_range': (1, 2)},\n",
    "    {'max_features': 1000, 'min_df': 5, 'ngram_range': (1, 2)},\n",
    "    {'max_features': 2000, 'min_df': 2, 'ngram_range': (1, 2)},\n",
    "    {'max_features': 2000, 'min_df': 5, 'ngram_range': (1, 2)},\n",
    "    {'max_features': 500, 'min_df': 2, 'ngram_range': (1, 3)},\n",
    "    {'max_features': 500, 'min_df': 5, 'ngram_range': (1, 3)},\n",
    "    {'max_features': 1000, 'min_df': 2, 'ngram_range': (1, 3)},\n",
    "    {'max_features': 1000, 'min_df': 5, 'ngram_range': (1, 3)},\n",
    "    {'max_features': 2000, 'min_df': 2, 'ngram_range': (1, 3)},\n",
    "    {'max_features': 2000, 'min_df': 5, 'ngram_range': (1, 3)}\n",
    "]\n",
    "\n",
    "distance_metrics = [\n",
    "    ('cosine', cosine_similarity),\n",
    "    ('euclidean', euclidean_distances),\n",
    "    # ('manhattan', manhattan_distances),\n",
    "    ('jaccard', pairwise_distances)\n",
    "]"
   ]
  },
  {
   "cell_type": "code",
   "execution_count": 16,
   "metadata": {},
   "outputs": [],
   "source": [
    "# change title to desired game name\n",
    "title = 'Alien: Isolation'\n",
    "game_idx = indices[title]"
   ]
  },
  {
   "cell_type": "code",
   "execution_count": 17,
   "metadata": {},
   "outputs": [
    {
     "name": "stderr",
     "output_type": "stream",
     "text": [
      "/home/berry/Lighthouse/Projects/video-game-recommender-v1/vgenv/lib/python3.9/site-packages/sklearn/metrics/pairwise.py:2025: DataConversionWarning: Data was converted to boolean for metric jaccard\n",
      "  warnings.warn(msg, DataConversionWarning)\n",
      "/home/berry/Lighthouse/Projects/video-game-recommender-v1/vgenv/lib/python3.9/site-packages/sklearn/metrics/pairwise.py:2025: DataConversionWarning: Data was converted to boolean for metric jaccard\n",
      "  warnings.warn(msg, DataConversionWarning)\n",
      "/home/berry/Lighthouse/Projects/video-game-recommender-v1/vgenv/lib/python3.9/site-packages/sklearn/metrics/pairwise.py:2025: DataConversionWarning: Data was converted to boolean for metric jaccard\n",
      "  warnings.warn(msg, DataConversionWarning)\n",
      "/home/berry/Lighthouse/Projects/video-game-recommender-v1/vgenv/lib/python3.9/site-packages/sklearn/metrics/pairwise.py:2025: DataConversionWarning: Data was converted to boolean for metric jaccard\n",
      "  warnings.warn(msg, DataConversionWarning)\n",
      "/home/berry/Lighthouse/Projects/video-game-recommender-v1/vgenv/lib/python3.9/site-packages/sklearn/metrics/pairwise.py:2025: DataConversionWarning: Data was converted to boolean for metric jaccard\n",
      "  warnings.warn(msg, DataConversionWarning)\n",
      "/home/berry/Lighthouse/Projects/video-game-recommender-v1/vgenv/lib/python3.9/site-packages/sklearn/metrics/pairwise.py:2025: DataConversionWarning: Data was converted to boolean for metric jaccard\n",
      "  warnings.warn(msg, DataConversionWarning)\n",
      "/home/berry/Lighthouse/Projects/video-game-recommender-v1/vgenv/lib/python3.9/site-packages/sklearn/metrics/pairwise.py:2025: DataConversionWarning: Data was converted to boolean for metric jaccard\n",
      "  warnings.warn(msg, DataConversionWarning)\n",
      "/home/berry/Lighthouse/Projects/video-game-recommender-v1/vgenv/lib/python3.9/site-packages/sklearn/metrics/pairwise.py:2025: DataConversionWarning: Data was converted to boolean for metric jaccard\n",
      "  warnings.warn(msg, DataConversionWarning)\n",
      "/home/berry/Lighthouse/Projects/video-game-recommender-v1/vgenv/lib/python3.9/site-packages/sklearn/metrics/pairwise.py:2025: DataConversionWarning: Data was converted to boolean for metric jaccard\n",
      "  warnings.warn(msg, DataConversionWarning)\n",
      "/home/berry/Lighthouse/Projects/video-game-recommender-v1/vgenv/lib/python3.9/site-packages/sklearn/metrics/pairwise.py:2025: DataConversionWarning: Data was converted to boolean for metric jaccard\n",
      "  warnings.warn(msg, DataConversionWarning)\n",
      "/home/berry/Lighthouse/Projects/video-game-recommender-v1/vgenv/lib/python3.9/site-packages/sklearn/metrics/pairwise.py:2025: DataConversionWarning: Data was converted to boolean for metric jaccard\n",
      "  warnings.warn(msg, DataConversionWarning)\n",
      "/home/berry/Lighthouse/Projects/video-game-recommender-v1/vgenv/lib/python3.9/site-packages/sklearn/metrics/pairwise.py:2025: DataConversionWarning: Data was converted to boolean for metric jaccard\n",
      "  warnings.warn(msg, DataConversionWarning)\n"
     ]
    }
   ],
   "source": [
    "# for loop to run through various tfidf vectorizer params and distance metrics\n",
    "for metric_name, metric_func in distance_metrics:\n",
    "    for tfidf_param in vectorizer_params:\n",
    "        tfidf = TfidfVectorizer(**tfidf_param)\n",
    "        tfidf_matrix = tfidf.fit_transform(games_df['description_clean'])\n",
    "        matrix = np.concatenate((tfidf_matrix.toarray(), game_tags.values), axis=1)\n",
    "        # get similarity scores for our game\n",
    "        if metric_name == 'jaccard':\n",
    "            game_sim_scores = 1 - pairwise_distances(matrix[game_idx].reshape(1, -1), matrix, metric = \"jaccard\")\n",
    "        elif metric_name == 'euclidean':\n",
    "            game_sim_scores = 1 / (1 + euclidean_distances(matrix[game_idx].reshape(1, -1), matrix))\n",
    "        else:\n",
    "            game_sim_scores = metric_func(matrix[game_idx].reshape(1, -1), matrix)\n",
    "        # sort scores\n",
    "        sorted_game_sim_scores = sorted(list(enumerate(game_sim_scores[0])), key=lambda x: x[1], reverse=True)\n",
    "        # make a dictionary with title as key and score as value\n",
    "        content_similar_scores = {indices.index[i[0]]: i[1] for i in sorted_game_sim_scores[1:21]}\n",
    "        # write results log\n",
    "        with open(title + '_tfidf.log', 'a') as f:\n",
    "            f.write(f'\\n{metric_name} {tfidf_param}\\n')\n",
    "            for key, value in content_similar_scores.items():\n",
    "                f.write(f'{key} {value}\\n')"
   ]
  },
  {
   "cell_type": "code",
   "execution_count": 18,
   "metadata": {},
   "outputs": [
    {
     "name": "stderr",
     "output_type": "stream",
     "text": [
      "/home/berry/Lighthouse/Projects/video-game-recommender-v1/vgenv/lib/python3.9/site-packages/sklearn/metrics/pairwise.py:2025: DataConversionWarning: Data was converted to boolean for metric jaccard\n",
      "  warnings.warn(msg, DataConversionWarning)\n",
      "/home/berry/Lighthouse/Projects/video-game-recommender-v1/vgenv/lib/python3.9/site-packages/sklearn/metrics/pairwise.py:2025: DataConversionWarning: Data was converted to boolean for metric jaccard\n",
      "  warnings.warn(msg, DataConversionWarning)\n",
      "/home/berry/Lighthouse/Projects/video-game-recommender-v1/vgenv/lib/python3.9/site-packages/sklearn/metrics/pairwise.py:2025: DataConversionWarning: Data was converted to boolean for metric jaccard\n",
      "  warnings.warn(msg, DataConversionWarning)\n",
      "/home/berry/Lighthouse/Projects/video-game-recommender-v1/vgenv/lib/python3.9/site-packages/sklearn/metrics/pairwise.py:2025: DataConversionWarning: Data was converted to boolean for metric jaccard\n",
      "  warnings.warn(msg, DataConversionWarning)\n",
      "/home/berry/Lighthouse/Projects/video-game-recommender-v1/vgenv/lib/python3.9/site-packages/sklearn/metrics/pairwise.py:2025: DataConversionWarning: Data was converted to boolean for metric jaccard\n",
      "  warnings.warn(msg, DataConversionWarning)\n",
      "/home/berry/Lighthouse/Projects/video-game-recommender-v1/vgenv/lib/python3.9/site-packages/sklearn/metrics/pairwise.py:2025: DataConversionWarning: Data was converted to boolean for metric jaccard\n",
      "  warnings.warn(msg, DataConversionWarning)\n",
      "/home/berry/Lighthouse/Projects/video-game-recommender-v1/vgenv/lib/python3.9/site-packages/sklearn/metrics/pairwise.py:2025: DataConversionWarning: Data was converted to boolean for metric jaccard\n",
      "  warnings.warn(msg, DataConversionWarning)\n",
      "/home/berry/Lighthouse/Projects/video-game-recommender-v1/vgenv/lib/python3.9/site-packages/sklearn/metrics/pairwise.py:2025: DataConversionWarning: Data was converted to boolean for metric jaccard\n",
      "  warnings.warn(msg, DataConversionWarning)\n",
      "/home/berry/Lighthouse/Projects/video-game-recommender-v1/vgenv/lib/python3.9/site-packages/sklearn/metrics/pairwise.py:2025: DataConversionWarning: Data was converted to boolean for metric jaccard\n",
      "  warnings.warn(msg, DataConversionWarning)\n",
      "/home/berry/Lighthouse/Projects/video-game-recommender-v1/vgenv/lib/python3.9/site-packages/sklearn/metrics/pairwise.py:2025: DataConversionWarning: Data was converted to boolean for metric jaccard\n",
      "  warnings.warn(msg, DataConversionWarning)\n",
      "/home/berry/Lighthouse/Projects/video-game-recommender-v1/vgenv/lib/python3.9/site-packages/sklearn/metrics/pairwise.py:2025: DataConversionWarning: Data was converted to boolean for metric jaccard\n",
      "  warnings.warn(msg, DataConversionWarning)\n",
      "/home/berry/Lighthouse/Projects/video-game-recommender-v1/vgenv/lib/python3.9/site-packages/sklearn/metrics/pairwise.py:2025: DataConversionWarning: Data was converted to boolean for metric jaccard\n",
      "  warnings.warn(msg, DataConversionWarning)\n"
     ]
    }
   ],
   "source": [
    "for metric_name, metric_func in distance_metrics:\n",
    "    for countvec_param in vectorizer_params:\n",
    "        countvec = CountVectorizer(**countvec_param)\n",
    "        countvec_matrix = countvec.fit_transform(games_df['description_clean'])\n",
    "        matrix = np.concatenate((countvec_matrix.toarray(), game_tags.values), axis=1)\n",
    "        if metric_name == 'jaccard':\n",
    "            game_sim_scores = 1 - pairwise_distances(matrix[game_idx].reshape(1, -1), matrix, metric = \"jaccard\")\n",
    "        elif metric_name == 'euclidean':\n",
    "            game_sim_scores = 1 / (1 + euclidean_distances(matrix[game_idx].reshape(1, -1), matrix))\n",
    "        else:\n",
    "            game_sim_scores = metric_func(matrix[game_idx].reshape(1, -1), matrix)\n",
    "        # sort scores\n",
    "        sorted_game_sim_scores = sorted(list(enumerate(game_sim_scores[0])), key=lambda x: x[1], reverse=True)\n",
    "        # make a dictionary with title as key and score as value\n",
    "        content_similar_scores = {indices.index[i[0]]: i[1] for i in sorted_game_sim_scores[1:21]}\n",
    "        \n",
    "        # write results to log\n",
    "        with open(title + '_countvec.log', 'a') as f:\n",
    "            f.write(f'\\n{metric_name} {countvec_param}\\n')\n",
    "            for key, value in content_similar_scores.items():\n",
    "                f.write(f'{key} {value}\\n')"
   ]
  }
 ],
 "metadata": {
  "kernelspec": {
   "display_name": "vgenv",
   "language": "python",
   "name": "python3"
  },
  "language_info": {
   "codemirror_mode": {
    "name": "ipython",
    "version": 3
   },
   "file_extension": ".py",
   "mimetype": "text/x-python",
   "name": "python",
   "nbconvert_exporter": "python",
   "pygments_lexer": "ipython3",
   "version": "3.9.7"
  },
  "orig_nbformat": 4
 },
 "nbformat": 4,
 "nbformat_minor": 2
}
