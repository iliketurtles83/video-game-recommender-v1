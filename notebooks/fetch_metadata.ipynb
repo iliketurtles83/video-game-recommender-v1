{
 "cells": [
  {
   "attachments": {},
   "cell_type": "markdown",
   "metadata": {},
   "source": [
    "### GAME METADATA PARSING"
   ]
  },
  {
   "cell_type": "code",
   "execution_count": null,
   "metadata": {},
   "outputs": [],
   "source": [
    "# import libraries\n",
    "import numpy as np\n",
    "import pandas as pd\n",
    "import os\n",
    "import requests as re\n",
    "import time\n",
    "from tqdm import tqdm\n",
    "import random"
   ]
  },
  {
   "cell_type": "code",
   "execution_count": null,
   "metadata": {},
   "outputs": [],
   "source": [
    "BADAPPS_PATH = '../data/bad_apps.csv'\n",
    "GAME_METADATA_PATH = '../data/steam_app_metadata.csv'\n",
    "USER_PLAYTIME_PATH = '../data/steam_playtime.csv'\n",
    "steam_api_key = os.environ['STEAM_API']\n",
    "steam_id = os.environ['STEAM_ID']"
   ]
  },
  {
   "cell_type": "code",
   "execution_count": null,
   "metadata": {},
   "outputs": [],
   "source": [
    "if os.path.exists(USER_PLAYTIME_PATH):\n",
    "    playtime_df = pd.read_csv(USER_PLAYTIME_PATH)\n",
    "else:\n",
    "    playtime_df = pd.DataFrame(columns = ['appid', 'steam_id', 'playtime_2weeks', 'playtime_forever'])\n"
   ]
  },
  {
   "cell_type": "code",
   "execution_count": null,
   "metadata": {},
   "outputs": [],
   "source": [
    "len(playtime_df['appid'].unique())"
   ]
  },
  {
   "cell_type": "code",
   "execution_count": null,
   "metadata": {},
   "outputs": [],
   "source": [
    "# make dataframe of unique appids from playtime_df\n",
    "appid_df = pd.DataFrame(playtime_df['appid'].unique(), columns=['appid'])"
   ]
  },
  {
   "cell_type": "code",
   "execution_count": null,
   "metadata": {},
   "outputs": [],
   "source": [
    "# create an app df with columns appid, name, description, developr, publisher, metascore, genres\n",
    "if os.path.exists(GAME_METADATA_PATH):\n",
    "    app_df = pd.read_csv(GAME_METADATA_PATH)\n",
    "else:\n",
    "    app_df = pd.DataFrame(columns = ['appid', 'name', 'description', 'developer', 'publisher', 'categories', 'genres'])"
   ]
  },
  {
   "cell_type": "code",
   "execution_count": null,
   "metadata": {},
   "outputs": [],
   "source": [
    "# keep a tally of appids that dont work out during parsing\n",
    "if os.path.exists(BADAPPS_PATH):\n",
    "    badapps_df = pd.read_csv(BADAPPS_PATH)\n",
    "else:\n",
    "    badapps_df = pd.DataFrame(columns=['appid'])"
   ]
  },
  {
   "cell_type": "code",
   "execution_count": null,
   "metadata": {},
   "outputs": [],
   "source": [
    "len(app_df)"
   ]
  },
  {
   "cell_type": "code",
   "execution_count": null,
   "metadata": {},
   "outputs": [],
   "source": [
    "len(badapps_df)"
   ]
  },
  {
   "cell_type": "code",
   "execution_count": null,
   "metadata": {},
   "outputs": [],
   "source": [
    "# set up url and params for app data\n",
    "app_url = 'https://store.steampowered.com/api/appdetails?appids='\n",
    "app_url_params = {'key': steam_api_key, 'format': 'json'}"
   ]
  },
  {
   "attachments": {},
   "cell_type": "markdown",
   "metadata": {},
   "source": [
    "### Get Steam app details loop"
   ]
  },
  {
   "cell_type": "code",
   "execution_count": null,
   "metadata": {},
   "outputs": [],
   "source": [
    "# loop for getting game metadata, takes over a day\n",
    "# time.sleep(4) did not give me any 429's. Maybe even 3 seconds would work?\n",
    "for appid in tqdm(appid_df['appid']):\n",
    "    appid = str(appid)\n",
    "    req_url = app_url + appid\n",
    "    # check if appid already in app_df\n",
    "    if int(appid) not in app_df['appid'].values and int(appid) not in badapps_df['appid'].values:\n",
    "        url_request = re.get(req_url, params=app_url_params)\n",
    "        time.sleep(4)\n",
    "        # if status_code is not 200, return\n",
    "        if url_request.status_code != 200:\n",
    "            print(url_request.status_code, end=\" \")\n",
    "        else:\n",
    "            req_json = url_request.json()\n",
    "            if req_json[appid]['success'] == True:\n",
    "                # get metadata for this app\n",
    "                name = req_json[appid]['data']['name']\n",
    "                description = req_json[appid]['data']['detailed_description']\n",
    "                # get developer if it exists\n",
    "                if 'developers' in req_json[appid]['data']:\n",
    "                    developer = req_json[appid]['data']['developers'][0]\n",
    "                else:\n",
    "                    developer = 'None'\n",
    "                publisher = req_json[appid]['data']['publishers'][0]\n",
    "                # loop through categories\n",
    "                categories = []\n",
    "                if 'categories' in req_json[appid]['data']:\n",
    "                    for category in req_json[appid]['data']['categories']:\n",
    "                        categories.append(category['description'])\n",
    "                # loop through genres\n",
    "                genres = []\n",
    "                if 'genres' in req_json[appid]['data']:\n",
    "                    for genre in req_json[appid]['data']['genres']:\n",
    "                        genres.append(genre['description'])\n",
    "                # append to dataframe\n",
    "                app_df = app_df.append({'appid': int(appid),\n",
    "                                        'name': name,\n",
    "                                        'description': description,\n",
    "                                        'developer': developer,\n",
    "                                        'publisher': publisher,\n",
    "                                        'categories': categories,\n",
    "                                        'genres': genres},\n",
    "                                        ignore_index=True)\n",
    "            else:\n",
    "                # add to badapps_df list\n",
    "                badapps_df = badapps_df.append({'appid': int(appid)}, ignore_index=True)"
   ]
  },
  {
   "cell_type": "code",
   "execution_count": null,
   "metadata": {},
   "outputs": [],
   "source": [
    "# save app_df to csv\n",
    "app_df.to_csv('../data/steam_app_metadata.csv', index=False)"
   ]
  },
  {
   "cell_type": "code",
   "execution_count": null,
   "metadata": {},
   "outputs": [],
   "source": [
    "badapps_df.to_csv('../data/bad_apps.csv', index=False)"
   ]
  }
 ],
 "metadata": {
  "kernelspec": {
   "display_name": "base",
   "language": "python",
   "name": "python3"
  },
  "language_info": {
   "codemirror_mode": {
    "name": "ipython",
    "version": 3
   },
   "file_extension": ".py",
   "mimetype": "text/x-python",
   "name": "python",
   "nbconvert_exporter": "python",
   "pygments_lexer": "ipython3",
   "version": "3.9.7"
  },
  "orig_nbformat": 4,
  "vscode": {
   "interpreter": {
    "hash": "4a3c54e841fe8ed729f88f1a4dbf5907a70c4a9986278aeeef34dd666b803d5d"
   }
  }
 },
 "nbformat": 4,
 "nbformat_minor": 2
}
