{
 "cells": [
  {
   "cell_type": "code",
   "execution_count": null,
   "id": "122f13ba-ba93-48c8-9ca5-a6bc966f85e0",
   "metadata": {},
   "outputs": [],
   "source": [
    "# process the full game list json file downloaded from steam\n",
    "# https://api.steampowered.com/ISteamApps/GetAppList/v2/?"
   ]
  },
  {
   "cell_type": "code",
   "execution_count": null,
   "id": "d93310e4-cdcd-4388-bfda-ad272c579d2b",
   "metadata": {},
   "outputs": [],
   "source": [
    "# import libraries\n",
    "import json\n",
    "import pandas as pd"
   ]
  },
  {
   "cell_type": "code",
   "execution_count": null,
   "id": "5b9aa669-8419-4495-9f92-4a1b73d9f20b",
   "metadata": {},
   "outputs": [],
   "source": [
    "f = open('../data/steam_games.json')"
   ]
  },
  {
   "cell_type": "code",
   "execution_count": null,
   "id": "ab4fcf81-6f6f-4087-b67f-c6ee42892ac9",
   "metadata": {},
   "outputs": [],
   "source": [
    "data = json.load(f)"
   ]
  },
  {
   "cell_type": "code",
   "execution_count": null,
   "id": "100c0adf-c51d-43be-bf76-9211c9228398",
   "metadata": {},
   "outputs": [],
   "source": [
    "df = pd.DataFrame(data['applist']['apps'])"
   ]
  },
  {
   "cell_type": "code",
   "execution_count": null,
   "id": "9f375a9b-e858-4629-8fb1-dac554d82810",
   "metadata": {},
   "outputs": [],
   "source": [
    "# save dataframe to csv\n",
    "df.to_csv('../data/steam_games_full_list.csv', index=False)"
   ]
  },
  {
   "cell_type": "code",
   "execution_count": null,
   "id": "87e545d4-9ce6-4d4a-af74-39e386814075",
   "metadata": {},
   "outputs": [],
   "source": [
    "df.head()"
   ]
  },
  {
   "cell_type": "code",
   "execution_count": null,
   "id": "a0bc282d-3522-423d-bdf6-451654c18922",
   "metadata": {},
   "outputs": [],
   "source": []
  }
 ],
 "metadata": {
  "kernelspec": {
   "display_name": "vgenv",
   "language": "python",
   "name": "python3"
  },
  "language_info": {
   "codemirror_mode": {
    "name": "ipython",
    "version": 3
   },
   "file_extension": ".py",
   "mimetype": "text/x-python",
   "name": "python",
   "nbconvert_exporter": "python",
   "pygments_lexer": "ipython3",
   "version": "3.9.7 (default, Sep 16 2021, 13:09:58) \n[GCC 7.5.0]"
  },
  "vscode": {
   "interpreter": {
    "hash": "e001bd8958d257f2b8a5f22964dbb72a9c6d26505f9599b23f40d21e591583c3"
   }
  }
 },
 "nbformat": 4,
 "nbformat_minor": 5
}
