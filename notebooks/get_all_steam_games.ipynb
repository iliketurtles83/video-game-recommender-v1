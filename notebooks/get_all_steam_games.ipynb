{
 "cells": [
  {
   "cell_type": "markdown",
   "id": "91921d42",
   "metadata": {},
   "source": [
    "### Get the full list of Steam games from their website\n",
    "It is not used for any of the models but could be handy at some point."
   ]
  },
  {
   "cell_type": "code",
   "execution_count": null,
   "id": "122f13ba-ba93-48c8-9ca5-a6bc966f85e0",
   "metadata": {},
   "outputs": [],
   "source": [
    "# process the full game list json file downloaded from steam\n",
    "# https://api.steampowered.com/ISteamApps/GetAppList/v2/?"
   ]
  },
  {
   "cell_type": "code",
   "execution_count": 1,
   "id": "d93310e4-cdcd-4388-bfda-ad272c579d2b",
   "metadata": {},
   "outputs": [],
   "source": [
    "import json\n",
    "import urllib\n",
    "import pandas as pd"
   ]
  },
  {
   "cell_type": "code",
   "execution_count": 2,
   "id": "792a353b",
   "metadata": {},
   "outputs": [],
   "source": [
    "list_url = 'https://api.steampowered.com/ISteamApps/GetAppList/v2/?'"
   ]
  },
  {
   "cell_type": "code",
   "execution_count": 3,
   "id": "3505da8a",
   "metadata": {},
   "outputs": [],
   "source": [
    "# download the json file\n",
    "with urllib.request.urlopen(list_url) as url:\n",
    "    data = json.loads(url.read().decode())\n"
   ]
  },
  {
   "cell_type": "code",
   "execution_count": 4,
   "id": "100c0adf-c51d-43be-bf76-9211c9228398",
   "metadata": {},
   "outputs": [],
   "source": [
    "df = pd.DataFrame(data['applist']['apps'])"
   ]
  },
  {
   "cell_type": "code",
   "execution_count": 7,
   "id": "87e545d4-9ce6-4d4a-af74-39e386814075",
   "metadata": {},
   "outputs": [
    {
     "data": {
      "text/html": [
       "<div>\n",
       "<style scoped>\n",
       "    .dataframe tbody tr th:only-of-type {\n",
       "        vertical-align: middle;\n",
       "    }\n",
       "\n",
       "    .dataframe tbody tr th {\n",
       "        vertical-align: top;\n",
       "    }\n",
       "\n",
       "    .dataframe thead th {\n",
       "        text-align: right;\n",
       "    }\n",
       "</style>\n",
       "<table border=\"1\" class=\"dataframe\">\n",
       "  <thead>\n",
       "    <tr style=\"text-align: right;\">\n",
       "      <th></th>\n",
       "      <th>appid</th>\n",
       "      <th>name</th>\n",
       "    </tr>\n",
       "  </thead>\n",
       "  <tbody>\n",
       "    <tr>\n",
       "      <th>0</th>\n",
       "      <td>1941401</td>\n",
       "      <td></td>\n",
       "    </tr>\n",
       "    <tr>\n",
       "      <th>1</th>\n",
       "      <td>2170321</td>\n",
       "      <td></td>\n",
       "    </tr>\n",
       "    <tr>\n",
       "      <th>2</th>\n",
       "      <td>1825161</td>\n",
       "      <td></td>\n",
       "    </tr>\n",
       "    <tr>\n",
       "      <th>3</th>\n",
       "      <td>1897482</td>\n",
       "      <td></td>\n",
       "    </tr>\n",
       "    <tr>\n",
       "      <th>4</th>\n",
       "      <td>2112761</td>\n",
       "      <td></td>\n",
       "    </tr>\n",
       "  </tbody>\n",
       "</table>\n",
       "</div>"
      ],
      "text/plain": [
       "     appid name\n",
       "0  1941401     \n",
       "1  2170321     \n",
       "2  1825161     \n",
       "3  1897482     \n",
       "4  2112761     "
      ]
     },
     "execution_count": 7,
     "metadata": {},
     "output_type": "execute_result"
    }
   ],
   "source": [
    "df.head()"
   ]
  },
  {
   "cell_type": "code",
   "execution_count": null,
   "id": "9f375a9b-e858-4629-8fb1-dac554d82810",
   "metadata": {},
   "outputs": [],
   "source": [
    "# save dataframe to csv\n",
    "df.to_csv('../data/steam_games_full_list.csv', index=False)"
   ]
  },
  {
   "cell_type": "code",
   "execution_count": null,
   "id": "a0bc282d-3522-423d-bdf6-451654c18922",
   "metadata": {},
   "outputs": [],
   "source": []
  }
 ],
 "metadata": {
  "kernelspec": {
   "display_name": "vgenv",
   "language": "python",
   "name": "python3"
  },
  "language_info": {
   "codemirror_mode": {
    "name": "ipython",
    "version": 3
   },
   "file_extension": ".py",
   "mimetype": "text/x-python",
   "name": "python",
   "nbconvert_exporter": "python",
   "pygments_lexer": "ipython3",
   "version": "3.9.18"
  },
  "vscode": {
   "interpreter": {
    "hash": "e001bd8958d257f2b8a5f22964dbb72a9c6d26505f9599b23f40d21e591583c3"
   }
  }
 },
 "nbformat": 4,
 "nbformat_minor": 5
}
