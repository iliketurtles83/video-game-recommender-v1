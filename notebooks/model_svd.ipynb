{
 "cells": [
  {
   "attachments": {},
   "cell_type": "markdown",
   "metadata": {},
   "source": [
    "### Singular Value Decomposition for user playtimes"
   ]
  },
  {
   "cell_type": "code",
   "execution_count": 1,
   "metadata": {},
   "outputs": [],
   "source": [
    "import pandas as pd\n",
    "import numpy as np\n",
    "from sklearn.preprocessing import StandardScaler\n",
    "from surprise import SVDpp, BaselineOnly\n",
    "from surprise import Reader, Dataset\n",
    "from surprise import accuracy\n",
    "from surprise.model_selection import GridSearchCV\n",
    "from surprise.model_selection import train_test_split\n",
    "import pickle"
   ]
  },
  {
   "cell_type": "code",
   "execution_count": 6,
   "metadata": {},
   "outputs": [],
   "source": [
    "users_df = pd.read_csv('../data/steam_playtime_clean.csv')\n",
    "games_df = pd.read_csv('../data/steam_app_metadata.csv')"
   ]
  },
  {
   "cell_type": "code",
   "execution_count": 7,
   "metadata": {},
   "outputs": [],
   "source": [
    "# random subset of users 25% of the data in case you want to run gridsearch faster\n",
    "users_df = users_df.sample(frac=0.10, random_state=42)"
   ]
  },
  {
   "cell_type": "code",
   "execution_count": 4,
   "metadata": {},
   "outputs": [],
   "source": [
    "# use StandardScaler to scale user playtimes\n",
    "scaler = StandardScaler()\n",
    "users_df['playtime_forever'] = scaler.fit_transform(users_df['playtime_forever'].values.reshape(-1, 1))"
   ]
  },
  {
   "cell_type": "code",
   "execution_count": 4,
   "metadata": {},
   "outputs": [],
   "source": [
    "# use normalize instead of standardscaler\n",
    "min_playtime = users_df['playtime_forever'].min()\n",
    "max_playtime = users_df['playtime_forever'].max()\n",
    "users_df['playtime_forever'] = (users_df['playtime_forever'] - min_playtime) / (max_playtime - min_playtime)"
   ]
  },
  {
   "cell_type": "code",
   "execution_count": 6,
   "metadata": {},
   "outputs": [],
   "source": [
    "# instantiate surprise.Reader()\n",
    "reader = Reader()\n",
    "\n",
    "# make surprise dataset\n",
    "data = Dataset.load_from_df(users_df[['steam_id', 'appid', 'playtime_forever']], reader)"
   ]
  },
  {
   "cell_type": "code",
   "execution_count": 7,
   "metadata": {},
   "outputs": [],
   "source": [
    "# make a training and test set\n",
    "trainset, testset = train_test_split(data, test_size=0.25)"
   ]
  },
  {
   "attachments": {},
   "cell_type": "markdown",
   "metadata": {},
   "source": [
    "### Hyperparameter tuning with gridsearch"
   ]
  },
  {
   "cell_type": "code",
   "execution_count": 10,
   "metadata": {},
   "outputs": [],
   "source": [
    "# do gridsearch on svdpp\n",
    "param_grid = {'n_factors': [150, 200], 'n_epochs': [40], 'lr_all': [0.005], 'reg_all': [0.2]}\n",
    "gs = GridSearchCV(SVDpp, param_grid, measures=['rmse', 'mae'], cv=3, n_jobs=-2, joblib_verbose=5)"
   ]
  },
  {
   "cell_type": "code",
   "execution_count": 11,
   "metadata": {},
   "outputs": [
    {
     "name": "stderr",
     "output_type": "stream",
     "text": [
      "[Parallel(n_jobs=-2)]: Using backend LokyBackend with 11 concurrent workers.\n",
      "[Parallel(n_jobs=-2)]: Done   3 out of   6 | elapsed:  9.6min remaining:  9.6min\n",
      "[Parallel(n_jobs=-2)]: Done   6 out of   6 | elapsed: 12.7min finished\n"
     ]
    }
   ],
   "source": [
    "gs.fit(data)"
   ]
  },
  {
   "cell_type": "code",
   "execution_count": 12,
   "metadata": {},
   "outputs": [
    {
     "data": {
      "text/plain": [
       "{'rmse': {'n_factors': 150, 'n_epochs': 40, 'lr_all': 0.005, 'reg_all': 0.2},\n",
       " 'mae': {'n_factors': 200, 'n_epochs': 40, 'lr_all': 0.005, 'reg_all': 0.2}}"
      ]
     },
     "execution_count": 12,
     "metadata": {},
     "output_type": "execute_result"
    }
   ],
   "source": [
    "gs.best_params"
   ]
  },
  {
   "attachments": {},
   "cell_type": "markdown",
   "metadata": {},
   "source": [
    "prev gs run\n",
    "\n",
    "'rmse': {'n_factors': 150, 'n_epochs': 40, 'lr_all': 0.005, 'reg_all': 0.2},\n",
    "\n",
    "'mae': {'n_factors': 150, 'n_epochs': 40, 'lr_all': 0.005, 'reg_all': 0.2}}"
   ]
  },
  {
   "cell_type": "code",
   "execution_count": 27,
   "metadata": {},
   "outputs": [
    {
     "data": {
      "text/plain": [
       "{'rmse': <surprise.prediction_algorithms.matrix_factorization.SVDpp at 0x7f4e20b3dc10>,\n",
       " 'mae': <surprise.prediction_algorithms.matrix_factorization.SVDpp at 0x7f4dc5ea7280>}"
      ]
     },
     "execution_count": 27,
     "metadata": {},
     "output_type": "execute_result"
    }
   ],
   "source": [
    "gs.best_estimator"
   ]
  },
  {
   "attachments": {},
   "cell_type": "markdown",
   "metadata": {},
   "source": [
    "### SVD"
   ]
  },
  {
   "cell_type": "code",
   "execution_count": 9,
   "metadata": {},
   "outputs": [],
   "source": [
    "svdpp = SVDpp(n_factors=150, n_epochs=40, lr_all=0.005, reg_all=0.2)"
   ]
  },
  {
   "cell_type": "code",
   "execution_count": 19,
   "metadata": {},
   "outputs": [],
   "source": [
    "predictions = svdpp.fit(trainset).test(testset)"
   ]
  },
  {
   "cell_type": "code",
   "execution_count": 20,
   "metadata": {},
   "outputs": [
    {
     "name": "stdout",
     "output_type": "stream",
     "text": [
      "RMSE: 0.9886\n",
      "MAE:  0.9873\n",
      "0.9886230537760803 0.9872876897261794\n"
     ]
    }
   ],
   "source": [
    "# test accuracy\n",
    "print(accuracy.rmse(predictions), accuracy.mae(predictions))"
   ]
  },
  {
   "cell_type": "code",
   "execution_count": 8,
   "metadata": {},
   "outputs": [],
   "source": [
    "fullset = data.build_full_trainset()"
   ]
  },
  {
   "cell_type": "code",
   "execution_count": 10,
   "metadata": {},
   "outputs": [
    {
     "data": {
      "text/plain": [
       "<surprise.prediction_algorithms.matrix_factorization.SVDpp at 0x7f1f232d9b50>"
      ]
     },
     "execution_count": 10,
     "metadata": {},
     "output_type": "execute_result"
    }
   ],
   "source": [
    "svdpp.fit(fullset)"
   ]
  },
  {
   "cell_type": "code",
   "execution_count": 14,
   "metadata": {},
   "outputs": [
    {
     "data": {
      "text/plain": [
       "Prediction(uid=76561197960265728, iid=570, r_ui=None, est=1, details={'was_impossible': False})"
      ]
     },
     "execution_count": 14,
     "metadata": {},
     "output_type": "execute_result"
    }
   ],
   "source": [
    "svdpp.predict(76561197960265728, 570)"
   ]
  },
  {
   "cell_type": "code",
   "execution_count": 11,
   "metadata": {},
   "outputs": [],
   "source": [
    "# pickle the svdpp model because it takes a long time to train\n",
    "with open('../models/svdpp_model.pkl', 'wb') as f:\n",
    "    pickle.dump(svdpp, f)"
   ]
  },
  {
   "attachments": {},
   "cell_type": "markdown",
   "metadata": {},
   "source": [
    "### Non-user based SVD\n",
    "using https://alyssaq.github.io/2015/20150426-simple-movie-recommender-using-svd/"
   ]
  },
  {
   "cell_type": "code",
   "execution_count": 8,
   "metadata": {},
   "outputs": [],
   "source": [
    "user_data = users_df[['steam_id', 'appid', 'playtime_forever']]\n",
    "game_data = games_df[['appid', 'name', 'genres']]"
   ]
  },
  {
   "cell_type": "code",
   "execution_count": 9,
   "metadata": {},
   "outputs": [
    {
     "ename": "ValueError",
     "evalue": "array is too big; `arr.size * arr.dtype.itemsize` is larger than the maximum possible size.",
     "output_type": "error",
     "traceback": [
      "\u001b[0;31m---------------------------------------------------------------------------\u001b[0m",
      "\u001b[0;31mValueError\u001b[0m                                Traceback (most recent call last)",
      "Cell \u001b[0;32mIn[9], line 2\u001b[0m\n\u001b[1;32m      1\u001b[0m \u001b[39m# Create playtime matrix\u001b[39;00m\n\u001b[0;32m----> 2\u001b[0m playtime_mat \u001b[39m=\u001b[39m np\u001b[39m.\u001b[39;49mndarray(\n\u001b[1;32m      3\u001b[0m     shape\u001b[39m=\u001b[39;49m(np\u001b[39m.\u001b[39;49mmax(user_data\u001b[39m.\u001b[39;49mappid\u001b[39m.\u001b[39;49mvalues), np\u001b[39m.\u001b[39;49mmax(user_data\u001b[39m.\u001b[39;49msteam_id\u001b[39m.\u001b[39;49mvalues)),\n\u001b[1;32m      4\u001b[0m     dtype\u001b[39m=\u001b[39;49mnp\u001b[39m.\u001b[39;49muint8)\n\u001b[1;32m      5\u001b[0m playtime_mat[user_data\u001b[39m.\u001b[39mappid\u001b[39m.\u001b[39mvalues\u001b[39m-\u001b[39m\u001b[39m1\u001b[39m, user_data\u001b[39m.\u001b[39msteam_id\u001b[39m.\u001b[39mvalues\u001b[39m-\u001b[39m\u001b[39m1\u001b[39m] \u001b[39m=\u001b[39m user_data\u001b[39m.\u001b[39mplaytime_forever\u001b[39m.\u001b[39mvalues\n",
      "\u001b[0;31mValueError\u001b[0m: array is too big; `arr.size * arr.dtype.itemsize` is larger than the maximum possible size."
     ]
    }
   ],
   "source": [
    "# Create playtime matrix\n",
    "playtime_mat = np.ndarray(\n",
    "    shape=(np.max(user_data.appid.values), np.max(user_data.steam_id.values)),\n",
    "    dtype=np.uint8)\n",
    "playtime_mat[user_data.appid.values-1, user_data.steam_id.values-1] = user_data.playtime_forever.values\n"
   ]
  },
  {
   "cell_type": "code",
   "execution_count": null,
   "metadata": {},
   "outputs": [],
   "source": [
    "# normalize matrix\n",
    "normalized_mat = playtime_mat - np.asarray([(np.mean(playtime_mat, 1))]).T"
   ]
  },
  {
   "cell_type": "code",
   "execution_count": null,
   "metadata": {},
   "outputs": [],
   "source": [
    "# Compute SVD\n",
    "A = normalized_mat.T / np.sqrt(playtime_mat.shape[0] - 1)\n",
    "U, S, V = np.linalg.svd(A)"
   ]
  },
  {
   "cell_type": "code",
   "execution_count": null,
   "metadata": {},
   "outputs": [],
   "source": [
    "# Calculate cosine similarity\n",
    "def top_cosine_similarity(user_data, appid, top_n=10):\n",
    "    index = appid - 1\n",
    "    query = user_data[index, :]\n",
    "    magnitude = np.sqrt(np.einsum('ij,ij->j', user_data, user_data))\n",
    "    similarity = np.dot(query, data.T) / (magnitude[index] * magnitude)\n",
    "    sort_indexes = np.argsort(-similarity)\n",
    "    return sort_indexes[:top_n]\n",
    "\n",
    "def print_similar_games(game_data, appid, top_indexes):\n",
    "    print('Recommendations for {0}: \\n'.format(\n",
    "        game_data[game_data.appid == appid].name.values[0]))\n",
    "    for id in top_indexes + 1:\n",
    "        print(game_data[game_data.appid == id].name.values[0])"
   ]
  },
  {
   "cell_type": "code",
   "execution_count": null,
   "metadata": {},
   "outputs": [],
   "source": [
    "# test and select k principal components\n",
    "k = 50\n",
    "game_id = 10\n",
    "top_n = 10\n",
    "\n",
    "sliced = V.T[:, :k]\n",
    "indexes = top_cosine_similarity(sliced, game_id, top_n)\n",
    "print_similar_games(game_data, game_id, indexes)"
   ]
  }
 ],
 "metadata": {
  "kernelspec": {
   "display_name": "vgenv",
   "language": "python",
   "name": "python3"
  },
  "language_info": {
   "codemirror_mode": {
    "name": "ipython",
    "version": 3
   },
   "file_extension": ".py",
   "mimetype": "text/x-python",
   "name": "python",
   "nbconvert_exporter": "python",
   "pygments_lexer": "ipython3",
   "version": "3.9.7"
  },
  "orig_nbformat": 4,
  "vscode": {
   "interpreter": {
    "hash": "e001bd8958d257f2b8a5f22964dbb72a9c6d26505f9599b23f40d21e591583c3"
   }
  }
 },
 "nbformat": 4,
 "nbformat_minor": 2
}
