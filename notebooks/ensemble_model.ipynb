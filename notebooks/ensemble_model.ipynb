{
 "cells": [
  {
   "cell_type": "markdown",
   "id": "b0b49732-d1f7-4bc4-ab84-915610b450f5",
   "metadata": {},
   "source": [
    "## Video Game Recommendation System based on Steam data \n",
    "### Uses a hybrid content-based and collaborative filtering approach to recommend games?"
   ]
  },
  {
   "cell_type": "code",
   "execution_count": 169,
   "id": "8f5f38da-ffa5-45f0-922d-b0e867e2210c",
   "metadata": {},
   "outputs": [],
   "source": [
    "# import libraries\n",
    "import pandas as pd\n",
    "import pickle\n",
    "from sklearn.preprocessing import StandardScaler\n",
    "from sklearn.preprocessing import RobustScaler\n",
    "from sklearn.feature_extraction.text import TfidfVectorizer\n",
    "from surprise import Reader, Dataset, KNNWithZScore\n",
    "from surprise.model_selection import cross_validate\n",
    "from surprise.model_selection import train_test_split\n",
    "from surprise.model_selection import GridSearchCV\n",
    "from surprise import accuracy\n",
    "from sklearn.metrics.pairwise import cosine_similarity"
   ]
  },
  {
   "cell_type": "code",
   "execution_count": 170,
   "id": "f5d3b57c-f639-4ddf-a348-0c3181310762",
   "metadata": {},
   "outputs": [],
   "source": [
    "# import our processed datasets\n",
    "users_df = pd.read_csv('../data/steam_playtime_clean.csv')\n",
    "games_df = pd.read_csv('../data/steam_app_metadata_clean.csv')\n",
    "# gamesinfo_df = pd.read_csv('../data/steam_gameinfo.csv')"
   ]
  },
  {
   "cell_type": "markdown",
   "id": "0ecb52ae-5db1-4051-af51-a1a18ce0f68c",
   "metadata": {},
   "source": [
    "#### COLLABORATIVE FILTERING FOR USER PLAYTIME DATA"
   ]
  },
  {
   "cell_type": "code",
   "execution_count": 171,
   "id": "10b8991d",
   "metadata": {},
   "outputs": [
    {
     "data": {
      "text/plain": [
       "19546"
      ]
     },
     "execution_count": 171,
     "metadata": {},
     "output_type": "execute_result"
    }
   ],
   "source": [
    "# get users_df unique id's\n",
    "len(users_df['appid'].unique())"
   ]
  },
  {
   "cell_type": "code",
   "execution_count": 172,
   "id": "40ba24b6",
   "metadata": {},
   "outputs": [
    {
     "data": {
      "text/plain": [
       "19546"
      ]
     },
     "execution_count": 172,
     "metadata": {},
     "output_type": "execute_result"
    }
   ],
   "source": [
    "len(games_df['appid'].unique())"
   ]
  },
  {
   "cell_type": "code",
   "execution_count": 173,
   "id": "c649aec7",
   "metadata": {},
   "outputs": [
    {
     "data": {
      "text/plain": [
       "19546"
      ]
     },
     "execution_count": 173,
     "metadata": {},
     "output_type": "execute_result"
    }
   ],
   "source": [
    "len(games_df)"
   ]
  },
  {
   "cell_type": "code",
   "execution_count": null,
   "id": "f5ec7e7f-ab41-4bc2-9fe6-3b5f294ffcdc",
   "metadata": {},
   "outputs": [],
   "source": [
    "# first do robustscaler to minimize outliers\n",
    "# scaler = RobustScaler(with_centering=True, with_scaling=True, quantile_range=(25.0, 75.0), copy=True)\n",
    "# users_df['playtime_forever'] = scaler.fit_transform(users_df['playtime_forever'].array.reshape(-1,1))"
   ]
  },
  {
   "cell_type": "code",
   "execution_count": 174,
   "id": "584860f1-5a60-438e-a714-4130169f3aac",
   "metadata": {},
   "outputs": [],
   "source": [
    "# use StandardScaler to scale user playtimes\n",
    "scaler = StandardScaler()\n",
    "users_df['playtime_forever'] = scaler.fit_transform(users_df['playtime_forever'].values.reshape(-1, 1))"
   ]
  },
  {
   "cell_type": "code",
   "execution_count": 175,
   "id": "b57aeb1b-80c6-40cb-b2f0-5b3836a8211d",
   "metadata": {},
   "outputs": [],
   "source": [
    "# instantiate surprise.Reader()\n",
    "reader = Reader()\n",
    "\n",
    "# make surprise dataset\n",
    "data = Dataset.load_from_df(users_df[['steam_id', 'appid', 'playtime_forever']], reader)"
   ]
  },
  {
   "cell_type": "code",
   "execution_count": 176,
   "id": "848c5dc1-22bf-41cd-aff3-dc5df929a102",
   "metadata": {},
   "outputs": [],
   "source": [
    "# make a training and test set\n",
    "trainset, testset = train_test_split(data, test_size=0.25)"
   ]
  },
  {
   "cell_type": "markdown",
   "id": "0a487ce3-ba02-4f74-bff5-df05341821be",
   "metadata": {},
   "source": [
    "### Collaborative Filtering: KNNWithZScore"
   ]
  },
  {
   "attachments": {},
   "cell_type": "markdown",
   "id": "28625fdd",
   "metadata": {},
   "source": [
    "#### GridSearch for KNN"
   ]
  },
  {
   "cell_type": "code",
   "execution_count": 9,
   "id": "dee9d4dc-b6c0-4298-a7da-607a0a3c9d8d",
   "metadata": {},
   "outputs": [],
   "source": [
    "# set up gridsearch param_grid for KNNWithZScore\n",
    "knn_param_grid = {'k': [600, 800]}"
   ]
  },
  {
   "cell_type": "code",
   "execution_count": 10,
   "id": "ebd9fe85-6808-441f-a40b-7cb1d51e873b",
   "metadata": {},
   "outputs": [],
   "source": [
    "grid_search = GridSearchCV(KNNWithZScore, knn_param_grid, cv=5, n_jobs=3)"
   ]
  },
  {
   "cell_type": "code",
   "execution_count": 11,
   "id": "f93ce9e5-e90f-44ae-bed5-6df72c7a9828",
   "metadata": {},
   "outputs": [
    {
     "name": "stdout",
     "output_type": "stream",
     "text": [
      "Computing the msd similarity matrix...\n",
      "Computing the msd similarity matrix...\n",
      "Computing the msd similarity matrix...\n",
      "Done computing similarity matrix.\n",
      "Done computing similarity matrix.\n",
      "Done computing similarity matrix.\n",
      "Computing the msd similarity matrix...\n",
      "Computing the msd similarity matrix...\n",
      "Computing the msd similarity matrix...\n",
      "Done computing similarity matrix.\n",
      "Done computing similarity matrix.\n",
      "Done computing similarity matrix.\n",
      "Computing the msd similarity matrix...\n",
      "Computing the msd similarity matrix...\n",
      "Computing the msd similarity matrix...\n",
      "Done computing similarity matrix.\n",
      "Done computing similarity matrix.\n",
      "Done computing similarity matrix.\n",
      "Computing the msd similarity matrix...\n",
      "Done computing similarity matrix.\n"
     ]
    }
   ],
   "source": [
    "grid_search.fit(data)"
   ]
  },
  {
   "cell_type": "code",
   "execution_count": 12,
   "id": "1ef00892-80d0-4c61-97cc-c2cddbe35a0f",
   "metadata": {},
   "outputs": [
    {
     "name": "stdout",
     "output_type": "stream",
     "text": [
      "Best params:  {'rmse': {'k': 800}, 'mae': {'k': 800}}\n"
     ]
    }
   ],
   "source": [
    "# print best params for grid search\n",
    "print('Best params: ', grid_search.best_params)"
   ]
  },
  {
   "cell_type": "code",
   "execution_count": 13,
   "id": "bde3b0ea-97ba-458f-b12a-123073c634e1",
   "metadata": {},
   "outputs": [
    {
     "name": "stdout",
     "output_type": "stream",
     "text": [
      "Score:  {'rmse': 1.412431892579643, 'mae': 1.229177014477301}\n"
     ]
    }
   ],
   "source": [
    "# print best score for grid search\n",
    "print('Score: ', grid_search.best_score)"
   ]
  },
  {
   "cell_type": "code",
   "execution_count": 177,
   "id": "8d745473-dd35-45fb-b790-4469df945736",
   "metadata": {},
   "outputs": [],
   "source": [
    "# make knn model with best params from gridsearch\n",
    "knn = KNNWithZScore(k=800, sim_options={'name': 'pearson_baseline', 'user_based': False})"
   ]
  },
  {
   "cell_type": "code",
   "execution_count": 178,
   "id": "cdd67ccd-087b-4d6a-a7f7-240c38aad310",
   "metadata": {},
   "outputs": [
    {
     "name": "stdout",
     "output_type": "stream",
     "text": [
      "Estimating biases using als...\n",
      "Computing the pearson_baseline similarity matrix...\n",
      "Done computing similarity matrix.\n"
     ]
    }
   ],
   "source": [
    "# fit the training data and test with our test set\n",
    "predictions = knn.fit(trainset).test(testset)"
   ]
  },
  {
   "cell_type": "code",
   "execution_count": 179,
   "id": "d6253e04-89d9-40fb-a107-041e3b0c5492",
   "metadata": {},
   "outputs": [
    {
     "name": "stdout",
     "output_type": "stream",
     "text": [
      "RMSE: 1.3885\n"
     ]
    },
    {
     "data": {
      "text/plain": [
       "1.3885300600603294"
      ]
     },
     "execution_count": 179,
     "metadata": {},
     "output_type": "execute_result"
    }
   ],
   "source": [
    "# get accuracy\n",
    "accuracy.rmse(predictions)"
   ]
  },
  {
   "cell_type": "code",
   "execution_count": 180,
   "id": "55c36a55-00b0-4b57-8e89-166264837cc0",
   "metadata": {},
   "outputs": [],
   "source": [
    "# build a full trainset now\n",
    "trainset = data.build_full_trainset()"
   ]
  },
  {
   "cell_type": "code",
   "execution_count": 181,
   "id": "da320a65-db35-455b-ad44-0f14d8212b9b",
   "metadata": {},
   "outputs": [],
   "source": [
    "# save model in pickle\n",
    "pickle.dump(trainset, open('../models/trainset.pkl', 'wb'))"
   ]
  },
  {
   "cell_type": "code",
   "execution_count": 182,
   "id": "503b9be7-d1c7-4c21-a4d0-89847508edbc",
   "metadata": {},
   "outputs": [],
   "source": [
    "# instantiate new knn\n",
    "knn = KNNWithZScore(k=800, sim_options={'name': 'pearson_baseline', 'user_based': False})"
   ]
  },
  {
   "cell_type": "code",
   "execution_count": 183,
   "id": "c5ef7c1d-ff85-43fc-9764-95ec6bbb517a",
   "metadata": {},
   "outputs": [
    {
     "name": "stdout",
     "output_type": "stream",
     "text": [
      "Estimating biases using als...\n",
      "Computing the pearson_baseline similarity matrix...\n",
      "Done computing similarity matrix.\n"
     ]
    },
    {
     "data": {
      "text/plain": [
       "<surprise.prediction_algorithms.knns.KNNWithZScore at 0x7fceb1e42d00>"
      ]
     },
     "execution_count": 183,
     "metadata": {},
     "output_type": "execute_result"
    }
   ],
   "source": [
    "# fit the knn\n",
    "knn.fit(trainset)"
   ]
  },
  {
   "cell_type": "code",
   "execution_count": 184,
   "id": "0a9cda8f-b4b1-48db-a838-d271c691c343",
   "metadata": {},
   "outputs": [],
   "source": [
    "# save model in pickle\n",
    "pickle.dump(knn, open('../models/knn_model.pkl', 'wb'))"
   ]
  },
  {
   "cell_type": "code",
   "execution_count": 185,
   "id": "83ecbe4d-a9ed-41f6-8d2d-5ab44323fd0c",
   "metadata": {},
   "outputs": [],
   "source": [
    "# function that takes game title and returns the inner id\n",
    "def get_innerid(title):\n",
    "    # get appid from games_df\n",
    "    appid = games_df[games_df['name'] == title]['appid'].values[0]\n",
    "    inner_id = trainset.to_inner_iid(appid)\n",
    "    return inner_id"
   ]
  },
  {
   "cell_type": "code",
   "execution_count": 186,
   "id": "a9b660de-3341-4729-838d-852dbadb8f8f",
   "metadata": {},
   "outputs": [],
   "source": [
    "# function that takes innerid and returns the game title\n",
    "def get_title(inner_id):\n",
    "    steam_id = trainset.to_raw_iid(inner_id)\n",
    "    title = games_df[games_df['appid'] == steam_id].iloc[0]['name']\n",
    "    return title"
   ]
  },
  {
   "cell_type": "code",
   "execution_count": 187,
   "id": "5fddbdf4-597d-40cc-be91-45c8a80e95e5",
   "metadata": {},
   "outputs": [],
   "source": [
    "# function that takes a game title and returns 10 nearest neighbours\n",
    "def recommend_knn(title):\n",
    "    # get inner id for game\n",
    "    inner_id = get_innerid(title)\n",
    "    # get nearest neighbours\n",
    "    neighbors = knn.get_neighbors(inner_id, k=10)\n",
    "    # get game titles for those neighbours\n",
    "    titles = [get_title(i) for i in neighbors]\n",
    "    return titles"
   ]
  },
  {
   "cell_type": "code",
   "execution_count": 188,
   "id": "09e623be",
   "metadata": {},
   "outputs": [
    {
     "name": "stdout",
     "output_type": "stream",
     "text": [
      "Computing the pearson_baseline similarity matrix...\n",
      "Done computing similarity matrix.\n"
     ]
    }
   ],
   "source": [
    "knn_similarities = knn.compute_similarities()"
   ]
  },
  {
   "cell_type": "code",
   "execution_count": 189,
   "id": "006df736",
   "metadata": {},
   "outputs": [],
   "source": [
    "# recommend function for content\n",
    "def get_knn_similar(title, knn_sim = knn_similarities):\n",
    "    \n",
    "    idx = get_innerid(title)\n",
    "    \n",
    "    # get pairwise similarity scores of all games w.r.t to our game\n",
    "    sim_scores = list(enumerate(knn_sim[idx]))\n",
    "    \n",
    "    # sort scores based on similarity\n",
    "    sorted_scores = sorted(sim_scores, key=lambda x: x[1], reverse=True)\n",
    "    \n",
    "    # get scores for 10 similar games, not including the game itself\n",
    "    sorted_scores = sorted_scores[1:11]\n",
    "\n",
    "    # get titles for sorted_scores\n",
    "    game_titles = [get_title(i[0]) for i in sorted_scores]\n",
    "\n",
    "    return game_titles"
   ]
  },
  {
   "cell_type": "code",
   "execution_count": 190,
   "id": "5505025a",
   "metadata": {},
   "outputs": [
    {
     "data": {
      "text/plain": [
       "['Zeno Clash',\n",
       " 'Gone Home',\n",
       " 'LIMBO',\n",
       " 'Brothers - A Tale of Two Sons',\n",
       " 'Enclave',\n",
       " 'Betrayer',\n",
       " 'Deadlight',\n",
       " 'Stealth Inc 2: A Game of Clones',\n",
       " 'A Story About My Uncle',\n",
       " 'The Ship: Murder Party']"
      ]
     },
     "execution_count": 190,
     "metadata": {},
     "output_type": "execute_result"
    }
   ],
   "source": [
    "get_knn_similar('System Shock 2')"
   ]
  },
  {
   "cell_type": "code",
   "execution_count": 191,
   "id": "948bb94d-f235-4265-8d3a-6b1e0e6c9c6e",
   "metadata": {},
   "outputs": [
    {
     "data": {
      "text/plain": [
       "['Zeno Clash',\n",
       " 'Gone Home',\n",
       " 'LIMBO',\n",
       " 'Brothers - A Tale of Two Sons',\n",
       " 'Enclave',\n",
       " 'Betrayer',\n",
       " 'Deadlight',\n",
       " 'Stealth Inc 2: A Game of Clones',\n",
       " 'A Story About My Uncle',\n",
       " 'The Ship: Murder Party']"
      ]
     },
     "execution_count": 191,
     "metadata": {},
     "output_type": "execute_result"
    }
   ],
   "source": [
    "# test run\n",
    "recommend_knn('System Shock 2')"
   ]
  },
  {
   "cell_type": "markdown",
   "id": "4a6edc3f-faed-4f6a-8472-32350e354b52",
   "metadata": {},
   "source": [
    "### CONTENT-BASED FILTERING FOR GAME DATA"
   ]
  },
  {
   "cell_type": "code",
   "execution_count": 192,
   "id": "17252e1d",
   "metadata": {},
   "outputs": [],
   "source": [
    "# instantiate tfidfvectorizer\n",
    "tfidf = TfidfVectorizer(max_features=1500, lowercase=False, min_df=5, ngram_range=(1,3))"
   ]
  },
  {
   "cell_type": "code",
   "execution_count": 193,
   "id": "ae838a0c",
   "metadata": {},
   "outputs": [
    {
     "data": {
      "text/plain": [
       "(19546, 80)"
      ]
     },
     "execution_count": 193,
     "metadata": {},
     "output_type": "execute_result"
    }
   ],
   "source": [
    "games_df.shape"
   ]
  },
  {
   "cell_type": "code",
   "execution_count": 194,
   "id": "d99dc8f9",
   "metadata": {},
   "outputs": [],
   "source": [
    "# make description column into type string, otherwise tfidf cries\n",
    "games_df['description_clean'] = games_df['description_clean'].astype(str)"
   ]
  },
  {
   "cell_type": "code",
   "execution_count": 195,
   "id": "1b78726a",
   "metadata": {},
   "outputs": [],
   "source": [
    "# fit tfidfvectorizer to description column\n",
    "tfidf_matrix = tfidf.fit_transform(games_df['description_clean'])"
   ]
  },
  {
   "cell_type": "code",
   "execution_count": 198,
   "id": "441a6283",
   "metadata": {},
   "outputs": [],
   "source": [
    "# games_df columns 5 to second last are the tags\n",
    "game_tags = games_df.iloc[:, 5:-1]"
   ]
  },
  {
   "cell_type": "code",
   "execution_count": 66,
   "id": "d79bac55",
   "metadata": {},
   "outputs": [],
   "source": [
    "# make matrix into dataframe\n",
    "tfidf_df = pd.DataFrame(tfidf_matrix.toarray(), columns=tfidf.get_feature_names_out())"
   ]
  },
  {
   "cell_type": "code",
   "execution_count": 67,
   "id": "6dfd8742",
   "metadata": {},
   "outputs": [],
   "source": [
    "# concatentate tfidf_df and game_tags\n",
    "tfidf_df = pd.concat([tfidf_df, game_tags], axis=1)"
   ]
  },
  {
   "cell_type": "code",
   "execution_count": 68,
   "id": "47ee1a21",
   "metadata": {},
   "outputs": [],
   "source": [
    "# make matrix for cosine sim\n",
    "matrix = tfidf_df.values"
   ]
  },
  {
   "cell_type": "code",
   "execution_count": 69,
   "id": "343b1bee-53a3-419b-b731-e05cb30ae8c7",
   "metadata": {},
   "outputs": [
    {
     "data": {
      "text/plain": [
       "(19546, 1574)"
      ]
     },
     "execution_count": 69,
     "metadata": {},
     "output_type": "execute_result"
    }
   ],
   "source": [
    "matrix.shape"
   ]
  },
  {
   "cell_type": "code",
   "execution_count": 70,
   "id": "94646139-38c9-4d31-b852-bc8025978650",
   "metadata": {},
   "outputs": [],
   "source": [
    "# make a cosine similarity matrix, maybe linear kernel instead?\n",
    "cosine_sim = cosine_similarity(matrix, matrix)"
   ]
  },
  {
   "cell_type": "code",
   "execution_count": 71,
   "id": "5f78b2f6-0074-43e0-adb9-55f78ddf3652",
   "metadata": {},
   "outputs": [],
   "source": [
    "# store cosine similarity matrix in pickle\n",
    "pickle.dump(cosine_sim, open('../models/cosine_sim.pkl', 'wb'))"
   ]
  },
  {
   "cell_type": "code",
   "execution_count": 72,
   "id": "6726e269-d9f0-47df-8c94-9633514229ce",
   "metadata": {},
   "outputs": [],
   "source": [
    "# Construct a reverse map of indices and game titles\n",
    "indices = pd.Series(games_df.index, index=games_df['name'])"
   ]
  },
  {
   "cell_type": "code",
   "execution_count": 73,
   "id": "635fa25f-225a-4238-b8d7-7c53abdc62fa",
   "metadata": {},
   "outputs": [],
   "source": [
    "# recommend function for content\n",
    "def recommend_content(title, cosine_sim = cosine_sim):\n",
    "    # get index for our game\n",
    "    idx = indices[title]\n",
    "    \n",
    "    # get pairwise similarity scores of all games w.r.t to our game\n",
    "    sim_scores = list(enumerate(cosine_sim[idx]))\n",
    "    \n",
    "    # sort scores based on similarity\n",
    "    sim_scores = sorted(sim_scores, key=lambda x: x[1], reverse=True)\n",
    "    \n",
    "    # get scores for 10 similar games, not including the game itself\n",
    "    sim_scores = sim_scores[1:11]\n",
    "    \n",
    "    # get the game indices\n",
    "    game_indices = [i[0] for i in sim_scores]\n",
    "    \n",
    "    # return the titles\n",
    "    return games_df['name'].iloc[game_indices].tolist()"
   ]
  },
  {
   "cell_type": "code",
   "execution_count": 75,
   "id": "4db3a3a0",
   "metadata": {},
   "outputs": [],
   "source": [
    "# calculate weighted average for knn_similarities and cosine_sim\n",
    "weighted_sim = (knn_similarities + cosine_sim) / 2\n"
   ]
  },
  {
   "cell_type": "code",
   "execution_count": 76,
   "id": "e8992929",
   "metadata": {},
   "outputs": [
    {
     "data": {
      "text/plain": [
       "(19546, 19546)"
      ]
     },
     "execution_count": 76,
     "metadata": {},
     "output_type": "execute_result"
    }
   ],
   "source": [
    "weighted_sim.shape"
   ]
  },
  {
   "cell_type": "code",
   "execution_count": 74,
   "id": "d089ed01-642c-4c18-bb19-07b2c72adb3c",
   "metadata": {},
   "outputs": [],
   "source": [
    "# function that takes a game title and returns\n",
    "def combined_recom(title):\n",
    "    # get recommended games from knn\n",
    "    knn_recom = recommend_knn(title)\n",
    "    # get recommended games from content based\n",
    "    cont_recom = recommend_content(title)\n",
    "    # print knn_recom\n",
    "    print('Similar recommendations to', title, 'based on user data:')\n",
    "    print(*knn_recom, sep='\\n')\n",
    "    print('\\nSimilar recommendations to', title, 'based on game data:')\n",
    "    print(*cont_recom, sep='\\n')\n",
    "    #list(set(knn_recom) & set(cont_recom))"
   ]
  },
  {
   "cell_type": "code",
   "execution_count": 31,
   "id": "ad82e090-9477-48c9-b03c-459971e5f7dd",
   "metadata": {},
   "outputs": [
    {
     "name": "stdout",
     "output_type": "stream",
     "text": [
      "Similar recommendations to DOOM based on user data:\n",
      "HITMAN™\n",
      "GTFO\n",
      "HITMAN™ 2\n",
      "Tom Clancy's Rainbow Six® Vegas 2\n",
      "The Escapists 2\n",
      "Ori and the Blind Forest: Definitive Edition\n",
      "POSTAL 2\n",
      "A Hat in Time\n",
      "Serious Sam 3: BFE\n",
      "Batman: Arkham City\n",
      "\n",
      "Similar recommendations to DOOM based on game data:\n",
      "Saints Row: The Third\n",
      "DOOM Eternal\n",
      "Psychonauts\n",
      "Toukiden: Kiwami\n",
      "Danganronpa Another Episode: Ultra Despair Girls\n",
      "Crash Bandicoot™ N. Sane Trilogy\n",
      "Monster Hunter: World\n",
      "UNLOVED\n",
      "NieR:Automata™\n",
      "Dead Rising® 2\n"
     ]
    }
   ],
   "source": [
    "# test run for combined\n",
    "\n",
    "title = input('Enter a game title: ')\n",
    "combined_recom(title)"
   ]
  },
  {
   "cell_type": "code",
   "execution_count": null,
   "id": "ed794440-1426-4102-b7f3-160e5aa674f1",
   "metadata": {},
   "outputs": [],
   "source": []
  }
 ],
 "metadata": {
  "kernelspec": {
   "display_name": "vgenv",
   "language": "python",
   "name": "python3"
  },
  "language_info": {
   "codemirror_mode": {
    "name": "ipython",
    "version": 3
   },
   "file_extension": ".py",
   "mimetype": "text/x-python",
   "name": "python",
   "nbconvert_exporter": "python",
   "pygments_lexer": "ipython3",
   "version": "3.9.7"
  },
  "vscode": {
   "interpreter": {
    "hash": "e001bd8958d257f2b8a5f22964dbb72a9c6d26505f9599b23f40d21e591583c3"
   }
  }
 },
 "nbformat": 4,
 "nbformat_minor": 5
}
