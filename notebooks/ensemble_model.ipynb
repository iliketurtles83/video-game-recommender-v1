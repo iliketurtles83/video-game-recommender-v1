{
 "cells": [
  {
   "cell_type": "markdown",
   "id": "b0b49732-d1f7-4bc4-ab84-915610b450f5",
   "metadata": {},
   "source": [
    "## Video Game Recommendation System based on Steam data \n",
    "### Uses a hybrid content-based and collaborative filtering approach to recommend games?"
   ]
  },
  {
   "cell_type": "code",
   "execution_count": 25,
   "id": "8f5f38da-ffa5-45f0-922d-b0e867e2210c",
   "metadata": {},
   "outputs": [],
   "source": [
    "# import libraries\n",
    "import pandas as pd\n",
    "import pickle\n",
    "from sklearn.preprocessing import StandardScaler\n",
    "from sklearn.preprocessing import RobustScaler\n",
    "from sklearn.feature_extraction.text import TfidfVectorizer\n",
    "from surprise import Reader, Dataset, KNNWithZScore\n",
    "from surprise.model_selection import cross_validate\n",
    "from surprise.model_selection import train_test_split\n",
    "from surprise.model_selection import GridSearchCV\n",
    "from surprise import accuracy\n",
    "from sklearn.metrics.pairwise import cosine_similarity"
   ]
  },
  {
   "cell_type": "code",
   "execution_count": 34,
   "id": "f5d3b57c-f639-4ddf-a348-0c3181310762",
   "metadata": {},
   "outputs": [],
   "source": [
    "# import our processed datasets\n",
    "users_df = pd.read_csv('../data/steam_playtime_clean.csv')\n",
    "games_df = pd.read_csv('../data/steam_app_metadata_clean.csv')\n",
    "gamesinfo_df = pd.read_csv('../data/steam_gameinfo.csv')"
   ]
  },
  {
   "cell_type": "markdown",
   "id": "0ecb52ae-5db1-4051-af51-a1a18ce0f68c",
   "metadata": {},
   "source": [
    "#### COLLABORATIVE FILTERING FOR USER PLAYTIME DATA"
   ]
  },
  {
   "cell_type": "code",
   "execution_count": 27,
   "id": "f5ec7e7f-ab41-4bc2-9fe6-3b5f294ffcdc",
   "metadata": {},
   "outputs": [],
   "source": [
    "# first do robustscaler to minimize outliers\n",
    "scaler = RobustScaler(with_centering=True, with_scaling=True, quantile_range=(25.0, 75.0), copy=True)\n",
    "users_df['playtime_forever'] = scaler.fit_transform(users_df['playtime_forever'].array.reshape(-1,1))"
   ]
  },
  {
   "cell_type": "code",
   "execution_count": 35,
   "id": "584860f1-5a60-438e-a714-4130169f3aac",
   "metadata": {},
   "outputs": [],
   "source": [
    "# use StandardScaler to scale user playtimes\n",
    "scaler = StandardScaler()\n",
    "users_df['playtime_forever'] = scaler.fit_transform(users_df['playtime_forever'].values.reshape(-1, 1))"
   ]
  },
  {
   "cell_type": "code",
   "execution_count": 36,
   "id": "b57aeb1b-80c6-40cb-b2f0-5b3836a8211d",
   "metadata": {},
   "outputs": [],
   "source": [
    "# instantiate surprise.Reader()\n",
    "reader = Reader()\n",
    "\n",
    "# make surprise dataset\n",
    "data = Dataset.load_from_df(users_df[['steam_id', 'appid', 'playtime_forever']], reader)"
   ]
  },
  {
   "cell_type": "code",
   "execution_count": 37,
   "id": "848c5dc1-22bf-41cd-aff3-dc5df929a102",
   "metadata": {},
   "outputs": [],
   "source": [
    "# make a training and test set\n",
    "trainset, testset = train_test_split(data, test_size=0.25)"
   ]
  },
  {
   "cell_type": "markdown",
   "id": "0a487ce3-ba02-4f74-bff5-df05341821be",
   "metadata": {},
   "source": [
    "### Collaborative Filtering: KNNWithZScore"
   ]
  },
  {
   "cell_type": "code",
   "execution_count": 53,
   "id": "dee9d4dc-b6c0-4298-a7da-607a0a3c9d8d",
   "metadata": {},
   "outputs": [],
   "source": [
    "# set up gridsearch param_grid for KNNWithZScore\n",
    "knn_param_grid = {'k': [100, 200, 400, 500]}"
   ]
  },
  {
   "cell_type": "code",
   "execution_count": 54,
   "id": "ebd9fe85-6808-441f-a40b-7cb1d51e873b",
   "metadata": {},
   "outputs": [],
   "source": [
    "grid_search = GridSearchCV(KNNWithZScore, knn_param_grid, cv=5)"
   ]
  },
  {
   "cell_type": "code",
   "execution_count": 55,
   "id": "f93ce9e5-e90f-44ae-bed5-6df72c7a9828",
   "metadata": {},
   "outputs": [
    {
     "name": "stdout",
     "output_type": "stream",
     "text": [
      "Computing the msd similarity matrix...\n",
      "Done computing similarity matrix.\n",
      "Computing the msd similarity matrix...\n",
      "Done computing similarity matrix.\n",
      "Computing the msd similarity matrix...\n",
      "Done computing similarity matrix.\n",
      "Computing the msd similarity matrix...\n",
      "Done computing similarity matrix.\n",
      "Computing the msd similarity matrix...\n",
      "Done computing similarity matrix.\n",
      "Computing the msd similarity matrix...\n",
      "Done computing similarity matrix.\n",
      "Computing the msd similarity matrix...\n",
      "Done computing similarity matrix.\n",
      "Computing the msd similarity matrix...\n",
      "Done computing similarity matrix.\n",
      "Computing the msd similarity matrix...\n",
      "Done computing similarity matrix.\n",
      "Computing the msd similarity matrix...\n",
      "Done computing similarity matrix.\n",
      "Computing the msd similarity matrix...\n",
      "Done computing similarity matrix.\n",
      "Computing the msd similarity matrix...\n",
      "Done computing similarity matrix.\n",
      "Computing the msd similarity matrix...\n",
      "Done computing similarity matrix.\n",
      "Computing the msd similarity matrix...\n",
      "Done computing similarity matrix.\n",
      "Computing the msd similarity matrix...\n",
      "Done computing similarity matrix.\n"
     ]
    }
   ],
   "source": [
    "grid_search.fit(data)"
   ]
  },
  {
   "cell_type": "code",
   "execution_count": 56,
   "id": "1ef00892-80d0-4c61-97cc-c2cddbe35a0f",
   "metadata": {},
   "outputs": [
    {
     "name": "stdout",
     "output_type": "stream",
     "text": [
      "Best params:  {'rmse': {'k': 400}, 'mae': {'k': 200}}\n"
     ]
    }
   ],
   "source": [
    "# print best params for grid search\n",
    "print('Best params: ', grid_search.best_params)"
   ]
  },
  {
   "cell_type": "code",
   "execution_count": 57,
   "id": "bde3b0ea-97ba-458f-b12a-123073c634e1",
   "metadata": {},
   "outputs": [
    {
     "name": "stdout",
     "output_type": "stream",
     "text": [
      "Score:  {'rmse': 1.4105205899428774, 'mae': 1.2261499106808977}\n"
     ]
    }
   ],
   "source": [
    "# print best score for grid search\n",
    "print('Score: ', grid_search.best_score)"
   ]
  },
  {
   "cell_type": "code",
   "execution_count": 58,
   "id": "8d745473-dd35-45fb-b790-4469df945736",
   "metadata": {},
   "outputs": [],
   "source": [
    "# make knn model with best params from gridsearch\n",
    "knn = KNNWithZScore(k=200, sim_options={'name': 'pearson_baseline', 'user_based': False})"
   ]
  },
  {
   "cell_type": "code",
   "execution_count": 59,
   "id": "cdd67ccd-087b-4d6a-a7f7-240c38aad310",
   "metadata": {},
   "outputs": [
    {
     "name": "stdout",
     "output_type": "stream",
     "text": [
      "Estimating biases using als...\n",
      "Computing the pearson_baseline similarity matrix...\n",
      "Done computing similarity matrix.\n"
     ]
    }
   ],
   "source": [
    "# fit the training data and test with our test set\n",
    "predictions = knn.fit(trainset).test(testset)"
   ]
  },
  {
   "cell_type": "code",
   "execution_count": 60,
   "id": "d6253e04-89d9-40fb-a107-041e3b0c5492",
   "metadata": {},
   "outputs": [
    {
     "name": "stdout",
     "output_type": "stream",
     "text": [
      "RMSE: 1.2615\n"
     ]
    },
    {
     "data": {
      "text/plain": [
       "1.261516998584724"
      ]
     },
     "execution_count": 60,
     "metadata": {},
     "output_type": "execute_result"
    }
   ],
   "source": [
    "# get accuracy\n",
    "accuracy.rmse(predictions)"
   ]
  },
  {
   "cell_type": "code",
   "execution_count": 61,
   "id": "55c36a55-00b0-4b57-8e89-166264837cc0",
   "metadata": {},
   "outputs": [],
   "source": [
    "# build a full trainset now\n",
    "trainset = data.build_full_trainset()"
   ]
  },
  {
   "cell_type": "code",
   "execution_count": 62,
   "id": "da320a65-db35-455b-ad44-0f14d8212b9b",
   "metadata": {},
   "outputs": [],
   "source": [
    "# save model in pickle\n",
    "pickle.dump(trainset, open('../models/trainset.pkl', 'wb'))"
   ]
  },
  {
   "cell_type": "code",
   "execution_count": 63,
   "id": "503b9be7-d1c7-4c21-a4d0-89847508edbc",
   "metadata": {},
   "outputs": [],
   "source": [
    "# instantiate new knn\n",
    "knn = KNNWithZScore(k=200, sim_options={'name': 'pearson_baseline', 'user_based': False})"
   ]
  },
  {
   "cell_type": "code",
   "execution_count": 64,
   "id": "c5ef7c1d-ff85-43fc-9764-95ec6bbb517a",
   "metadata": {},
   "outputs": [
    {
     "name": "stdout",
     "output_type": "stream",
     "text": [
      "Estimating biases using als...\n",
      "Computing the pearson_baseline similarity matrix...\n",
      "Done computing similarity matrix.\n"
     ]
    },
    {
     "data": {
      "text/plain": [
       "<surprise.prediction_algorithms.knns.KNNWithZScore at 0x7f9c182fdaf0>"
      ]
     },
     "execution_count": 64,
     "metadata": {},
     "output_type": "execute_result"
    }
   ],
   "source": [
    "# fit the knn\n",
    "knn.fit(trainset)"
   ]
  },
  {
   "cell_type": "code",
   "execution_count": 65,
   "id": "0a9cda8f-b4b1-48db-a838-d271c691c343",
   "metadata": {},
   "outputs": [],
   "source": [
    "# save model in pickle\n",
    "pickle.dump(knn, open('../models/knn_model.pkl', 'wb'))"
   ]
  },
  {
   "cell_type": "code",
   "execution_count": 66,
   "id": "83ecbe4d-a9ed-41f6-8d2d-5ab44323fd0c",
   "metadata": {},
   "outputs": [],
   "source": [
    "# function that takes game title and returns the inner id\n",
    "def get_appid(title):\n",
    "    steam_id = gamesinfo_df[gamesinfo_df['name'] == title].iloc[0]['appid']\n",
    "    inner_id = trainset.to_inner_iid(steam_id)\n",
    "    return inner_id"
   ]
  },
  {
   "cell_type": "code",
   "execution_count": 67,
   "id": "a9b660de-3341-4729-838d-852dbadb8f8f",
   "metadata": {},
   "outputs": [],
   "source": [
    "# function that takes innerid and returns the game title\n",
    "def get_title(appid):\n",
    "    steam_id = trainset.to_raw_iid(appid)\n",
    "    title = gamesinfo_df[gamesinfo_df['appid'] == steam_id].iloc[0]['name']\n",
    "    return title"
   ]
  },
  {
   "cell_type": "code",
   "execution_count": 68,
   "id": "5fddbdf4-597d-40cc-be91-45c8a80e95e5",
   "metadata": {},
   "outputs": [],
   "source": [
    "# function that takes a game title and returns 10 nearest neighbours\n",
    "def recommend_knn(title):\n",
    "    # get inner id for game\n",
    "    inner_id = get_appid(title)\n",
    "    # get nearest neighbours\n",
    "    neighbors = knn.get_neighbors(inner_id, k=10)\n",
    "    # get game titles for those neighbours\n",
    "    titles = [get_title(i) for i in neighbors]\n",
    "    return titles"
   ]
  },
  {
   "cell_type": "code",
   "execution_count": 69,
   "id": "948bb94d-f235-4265-8d3a-6b1e0e6c9c6e",
   "metadata": {},
   "outputs": [
    {
     "ename": "IndexError",
     "evalue": "single positional indexer is out-of-bounds",
     "output_type": "error",
     "traceback": [
      "\u001b[0;31m---------------------------------------------------------------------------\u001b[0m",
      "\u001b[0;31mIndexError\u001b[0m                                Traceback (most recent call last)",
      "Cell \u001b[0;32mIn[69], line 2\u001b[0m\n\u001b[1;32m      1\u001b[0m \u001b[39m# test run\u001b[39;00m\n\u001b[0;32m----> 2\u001b[0m recommend_knn(\u001b[39m'\u001b[39;49m\u001b[39mGRID 2\u001b[39;49m\u001b[39m'\u001b[39;49m)\n",
      "Cell \u001b[0;32mIn[68], line 8\u001b[0m, in \u001b[0;36mrecommend_knn\u001b[0;34m(title)\u001b[0m\n\u001b[1;32m      6\u001b[0m neighbors \u001b[39m=\u001b[39m knn\u001b[39m.\u001b[39mget_neighbors(inner_id, k\u001b[39m=\u001b[39m\u001b[39m10\u001b[39m)\n\u001b[1;32m      7\u001b[0m \u001b[39m# get game titles for those neighbours\u001b[39;00m\n\u001b[0;32m----> 8\u001b[0m titles \u001b[39m=\u001b[39m [get_title(i) \u001b[39mfor\u001b[39;00m i \u001b[39min\u001b[39;00m neighbors]\n\u001b[1;32m      9\u001b[0m \u001b[39mreturn\u001b[39;00m titles\n",
      "Cell \u001b[0;32mIn[68], line 8\u001b[0m, in \u001b[0;36m<listcomp>\u001b[0;34m(.0)\u001b[0m\n\u001b[1;32m      6\u001b[0m neighbors \u001b[39m=\u001b[39m knn\u001b[39m.\u001b[39mget_neighbors(inner_id, k\u001b[39m=\u001b[39m\u001b[39m10\u001b[39m)\n\u001b[1;32m      7\u001b[0m \u001b[39m# get game titles for those neighbours\u001b[39;00m\n\u001b[0;32m----> 8\u001b[0m titles \u001b[39m=\u001b[39m [get_title(i) \u001b[39mfor\u001b[39;00m i \u001b[39min\u001b[39;00m neighbors]\n\u001b[1;32m      9\u001b[0m \u001b[39mreturn\u001b[39;00m titles\n",
      "Cell \u001b[0;32mIn[67], line 4\u001b[0m, in \u001b[0;36mget_title\u001b[0;34m(appid)\u001b[0m\n\u001b[1;32m      2\u001b[0m \u001b[39mdef\u001b[39;00m \u001b[39mget_title\u001b[39m(appid):\n\u001b[1;32m      3\u001b[0m     steam_id \u001b[39m=\u001b[39m trainset\u001b[39m.\u001b[39mto_raw_iid(appid)\n\u001b[0;32m----> 4\u001b[0m     title \u001b[39m=\u001b[39m gamesinfo_df[gamesinfo_df[\u001b[39m'\u001b[39;49m\u001b[39mappid\u001b[39;49m\u001b[39m'\u001b[39;49m] \u001b[39m==\u001b[39;49m steam_id]\u001b[39m.\u001b[39;49miloc[\u001b[39m0\u001b[39;49m][\u001b[39m'\u001b[39m\u001b[39mname\u001b[39m\u001b[39m'\u001b[39m]\n\u001b[1;32m      5\u001b[0m     \u001b[39mreturn\u001b[39;00m title\n",
      "File \u001b[0;32m~/Lighthouse/Projects/video-game-recommender-v1/vgenv/lib/python3.9/site-packages/pandas/core/indexing.py:1073\u001b[0m, in \u001b[0;36m_LocationIndexer.__getitem__\u001b[0;34m(self, key)\u001b[0m\n\u001b[1;32m   1070\u001b[0m axis \u001b[39m=\u001b[39m \u001b[39mself\u001b[39m\u001b[39m.\u001b[39maxis \u001b[39mor\u001b[39;00m \u001b[39m0\u001b[39m\n\u001b[1;32m   1072\u001b[0m maybe_callable \u001b[39m=\u001b[39m com\u001b[39m.\u001b[39mapply_if_callable(key, \u001b[39mself\u001b[39m\u001b[39m.\u001b[39mobj)\n\u001b[0;32m-> 1073\u001b[0m \u001b[39mreturn\u001b[39;00m \u001b[39mself\u001b[39;49m\u001b[39m.\u001b[39;49m_getitem_axis(maybe_callable, axis\u001b[39m=\u001b[39;49maxis)\n",
      "File \u001b[0;32m~/Lighthouse/Projects/video-game-recommender-v1/vgenv/lib/python3.9/site-packages/pandas/core/indexing.py:1625\u001b[0m, in \u001b[0;36m_iLocIndexer._getitem_axis\u001b[0;34m(self, key, axis)\u001b[0m\n\u001b[1;32m   1622\u001b[0m     \u001b[39mraise\u001b[39;00m \u001b[39mTypeError\u001b[39;00m(\u001b[39m\"\u001b[39m\u001b[39mCannot index by location index with a non-integer key\u001b[39m\u001b[39m\"\u001b[39m)\n\u001b[1;32m   1624\u001b[0m \u001b[39m# validate the location\u001b[39;00m\n\u001b[0;32m-> 1625\u001b[0m \u001b[39mself\u001b[39;49m\u001b[39m.\u001b[39;49m_validate_integer(key, axis)\n\u001b[1;32m   1627\u001b[0m \u001b[39mreturn\u001b[39;00m \u001b[39mself\u001b[39m\u001b[39m.\u001b[39mobj\u001b[39m.\u001b[39m_ixs(key, axis\u001b[39m=\u001b[39maxis)\n",
      "File \u001b[0;32m~/Lighthouse/Projects/video-game-recommender-v1/vgenv/lib/python3.9/site-packages/pandas/core/indexing.py:1557\u001b[0m, in \u001b[0;36m_iLocIndexer._validate_integer\u001b[0;34m(self, key, axis)\u001b[0m\n\u001b[1;32m   1555\u001b[0m len_axis \u001b[39m=\u001b[39m \u001b[39mlen\u001b[39m(\u001b[39mself\u001b[39m\u001b[39m.\u001b[39mobj\u001b[39m.\u001b[39m_get_axis(axis))\n\u001b[1;32m   1556\u001b[0m \u001b[39mif\u001b[39;00m key \u001b[39m>\u001b[39m\u001b[39m=\u001b[39m len_axis \u001b[39mor\u001b[39;00m key \u001b[39m<\u001b[39m \u001b[39m-\u001b[39mlen_axis:\n\u001b[0;32m-> 1557\u001b[0m     \u001b[39mraise\u001b[39;00m \u001b[39mIndexError\u001b[39;00m(\u001b[39m\"\u001b[39m\u001b[39msingle positional indexer is out-of-bounds\u001b[39m\u001b[39m\"\u001b[39m)\n",
      "\u001b[0;31mIndexError\u001b[0m: single positional indexer is out-of-bounds"
     ]
    }
   ],
   "source": [
    "# test run\n",
    "recommend_knn('GRID 2')"
   ]
  },
  {
   "cell_type": "markdown",
   "id": "4a6edc3f-faed-4f6a-8472-32350e354b52",
   "metadata": {},
   "source": [
    "### CONTENT-BASED FILTERING FOR GAME DATA"
   ]
  },
  {
   "cell_type": "code",
   "execution_count": 20,
   "id": "17252e1d",
   "metadata": {},
   "outputs": [],
   "source": [
    "# instantiate tfidfvectorizer\n",
    "tfidf = TfidfVectorizer(max_features=1500, lowercase=False, min_df=5, ngram_range=(1,3))"
   ]
  },
  {
   "cell_type": "code",
   "execution_count": 22,
   "id": "d99dc8f9",
   "metadata": {},
   "outputs": [
    {
     "data": {
      "text/html": [
       "<div>\n",
       "<style scoped>\n",
       "    .dataframe tbody tr th:only-of-type {\n",
       "        vertical-align: middle;\n",
       "    }\n",
       "\n",
       "    .dataframe tbody tr th {\n",
       "        vertical-align: top;\n",
       "    }\n",
       "\n",
       "    .dataframe thead th {\n",
       "        text-align: right;\n",
       "    }\n",
       "</style>\n",
       "<table border=\"1\" class=\"dataframe\">\n",
       "  <thead>\n",
       "    <tr style=\"text-align: right;\">\n",
       "      <th></th>\n",
       "      <th>appid</th>\n",
       "      <th>Captions available</th>\n",
       "      <th>Co-op</th>\n",
       "      <th>Commentary available</th>\n",
       "      <th>Cross-Platform Multiplayer</th>\n",
       "      <th>Downloadable Content</th>\n",
       "      <th>Full controller support</th>\n",
       "      <th>Game demo</th>\n",
       "      <th>In-App Purchases</th>\n",
       "      <th>Includes Source SDK</th>\n",
       "      <th>...</th>\n",
       "      <th>xbox</th>\n",
       "      <th>year</th>\n",
       "      <th>yet</th>\n",
       "      <th>youll</th>\n",
       "      <th>youll need</th>\n",
       "      <th>young</th>\n",
       "      <th>your</th>\n",
       "      <th>youv</th>\n",
       "      <th>zombi</th>\n",
       "      <th>zone</th>\n",
       "    </tr>\n",
       "  </thead>\n",
       "  <tbody>\n",
       "    <tr>\n",
       "      <th>0</th>\n",
       "      <td>240.0</td>\n",
       "      <td>0.0</td>\n",
       "      <td>0.0</td>\n",
       "      <td>0.0</td>\n",
       "      <td>1.0</td>\n",
       "      <td>0.0</td>\n",
       "      <td>0.0</td>\n",
       "      <td>0.0</td>\n",
       "      <td>0.0</td>\n",
       "      <td>1.0</td>\n",
       "      <td>...</td>\n",
       "      <td>0.0</td>\n",
       "      <td>0.000000</td>\n",
       "      <td>0.0</td>\n",
       "      <td>0.0</td>\n",
       "      <td>0.0</td>\n",
       "      <td>0.0</td>\n",
       "      <td>0.0</td>\n",
       "      <td>0.0</td>\n",
       "      <td>0.0</td>\n",
       "      <td>0.0</td>\n",
       "    </tr>\n",
       "    <tr>\n",
       "      <th>1</th>\n",
       "      <td>300.0</td>\n",
       "      <td>0.0</td>\n",
       "      <td>0.0</td>\n",
       "      <td>0.0</td>\n",
       "      <td>1.0</td>\n",
       "      <td>0.0</td>\n",
       "      <td>0.0</td>\n",
       "      <td>0.0</td>\n",
       "      <td>0.0</td>\n",
       "      <td>1.0</td>\n",
       "      <td>...</td>\n",
       "      <td>0.0</td>\n",
       "      <td>0.000000</td>\n",
       "      <td>0.0</td>\n",
       "      <td>0.0</td>\n",
       "      <td>0.0</td>\n",
       "      <td>0.0</td>\n",
       "      <td>0.0</td>\n",
       "      <td>0.0</td>\n",
       "      <td>0.0</td>\n",
       "      <td>0.0</td>\n",
       "    </tr>\n",
       "    <tr>\n",
       "      <th>2</th>\n",
       "      <td>320.0</td>\n",
       "      <td>0.0</td>\n",
       "      <td>0.0</td>\n",
       "      <td>0.0</td>\n",
       "      <td>0.0</td>\n",
       "      <td>0.0</td>\n",
       "      <td>0.0</td>\n",
       "      <td>0.0</td>\n",
       "      <td>0.0</td>\n",
       "      <td>1.0</td>\n",
       "      <td>...</td>\n",
       "      <td>0.0</td>\n",
       "      <td>0.000000</td>\n",
       "      <td>0.0</td>\n",
       "      <td>0.0</td>\n",
       "      <td>0.0</td>\n",
       "      <td>0.0</td>\n",
       "      <td>0.0</td>\n",
       "      <td>0.0</td>\n",
       "      <td>0.0</td>\n",
       "      <td>0.0</td>\n",
       "    </tr>\n",
       "    <tr>\n",
       "      <th>3</th>\n",
       "      <td>340.0</td>\n",
       "      <td>0.0</td>\n",
       "      <td>0.0</td>\n",
       "      <td>1.0</td>\n",
       "      <td>0.0</td>\n",
       "      <td>0.0</td>\n",
       "      <td>0.0</td>\n",
       "      <td>0.0</td>\n",
       "      <td>0.0</td>\n",
       "      <td>0.0</td>\n",
       "      <td>...</td>\n",
       "      <td>0.0</td>\n",
       "      <td>0.000000</td>\n",
       "      <td>0.0</td>\n",
       "      <td>0.0</td>\n",
       "      <td>0.0</td>\n",
       "      <td>0.0</td>\n",
       "      <td>0.0</td>\n",
       "      <td>0.0</td>\n",
       "      <td>0.0</td>\n",
       "      <td>0.0</td>\n",
       "    </tr>\n",
       "    <tr>\n",
       "      <th>4</th>\n",
       "      <td>10180.0</td>\n",
       "      <td>0.0</td>\n",
       "      <td>1.0</td>\n",
       "      <td>0.0</td>\n",
       "      <td>0.0</td>\n",
       "      <td>0.0</td>\n",
       "      <td>0.0</td>\n",
       "      <td>0.0</td>\n",
       "      <td>0.0</td>\n",
       "      <td>0.0</td>\n",
       "      <td>...</td>\n",
       "      <td>0.0</td>\n",
       "      <td>0.196187</td>\n",
       "      <td>0.0</td>\n",
       "      <td>0.0</td>\n",
       "      <td>0.0</td>\n",
       "      <td>0.0</td>\n",
       "      <td>0.0</td>\n",
       "      <td>0.0</td>\n",
       "      <td>0.0</td>\n",
       "      <td>0.0</td>\n",
       "    </tr>\n",
       "    <tr>\n",
       "      <th>...</th>\n",
       "      <td>...</td>\n",
       "      <td>...</td>\n",
       "      <td>...</td>\n",
       "      <td>...</td>\n",
       "      <td>...</td>\n",
       "      <td>...</td>\n",
       "      <td>...</td>\n",
       "      <td>...</td>\n",
       "      <td>...</td>\n",
       "      <td>...</td>\n",
       "      <td>...</td>\n",
       "      <td>...</td>\n",
       "      <td>...</td>\n",
       "      <td>...</td>\n",
       "      <td>...</td>\n",
       "      <td>...</td>\n",
       "      <td>...</td>\n",
       "      <td>...</td>\n",
       "      <td>...</td>\n",
       "      <td>...</td>\n",
       "      <td>...</td>\n",
       "    </tr>\n",
       "    <tr>\n",
       "      <th>25131</th>\n",
       "      <td>1201230.0</td>\n",
       "      <td>0.0</td>\n",
       "      <td>0.0</td>\n",
       "      <td>0.0</td>\n",
       "      <td>0.0</td>\n",
       "      <td>0.0</td>\n",
       "      <td>0.0</td>\n",
       "      <td>0.0</td>\n",
       "      <td>0.0</td>\n",
       "      <td>0.0</td>\n",
       "      <td>...</td>\n",
       "      <td>NaN</td>\n",
       "      <td>NaN</td>\n",
       "      <td>NaN</td>\n",
       "      <td>NaN</td>\n",
       "      <td>NaN</td>\n",
       "      <td>NaN</td>\n",
       "      <td>NaN</td>\n",
       "      <td>NaN</td>\n",
       "      <td>NaN</td>\n",
       "      <td>NaN</td>\n",
       "    </tr>\n",
       "    <tr>\n",
       "      <th>25132</th>\n",
       "      <td>620080.0</td>\n",
       "      <td>0.0</td>\n",
       "      <td>0.0</td>\n",
       "      <td>0.0</td>\n",
       "      <td>0.0</td>\n",
       "      <td>0.0</td>\n",
       "      <td>0.0</td>\n",
       "      <td>0.0</td>\n",
       "      <td>0.0</td>\n",
       "      <td>0.0</td>\n",
       "      <td>...</td>\n",
       "      <td>NaN</td>\n",
       "      <td>NaN</td>\n",
       "      <td>NaN</td>\n",
       "      <td>NaN</td>\n",
       "      <td>NaN</td>\n",
       "      <td>NaN</td>\n",
       "      <td>NaN</td>\n",
       "      <td>NaN</td>\n",
       "      <td>NaN</td>\n",
       "      <td>NaN</td>\n",
       "    </tr>\n",
       "    <tr>\n",
       "      <th>25133</th>\n",
       "      <td>990920.0</td>\n",
       "      <td>0.0</td>\n",
       "      <td>0.0</td>\n",
       "      <td>0.0</td>\n",
       "      <td>0.0</td>\n",
       "      <td>0.0</td>\n",
       "      <td>0.0</td>\n",
       "      <td>0.0</td>\n",
       "      <td>0.0</td>\n",
       "      <td>0.0</td>\n",
       "      <td>...</td>\n",
       "      <td>NaN</td>\n",
       "      <td>NaN</td>\n",
       "      <td>NaN</td>\n",
       "      <td>NaN</td>\n",
       "      <td>NaN</td>\n",
       "      <td>NaN</td>\n",
       "      <td>NaN</td>\n",
       "      <td>NaN</td>\n",
       "      <td>NaN</td>\n",
       "      <td>NaN</td>\n",
       "    </tr>\n",
       "    <tr>\n",
       "      <th>25134</th>\n",
       "      <td>1556490.0</td>\n",
       "      <td>0.0</td>\n",
       "      <td>0.0</td>\n",
       "      <td>0.0</td>\n",
       "      <td>0.0</td>\n",
       "      <td>0.0</td>\n",
       "      <td>0.0</td>\n",
       "      <td>0.0</td>\n",
       "      <td>0.0</td>\n",
       "      <td>0.0</td>\n",
       "      <td>...</td>\n",
       "      <td>NaN</td>\n",
       "      <td>NaN</td>\n",
       "      <td>NaN</td>\n",
       "      <td>NaN</td>\n",
       "      <td>NaN</td>\n",
       "      <td>NaN</td>\n",
       "      <td>NaN</td>\n",
       "      <td>NaN</td>\n",
       "      <td>NaN</td>\n",
       "      <td>NaN</td>\n",
       "    </tr>\n",
       "    <tr>\n",
       "      <th>25135</th>\n",
       "      <td>2246300.0</td>\n",
       "      <td>0.0</td>\n",
       "      <td>0.0</td>\n",
       "      <td>0.0</td>\n",
       "      <td>0.0</td>\n",
       "      <td>0.0</td>\n",
       "      <td>0.0</td>\n",
       "      <td>0.0</td>\n",
       "      <td>0.0</td>\n",
       "      <td>0.0</td>\n",
       "      <td>...</td>\n",
       "      <td>NaN</td>\n",
       "      <td>NaN</td>\n",
       "      <td>NaN</td>\n",
       "      <td>NaN</td>\n",
       "      <td>NaN</td>\n",
       "      <td>NaN</td>\n",
       "      <td>NaN</td>\n",
       "      <td>NaN</td>\n",
       "      <td>NaN</td>\n",
       "      <td>NaN</td>\n",
       "    </tr>\n",
       "  </tbody>\n",
       "</table>\n",
       "<p>25136 rows × 1575 columns</p>\n",
       "</div>"
      ],
      "text/plain": [
       "           appid  Captions available  Co-op  Commentary available  \\\n",
       "0          240.0                 0.0    0.0                   0.0   \n",
       "1          300.0                 0.0    0.0                   0.0   \n",
       "2          320.0                 0.0    0.0                   0.0   \n",
       "3          340.0                 0.0    0.0                   1.0   \n",
       "4        10180.0                 0.0    1.0                   0.0   \n",
       "...          ...                 ...    ...                   ...   \n",
       "25131  1201230.0                 0.0    0.0                   0.0   \n",
       "25132   620080.0                 0.0    0.0                   0.0   \n",
       "25133   990920.0                 0.0    0.0                   0.0   \n",
       "25134  1556490.0                 0.0    0.0                   0.0   \n",
       "25135  2246300.0                 0.0    0.0                   0.0   \n",
       "\n",
       "       Cross-Platform Multiplayer  Downloadable Content  \\\n",
       "0                             1.0                   0.0   \n",
       "1                             1.0                   0.0   \n",
       "2                             0.0                   0.0   \n",
       "3                             0.0                   0.0   \n",
       "4                             0.0                   0.0   \n",
       "...                           ...                   ...   \n",
       "25131                         0.0                   0.0   \n",
       "25132                         0.0                   0.0   \n",
       "25133                         0.0                   0.0   \n",
       "25134                         0.0                   0.0   \n",
       "25135                         0.0                   0.0   \n",
       "\n",
       "       Full controller support  Game demo  In-App Purchases  \\\n",
       "0                          0.0        0.0               0.0   \n",
       "1                          0.0        0.0               0.0   \n",
       "2                          0.0        0.0               0.0   \n",
       "3                          0.0        0.0               0.0   \n",
       "4                          0.0        0.0               0.0   \n",
       "...                        ...        ...               ...   \n",
       "25131                      0.0        0.0               0.0   \n",
       "25132                      0.0        0.0               0.0   \n",
       "25133                      0.0        0.0               0.0   \n",
       "25134                      0.0        0.0               0.0   \n",
       "25135                      0.0        0.0               0.0   \n",
       "\n",
       "       Includes Source SDK  ...  xbox      year  yet  youll  youll need  \\\n",
       "0                      1.0  ...   0.0  0.000000  0.0    0.0         0.0   \n",
       "1                      1.0  ...   0.0  0.000000  0.0    0.0         0.0   \n",
       "2                      1.0  ...   0.0  0.000000  0.0    0.0         0.0   \n",
       "3                      0.0  ...   0.0  0.000000  0.0    0.0         0.0   \n",
       "4                      0.0  ...   0.0  0.196187  0.0    0.0         0.0   \n",
       "...                    ...  ...   ...       ...  ...    ...         ...   \n",
       "25131                  0.0  ...   NaN       NaN  NaN    NaN         NaN   \n",
       "25132                  0.0  ...   NaN       NaN  NaN    NaN         NaN   \n",
       "25133                  0.0  ...   NaN       NaN  NaN    NaN         NaN   \n",
       "25134                  0.0  ...   NaN       NaN  NaN    NaN         NaN   \n",
       "25135                  0.0  ...   NaN       NaN  NaN    NaN         NaN   \n",
       "\n",
       "       young  your  youv  zombi  zone  \n",
       "0        0.0   0.0   0.0    0.0   0.0  \n",
       "1        0.0   0.0   0.0    0.0   0.0  \n",
       "2        0.0   0.0   0.0    0.0   0.0  \n",
       "3        0.0   0.0   0.0    0.0   0.0  \n",
       "4        0.0   0.0   0.0    0.0   0.0  \n",
       "...      ...   ...   ...    ...   ...  \n",
       "25131    NaN   NaN   NaN    NaN   NaN  \n",
       "25132    NaN   NaN   NaN    NaN   NaN  \n",
       "25133    NaN   NaN   NaN    NaN   NaN  \n",
       "25134    NaN   NaN   NaN    NaN   NaN  \n",
       "25135    NaN   NaN   NaN    NaN   NaN  \n",
       "\n",
       "[25136 rows x 1575 columns]"
      ]
     },
     "execution_count": 22,
     "metadata": {},
     "output_type": "execute_result"
    }
   ],
   "source": [
    "games_df"
   ]
  },
  {
   "cell_type": "code",
   "execution_count": 21,
   "id": "1b78726a",
   "metadata": {},
   "outputs": [
    {
     "ename": "KeyError",
     "evalue": "'description'",
     "output_type": "error",
     "traceback": [
      "\u001b[0;31m---------------------------------------------------------------------------\u001b[0m",
      "\u001b[0;31mKeyError\u001b[0m                                  Traceback (most recent call last)",
      "File \u001b[0;32m~/Lighthouse/Projects/video-game-recommender-v1/vgenv/lib/python3.9/site-packages/pandas/core/indexes/base.py:3803\u001b[0m, in \u001b[0;36mIndex.get_loc\u001b[0;34m(self, key, method, tolerance)\u001b[0m\n\u001b[1;32m   3802\u001b[0m \u001b[39mtry\u001b[39;00m:\n\u001b[0;32m-> 3803\u001b[0m     \u001b[39mreturn\u001b[39;00m \u001b[39mself\u001b[39;49m\u001b[39m.\u001b[39;49m_engine\u001b[39m.\u001b[39;49mget_loc(casted_key)\n\u001b[1;32m   3804\u001b[0m \u001b[39mexcept\u001b[39;00m \u001b[39mKeyError\u001b[39;00m \u001b[39mas\u001b[39;00m err:\n",
      "File \u001b[0;32m~/Lighthouse/Projects/video-game-recommender-v1/vgenv/lib/python3.9/site-packages/pandas/_libs/index.pyx:138\u001b[0m, in \u001b[0;36mpandas._libs.index.IndexEngine.get_loc\u001b[0;34m()\u001b[0m\n",
      "File \u001b[0;32m~/Lighthouse/Projects/video-game-recommender-v1/vgenv/lib/python3.9/site-packages/pandas/_libs/index.pyx:165\u001b[0m, in \u001b[0;36mpandas._libs.index.IndexEngine.get_loc\u001b[0;34m()\u001b[0m\n",
      "File \u001b[0;32mpandas/_libs/hashtable_class_helper.pxi:5745\u001b[0m, in \u001b[0;36mpandas._libs.hashtable.PyObjectHashTable.get_item\u001b[0;34m()\u001b[0m\n",
      "File \u001b[0;32mpandas/_libs/hashtable_class_helper.pxi:5753\u001b[0m, in \u001b[0;36mpandas._libs.hashtable.PyObjectHashTable.get_item\u001b[0;34m()\u001b[0m\n",
      "\u001b[0;31mKeyError\u001b[0m: 'description'",
      "\nThe above exception was the direct cause of the following exception:\n",
      "\u001b[0;31mKeyError\u001b[0m                                  Traceback (most recent call last)",
      "Cell \u001b[0;32mIn[21], line 2\u001b[0m\n\u001b[1;32m      1\u001b[0m \u001b[39m# fit tfidfvectorizer to description column\u001b[39;00m\n\u001b[0;32m----> 2\u001b[0m tfidf_matrix \u001b[39m=\u001b[39m tfidf\u001b[39m.\u001b[39mfit_transform(games_df[\u001b[39m'\u001b[39;49m\u001b[39mdescription\u001b[39;49m\u001b[39m'\u001b[39;49m])\n",
      "File \u001b[0;32m~/Lighthouse/Projects/video-game-recommender-v1/vgenv/lib/python3.9/site-packages/pandas/core/frame.py:3805\u001b[0m, in \u001b[0;36mDataFrame.__getitem__\u001b[0;34m(self, key)\u001b[0m\n\u001b[1;32m   3803\u001b[0m \u001b[39mif\u001b[39;00m \u001b[39mself\u001b[39m\u001b[39m.\u001b[39mcolumns\u001b[39m.\u001b[39mnlevels \u001b[39m>\u001b[39m \u001b[39m1\u001b[39m:\n\u001b[1;32m   3804\u001b[0m     \u001b[39mreturn\u001b[39;00m \u001b[39mself\u001b[39m\u001b[39m.\u001b[39m_getitem_multilevel(key)\n\u001b[0;32m-> 3805\u001b[0m indexer \u001b[39m=\u001b[39m \u001b[39mself\u001b[39;49m\u001b[39m.\u001b[39;49mcolumns\u001b[39m.\u001b[39;49mget_loc(key)\n\u001b[1;32m   3806\u001b[0m \u001b[39mif\u001b[39;00m is_integer(indexer):\n\u001b[1;32m   3807\u001b[0m     indexer \u001b[39m=\u001b[39m [indexer]\n",
      "File \u001b[0;32m~/Lighthouse/Projects/video-game-recommender-v1/vgenv/lib/python3.9/site-packages/pandas/core/indexes/base.py:3805\u001b[0m, in \u001b[0;36mIndex.get_loc\u001b[0;34m(self, key, method, tolerance)\u001b[0m\n\u001b[1;32m   3803\u001b[0m     \u001b[39mreturn\u001b[39;00m \u001b[39mself\u001b[39m\u001b[39m.\u001b[39m_engine\u001b[39m.\u001b[39mget_loc(casted_key)\n\u001b[1;32m   3804\u001b[0m \u001b[39mexcept\u001b[39;00m \u001b[39mKeyError\u001b[39;00m \u001b[39mas\u001b[39;00m err:\n\u001b[0;32m-> 3805\u001b[0m     \u001b[39mraise\u001b[39;00m \u001b[39mKeyError\u001b[39;00m(key) \u001b[39mfrom\u001b[39;00m \u001b[39merr\u001b[39;00m\n\u001b[1;32m   3806\u001b[0m \u001b[39mexcept\u001b[39;00m \u001b[39mTypeError\u001b[39;00m:\n\u001b[1;32m   3807\u001b[0m     \u001b[39m# If we have a listlike key, _check_indexing_error will raise\u001b[39;00m\n\u001b[1;32m   3808\u001b[0m     \u001b[39m#  InvalidIndexError. Otherwise we fall through and re-raise\u001b[39;00m\n\u001b[1;32m   3809\u001b[0m     \u001b[39m#  the TypeError.\u001b[39;00m\n\u001b[1;32m   3810\u001b[0m     \u001b[39mself\u001b[39m\u001b[39m.\u001b[39m_check_indexing_error(key)\n",
      "\u001b[0;31mKeyError\u001b[0m: 'description'"
     ]
    }
   ],
   "source": [
    "# fit tfidfvectorizer to description column\n",
    "tfidf_matrix = tfidf.fit_transform(games_df['description'])"
   ]
  },
  {
   "cell_type": "code",
   "execution_count": null,
   "id": "d79bac55",
   "metadata": {},
   "outputs": [],
   "source": [
    "# make matrix into dataframe\n",
    "tfidf_df = pd.DataFrame(tfidf_matrix.toarray(), columns=tfidf.get_feature_names())"
   ]
  },
  {
   "cell_type": "code",
   "execution_count": null,
   "id": "47ee1a21",
   "metadata": {},
   "outputs": [],
   "source": [
    "games_df = pd.concat([games_df, tfidf_df], axis=1)"
   ]
  },
  {
   "cell_type": "code",
   "execution_count": null,
   "id": "bb5dfb1c",
   "metadata": {},
   "outputs": [],
   "source": [
    "games_df.shape"
   ]
  },
  {
   "cell_type": "code",
   "execution_count": 54,
   "id": "aadfaa13-0939-4c0b-a22b-07310bd22715",
   "metadata": {},
   "outputs": [],
   "source": [
    "# make a matrix out of games_df without the appid column\n",
    "matrix = games_df.drop(['appid'], axis=1).values"
   ]
  },
  {
   "cell_type": "code",
   "execution_count": 55,
   "id": "343b1bee-53a3-419b-b731-e05cb30ae8c7",
   "metadata": {},
   "outputs": [
    {
     "data": {
      "text/plain": [
       "(22838, 1573)"
      ]
     },
     "execution_count": 55,
     "metadata": {},
     "output_type": "execute_result"
    }
   ],
   "source": [
    "matrix.shape"
   ]
  },
  {
   "cell_type": "code",
   "execution_count": 56,
   "id": "94646139-38c9-4d31-b852-bc8025978650",
   "metadata": {},
   "outputs": [
    {
     "ename": "ValueError",
     "evalue": "Input contains NaN.",
     "output_type": "error",
     "traceback": [
      "\u001b[0;31m---------------------------------------------------------------------------\u001b[0m",
      "\u001b[0;31mValueError\u001b[0m                                Traceback (most recent call last)",
      "Cell \u001b[0;32mIn[56], line 2\u001b[0m\n\u001b[1;32m      1\u001b[0m \u001b[39m# make a cosine similarity matrix, maybe linear kernel instead?\u001b[39;00m\n\u001b[0;32m----> 2\u001b[0m cosine_sim \u001b[39m=\u001b[39m cosine_similarity(matrix, matrix)\n",
      "File \u001b[0;32m~/Lighthouse/Projects/video-game-recommender-v1/vgenv/lib/python3.9/site-packages/sklearn/metrics/pairwise.py:1393\u001b[0m, in \u001b[0;36mcosine_similarity\u001b[0;34m(X, Y, dense_output)\u001b[0m\n\u001b[1;32m   1358\u001b[0m \u001b[39m\u001b[39m\u001b[39m\"\"\"Compute cosine similarity between samples in X and Y.\u001b[39;00m\n\u001b[1;32m   1359\u001b[0m \n\u001b[1;32m   1360\u001b[0m \u001b[39mCosine similarity, or the cosine kernel, computes similarity as the\u001b[39;00m\n\u001b[0;32m   (...)\u001b[0m\n\u001b[1;32m   1389\u001b[0m \u001b[39m    Returns the cosine similarity between samples in X and Y.\u001b[39;00m\n\u001b[1;32m   1390\u001b[0m \u001b[39m\"\"\"\u001b[39;00m\n\u001b[1;32m   1391\u001b[0m \u001b[39m# to avoid recursive import\u001b[39;00m\n\u001b[0;32m-> 1393\u001b[0m X, Y \u001b[39m=\u001b[39m check_pairwise_arrays(X, Y)\n\u001b[1;32m   1395\u001b[0m X_normalized \u001b[39m=\u001b[39m normalize(X, copy\u001b[39m=\u001b[39m\u001b[39mTrue\u001b[39;00m)\n\u001b[1;32m   1396\u001b[0m \u001b[39mif\u001b[39;00m X \u001b[39mis\u001b[39;00m Y:\n",
      "File \u001b[0;32m~/Lighthouse/Projects/video-game-recommender-v1/vgenv/lib/python3.9/site-packages/sklearn/metrics/pairwise.py:146\u001b[0m, in \u001b[0;36mcheck_pairwise_arrays\u001b[0;34m(X, Y, precomputed, dtype, accept_sparse, force_all_finite, copy)\u001b[0m\n\u001b[1;32m    143\u001b[0m     dtype \u001b[39m=\u001b[39m dtype_float\n\u001b[1;32m    145\u001b[0m \u001b[39mif\u001b[39;00m Y \u001b[39mis\u001b[39;00m X \u001b[39mor\u001b[39;00m Y \u001b[39mis\u001b[39;00m \u001b[39mNone\u001b[39;00m:\n\u001b[0;32m--> 146\u001b[0m     X \u001b[39m=\u001b[39m Y \u001b[39m=\u001b[39m check_array(\n\u001b[1;32m    147\u001b[0m         X,\n\u001b[1;32m    148\u001b[0m         accept_sparse\u001b[39m=\u001b[39;49maccept_sparse,\n\u001b[1;32m    149\u001b[0m         dtype\u001b[39m=\u001b[39;49mdtype,\n\u001b[1;32m    150\u001b[0m         copy\u001b[39m=\u001b[39;49mcopy,\n\u001b[1;32m    151\u001b[0m         force_all_finite\u001b[39m=\u001b[39;49mforce_all_finite,\n\u001b[1;32m    152\u001b[0m         estimator\u001b[39m=\u001b[39;49mestimator,\n\u001b[1;32m    153\u001b[0m     )\n\u001b[1;32m    154\u001b[0m \u001b[39melse\u001b[39;00m:\n\u001b[1;32m    155\u001b[0m     X \u001b[39m=\u001b[39m check_array(\n\u001b[1;32m    156\u001b[0m         X,\n\u001b[1;32m    157\u001b[0m         accept_sparse\u001b[39m=\u001b[39maccept_sparse,\n\u001b[0;32m   (...)\u001b[0m\n\u001b[1;32m    161\u001b[0m         estimator\u001b[39m=\u001b[39mestimator,\n\u001b[1;32m    162\u001b[0m     )\n",
      "File \u001b[0;32m~/Lighthouse/Projects/video-game-recommender-v1/vgenv/lib/python3.9/site-packages/sklearn/utils/validation.py:919\u001b[0m, in \u001b[0;36mcheck_array\u001b[0;34m(array, accept_sparse, accept_large_sparse, dtype, order, copy, force_all_finite, ensure_2d, allow_nd, ensure_min_samples, ensure_min_features, estimator, input_name)\u001b[0m\n\u001b[1;32m    913\u001b[0m         \u001b[39mraise\u001b[39;00m \u001b[39mValueError\u001b[39;00m(\n\u001b[1;32m    914\u001b[0m             \u001b[39m\"\u001b[39m\u001b[39mFound array with dim \u001b[39m\u001b[39m%d\u001b[39;00m\u001b[39m. \u001b[39m\u001b[39m%s\u001b[39;00m\u001b[39m expected <= 2.\u001b[39m\u001b[39m\"\u001b[39m\n\u001b[1;32m    915\u001b[0m             \u001b[39m%\u001b[39m (array\u001b[39m.\u001b[39mndim, estimator_name)\n\u001b[1;32m    916\u001b[0m         )\n\u001b[1;32m    918\u001b[0m     \u001b[39mif\u001b[39;00m force_all_finite:\n\u001b[0;32m--> 919\u001b[0m         _assert_all_finite(\n\u001b[1;32m    920\u001b[0m             array,\n\u001b[1;32m    921\u001b[0m             input_name\u001b[39m=\u001b[39;49minput_name,\n\u001b[1;32m    922\u001b[0m             estimator_name\u001b[39m=\u001b[39;49mestimator_name,\n\u001b[1;32m    923\u001b[0m             allow_nan\u001b[39m=\u001b[39;49mforce_all_finite \u001b[39m==\u001b[39;49m \u001b[39m\"\u001b[39;49m\u001b[39mallow-nan\u001b[39;49m\u001b[39m\"\u001b[39;49m,\n\u001b[1;32m    924\u001b[0m         )\n\u001b[1;32m    926\u001b[0m \u001b[39mif\u001b[39;00m ensure_min_samples \u001b[39m>\u001b[39m \u001b[39m0\u001b[39m:\n\u001b[1;32m    927\u001b[0m     n_samples \u001b[39m=\u001b[39m _num_samples(array)\n",
      "File \u001b[0;32m~/Lighthouse/Projects/video-game-recommender-v1/vgenv/lib/python3.9/site-packages/sklearn/utils/validation.py:161\u001b[0m, in \u001b[0;36m_assert_all_finite\u001b[0;34m(X, allow_nan, msg_dtype, estimator_name, input_name)\u001b[0m\n\u001b[1;32m    144\u001b[0m \u001b[39mif\u001b[39;00m estimator_name \u001b[39mand\u001b[39;00m input_name \u001b[39m==\u001b[39m \u001b[39m\"\u001b[39m\u001b[39mX\u001b[39m\u001b[39m\"\u001b[39m \u001b[39mand\u001b[39;00m has_nan_error:\n\u001b[1;32m    145\u001b[0m     \u001b[39m# Improve the error message on how to handle missing values in\u001b[39;00m\n\u001b[1;32m    146\u001b[0m     \u001b[39m# scikit-learn.\u001b[39;00m\n\u001b[1;32m    147\u001b[0m     msg_err \u001b[39m+\u001b[39m\u001b[39m=\u001b[39m (\n\u001b[1;32m    148\u001b[0m         \u001b[39mf\u001b[39m\u001b[39m\"\u001b[39m\u001b[39m\\n\u001b[39;00m\u001b[39m{\u001b[39;00mestimator_name\u001b[39m}\u001b[39;00m\u001b[39m does not accept missing values\u001b[39m\u001b[39m\"\u001b[39m\n\u001b[1;32m    149\u001b[0m         \u001b[39m\"\u001b[39m\u001b[39m encoded as NaN natively. For supervised learning, you might want\u001b[39m\u001b[39m\"\u001b[39m\n\u001b[0;32m   (...)\u001b[0m\n\u001b[1;32m    159\u001b[0m         \u001b[39m\"\u001b[39m\u001b[39m#estimators-that-handle-nan-values\u001b[39m\u001b[39m\"\u001b[39m\n\u001b[1;32m    160\u001b[0m     )\n\u001b[0;32m--> 161\u001b[0m \u001b[39mraise\u001b[39;00m \u001b[39mValueError\u001b[39;00m(msg_err)\n",
      "\u001b[0;31mValueError\u001b[0m: Input contains NaN."
     ]
    }
   ],
   "source": [
    "# make a cosine similarity matrix, maybe linear kernel instead?\n",
    "cosine_sim = cosine_similarity(matrix, matrix)"
   ]
  },
  {
   "cell_type": "code",
   "execution_count": null,
   "id": "5f78b2f6-0074-43e0-adb9-55f78ddf3652",
   "metadata": {},
   "outputs": [],
   "source": [
    "# store cosine similarity matrix in pickle\n",
    "pickle.dump(cosine_sim, open('../models/cosine_sim.pkl', 'wb'))"
   ]
  },
  {
   "cell_type": "code",
   "execution_count": null,
   "id": "6726e269-d9f0-47df-8c94-9633514229ce",
   "metadata": {},
   "outputs": [],
   "source": [
    "# Construct a reverse map of indices and game titles\n",
    "indices = pd.Series(gamesinfo_df.index, index=gamesinfo_df['name'])"
   ]
  },
  {
   "cell_type": "code",
   "execution_count": null,
   "id": "635fa25f-225a-4238-b8d7-7c53abdc62fa",
   "metadata": {},
   "outputs": [],
   "source": [
    "# recommend function for content\n",
    "def recommend_content(title, cosine_sim = cosine_sim):\n",
    "    # get index for our movie\n",
    "    idx = indices[title]\n",
    "    \n",
    "    # get pairwise similarity scores of all movies w.r.t to our movie\n",
    "    sim_scores = list(enumerate(cosine_sim[idx]))\n",
    "    \n",
    "    # sort scores based on similarity\n",
    "    sim_scores = sorted(sim_scores, key=lambda x: x[1], reverse=True)\n",
    "    \n",
    "    # get scores for 10 similar movies, not including the game itself\n",
    "    sim_scores = sim_scores[1:11]\n",
    "    \n",
    "    # get the game indices\n",
    "    game_indices = [i[0] for i in sim_scores]\n",
    "    \n",
    "    # return the titles\n",
    "    return gamesinfo_df['name'].iloc[game_indices].tolist()"
   ]
  },
  {
   "cell_type": "code",
   "execution_count": null,
   "id": "d089ed01-642c-4c18-bb19-07b2c72adb3c",
   "metadata": {},
   "outputs": [],
   "source": [
    "# function that takes a game title and returns\n",
    "def combined_recom(title):\n",
    "    # get recommended games from knn\n",
    "    knn_recom = recommend_knn(title)\n",
    "    # get recommended games from content based\n",
    "    cont_recom = recommend_content(title)\n",
    "    # print knn_recom\n",
    "    print('Similar recommendations to', title, 'based on user data:')\n",
    "    print(*knn_recom, sep='\\n')\n",
    "    print('\\nSimilar recommendations to', title, 'based on game data:')\n",
    "    print(*cont_recom, sep='\\n')\n",
    "    #list(set(knn_recom) & set(cont_recom))"
   ]
  },
  {
   "cell_type": "code",
   "execution_count": null,
   "id": "ad82e090-9477-48c9-b03c-459971e5f7dd",
   "metadata": {},
   "outputs": [],
   "source": [
    "# test run for combined\n",
    "while True:\n",
    "    title = input('Enter a game title: ')\n",
    "    combined_recom(title)"
   ]
  },
  {
   "cell_type": "code",
   "execution_count": null,
   "id": "ed794440-1426-4102-b7f3-160e5aa674f1",
   "metadata": {},
   "outputs": [],
   "source": []
  }
 ],
 "metadata": {
  "kernelspec": {
   "display_name": "vgenv",
   "language": "python",
   "name": "python3"
  },
  "language_info": {
   "codemirror_mode": {
    "name": "ipython",
    "version": 3
   },
   "file_extension": ".py",
   "mimetype": "text/x-python",
   "name": "python",
   "nbconvert_exporter": "python",
   "pygments_lexer": "ipython3",
   "version": "3.9.7 (default, Sep 16 2021, 13:09:58) \n[GCC 7.5.0]"
  },
  "vscode": {
   "interpreter": {
    "hash": "e001bd8958d257f2b8a5f22964dbb72a9c6d26505f9599b23f40d21e591583c3"
   }
  }
 },
 "nbformat": 4,
 "nbformat_minor": 5
}
