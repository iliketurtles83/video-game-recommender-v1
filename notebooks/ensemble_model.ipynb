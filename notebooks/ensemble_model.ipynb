{
 "cells": [
  {
   "cell_type": "markdown",
   "id": "b0b49732-d1f7-4bc4-ab84-915610b450f5",
   "metadata": {},
   "source": [
    "## Video Game Recommendation System based on Steam data \n",
    "### Uses a hybrid content-based and collaborative filtering approach to recommend games?"
   ]
  },
  {
   "cell_type": "code",
   "execution_count": 1,
   "id": "8f5f38da-ffa5-45f0-922d-b0e867e2210c",
   "metadata": {},
   "outputs": [],
   "source": [
    "# import libraries\n",
    "import pandas as pd\n",
    "import pickle\n",
    "from sklearn.preprocessing import StandardScaler\n",
    "from sklearn.preprocessing import RobustScaler\n",
    "from sklearn.feature_extraction.text import TfidfVectorizer\n",
    "from surprise import Reader, Dataset, KNNWithZScore\n",
    "from surprise.model_selection import cross_validate\n",
    "from surprise.model_selection import train_test_split\n",
    "from surprise.model_selection import GridSearchCV\n",
    "from surprise import accuracy\n",
    "from sklearn.metrics.pairwise import cosine_similarity"
   ]
  },
  {
   "cell_type": "code",
   "execution_count": 2,
   "id": "f5d3b57c-f639-4ddf-a348-0c3181310762",
   "metadata": {},
   "outputs": [],
   "source": [
    "# import our processed datasets\n",
    "users_df = pd.read_csv('../data/steam_playtime_clean.csv')\n",
    "games_df = pd.read_csv('../data/steam_app_metadata_clean.csv')\n",
    "# gamesinfo_df = pd.read_csv('../data/steam_gameinfo.csv')"
   ]
  },
  {
   "cell_type": "markdown",
   "id": "0ecb52ae-5db1-4051-af51-a1a18ce0f68c",
   "metadata": {},
   "source": [
    "#### COLLABORATIVE FILTERING FOR USER PLAYTIME DATA"
   ]
  },
  {
   "cell_type": "code",
   "execution_count": 3,
   "id": "10b8991d",
   "metadata": {},
   "outputs": [
    {
     "data": {
      "text/plain": [
       "19546"
      ]
     },
     "execution_count": 3,
     "metadata": {},
     "output_type": "execute_result"
    }
   ],
   "source": [
    "# get users_df unique id's\n",
    "len(users_df['appid'].unique())"
   ]
  },
  {
   "cell_type": "code",
   "execution_count": 4,
   "id": "40ba24b6",
   "metadata": {},
   "outputs": [
    {
     "data": {
      "text/plain": [
       "19546"
      ]
     },
     "execution_count": 4,
     "metadata": {},
     "output_type": "execute_result"
    }
   ],
   "source": [
    "len(games_df['appid'].unique())"
   ]
  },
  {
   "cell_type": "code",
   "execution_count": 173,
   "id": "c649aec7",
   "metadata": {},
   "outputs": [
    {
     "data": {
      "text/plain": [
       "19546"
      ]
     },
     "execution_count": 173,
     "metadata": {},
     "output_type": "execute_result"
    }
   ],
   "source": [
    "len(games_df)"
   ]
  },
  {
   "cell_type": "code",
   "execution_count": null,
   "id": "f5ec7e7f-ab41-4bc2-9fe6-3b5f294ffcdc",
   "metadata": {},
   "outputs": [],
   "source": [
    "# first do robustscaler to minimize outliers\n",
    "# scaler = RobustScaler(with_centering=True, with_scaling=True, quantile_range=(25.0, 75.0), copy=True)\n",
    "# users_df['playtime_forever'] = scaler.fit_transform(users_df['playtime_forever'].array.reshape(-1,1))"
   ]
  },
  {
   "cell_type": "code",
   "execution_count": 5,
   "id": "584860f1-5a60-438e-a714-4130169f3aac",
   "metadata": {},
   "outputs": [],
   "source": [
    "# use StandardScaler to scale user playtimes\n",
    "scaler = StandardScaler()\n",
    "users_df['playtime_forever'] = scaler.fit_transform(users_df['playtime_forever'].values.reshape(-1, 1))"
   ]
  },
  {
   "cell_type": "code",
   "execution_count": 6,
   "id": "b57aeb1b-80c6-40cb-b2f0-5b3836a8211d",
   "metadata": {},
   "outputs": [],
   "source": [
    "# instantiate surprise.Reader()\n",
    "reader = Reader()\n",
    "\n",
    "# make surprise dataset\n",
    "data = Dataset.load_from_df(users_df[['steam_id', 'appid', 'playtime_forever']], reader)"
   ]
  },
  {
   "cell_type": "code",
   "execution_count": 7,
   "id": "848c5dc1-22bf-41cd-aff3-dc5df929a102",
   "metadata": {},
   "outputs": [],
   "source": [
    "# make a training and test set\n",
    "trainset, testset = train_test_split(data, test_size=0.25)"
   ]
  },
  {
   "cell_type": "markdown",
   "id": "0a487ce3-ba02-4f74-bff5-df05341821be",
   "metadata": {},
   "source": [
    "### Collaborative Filtering: KNNWithZScore"
   ]
  },
  {
   "attachments": {},
   "cell_type": "markdown",
   "id": "28625fdd",
   "metadata": {},
   "source": [
    "#### GridSearch for KNN"
   ]
  },
  {
   "cell_type": "code",
   "execution_count": 9,
   "id": "dee9d4dc-b6c0-4298-a7da-607a0a3c9d8d",
   "metadata": {},
   "outputs": [],
   "source": [
    "# set up gridsearch param_grid for KNNWithZScore\n",
    "knn_param_grid = {'k': [600, 800]}"
   ]
  },
  {
   "cell_type": "code",
   "execution_count": 10,
   "id": "ebd9fe85-6808-441f-a40b-7cb1d51e873b",
   "metadata": {},
   "outputs": [],
   "source": [
    "grid_search = GridSearchCV(KNNWithZScore, knn_param_grid, cv=5, n_jobs=3)"
   ]
  },
  {
   "cell_type": "code",
   "execution_count": 11,
   "id": "f93ce9e5-e90f-44ae-bed5-6df72c7a9828",
   "metadata": {},
   "outputs": [
    {
     "name": "stdout",
     "output_type": "stream",
     "text": [
      "Computing the msd similarity matrix...\n",
      "Computing the msd similarity matrix...\n",
      "Computing the msd similarity matrix...\n",
      "Done computing similarity matrix.\n",
      "Done computing similarity matrix.\n",
      "Done computing similarity matrix.\n",
      "Computing the msd similarity matrix...\n",
      "Computing the msd similarity matrix...\n",
      "Computing the msd similarity matrix...\n",
      "Done computing similarity matrix.\n",
      "Done computing similarity matrix.\n",
      "Done computing similarity matrix.\n",
      "Computing the msd similarity matrix...\n",
      "Computing the msd similarity matrix...\n",
      "Computing the msd similarity matrix...\n",
      "Done computing similarity matrix.\n",
      "Done computing similarity matrix.\n",
      "Done computing similarity matrix.\n",
      "Computing the msd similarity matrix...\n",
      "Done computing similarity matrix.\n"
     ]
    }
   ],
   "source": [
    "grid_search.fit(data)"
   ]
  },
  {
   "cell_type": "code",
   "execution_count": 12,
   "id": "1ef00892-80d0-4c61-97cc-c2cddbe35a0f",
   "metadata": {},
   "outputs": [
    {
     "name": "stdout",
     "output_type": "stream",
     "text": [
      "Best params:  {'rmse': {'k': 800}, 'mae': {'k': 800}}\n"
     ]
    }
   ],
   "source": [
    "# print best params for grid search\n",
    "print('Best params: ', grid_search.best_params)"
   ]
  },
  {
   "cell_type": "code",
   "execution_count": 13,
   "id": "bde3b0ea-97ba-458f-b12a-123073c634e1",
   "metadata": {},
   "outputs": [
    {
     "name": "stdout",
     "output_type": "stream",
     "text": [
      "Score:  {'rmse': 1.412431892579643, 'mae': 1.229177014477301}\n"
     ]
    }
   ],
   "source": [
    "# print best score for grid search\n",
    "print('Score: ', grid_search.best_score)"
   ]
  },
  {
   "cell_type": "code",
   "execution_count": 8,
   "id": "8d745473-dd35-45fb-b790-4469df945736",
   "metadata": {},
   "outputs": [],
   "source": [
    "# make knn model with best params from gridsearch\n",
    "knn = KNNWithZScore(k=800, sim_options={'name': 'pearson_baseline', 'user_based': False})"
   ]
  },
  {
   "cell_type": "code",
   "execution_count": 9,
   "id": "cdd67ccd-087b-4d6a-a7f7-240c38aad310",
   "metadata": {},
   "outputs": [
    {
     "name": "stdout",
     "output_type": "stream",
     "text": [
      "Estimating biases using als...\n",
      "Computing the pearson_baseline similarity matrix...\n",
      "Done computing similarity matrix.\n"
     ]
    }
   ],
   "source": [
    "# fit the training data and test with our test set\n",
    "predictions = knn.fit(trainset).test(testset)"
   ]
  },
  {
   "cell_type": "code",
   "execution_count": 10,
   "id": "d6253e04-89d9-40fb-a107-041e3b0c5492",
   "metadata": {},
   "outputs": [
    {
     "name": "stdout",
     "output_type": "stream",
     "text": [
      "RMSE: 1.3847\n"
     ]
    },
    {
     "data": {
      "text/plain": [
       "1.384702785666047"
      ]
     },
     "execution_count": 10,
     "metadata": {},
     "output_type": "execute_result"
    }
   ],
   "source": [
    "# get accuracy\n",
    "accuracy.rmse(predictions)"
   ]
  },
  {
   "cell_type": "code",
   "execution_count": 11,
   "id": "55c36a55-00b0-4b57-8e89-166264837cc0",
   "metadata": {},
   "outputs": [],
   "source": [
    "# build a full trainset now\n",
    "trainset = data.build_full_trainset()"
   ]
  },
  {
   "cell_type": "code",
   "execution_count": 12,
   "id": "da320a65-db35-455b-ad44-0f14d8212b9b",
   "metadata": {},
   "outputs": [],
   "source": [
    "# save model in pickle\n",
    "pickle.dump(trainset, open('../models/trainset.pkl', 'wb'))"
   ]
  },
  {
   "cell_type": "code",
   "execution_count": 13,
   "id": "503b9be7-d1c7-4c21-a4d0-89847508edbc",
   "metadata": {},
   "outputs": [],
   "source": [
    "# instantiate new knn\n",
    "knn = KNNWithZScore(k=800, sim_options={'name': 'pearson_baseline', 'user_based': False})"
   ]
  },
  {
   "cell_type": "code",
   "execution_count": 14,
   "id": "c5ef7c1d-ff85-43fc-9764-95ec6bbb517a",
   "metadata": {},
   "outputs": [
    {
     "name": "stdout",
     "output_type": "stream",
     "text": [
      "Estimating biases using als...\n",
      "Computing the pearson_baseline similarity matrix...\n",
      "Done computing similarity matrix.\n"
     ]
    },
    {
     "data": {
      "text/plain": [
       "<surprise.prediction_algorithms.knns.KNNWithZScore at 0x7f438c817ac0>"
      ]
     },
     "execution_count": 14,
     "metadata": {},
     "output_type": "execute_result"
    }
   ],
   "source": [
    "# fit the knn\n",
    "knn.fit(trainset)"
   ]
  },
  {
   "cell_type": "code",
   "execution_count": 15,
   "id": "0a9cda8f-b4b1-48db-a838-d271c691c343",
   "metadata": {},
   "outputs": [],
   "source": [
    "# save model in pickle\n",
    "pickle.dump(knn, open('../models/knn_model.pkl', 'wb'))"
   ]
  },
  {
   "cell_type": "code",
   "execution_count": 16,
   "id": "83ecbe4d-a9ed-41f6-8d2d-5ab44323fd0c",
   "metadata": {},
   "outputs": [],
   "source": [
    "# function that takes game title and returns the knn model inner id\n",
    "def get_innerid(title):\n",
    "    # get appid from games_df\n",
    "    appid = games_df[games_df['name'] == title]['appid'].values[0]\n",
    "    inner_id = trainset.to_inner_iid(appid)\n",
    "    return inner_id"
   ]
  },
  {
   "cell_type": "code",
   "execution_count": 17,
   "id": "a9b660de-3341-4729-838d-852dbadb8f8f",
   "metadata": {},
   "outputs": [],
   "source": [
    "# function that takes knn model innerid and returns the game title\n",
    "def get_title(inner_id):\n",
    "    steam_id = trainset.to_raw_iid(inner_id)\n",
    "    title = games_df[games_df['appid'] == steam_id].iloc[0]['name']\n",
    "    return title"
   ]
  },
  {
   "cell_type": "code",
   "execution_count": 18,
   "id": "eef5b604",
   "metadata": {},
   "outputs": [],
   "source": [
    "def get_knn_appid(inner_id):\n",
    "    return trainset.to_raw_iid(inner_id)"
   ]
  },
  {
   "cell_type": "code",
   "execution_count": 239,
   "id": "35450201",
   "metadata": {},
   "outputs": [
    {
     "data": {
      "text/plain": [
       "10180"
      ]
     },
     "execution_count": 239,
     "metadata": {},
     "output_type": "execute_result"
    }
   ],
   "source": [
    "get_knn_appid(3)"
   ]
  },
  {
   "cell_type": "code",
   "execution_count": 19,
   "id": "5fddbdf4-597d-40cc-be91-45c8a80e95e5",
   "metadata": {},
   "outputs": [],
   "source": [
    "# function that takes a game title and returns 10 nearest neighbours\n",
    "def recommend_knn(title):\n",
    "    # get inner id for game\n",
    "    inner_id = get_innerid(title)\n",
    "    # get nearest neighbours\n",
    "    neighbors = knn.get_neighbors(inner_id, k=10)\n",
    "    # get game titles for those neighbours\n",
    "    titles = [get_title(i) for i in neighbors]\n",
    "    return titles"
   ]
  },
  {
   "cell_type": "code",
   "execution_count": 104,
   "id": "948bb94d-f235-4265-8d3a-6b1e0e6c9c6e",
   "metadata": {},
   "outputs": [
    {
     "data": {
      "text/plain": [
       "['VVVVVV',\n",
       " 'Mark of the Ninja',\n",
       " 'World of Goo',\n",
       " \"Mirror's Edge™\",\n",
       " 'Dead Space',\n",
       " 'Magicka',\n",
       " 'ORION: Prelude',\n",
       " 'Trine 2: Complete Story',\n",
       " 'INSIDE',\n",
       " 'F.E.A.R. 3']"
      ]
     },
     "execution_count": 104,
     "metadata": {},
     "output_type": "execute_result"
    }
   ],
   "source": [
    "# test run\n",
    "recommend_knn('LIMBO')"
   ]
  },
  {
   "cell_type": "code",
   "execution_count": 20,
   "id": "09e623be",
   "metadata": {},
   "outputs": [
    {
     "name": "stdout",
     "output_type": "stream",
     "text": [
      "Computing the pearson_baseline similarity matrix...\n",
      "Done computing similarity matrix.\n"
     ]
    }
   ],
   "source": [
    "knn_similarities = knn.compute_similarities()"
   ]
  },
  {
   "cell_type": "code",
   "execution_count": 21,
   "id": "006df736",
   "metadata": {},
   "outputs": [],
   "source": [
    "# recommend function for content\n",
    "def get_knn_similar(title, knn_sim = knn_similarities):\n",
    "    \n",
    "    idx = get_innerid(title)\n",
    "    \n",
    "    # get pairwise similarity scores of all games w.r.t to our game\n",
    "    sim_scores = list(enumerate(knn_sim[idx]))\n",
    "    \n",
    "    # sort scores based on similarity\n",
    "    sorted_scores = sorted(sim_scores, key=lambda x: x[1], reverse=True)\n",
    "    \n",
    "    # make dictionary with title as key and similarity score as value\n",
    "    similar_games = {get_title(i[0]): i[1] for i in sorted_scores[1:21]}\n",
    "\n",
    "    return similar_games"
   ]
  },
  {
   "cell_type": "code",
   "execution_count": 24,
   "id": "5505025a",
   "metadata": {},
   "outputs": [
    {
     "data": {
      "text/plain": [
       "{'VVVVVV': 0.826537924260695,\n",
       " 'Mark of the Ninja': 0.8207203828284743,\n",
       " 'World of Goo': 0.8169189658823532,\n",
       " \"Mirror's Edge™\": 0.8149737240823128,\n",
       " 'Dead Space': 0.7956553871764342,\n",
       " 'Magicka': 0.7831007093975789,\n",
       " 'ORION: Prelude': 0.7813297734863306,\n",
       " 'Trine 2: Complete Story': 0.7678644167066896,\n",
       " 'INSIDE': 0.7573305086670962,\n",
       " 'F.E.A.R. 3': 0.7521111064512996,\n",
       " 'Little Nightmares': 0.7517670108739803,\n",
       " 'Tomb Raider': 0.7473036992192646,\n",
       " 'To the Moon': 0.7443995128555665,\n",
       " 'Scribblenauts Unlimited': 0.7421048240746818,\n",
       " 'Rock of Ages': 0.7405880407380657,\n",
       " 'McPixel': 0.7403627580561097,\n",
       " 'METAL GEAR SOLID V: GROUND ZEROES': 0.7393797240145948,\n",
       " 'Gone Home': 0.7229923009738277,\n",
       " 'Dear Esther': 0.7099877041017841,\n",
       " 'Indie Game: The Movie': 0.701873491438399}"
      ]
     },
     "execution_count": 24,
     "metadata": {},
     "output_type": "execute_result"
    }
   ],
   "source": [
    "get_knn_similar('LIMBO')"
   ]
  },
  {
   "cell_type": "markdown",
   "id": "4a6edc3f-faed-4f6a-8472-32350e354b52",
   "metadata": {},
   "source": [
    "### CONTENT-BASED FILTERING FOR GAME DATA"
   ]
  },
  {
   "cell_type": "code",
   "execution_count": 25,
   "id": "17252e1d",
   "metadata": {},
   "outputs": [],
   "source": [
    "# instantiate tfidfvectorizer\n",
    "tfidf = TfidfVectorizer(max_features=1500, lowercase=False, min_df=5, ngram_range=(1,3))"
   ]
  },
  {
   "cell_type": "code",
   "execution_count": 26,
   "id": "ae838a0c",
   "metadata": {},
   "outputs": [
    {
     "data": {
      "text/plain": [
       "(19546, 80)"
      ]
     },
     "execution_count": 26,
     "metadata": {},
     "output_type": "execute_result"
    }
   ],
   "source": [
    "games_df.shape"
   ]
  },
  {
   "cell_type": "code",
   "execution_count": 27,
   "id": "d99dc8f9",
   "metadata": {},
   "outputs": [],
   "source": [
    "# make description column into type string, otherwise tfidf cries\n",
    "games_df['description_clean'] = games_df['description_clean'].astype(str)"
   ]
  },
  {
   "cell_type": "code",
   "execution_count": 28,
   "id": "1b78726a",
   "metadata": {},
   "outputs": [],
   "source": [
    "# fit tfidfvectorizer to description column\n",
    "tfidf_matrix = tfidf.fit_transform(games_df['description_clean'])"
   ]
  },
  {
   "cell_type": "code",
   "execution_count": 29,
   "id": "441a6283",
   "metadata": {},
   "outputs": [],
   "source": [
    "# games_df columns 5 to second last are the tags\n",
    "game_tags = games_df.iloc[:, 5:-1]"
   ]
  },
  {
   "cell_type": "code",
   "execution_count": 30,
   "id": "d79bac55",
   "metadata": {},
   "outputs": [],
   "source": [
    "# make matrix into dataframe\n",
    "tfidf_df = pd.DataFrame(tfidf_matrix.toarray(), columns=tfidf.get_feature_names_out())"
   ]
  },
  {
   "cell_type": "code",
   "execution_count": 31,
   "id": "6dfd8742",
   "metadata": {},
   "outputs": [],
   "source": [
    "# concatentate tfidf_df and game_tags\n",
    "tfidf_df = pd.concat([tfidf_df, game_tags], axis=1)"
   ]
  },
  {
   "cell_type": "code",
   "execution_count": 32,
   "id": "47ee1a21",
   "metadata": {},
   "outputs": [],
   "source": [
    "# make matrix for cosine sim\n",
    "matrix = tfidf_df.values"
   ]
  },
  {
   "cell_type": "code",
   "execution_count": 33,
   "id": "343b1bee-53a3-419b-b731-e05cb30ae8c7",
   "metadata": {},
   "outputs": [
    {
     "data": {
      "text/plain": [
       "(19546, 1574)"
      ]
     },
     "execution_count": 33,
     "metadata": {},
     "output_type": "execute_result"
    }
   ],
   "source": [
    "matrix.shape"
   ]
  },
  {
   "cell_type": "code",
   "execution_count": 34,
   "id": "94646139-38c9-4d31-b852-bc8025978650",
   "metadata": {},
   "outputs": [],
   "source": [
    "# make a cosine similarity matrix, maybe linear kernel instead?\n",
    "cosine_sim = cosine_similarity(matrix, matrix)"
   ]
  },
  {
   "cell_type": "code",
   "execution_count": 35,
   "id": "42ae5421",
   "metadata": {},
   "outputs": [
    {
     "data": {
      "text/plain": [
       "(19546, 19546)"
      ]
     },
     "execution_count": 35,
     "metadata": {},
     "output_type": "execute_result"
    }
   ],
   "source": [
    "cosine_sim.shape"
   ]
  },
  {
   "cell_type": "code",
   "execution_count": 36,
   "id": "5f78b2f6-0074-43e0-adb9-55f78ddf3652",
   "metadata": {},
   "outputs": [],
   "source": [
    "# store cosine similarity matrix in pickle\n",
    "pickle.dump(cosine_sim, open('../models/cosine_sim.pkl', 'wb'))"
   ]
  },
  {
   "cell_type": "code",
   "execution_count": 37,
   "id": "6726e269-d9f0-47df-8c94-9633514229ce",
   "metadata": {},
   "outputs": [],
   "source": [
    "# Construct a reverse map of indices and game titles\n",
    "indices = pd.Series(games_df.index, index=games_df['name'])"
   ]
  },
  {
   "cell_type": "code",
   "execution_count": 42,
   "id": "635fa25f-225a-4238-b8d7-7c53abdc62fa",
   "metadata": {},
   "outputs": [],
   "source": [
    "# recommend function for content\n",
    "def recommend_content(title, cosine_sim = cosine_sim):\n",
    "    # get index for our game\n",
    "    idx = indices[title]\n",
    "    \n",
    "    # get pairwise similarity scores of all games w.r.t to our game\n",
    "    sim_scores = list(enumerate(cosine_sim[idx]))\n",
    "    \n",
    "    # sort scores based on similarity\n",
    "    sorted_sim_scores = sorted(sim_scores, key=lambda x: x[1], reverse=True)\n",
    "    \n",
    "    # make a dictionary with title as key and score as value\n",
    "    content_similar_scores = {indices.index[i[0]]: i[1] for i in sorted_sim_scores[1:21]}\n",
    "\n",
    "    return content_similar_scores"
   ]
  },
  {
   "cell_type": "code",
   "execution_count": 43,
   "id": "019197ec",
   "metadata": {},
   "outputs": [
    {
     "data": {
      "text/plain": [
       "{'Jump King': 0.9090909090909093,\n",
       " '3000th Duel': 0.9090909090909093,\n",
       " 'Driven Out': 0.9090909090909093,\n",
       " 'Blasphemous': 0.8802091791155916,\n",
       " 'Intruders: Hide and Seek': 0.8759451887022192,\n",
       " 'Hollow Knight': 0.8703882797784892,\n",
       " 'Moonlighter': 0.8703882797784892,\n",
       " 'Mute Crimson+': 0.8703882797784892,\n",
       " 'Road 96 🛣️': 0.8703882797784892,\n",
       " 'Celeste': 0.8703882797784892,\n",
       " 'Jenny LeClue - Detectivu': 0.8703882797784892,\n",
       " 'Valfaris': 0.860903571509737,\n",
       " 'GRIS': 0.8581163303210333,\n",
       " 'Over the Alps': 0.8581163303210333,\n",
       " 'Lost Ruins': 0.8581163303210333,\n",
       " 'Super Meat Boy Forever': 0.8452039315501134,\n",
       " 'Slime Rancher': 0.836242010007091,\n",
       " 'CARRION': 0.836242010007091,\n",
       " 'ScourgeBringer': 0.836242010007091,\n",
       " 'Shovel Knight: Specter of Torment': 0.836242010007091}"
      ]
     },
     "execution_count": 43,
     "metadata": {},
     "output_type": "execute_result"
    }
   ],
   "source": [
    "recommend_content('LIMBO')"
   ]
  },
  {
   "cell_type": "code",
   "execution_count": 44,
   "id": "ecf3c0bd",
   "metadata": {},
   "outputs": [],
   "source": [
    "# get weighted recommendations based on both matrices\n",
    "def weighted_recommend_content(title, cosine_sim = cosine_sim, knn_sim = knn_similarities):\n",
    "    # COSINE STUFF\n",
    "    # get index for our game\n",
    "    cos_idx = indices[title]\n",
    "    \n",
    "    # get pairwise similarity scores of all games w.r.t to our game\n",
    "    cos_sim_scores = list(enumerate(cosine_sim[cos_idx]))\n",
    "    \n",
    "    # make a dictionary with title as key and score as value\n",
    "    content_similar_scores = {indices.index[i[0]]: i[1] for i in cos_sim_scores[1:]}\n",
    "\n",
    "    # KNN STUFF\n",
    "    knn_idx = get_innerid(title)\n",
    "    \n",
    "    # get pairwise similarity scores of all games w.r.t to our game\n",
    "    knn_sim_scores = list(enumerate(knn_sim[knn_idx]))\n",
    "\n",
    "    # get titles for scores\n",
    "    knn_similar_scores = {get_title(i[0]): i[1] for i in knn_sim_scores[1:]}\n",
    "\n",
    "    # COMBINE STUFF\n",
    "    weighted_scores = {}\n",
    "    for key, value in content_similar_scores.items():\n",
    "        weighted_scores[key] = value * 0.5 + knn_similar_scores[key] * 0.5\n",
    "\n",
    "    sorted_weighted_scores = sorted(weighted_scores.items(), key=lambda x: x[1], reverse=True)\n",
    "\n",
    "    return sorted_weighted_scores[1:21]"
   ]
  },
  {
   "cell_type": "code",
   "execution_count": 46,
   "id": "c28e6205",
   "metadata": {},
   "outputs": [
    {
     "data": {
      "text/plain": [
       "[('Mark of the Ninja', 0.7739965550506008),\n",
       " ('Tomb Raider', 0.7653265755099525),\n",
       " ('Dead Space', 0.7495909289289413),\n",
       " ('INSIDE', 0.7385207836033271),\n",
       " ('VVVVVV', 0.733070036663763),\n",
       " ('Firewatch', 0.7328702359864503),\n",
       " ('Deadlight', 0.7281439820025508),\n",
       " ('GRIS', 0.7181162538540189),\n",
       " (\"Hellblade: Senua's Sacrifice\", 0.7139682370499829),\n",
       " ('Trine 2: Complete Story', 0.7129080558332292),\n",
       " ('Bayonetta', 0.6998847417371078),\n",
       " (\"Mirror's Edge™\", 0.6968064722146547),\n",
       " ('Little Nightmares', 0.6956845799704058),\n",
       " ('DuckTales: Remastered', 0.6910819887071625),\n",
       " ('METAL GEAR SOLID V: GROUND ZEROES', 0.689490936540713),\n",
       " ('Gone Home', 0.6796779686687321),\n",
       " ('Brutal Legend', 0.6782627772972023),\n",
       " ('To the Moon', 0.6737111010055469),\n",
       " ('Machinarium', 0.6728687815184013),\n",
       " ('I Am Bread', 0.6701042199699982)]"
      ]
     },
     "execution_count": 46,
     "metadata": {},
     "output_type": "execute_result"
    }
   ],
   "source": [
    "weighted_recommend_content('LIMBO')"
   ]
  },
  {
   "cell_type": "code",
   "execution_count": 49,
   "id": "e24f0974",
   "metadata": {},
   "outputs": [],
   "source": [
    "# function for mapping between similarity matrix indices\n",
    "def knn_index_to_cos_index(knn_index):\n",
    "    return indices[get_title(knn_index)]"
   ]
  },
  {
   "cell_type": "code",
   "execution_count": 59,
   "id": "bbd6c6ad",
   "metadata": {},
   "outputs": [],
   "source": [
    "# create a copy of knn_similarities with cosine indices\n",
    "knn_sim_ordered = knn_similarities.copy()"
   ]
  },
  {
   "cell_type": "code",
   "execution_count": 61,
   "id": "a623d27c",
   "metadata": {},
   "outputs": [],
   "source": [
    "for i in range(len(knn_similarities)):\n",
    "    for j in range(len(knn_similarities[i])):\n",
    "        knn_sim_ordered[knn_index_to_cos_index(i)][knn_index_to_cos_index(j)] = knn_similarities[i][j]"
   ]
  },
  {
   "cell_type": "code",
   "execution_count": 48,
   "id": "4db3a3a0",
   "metadata": {},
   "outputs": [
    {
     "ename": "KeyboardInterrupt",
     "evalue": "",
     "output_type": "error",
     "traceback": [
      "\u001b[0;31m---------------------------------------------------------------------------\u001b[0m",
      "\u001b[0;31mKeyboardInterrupt\u001b[0m                         Traceback (most recent call last)",
      "Cell \u001b[0;32mIn[48], line 8\u001b[0m\n\u001b[1;32m      6\u001b[0m knn_idx \u001b[39m=\u001b[39m get_innerid(cos_title)\n\u001b[1;32m      7\u001b[0m knn_sim_score \u001b[39m=\u001b[39m \u001b[39mlist\u001b[39m(\u001b[39menumerate\u001b[39m(knn_similarities[knn_idx]))\n\u001b[0;32m----> 8\u001b[0m knn_similar_scores \u001b[39m=\u001b[39m {get_title(i[\u001b[39m0\u001b[39m]): i[\u001b[39m1\u001b[39m] \u001b[39mfor\u001b[39;00m i \u001b[39min\u001b[39;00m knn_sim_score}\n\u001b[1;32m      9\u001b[0m \u001b[39mfor\u001b[39;00m j \u001b[39min\u001b[39;00m \u001b[39mrange\u001b[39m(\u001b[39mlen\u001b[39m(cosine_sim[i])):\n\u001b[1;32m     10\u001b[0m     cos_score \u001b[39m=\u001b[39m cosine_sim[i][j]\n",
      "Cell \u001b[0;32mIn[48], line 8\u001b[0m, in \u001b[0;36m<dictcomp>\u001b[0;34m(.0)\u001b[0m\n\u001b[1;32m      6\u001b[0m knn_idx \u001b[39m=\u001b[39m get_innerid(cos_title)\n\u001b[1;32m      7\u001b[0m knn_sim_score \u001b[39m=\u001b[39m \u001b[39mlist\u001b[39m(\u001b[39menumerate\u001b[39m(knn_similarities[knn_idx]))\n\u001b[0;32m----> 8\u001b[0m knn_similar_scores \u001b[39m=\u001b[39m {get_title(i[\u001b[39m0\u001b[39;49m]): i[\u001b[39m1\u001b[39m] \u001b[39mfor\u001b[39;00m i \u001b[39min\u001b[39;00m knn_sim_score}\n\u001b[1;32m      9\u001b[0m \u001b[39mfor\u001b[39;00m j \u001b[39min\u001b[39;00m \u001b[39mrange\u001b[39m(\u001b[39mlen\u001b[39m(cosine_sim[i])):\n\u001b[1;32m     10\u001b[0m     cos_score \u001b[39m=\u001b[39m cosine_sim[i][j]\n",
      "Cell \u001b[0;32mIn[17], line 4\u001b[0m, in \u001b[0;36mget_title\u001b[0;34m(inner_id)\u001b[0m\n\u001b[1;32m      2\u001b[0m \u001b[39mdef\u001b[39;00m \u001b[39mget_title\u001b[39m(inner_id):\n\u001b[1;32m      3\u001b[0m     steam_id \u001b[39m=\u001b[39m trainset\u001b[39m.\u001b[39mto_raw_iid(inner_id)\n\u001b[0;32m----> 4\u001b[0m     title \u001b[39m=\u001b[39m games_df[games_df[\u001b[39m'\u001b[39;49m\u001b[39mappid\u001b[39;49m\u001b[39m'\u001b[39;49m] \u001b[39m==\u001b[39;49m steam_id]\u001b[39m.\u001b[39miloc[\u001b[39m0\u001b[39m][\u001b[39m'\u001b[39m\u001b[39mname\u001b[39m\u001b[39m'\u001b[39m]\n\u001b[1;32m      5\u001b[0m     \u001b[39mreturn\u001b[39;00m title\n",
      "File \u001b[0;32m~/Lighthouse/Projects/video-game-recommender-v1/vgenv/lib/python3.9/site-packages/pandas/core/ops/common.py:72\u001b[0m, in \u001b[0;36m_unpack_zerodim_and_defer.<locals>.new_method\u001b[0;34m(self, other)\u001b[0m\n\u001b[1;32m     68\u001b[0m             \u001b[39mreturn\u001b[39;00m \u001b[39mNotImplemented\u001b[39m\n\u001b[1;32m     70\u001b[0m other \u001b[39m=\u001b[39m item_from_zerodim(other)\n\u001b[0;32m---> 72\u001b[0m \u001b[39mreturn\u001b[39;00m method(\u001b[39mself\u001b[39;49m, other)\n",
      "File \u001b[0;32m~/Lighthouse/Projects/video-game-recommender-v1/vgenv/lib/python3.9/site-packages/pandas/core/arraylike.py:42\u001b[0m, in \u001b[0;36mOpsMixin.__eq__\u001b[0;34m(self, other)\u001b[0m\n\u001b[1;32m     40\u001b[0m \u001b[39m@unpack_zerodim_and_defer\u001b[39m(\u001b[39m\"\u001b[39m\u001b[39m__eq__\u001b[39m\u001b[39m\"\u001b[39m)\n\u001b[1;32m     41\u001b[0m \u001b[39mdef\u001b[39;00m \u001b[39m__eq__\u001b[39m(\u001b[39mself\u001b[39m, other):\n\u001b[0;32m---> 42\u001b[0m     \u001b[39mreturn\u001b[39;00m \u001b[39mself\u001b[39;49m\u001b[39m.\u001b[39;49m_cmp_method(other, operator\u001b[39m.\u001b[39;49meq)\n",
      "File \u001b[0;32m~/Lighthouse/Projects/video-game-recommender-v1/vgenv/lib/python3.9/site-packages/pandas/core/series.py:6245\u001b[0m, in \u001b[0;36mSeries._cmp_method\u001b[0;34m(self, other, op)\u001b[0m\n\u001b[1;32m   6242\u001b[0m \u001b[39mwith\u001b[39;00m np\u001b[39m.\u001b[39merrstate(\u001b[39mall\u001b[39m\u001b[39m=\u001b[39m\u001b[39m\"\u001b[39m\u001b[39mignore\u001b[39m\u001b[39m\"\u001b[39m):\n\u001b[1;32m   6243\u001b[0m     res_values \u001b[39m=\u001b[39m ops\u001b[39m.\u001b[39mcomparison_op(lvalues, rvalues, op)\n\u001b[0;32m-> 6245\u001b[0m \u001b[39mreturn\u001b[39;00m \u001b[39mself\u001b[39;49m\u001b[39m.\u001b[39;49m_construct_result(res_values, name\u001b[39m=\u001b[39;49mres_name)\n",
      "File \u001b[0;32m~/Lighthouse/Projects/video-game-recommender-v1/vgenv/lib/python3.9/site-packages/pandas/core/series.py:3228\u001b[0m, in \u001b[0;36mSeries._construct_result\u001b[0;34m(self, result, name)\u001b[0m\n\u001b[1;32m   3224\u001b[0m out \u001b[39m=\u001b[39m out\u001b[39m.\u001b[39m__finalize__(\u001b[39mself\u001b[39m)\n\u001b[1;32m   3226\u001b[0m \u001b[39m# Set the result's name after __finalize__ is called because __finalize__\u001b[39;00m\n\u001b[1;32m   3227\u001b[0m \u001b[39m#  would set it back to self.name\u001b[39;00m\n\u001b[0;32m-> 3228\u001b[0m out\u001b[39m.\u001b[39;49mname \u001b[39m=\u001b[39m name\n\u001b[1;32m   3229\u001b[0m \u001b[39mreturn\u001b[39;00m out\n",
      "File \u001b[0;32m~/Lighthouse/Projects/video-game-recommender-v1/vgenv/lib/python3.9/site-packages/pandas/core/generic.py:5914\u001b[0m, in \u001b[0;36mNDFrame.__setattr__\u001b[0;34m(self, name, value)\u001b[0m\n\u001b[1;32m   5909\u001b[0m \u001b[39m# first try regular attribute access via __getattribute__, so that\u001b[39;00m\n\u001b[1;32m   5910\u001b[0m \u001b[39m# e.g. ``obj.x`` and ``obj.x = 4`` will always reference/modify\u001b[39;00m\n\u001b[1;32m   5911\u001b[0m \u001b[39m# the same attribute.\u001b[39;00m\n\u001b[1;32m   5913\u001b[0m \u001b[39mtry\u001b[39;00m:\n\u001b[0;32m-> 5914\u001b[0m     \u001b[39mobject\u001b[39;49m\u001b[39m.\u001b[39;49m\u001b[39m__getattribute__\u001b[39;49m(\u001b[39mself\u001b[39;49m, name)\n\u001b[1;32m   5915\u001b[0m     \u001b[39mreturn\u001b[39;00m \u001b[39mobject\u001b[39m\u001b[39m.\u001b[39m\u001b[39m__setattr__\u001b[39m(\u001b[39mself\u001b[39m, name, value)\n\u001b[1;32m   5916\u001b[0m \u001b[39mexcept\u001b[39;00m \u001b[39mAttributeError\u001b[39;00m:\n",
      "File \u001b[0;32m~/Lighthouse/Projects/video-game-recommender-v1/vgenv/lib/python3.9/site-packages/pandas/core/series.py:659\u001b[0m, in \u001b[0;36mSeries.name\u001b[0;34m(self)\u001b[0m\n\u001b[1;32m    611\u001b[0m \u001b[39m@property\u001b[39m\n\u001b[1;32m    612\u001b[0m \u001b[39mdef\u001b[39;00m \u001b[39mname\u001b[39m(\u001b[39mself\u001b[39m) \u001b[39m-\u001b[39m\u001b[39m>\u001b[39m Hashable:\n\u001b[1;32m    613\u001b[0m \u001b[39m    \u001b[39m\u001b[39m\"\"\"\u001b[39;00m\n\u001b[1;32m    614\u001b[0m \u001b[39m    Return the name of the Series.\u001b[39;00m\n\u001b[1;32m    615\u001b[0m \n\u001b[0;32m   (...)\u001b[0m\n\u001b[1;32m    657\u001b[0m \u001b[39m    'Even Numbers'\u001b[39;00m\n\u001b[1;32m    658\u001b[0m \u001b[39m    \"\"\"\u001b[39;00m\n\u001b[0;32m--> 659\u001b[0m     \u001b[39mreturn\u001b[39;00m \u001b[39mself\u001b[39;49m\u001b[39m.\u001b[39;49m_name\n",
      "\u001b[0;31mKeyboardInterrupt\u001b[0m: "
     ]
    }
   ],
   "source": [
    "# make a weighted average matrix of the the ordered knn and cosine matrix\n",
    "weighted_sim = (knn_sim_ordered + cosine_sim) / 2"
   ]
  },
  {
   "cell_type": "code",
   "execution_count": null,
   "id": "d507962c",
   "metadata": {},
   "outputs": [],
   "source": [
    "recommend_content('LIMBO', weighted_sim)"
   ]
  },
  {
   "cell_type": "code",
   "execution_count": null,
   "id": "c96f2657",
   "metadata": {},
   "outputs": [],
   "source": [
    "# store weighted similarity matrix in pickle\n",
    "pickle.dump(weighted_sim, open('../models/weighted_sim.pkl', 'wb'))"
   ]
  },
  {
   "cell_type": "code",
   "execution_count": 74,
   "id": "d089ed01-642c-4c18-bb19-07b2c72adb3c",
   "metadata": {},
   "outputs": [],
   "source": [
    "def combined_recom(title):\n",
    "    '''DEPRECATED Returns two lists of recommended games based on both user and game data'''\n",
    "    # get recommended games from knn\n",
    "    knn_recom = recommend_knn(title)\n",
    "    # get recommended games from content based\n",
    "    cont_recom = recommend_content(title)\n",
    "    # print knn_recom\n",
    "    print('Similar recommendations to', title, 'based on user data:')\n",
    "    print(*knn_recom, sep='\\n')\n",
    "    print('\\nSimilar recommendations to', title, 'based on game data:')\n",
    "    print(*cont_recom, sep='\\n')"
   ]
  },
  {
   "cell_type": "code",
   "execution_count": 31,
   "id": "ad82e090-9477-48c9-b03c-459971e5f7dd",
   "metadata": {},
   "outputs": [
    {
     "name": "stdout",
     "output_type": "stream",
     "text": [
      "Similar recommendations to DOOM based on user data:\n",
      "HITMAN™\n",
      "GTFO\n",
      "HITMAN™ 2\n",
      "Tom Clancy's Rainbow Six® Vegas 2\n",
      "The Escapists 2\n",
      "Ori and the Blind Forest: Definitive Edition\n",
      "POSTAL 2\n",
      "A Hat in Time\n",
      "Serious Sam 3: BFE\n",
      "Batman: Arkham City\n",
      "\n",
      "Similar recommendations to DOOM based on game data:\n",
      "Saints Row: The Third\n",
      "DOOM Eternal\n",
      "Psychonauts\n",
      "Toukiden: Kiwami\n",
      "Danganronpa Another Episode: Ultra Despair Girls\n",
      "Crash Bandicoot™ N. Sane Trilogy\n",
      "Monster Hunter: World\n",
      "UNLOVED\n",
      "NieR:Automata™\n",
      "Dead Rising® 2\n"
     ]
    }
   ],
   "source": [
    "# test run for combined\n",
    "\n",
    "title = 'LIMBO'\n",
    "combined_recom(title)"
   ]
  },
  {
   "cell_type": "code",
   "execution_count": null,
   "id": "ed794440-1426-4102-b7f3-160e5aa674f1",
   "metadata": {},
   "outputs": [],
   "source": []
  }
 ],
 "metadata": {
  "kernelspec": {
   "display_name": "vgenv",
   "language": "python",
   "name": "python3"
  },
  "language_info": {
   "codemirror_mode": {
    "name": "ipython",
    "version": 3
   },
   "file_extension": ".py",
   "mimetype": "text/x-python",
   "name": "python",
   "nbconvert_exporter": "python",
   "pygments_lexer": "ipython3",
   "version": "3.9.7"
  },
  "vscode": {
   "interpreter": {
    "hash": "e001bd8958d257f2b8a5f22964dbb72a9c6d26505f9599b23f40d21e591583c3"
   }
  }
 },
 "nbformat": 4,
 "nbformat_minor": 5
}
