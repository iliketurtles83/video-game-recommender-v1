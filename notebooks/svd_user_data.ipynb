{
 "cells": [
  {
   "attachments": {},
   "cell_type": "markdown",
   "metadata": {},
   "source": [
    "### Singular Value Decomposition for user playtimes"
   ]
  },
  {
   "cell_type": "code",
   "execution_count": 32,
   "metadata": {},
   "outputs": [],
   "source": [
    "import pandas as pd\n",
    "from sklearn.preprocessing import StandardScaler\n",
    "from surprise import SVDpp, BaselineOnly\n",
    "from surprise import Reader, Dataset\n",
    "from surprise import accuracy\n",
    "from surprise.model_selection import GridSearchCV\n",
    "from surprise.model_selection import train_test_split"
   ]
  },
  {
   "cell_type": "code",
   "execution_count": 18,
   "metadata": {},
   "outputs": [],
   "source": [
    "users_df = pd.read_csv('../data/steam_playtime_clean.csv')"
   ]
  },
  {
   "cell_type": "code",
   "execution_count": 19,
   "metadata": {},
   "outputs": [],
   "source": [
    "# use StandardScaler to scale user playtimes\n",
    "scaler = StandardScaler()\n",
    "users_df['playtime_forever'] = scaler.fit_transform(users_df['playtime_forever'].values.reshape(-1, 1))"
   ]
  },
  {
   "cell_type": "code",
   "execution_count": 20,
   "metadata": {},
   "outputs": [],
   "source": [
    "# instantiate surprise.Reader()\n",
    "reader = Reader()\n",
    "\n",
    "# make surprise dataset\n",
    "data = Dataset.load_from_df(users_df[['steam_id', 'appid', 'playtime_forever']], reader)"
   ]
  },
  {
   "cell_type": "code",
   "execution_count": 21,
   "metadata": {},
   "outputs": [],
   "source": [
    "# make a training and test set\n",
    "trainset, testset = train_test_split(data, test_size=0.25)"
   ]
  },
  {
   "cell_type": "code",
   "execution_count": 22,
   "metadata": {},
   "outputs": [],
   "source": [
    "# do gridsearch on svdpp\n",
    "param_grid = {'n_factors': [50, 150], 'n_epochs': [20, 40], 'lr_all': [0.005, 0.02], 'reg_all': [0.02, 0.2]}\n",
    "gs = GridSearchCV(SVDpp, param_grid, measures=['rmse', 'mae'], cv=3)"
   ]
  },
  {
   "cell_type": "code",
   "execution_count": 23,
   "metadata": {},
   "outputs": [
    {
     "ename": "KeyboardInterrupt",
     "evalue": "",
     "output_type": "error",
     "traceback": [
      "\u001b[0;31m---------------------------------------------------------------------------\u001b[0m",
      "\u001b[0;31mKeyboardInterrupt\u001b[0m                         Traceback (most recent call last)",
      "Cell \u001b[0;32mIn[23], line 1\u001b[0m\n\u001b[0;32m----> 1\u001b[0m gs\u001b[39m.\u001b[39;49mfit(data)\n",
      "File \u001b[0;32m~/Lighthouse/Projects/video-game-recommender-v1/vgenv/lib/python3.9/site-packages/surprise/model_selection/search.py:100\u001b[0m, in \u001b[0;36mBaseSearchCV.fit\u001b[0;34m(self, data)\u001b[0m\n\u001b[1;32m     85\u001b[0m     \u001b[39mraise\u001b[39;00m \u001b[39mValueError\u001b[39;00m(\n\u001b[1;32m     86\u001b[0m         \u001b[39m\"\u001b[39m\u001b[39mrefit cannot be used when data has been \u001b[39m\u001b[39m\"\u001b[39m\n\u001b[1;32m     87\u001b[0m         \u001b[39m\"\u001b[39m\u001b[39mloaded with load_from_folds().\u001b[39m\u001b[39m\"\u001b[39m\n\u001b[1;32m     88\u001b[0m     )\n\u001b[1;32m     90\u001b[0m cv \u001b[39m=\u001b[39m get_cv(\u001b[39mself\u001b[39m\u001b[39m.\u001b[39mcv)\n\u001b[1;32m     92\u001b[0m delayed_list \u001b[39m=\u001b[39m (\n\u001b[1;32m     93\u001b[0m     delayed(fit_and_score)(\n\u001b[1;32m     94\u001b[0m         \u001b[39mself\u001b[39m\u001b[39m.\u001b[39malgo_class(\u001b[39m*\u001b[39m\u001b[39m*\u001b[39mparams),\n\u001b[1;32m     95\u001b[0m         trainset,\n\u001b[1;32m     96\u001b[0m         testset,\n\u001b[1;32m     97\u001b[0m         \u001b[39mself\u001b[39m\u001b[39m.\u001b[39mmeasures,\n\u001b[1;32m     98\u001b[0m         \u001b[39mself\u001b[39m\u001b[39m.\u001b[39mreturn_train_measures,\n\u001b[1;32m     99\u001b[0m     )\n\u001b[0;32m--> 100\u001b[0m     \u001b[39mfor\u001b[39;00m params, (trainset, testset) \u001b[39min\u001b[39;00m product(\n\u001b[1;32m    101\u001b[0m         \u001b[39mself\u001b[39;49m\u001b[39m.\u001b[39;49mparam_combinations, cv\u001b[39m.\u001b[39;49msplit(data)\n\u001b[1;32m    102\u001b[0m     )\n\u001b[1;32m    103\u001b[0m )\n\u001b[1;32m    104\u001b[0m out \u001b[39m=\u001b[39m Parallel(\n\u001b[1;32m    105\u001b[0m     n_jobs\u001b[39m=\u001b[39m\u001b[39mself\u001b[39m\u001b[39m.\u001b[39mn_jobs,\n\u001b[1;32m    106\u001b[0m     pre_dispatch\u001b[39m=\u001b[39m\u001b[39mself\u001b[39m\u001b[39m.\u001b[39mpre_dispatch,\n\u001b[1;32m    107\u001b[0m     verbose\u001b[39m=\u001b[39m\u001b[39mself\u001b[39m\u001b[39m.\u001b[39mjoblib_verbose,\n\u001b[1;32m    108\u001b[0m )(delayed_list)\n\u001b[1;32m    110\u001b[0m (test_measures_dicts, train_measures_dicts, fit_times, test_times) \u001b[39m=\u001b[39m \u001b[39mzip\u001b[39m(\u001b[39m*\u001b[39mout)\n",
      "File \u001b[0;32m~/Lighthouse/Projects/video-game-recommender-v1/vgenv/lib/python3.9/site-packages/surprise/model_selection/split.py:117\u001b[0m, in \u001b[0;36mKFold.split\u001b[0;34m(self, data)\u001b[0m\n\u001b[1;32m    112\u001b[0m raw_trainset \u001b[39m=\u001b[39m [\n\u001b[1;32m    113\u001b[0m     data\u001b[39m.\u001b[39mraw_ratings[i] \u001b[39mfor\u001b[39;00m i \u001b[39min\u001b[39;00m chain(indices[:start], indices[stop:])\n\u001b[1;32m    114\u001b[0m ]\n\u001b[1;32m    115\u001b[0m raw_testset \u001b[39m=\u001b[39m [data\u001b[39m.\u001b[39mraw_ratings[i] \u001b[39mfor\u001b[39;00m i \u001b[39min\u001b[39;00m indices[start:stop]]\n\u001b[0;32m--> 117\u001b[0m trainset \u001b[39m=\u001b[39m data\u001b[39m.\u001b[39;49mconstruct_trainset(raw_trainset)\n\u001b[1;32m    118\u001b[0m testset \u001b[39m=\u001b[39m data\u001b[39m.\u001b[39mconstruct_testset(raw_testset)\n\u001b[1;32m    120\u001b[0m \u001b[39myield\u001b[39;00m trainset, testset\n",
      "File \u001b[0;32m~/Lighthouse/Projects/video-game-recommender-v1/vgenv/lib/python3.9/site-packages/surprise/dataset.py:206\u001b[0m, in \u001b[0;36mDataset.construct_trainset\u001b[0;34m(self, raw_trainset)\u001b[0m\n\u001b[1;32m    203\u001b[0m         raw2inner_id_items[irid] \u001b[39m=\u001b[39m current_i_index\n\u001b[1;32m    204\u001b[0m         current_i_index \u001b[39m+\u001b[39m\u001b[39m=\u001b[39m \u001b[39m1\u001b[39m\n\u001b[0;32m--> 206\u001b[0m     ur[uid]\u001b[39m.\u001b[39mappend((iid, r))\n\u001b[1;32m    207\u001b[0m     ir[iid]\u001b[39m.\u001b[39mappend((uid, r))\n\u001b[1;32m    209\u001b[0m n_users \u001b[39m=\u001b[39m \u001b[39mlen\u001b[39m(ur)  \u001b[39m# number of users\u001b[39;00m\n",
      "\u001b[0;31mKeyboardInterrupt\u001b[0m: "
     ]
    }
   ],
   "source": [
    "gs.fit(data)"
   ]
  },
  {
   "cell_type": "code",
   "execution_count": 35,
   "metadata": {},
   "outputs": [],
   "source": [
    "svdpp = SVDpp(n_factors=150, n_epochs=40, lr_all=0.02, reg_all=0.2)"
   ]
  },
  {
   "cell_type": "code",
   "execution_count": 36,
   "metadata": {},
   "outputs": [],
   "source": [
    "fullset = data.build_full_trainset()"
   ]
  },
  {
   "cell_type": "code",
   "execution_count": 37,
   "metadata": {},
   "outputs": [
    {
     "ename": "KeyboardInterrupt",
     "evalue": "",
     "output_type": "error",
     "traceback": [
      "\u001b[0;31m---------------------------------------------------------------------------\u001b[0m",
      "\u001b[0;31mKeyboardInterrupt\u001b[0m                         Traceback (most recent call last)",
      "Cell \u001b[0;32mIn[37], line 1\u001b[0m\n\u001b[0;32m----> 1\u001b[0m svdpp\u001b[39m.\u001b[39;49mfit(fullset)\n",
      "File \u001b[0;32m~/Lighthouse/Projects/video-game-recommender-v1/vgenv/lib/python3.9/site-packages/surprise/prediction_algorithms/matrix_factorization.pyx:400\u001b[0m, in \u001b[0;36msurprise.prediction_algorithms.matrix_factorization.SVDpp.fit\u001b[0;34m()\u001b[0m\n",
      "File \u001b[0;32m~/Lighthouse/Projects/video-game-recommender-v1/vgenv/lib/python3.9/site-packages/surprise/prediction_algorithms/matrix_factorization.pyx:464\u001b[0m, in \u001b[0;36msurprise.prediction_algorithms.matrix_factorization.SVDpp.sgd\u001b[0;34m()\u001b[0m\n",
      "File \u001b[0;32m~/Lighthouse/Projects/video-game-recommender-v1/vgenv/lib/python3.9/site-packages/surprise/trainset.py:194\u001b[0m, in \u001b[0;36mTrainset.all_ratings\u001b[0;34m(self)\u001b[0m\n\u001b[1;32m    192\u001b[0m \u001b[39mfor\u001b[39;00m u, u_ratings \u001b[39min\u001b[39;00m \u001b[39mself\u001b[39m\u001b[39m.\u001b[39mur\u001b[39m.\u001b[39mitems():\n\u001b[1;32m    193\u001b[0m     \u001b[39mfor\u001b[39;00m i, r \u001b[39min\u001b[39;00m u_ratings:\n\u001b[0;32m--> 194\u001b[0m         \u001b[39myield\u001b[39;00m u, i, r\n",
      "\u001b[0;31mKeyboardInterrupt\u001b[0m: "
     ]
    }
   ],
   "source": [
    "svdpp.fit(fullset)"
   ]
  },
  {
   "cell_type": "code",
   "execution_count": null,
   "metadata": {},
   "outputs": [],
   "source": []
  },
  {
   "cell_type": "code",
   "execution_count": 26,
   "metadata": {},
   "outputs": [],
   "source": [
    "# grid search params for baselineonly\n",
    "param_grid = {'bsl_options': {'method': ['als', 'sgd'], 'reg': [0.02, 0.2], 'learning_rate': [0.005, 0.02]}}\n",
    "gs = GridSearchCV(BaselineOnly, param_grid, measures=['rmse', 'mae'], cv=3)"
   ]
  },
  {
   "cell_type": "code",
   "execution_count": 27,
   "metadata": {},
   "outputs": [
    {
     "name": "stdout",
     "output_type": "stream",
     "text": [
      "Estimating biases using als...\n",
      "Estimating biases using als...\n",
      "Estimating biases using als...\n",
      "Estimating biases using als...\n",
      "Estimating biases using als...\n",
      "Estimating biases using als...\n",
      "Estimating biases using als...\n",
      "Estimating biases using als...\n",
      "Estimating biases using als...\n",
      "Estimating biases using als...\n",
      "Estimating biases using als...\n",
      "Estimating biases using als...\n",
      "Estimating biases using sgd...\n",
      "Estimating biases using sgd...\n",
      "Estimating biases using sgd...\n",
      "Estimating biases using sgd...\n",
      "Estimating biases using sgd...\n",
      "Estimating biases using sgd...\n",
      "Estimating biases using sgd...\n",
      "Estimating biases using sgd...\n",
      "Estimating biases using sgd...\n",
      "Estimating biases using sgd...\n",
      "Estimating biases using sgd...\n",
      "Estimating biases using sgd...\n"
     ]
    }
   ],
   "source": [
    "gs.fit(data)"
   ]
  },
  {
   "cell_type": "code",
   "execution_count": 28,
   "metadata": {},
   "outputs": [
    {
     "data": {
      "text/plain": [
       "{'rmse': {'bsl_options': {'method': 'als',\n",
       "   'reg': 0.02,\n",
       "   'learning_rate': 0.005}},\n",
       " 'mae': {'bsl_options': {'method': 'als',\n",
       "   'reg': 0.02,\n",
       "   'learning_rate': 0.005}}}"
      ]
     },
     "execution_count": 28,
     "metadata": {},
     "output_type": "execute_result"
    }
   ],
   "source": [
    "gs.best_params"
   ]
  },
  {
   "cell_type": "code",
   "execution_count": 29,
   "metadata": {},
   "outputs": [],
   "source": [
    "# make baselineonly using best params\n",
    "bsl_options = {'method': 'als', 'reg': 0.02, 'learning_rate': 0.005}\n",
    "algo = BaselineOnly(bsl_options=bsl_options)"
   ]
  },
  {
   "cell_type": "code",
   "execution_count": 30,
   "metadata": {},
   "outputs": [
    {
     "name": "stdout",
     "output_type": "stream",
     "text": [
      "Estimating biases using als...\n"
     ]
    },
    {
     "data": {
      "text/plain": [
       "<surprise.prediction_algorithms.baseline_only.BaselineOnly at 0x7f1064c4f7c0>"
      ]
     },
     "execution_count": 30,
     "metadata": {},
     "output_type": "execute_result"
    }
   ],
   "source": [
    "algo.fit(trainset)"
   ]
  },
  {
   "cell_type": "code",
   "execution_count": 33,
   "metadata": {},
   "outputs": [
    {
     "name": "stdout",
     "output_type": "stream",
     "text": [
      "Estimating biases using als...\n"
     ]
    }
   ],
   "source": [
    "bsl_predictions = algo.fit(trainset).test(testset)"
   ]
  },
  {
   "cell_type": "code",
   "execution_count": 34,
   "metadata": {},
   "outputs": [
    {
     "name": "stdout",
     "output_type": "stream",
     "text": [
      "RMSE: 1.3836\n"
     ]
    },
    {
     "data": {
      "text/plain": [
       "1.3836407094728962"
      ]
     },
     "execution_count": 34,
     "metadata": {},
     "output_type": "execute_result"
    }
   ],
   "source": [
    "accuracy.rmse(bsl_predictions)"
   ]
  },
  {
   "cell_type": "code",
   "execution_count": null,
   "metadata": {},
   "outputs": [],
   "source": []
  }
 ],
 "metadata": {
  "kernelspec": {
   "display_name": "vgenv",
   "language": "python",
   "name": "python3"
  },
  "language_info": {
   "codemirror_mode": {
    "name": "ipython",
    "version": 3
   },
   "file_extension": ".py",
   "mimetype": "text/x-python",
   "name": "python",
   "nbconvert_exporter": "python",
   "pygments_lexer": "ipython3",
   "version": "3.9.7"
  },
  "orig_nbformat": 4,
  "vscode": {
   "interpreter": {
    "hash": "e001bd8958d257f2b8a5f22964dbb72a9c6d26505f9599b23f40d21e591583c3"
   }
  }
 },
 "nbformat": 4,
 "nbformat_minor": 2
}
