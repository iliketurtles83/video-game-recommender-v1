{
 "cells": [
  {
   "attachments": {},
   "cell_type": "markdown",
   "metadata": {},
   "source": [
    "### Exploratory Data Analysis of Steam data"
   ]
  },
  {
   "cell_type": "code",
   "execution_count": null,
   "metadata": {},
   "outputs": [],
   "source": [
    "import os\n",
    "import pandas as pd\n",
    "import numpy as np\n",
    "import seaborn as sns\n",
    "import matplotlib.pyplot as plt"
   ]
  },
  {
   "cell_type": "code",
   "execution_count": null,
   "metadata": {},
   "outputs": [],
   "source": [
    "playtime_df = pd.read_csv('../data/steam_playtime.csv')"
   ]
  },
  {
   "cell_type": "code",
   "execution_count": null,
   "metadata": {},
   "outputs": [],
   "source": [
    "playtime_df.sort_values(by='playtime_forever', ascending=False).head()"
   ]
  },
  {
   "cell_type": "code",
   "execution_count": null,
   "metadata": {},
   "outputs": [],
   "source": [
    "len(playtime_df)"
   ]
  },
  {
   "attachments": {},
   "cell_type": "markdown",
   "metadata": {},
   "source": [
    "### Domain knowledge based filtering\n",
    "Play around with these to see which combinations yield better results in z-score, iqr and thereby the overall model"
   ]
  },
  {
   "cell_type": "code",
   "execution_count": null,
   "metadata": {},
   "outputs": [],
   "source": [
    "# drop counterstrike i.e. drop rows where appid is 730, 10 or 240\n",
    "playtime_df = playtime_df[~playtime_df['appid'].isin([730, 10, 240])]"
   ]
  },
  {
   "cell_type": "code",
   "execution_count": null,
   "metadata": {},
   "outputs": [],
   "source": [
    "# drop user playtimes over x minutes\n",
    "playtime_df = playtime_df[playtime_df['playtime_forever'] < 1000000]"
   ]
  },
  {
   "cell_type": "code",
   "execution_count": null,
   "metadata": {},
   "outputs": [],
   "source": [
    "# remove user playtimes under x minutes\n",
    "playtime_df = playtime_df[playtime_df['playtime_forever'] > 60]"
   ]
  },
  {
   "cell_type": "code",
   "execution_count": null,
   "metadata": {},
   "outputs": [],
   "source": [
    "large_2week_playtimes = playtime_df[playtime_df['playtime_2weeks'] > 5000]"
   ]
  },
  {
   "cell_type": "code",
   "execution_count": null,
   "metadata": {},
   "outputs": [],
   "source": [
    "# drop users that are in large_2week_playtimes\n",
    "playtime_df = playtime_df[~playtime_df['steam_id'].isin(large_2week_playtimes['steam_id'])]"
   ]
  },
  {
   "cell_type": "code",
   "execution_count": null,
   "metadata": {},
   "outputs": [],
   "source": [
    "# get mean for playtime_forever grouped by steam_id\n",
    "grouped_by_users_mean = playtime_df.groupby('steam_id')['playtime_forever'].mean()"
   ]
  },
  {
   "cell_type": "code",
   "execution_count": null,
   "metadata": {},
   "outputs": [],
   "source": [
    "# show biggest grouped_by_users_mean values in hours\n",
    "grouped_by_users_mean.sort_values(ascending=False, ) / 60"
   ]
  },
  {
   "cell_type": "code",
   "execution_count": null,
   "metadata": {},
   "outputs": [],
   "source": [
    "# drop extreme playtime_2weeks values, 5000 in 2 weeks equals 5.9 hours a day\n",
    "playtime_df = playtime_df[playtime_df['playtime_2weeks'] < 5000]"
   ]
  },
  {
   "attachments": {},
   "cell_type": "markdown",
   "metadata": {},
   "source": [
    "### Z-SCORE"
   ]
  },
  {
   "cell_type": "code",
   "execution_count": null,
   "metadata": {},
   "outputs": [],
   "source": [
    "# get mean for playtime_forever\n",
    "users_mean = playtime_df['playtime_forever'].mean()"
   ]
  },
  {
   "cell_type": "code",
   "execution_count": null,
   "metadata": {},
   "outputs": [],
   "source": [
    "# get standard deviation for playtime_forever\n",
    "users_std = playtime_df['playtime_forever'].std()"
   ]
  },
  {
   "cell_type": "code",
   "execution_count": null,
   "metadata": {},
   "outputs": [],
   "source": [
    "print(users_mean, users_std)"
   ]
  },
  {
   "cell_type": "code",
   "execution_count": null,
   "metadata": {},
   "outputs": [],
   "source": [
    "def get_zscore(value, values):\n",
    "    \"\"\"Obtain the z-score of a given value\"\"\"\n",
    "    m = users_mean\n",
    "    s = users_std\n",
    "    z_score = (value - m)/s\n",
    "    return np.abs(z_score)"
   ]
  },
  {
   "cell_type": "code",
   "execution_count": null,
   "metadata": {},
   "outputs": [],
   "source": [
    "# compute z-scores for all values\n",
    "playtime_df['z-score'] = playtime_df['playtime_forever'].apply(lambda x: get_zscore(x, playtime_df['playtime_forever']))\n",
    "\n",
    "# find outliers\n",
    "outliers = playtime_df[playtime_df['z-score']>3]\n",
    "outliers.sort_values(by='playtime_forever', ascending=False)"
   ]
  },
  {
   "cell_type": "code",
   "execution_count": null,
   "metadata": {},
   "outputs": [],
   "source": [
    "# z-score too big around the 131k mark\n",
    "inliers = playtime_df[playtime_df['z-score']<3]\n",
    "inliers.sort_values(by='playtime_forever', ascending=False)"
   ]
  },
  {
   "cell_type": "code",
   "execution_count": null,
   "metadata": {},
   "outputs": [],
   "source": [
    "print(inliers['playtime_forever'].mean(), inliers['playtime_forever'].std())"
   ]
  },
  {
   "cell_type": "code",
   "execution_count": null,
   "metadata": {},
   "outputs": [],
   "source": [
    "# z-score does not take care of crazy playtime_2weeks values\n",
    "inliers.sort_values(by=['playtime_2weeks'], ascending=False)"
   ]
  },
  {
   "attachments": {},
   "cell_type": "markdown",
   "metadata": {},
   "source": [
    "### Interquartile Range"
   ]
  },
  {
   "cell_type": "code",
   "execution_count": null,
   "metadata": {},
   "outputs": [],
   "source": [
    "# define the lower and upper bound \n",
    "q1 = np.quantile(playtime_df['playtime_forever'], 0.25)\n",
    "q3 = np.quantile(playtime_df['playtime_forever'], 0.75) \n",
    "iqr = q3 - q1\n",
    "lower_bound = q1 - 1.5*iqr\n",
    "upper_bound = q3 + 1.5*iqr\n",
    "\n",
    "# find records that fall outside of the lower and upper bound\n",
    "iqr_outliers = playtime_df[(playtime_df['playtime_forever']<lower_bound) | (playtime_df['playtime_forever']>upper_bound)]\n",
    "iqr_outliers.sort_values(by='playtime_forever', ascending=False)"
   ]
  },
  {
   "cell_type": "code",
   "execution_count": null,
   "metadata": {},
   "outputs": [],
   "source": [
    "iqr_inliers = playtime_df[(playtime_df['playtime_forever']>lower_bound) & (playtime_df['playtime_forever']<upper_bound)]\n",
    "iqr_inliers.sort_values(by='playtime_forever', ascending=False)"
   ]
  },
  {
   "cell_type": "code",
   "execution_count": null,
   "metadata": {},
   "outputs": [],
   "source": [
    "iqr_inliers.sort_values(by=['playtime_2weeks'], ascending=False)"
   ]
  },
  {
   "cell_type": "code",
   "execution_count": null,
   "metadata": {},
   "outputs": [],
   "source": [
    "iqr_inliers.to_csv('../data/steam_playtime_clean_iqr.csv', index=False)"
   ]
  },
  {
   "attachments": {},
   "cell_type": "markdown",
   "metadata": {},
   "source": [
    "### EXPLORATION & PLOTS"
   ]
  },
  {
   "cell_type": "code",
   "execution_count": null,
   "metadata": {},
   "outputs": [],
   "source": [
    "# plot distribution of playtime_forever\n",
    "sns.distplot(playtime_df['playtime_forever'], kde=False, bins=10)"
   ]
  },
  {
   "cell_type": "code",
   "execution_count": null,
   "metadata": {},
   "outputs": [],
   "source": [
    "# histogram of playtime_forever\n",
    "num_bins = 20\n",
    "range_min, range_max = np.min(playtime_df['playtime_forever']), np.max(playtime_df['playtime_forever'])\n",
    "\n",
    "plt.hist(playtime_df['playtime_forever'], bins=num_bins, range=(range_min, range_max))\n",
    "\n",
    "# labels\n",
    "plt.xlabel('Playtime (minutes)')\n",
    "plt.ylabel('Frequency')\n",
    "plt.title('Distribution of playtime')\n",
    "\n",
    "# show plot\n",
    "plt.show()"
   ]
  },
  {
   "cell_type": "code",
   "execution_count": null,
   "metadata": {},
   "outputs": [],
   "source": [
    "sort_by_2weeks = playtime_df.sort_values(by='playtime_2weeks', ascending=False)"
   ]
  },
  {
   "cell_type": "code",
   "execution_count": null,
   "metadata": {},
   "outputs": [],
   "source": [
    "# plot sort_by_2weeks\n",
    "sns.distplot(sort_by_2weeks['playtime_2weeks'], kde=False, bins=10)\n"
   ]
  },
  {
   "cell_type": "code",
   "execution_count": null,
   "metadata": {},
   "outputs": [],
   "source": [
    "# sort by playtime_forever\n",
    "sort_by_playtime = playtime_df.sort_values(by = ['playtime_forever'], ascending = False).reset_index()"
   ]
  },
  {
   "cell_type": "code",
   "execution_count": null,
   "metadata": {},
   "outputs": [],
   "source": [
    "# plot distribution of playtimes\n",
    "sort_by_playtime.plot(kind = 'hist')"
   ]
  },
  {
   "cell_type": "code",
   "execution_count": null,
   "metadata": {},
   "outputs": [],
   "source": [
    "sort_by_playtime"
   ]
  },
  {
   "cell_type": "code",
   "execution_count": null,
   "metadata": {},
   "outputs": [],
   "source": [
    "sort_by_playtime.plot(y='playtime_forever', use_index=True)"
   ]
  },
  {
   "cell_type": "code",
   "execution_count": null,
   "metadata": {},
   "outputs": [],
   "source": [
    "# plot sort_by_playtime\n",
    "sns.set(rc={'figure.figsize':(11.7,8.27)})\n",
    "sns.histplot(sort_by_playtime['playtime_forever'], bins = 20, kde = True)\n"
   ]
  },
  {
   "cell_type": "code",
   "execution_count": null,
   "metadata": {},
   "outputs": [],
   "source": [
    "sns.boxplot(x=sort_by_playtime['playtime_forever'])\n",
    "plt.show()"
   ]
  },
  {
   "cell_type": "code",
   "execution_count": null,
   "metadata": {},
   "outputs": [],
   "source": [
    "# group by appid and get count, mean, median, min, max\n",
    "playtime_by_game = playtime_df.groupby('appid').agg({'playtime_forever': ['count', 'mean', 'median', 'min', 'max']}).round(2)"
   ]
  },
  {
   "cell_type": "code",
   "execution_count": null,
   "metadata": {},
   "outputs": [],
   "source": [
    "# sort by mean\n",
    "playtime_by_game.sort_values(by=('playtime_forever', 'mean'), ascending=False)"
   ]
  },
  {
   "cell_type": "code",
   "execution_count": null,
   "metadata": {},
   "outputs": [],
   "source": [
    "# sort by count\n",
    "playtime_by_game.sort_values(by=('playtime_forever', 'count'), ascending=True)"
   ]
  },
  {
   "cell_type": "code",
   "execution_count": null,
   "metadata": {},
   "outputs": [],
   "source": [
    "# playtime_by_game where count is 1\n",
    "playtime_by_game[playtime_by_game[('playtime_forever', 'count')] == 1]"
   ]
  },
  {
   "cell_type": "code",
   "execution_count": null,
   "metadata": {},
   "outputs": [],
   "source": [
    "# plot playtime by game\n",
    "plt.figure(figsize=(20,10))\n",
    "sns.barplot(x=playtime_by_game.index, y = playtime_by_game[('playtime_forever', 'mean')])\n",
    "plt.title('Average Playtime by Game')\n",
    "plt.xlabel('Game')\n"
   ]
  },
  {
   "cell_type": "code",
   "execution_count": null,
   "metadata": {},
   "outputs": [],
   "source": [
    "# get appids where count is 1\n",
    "only_one_playtime = playtime_by_game[playtime_by_game[('playtime_forever', 'count')] == 1].index"
   ]
  },
  {
   "cell_type": "code",
   "execution_count": null,
   "metadata": {},
   "outputs": [],
   "source": [
    "# exclude games with only one playtime\n",
    "playtime_df = playtime_df[~playtime_df['appid'].isin(only_one_playtime)]"
   ]
  },
  {
   "cell_type": "code",
   "execution_count": null,
   "metadata": {},
   "outputs": [],
   "source": [
    "playtime_df"
   ]
  },
  {
   "attachments": {},
   "cell_type": "markdown",
   "metadata": {},
   "source": [
    "### GAME METADATA"
   ]
  },
  {
   "cell_type": "code",
   "execution_count": null,
   "metadata": {},
   "outputs": [],
   "source": [
    "games_df = pd.read_csv('../data/steam_app_metadata.csv')"
   ]
  },
  {
   "cell_type": "code",
   "execution_count": null,
   "metadata": {},
   "outputs": [],
   "source": [
    "print(len(games_df))"
   ]
  },
  {
   "cell_type": "code",
   "execution_count": null,
   "metadata": {},
   "outputs": [],
   "source": [
    "games_df"
   ]
  },
  {
   "cell_type": "code",
   "execution_count": null,
   "metadata": {},
   "outputs": [],
   "source": [
    "# show duplicates for appid\n",
    "games_df[games_df.duplicated(subset=['appid'])]"
   ]
  },
  {
   "cell_type": "code",
   "execution_count": null,
   "metadata": {},
   "outputs": [],
   "source": [
    "# remove duplicate appid\n",
    "games_df = games_df.drop_duplicates(subset=['appid'])"
   ]
  },
  {
   "cell_type": "code",
   "execution_count": null,
   "metadata": {},
   "outputs": [],
   "source": [
    "# get duplicates for name\n",
    "dupl_game_names = games_df[games_df.duplicated(subset=['name'])]"
   ]
  },
  {
   "cell_type": "code",
   "execution_count": null,
   "metadata": {},
   "outputs": [],
   "source": [
    "# rename appid's in users_df that are duplicates to original appid\n",
    "for index, row in dupl_game_names.iterrows():\n",
    "    dupl_appid = row['appid']\n",
    "    orig_appid = games_df[games_df['name'] == row['name']]['appid'].iloc[0]\n",
    "    playtime_df.loc[playtime_df['appid'] == dupl_appid, 'appid'] = orig_appid\n"
   ]
  },
  {
   "cell_type": "code",
   "execution_count": null,
   "metadata": {},
   "outputs": [],
   "source": [
    "# remove duplicates from games_df\n",
    "games_df = games_df.drop_duplicates(subset=['name'])"
   ]
  },
  {
   "cell_type": "code",
   "execution_count": null,
   "metadata": {},
   "outputs": [],
   "source": [
    "# count nulls for each column\n",
    "games_df.isnull().sum()"
   ]
  },
  {
   "cell_type": "code",
   "execution_count": null,
   "metadata": {},
   "outputs": [],
   "source": [
    "no_description = games_df[games_df['description'].isnull() | (games_df['description'] == '')]\n",
    "games_df = games_df[~games_df['appid'].isin(no_description['appid'])]"
   ]
  },
  {
   "cell_type": "code",
   "execution_count": null,
   "metadata": {},
   "outputs": [],
   "source": [
    "no_dev_or_pub = games_df[(games_df['developer'] == 'None') & games_df['publisher'].isnull()]\n",
    "games_df = games_df[~games_df['appid'].isin(no_dev_or_pub['appid'])]"
   ]
  },
  {
   "cell_type": "code",
   "execution_count": null,
   "metadata": {},
   "outputs": [],
   "source": [
    "# impute developer into publisher where publisher is null\n",
    "games_df['publisher'] = games_df['publisher'].fillna(games_df['developer'])"
   ]
  },
  {
   "cell_type": "code",
   "execution_count": null,
   "metadata": {},
   "outputs": [],
   "source": [
    "# get average 'description' length\n",
    "print('mean is', games_df['description'].str.len().mean().__round__(), 'characters')\n",
    "print('median is', games_df['description'].str.len().median(), 'characters')"
   ]
  },
  {
   "cell_type": "code",
   "execution_count": null,
   "metadata": {},
   "outputs": [],
   "source": [
    "# get average 'description' length\n",
    "games_df[games_df['description'].str.len() > 10000]"
   ]
  },
  {
   "cell_type": "code",
   "execution_count": null,
   "metadata": {},
   "outputs": [],
   "source": []
  }
 ],
 "metadata": {
  "kernelspec": {
   "display_name": "base",
   "language": "python",
   "name": "python3"
  },
  "language_info": {
   "codemirror_mode": {
    "name": "ipython",
    "version": 3
   },
   "file_extension": ".py",
   "mimetype": "text/x-python",
   "name": "python",
   "nbconvert_exporter": "python",
   "pygments_lexer": "ipython3",
   "version": "3.9.7"
  },
  "orig_nbformat": 4,
  "vscode": {
   "interpreter": {
    "hash": "4a3c54e841fe8ed729f88f1a4dbf5907a70c4a9986278aeeef34dd666b803d5d"
   }
  }
 },
 "nbformat": 4,
 "nbformat_minor": 2
}
