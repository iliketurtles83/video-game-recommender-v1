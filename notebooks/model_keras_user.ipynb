{
 "cells": [
  {
   "cell_type": "markdown",
   "id": "eef97ef3",
   "metadata": {},
   "source": [
    "## Keras model"
   ]
  },
  {
   "cell_type": "markdown",
   "id": "351775f1",
   "metadata": {},
   "source": [
    "### Implement the one from Keras website\n",
    "#### Uses only playtime data and seems to do better with the IQR set, it recommended lots of Football Manager otherwise :P"
   ]
  },
  {
   "cell_type": "code",
   "execution_count": null,
   "id": "6d5530ba",
   "metadata": {},
   "outputs": [],
   "source": [
    "%pip install pandas"
   ]
  },
  {
   "cell_type": "code",
   "execution_count": null,
   "id": "079ded27",
   "metadata": {},
   "outputs": [],
   "source": [
    "%pip install scikit-learn"
   ]
  },
  {
   "cell_type": "code",
   "execution_count": null,
   "id": "eebc5dad",
   "metadata": {},
   "outputs": [],
   "source": [
    "import pandas as pd\n",
    "import numpy as np\n",
    "import pickle\n",
    "from sklearn.feature_extraction.text import TfidfVectorizer\n",
    "import tensorflow as tf\n",
    "from tensorflow import keras\n",
    "from tensorflow.keras import layers"
   ]
  },
  {
   "cell_type": "code",
   "execution_count": null,
   "id": "30b9b1da",
   "metadata": {},
   "outputs": [],
   "source": []
  },
  {
   "cell_type": "code",
   "execution_count": null,
   "id": "234e13bf",
   "metadata": {},
   "outputs": [],
   "source": [
    "# import our processed datasets\n",
    "users_df = pd.read_csv('../data/steam_playtime_clean.csv')\n",
    "game_df = pickle.load(open('../data/steam_games_clean.pkl', 'rb'))"
   ]
  },
  {
   "cell_type": "markdown",
   "id": "03505c82",
   "metadata": {},
   "source": [
    "### Set up user data"
   ]
  },
  {
   "cell_type": "code",
   "execution_count": null,
   "id": "21a9f315",
   "metadata": {},
   "outputs": [],
   "source": [
    "users_df.head()"
   ]
  },
  {
   "cell_type": "code",
   "execution_count": null,
   "id": "203f3904",
   "metadata": {},
   "outputs": [],
   "source": [
    "len(users_df['steam_id'].unique())"
   ]
  },
  {
   "cell_type": "code",
   "execution_count": null,
   "id": "6e9c11ce",
   "metadata": {},
   "outputs": [],
   "source": [
    "user_ids = users_df['steam_id'].unique().tolist()"
   ]
  },
  {
   "cell_type": "code",
   "execution_count": null,
   "id": "d69b0e90",
   "metadata": {},
   "outputs": [],
   "source": [
    "user2user_encoded = {x: i for i, x in enumerate(user_ids)}"
   ]
  },
  {
   "cell_type": "code",
   "execution_count": null,
   "id": "39554a8f",
   "metadata": {},
   "outputs": [],
   "source": [
    "userencoded2user = {i: x for i, x in enumerate(user_ids)}"
   ]
  },
  {
   "cell_type": "code",
   "execution_count": null,
   "id": "523e1086",
   "metadata": {},
   "outputs": [],
   "source": [
    "game_ids = users_df['appid'].unique().tolist()"
   ]
  },
  {
   "cell_type": "code",
   "execution_count": null,
   "id": "68032956",
   "metadata": {},
   "outputs": [],
   "source": [
    "game2game_encoded = {x: i for i, x in enumerate(game_ids)}"
   ]
  },
  {
   "cell_type": "code",
   "execution_count": null,
   "id": "1b8dff0e",
   "metadata": {},
   "outputs": [],
   "source": [
    "game_encoded2game = {i: x for i, x in enumerate(game_ids)}"
   ]
  },
  {
   "cell_type": "code",
   "execution_count": null,
   "id": "5af67945",
   "metadata": {},
   "outputs": [],
   "source": [
    "users_df['user'] = users_df['steam_id'].map(user2user_encoded)"
   ]
  },
  {
   "cell_type": "code",
   "execution_count": null,
   "id": "33e53767",
   "metadata": {},
   "outputs": [],
   "source": [
    "users_df['game'] = users_df['appid'].map(game2game_encoded)"
   ]
  },
  {
   "cell_type": "code",
   "execution_count": null,
   "id": "070a71d1",
   "metadata": {},
   "outputs": [],
   "source": [
    "num_users = len(user2user_encoded)\n",
    "num_games = len(game_encoded2game)"
   ]
  },
  {
   "cell_type": "code",
   "execution_count": null,
   "id": "cd4cc00d",
   "metadata": {},
   "outputs": [],
   "source": [
    "users_df['playtime_forever'] = users_df['playtime_forever'].values.astype(np.float32)"
   ]
  },
  {
   "cell_type": "code",
   "execution_count": null,
   "id": "fb97eb7b",
   "metadata": {},
   "outputs": [],
   "source": [
    "min_playtime = min(users_df['playtime_forever'])\n",
    "max_playtime = max(users_df['playtime_forever'])"
   ]
  },
  {
   "cell_type": "code",
   "execution_count": null,
   "id": "17850484",
   "metadata": {},
   "outputs": [],
   "source": [
    "print(\n",
    "    \"Number of users: {}, Number of Games: {}, Min rating: {}, Max rating: {}\".format(\n",
    "        num_users, num_games, min_playtime, max_playtime\n",
    "    )\n",
    ")"
   ]
  },
  {
   "cell_type": "code",
   "execution_count": null,
   "id": "efca9f35",
   "metadata": {},
   "outputs": [],
   "source": [
    "users_df = users_df.sample(frac=1, random_state=42)\n",
    "x = users_df[[\"user\", \"game\"]].values\n",
    "# Normalize the targets between 0 and 1. Makes it easy to train.\n",
    "y = users_df[\"playtime_forever\"].apply(lambda x: (x - min_playtime) / (max_playtime - min_playtime)).values\n",
    "\n",
    "# Assuming training on 90% of the data and validating on 10%.\n",
    "train_indices = int(0.9 * users_df.shape[0])\n",
    "x_train, x_val, y_train, y_val = (\n",
    "    x[:train_indices],\n",
    "    x[train_indices:],\n",
    "    y[:train_indices],\n",
    "    y[train_indices:],\n",
    ")"
   ]
  },
  {
   "cell_type": "markdown",
   "id": "7150cfce",
   "metadata": {},
   "source": [
    "Set up recommender net"
   ]
  },
  {
   "cell_type": "code",
   "execution_count": null,
   "id": "e9f39b73",
   "metadata": {},
   "outputs": [],
   "source": [
    "EMBEDDING_SIZE = 50\n",
    "\n",
    "\n",
    "class RecommenderNet(keras.Model):\n",
    "    def __init__(self, num_users, num_games, embedding_size, **kwargs):\n",
    "        super().__init__(**kwargs)\n",
    "        self.num_users = num_users\n",
    "        self.num_games = num_games\n",
    "        self.embedding_size = embedding_size\n",
    "        self.user_embedding = layers.Embedding(\n",
    "            num_users,\n",
    "            embedding_size,\n",
    "            embeddings_initializer=\"he_normal\",\n",
    "            embeddings_regularizer=keras.regularizers.l2(1e-6),\n",
    "        )\n",
    "        self.user_bias = layers.Embedding(num_users, 1)\n",
    "        self.game_embedding = layers.Embedding(\n",
    "            num_games,\n",
    "            embedding_size,\n",
    "            embeddings_initializer=\"he_normal\",\n",
    "            embeddings_regularizer=keras.regularizers.l2(1e-6),\n",
    "        )\n",
    "        self.game_bias = layers.Embedding(num_games, 1)\n",
    "\n",
    "    def call(self, inputs):\n",
    "        user_vector = self.user_embedding(inputs[:, 0])\n",
    "        user_bias = self.user_bias(inputs[:, 0])\n",
    "        game_vector = self.game_embedding(inputs[:, 1])\n",
    "        game_bias = self.game_bias(inputs[:, 1])\n",
    "        dot_user_game = tf.tensordot(user_vector, game_vector, 2)\n",
    "        # Add all the components (including bias)\n",
    "        x = dot_user_game + user_bias + game_bias\n",
    "        # The sigmoid activation forces the rating to between 0 and 1\n",
    "        return tf.nn.sigmoid(x)\n",
    "\n",
    "\n",
    "model = RecommenderNet(num_users, num_games, EMBEDDING_SIZE)\n",
    "model.compile(\n",
    "    loss=tf.keras.losses.BinaryCrossentropy(),\n",
    "    optimizer=keras.optimizers.Adam(learning_rate=0.001),\n",
    ")\n"
   ]
  },
  {
   "cell_type": "code",
   "execution_count": null,
   "id": "771e093d",
   "metadata": {
    "scrolled": false
   },
   "outputs": [],
   "source": [
    "history = model.fit(\n",
    "    x=x_train,\n",
    "    y=y_train,\n",
    "    batch_size=64,\n",
    "    epochs=5,\n",
    "    verbose=1,\n",
    "    validation_data=(x_val, y_val),\n",
    ")\n"
   ]
  },
  {
   "cell_type": "code",
   "execution_count": null,
   "id": "c64869bf",
   "metadata": {},
   "outputs": [],
   "source": [
    "import matplotlib.pyplot as plt"
   ]
  },
  {
   "cell_type": "code",
   "execution_count": null,
   "id": "26ee9b9e",
   "metadata": {},
   "outputs": [],
   "source": [
    "plt.plot(history.history[\"loss\"])\n",
    "plt.plot(history.history[\"val_loss\"])\n",
    "plt.title(\"model loss\")\n",
    "plt.ylabel(\"loss\")\n",
    "plt.xlabel(\"epoch\")\n",
    "plt.legend([\"train\", \"test\"], loc=\"upper left\")\n",
    "plt.show()"
   ]
  },
  {
   "cell_type": "code",
   "execution_count": null,
   "id": "829fb165",
   "metadata": {},
   "outputs": [],
   "source": [
    "# Let us get a user and see the top recommendations.\n",
    "def recommend_games(user_id = users_df.steam_id.sample(1).iloc[0]):\n",
    "    games_played_by_user = users_df[users_df.steam_id == user_id]\n",
    "    games_not_played = game_df[\n",
    "        ~game_df[\"appid\"].isin(games_played_by_user.appid.values)\n",
    "    ][\"appid\"]\n",
    "    games_not_played = list(\n",
    "        set(games_not_played).intersection(set(game2game_encoded.keys()))\n",
    "    )\n",
    "    games_not_played = [[game2game_encoded.get(x)] for x in games_not_played]\n",
    "    user_encoder = user2user_encoded.get(user_id)\n",
    "    user_game_array = np.hstack(\n",
    "        ([[user_encoder]] * len(games_not_played), games_not_played)\n",
    "    )\n",
    "    playtimes = model.predict(user_game_array).flatten()\n",
    "    top_playtimes_indices = playtimes.argsort()[-10:][::-1]\n",
    "    recommended_game_ids = [\n",
    "        game_encoded2game.get(games_not_played[x][0]) for x in top_playtimes_indices\n",
    "    ]\n",
    "\n",
    "    print(\"Showing recommendations for user: {}\".format(user_id))\n",
    "    print(\"====\" * 9)\n",
    "    print(\"games with high playtimes from user\")\n",
    "    print(\"----\" * 8)\n",
    "    top_games_user = (\n",
    "        games_played_by_user.sort_values(by=\"playtime_forever\", ascending=False)\n",
    "        .head(5)\n",
    "        .appid.values\n",
    "    )\n",
    "    game_df_rows = game_df[game_df[\"appid\"].isin(top_games_user)]\n",
    "    for row in game_df_rows.itertuples():\n",
    "        print(row.name)\n",
    "\n",
    "    print(\"----\" * 8)\n",
    "    print(\"Top 10 game recommendations\")\n",
    "    print(\"----\" * 8)\n",
    "    recommended_games = game_df[game_df[\"appid\"].isin(recommended_game_ids)]\n",
    "    for row in recommended_games.itertuples():\n",
    "        print(row.name)\n"
   ]
  },
  {
   "cell_type": "code",
   "execution_count": null,
   "id": "b845360b",
   "metadata": {},
   "outputs": [],
   "source": [
    "recommend_games()"
   ]
  },
  {
   "cell_type": "code",
   "execution_count": null,
   "id": "c56c1e9c",
   "metadata": {},
   "outputs": [],
   "source": []
  }
 ],
 "metadata": {
  "kernelspec": {
   "display_name": "Python 3 (ipykernel)",
   "language": "python",
   "name": "python3"
  },
  "language_info": {
   "codemirror_mode": {
    "name": "ipython",
    "version": 3
   },
   "file_extension": ".py",
   "mimetype": "text/x-python",
   "name": "python",
   "nbconvert_exporter": "python",
   "pygments_lexer": "ipython3",
   "version": "3.8.10"
  }
 },
 "nbformat": 4,
 "nbformat_minor": 5
}
