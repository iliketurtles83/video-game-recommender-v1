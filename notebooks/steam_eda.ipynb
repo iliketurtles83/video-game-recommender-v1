{
 "cells": [
  {
   "attachments": {},
   "cell_type": "markdown",
   "metadata": {},
   "source": [
    "### Exploratory Data Analysis of Steam data"
   ]
  },
  {
   "cell_type": "code",
   "execution_count": null,
   "metadata": {},
   "outputs": [],
   "source": [
    "import os\n",
    "import pandas as pd\n",
    "import numpy as np\n",
    "import seaborn as sns\n",
    "import matplotlib.pyplot as plt"
   ]
  },
  {
   "cell_type": "code",
   "execution_count": null,
   "metadata": {},
   "outputs": [],
   "source": [
    "playtime_df = pd.read_csv('../data/steam_playtime.csv')"
   ]
  },
  {
   "cell_type": "code",
   "execution_count": null,
   "metadata": {},
   "outputs": [],
   "source": [
    "len(playtime_df)"
   ]
  },
  {
   "cell_type": "code",
   "execution_count": null,
   "metadata": {},
   "outputs": [],
   "source": [
    "# During my first iteration of the dataset, this domain knowledge based filtering was done\n",
    "# drop counterstrike i.e. drop rows where appid is 730, 10 or 240\n",
    "# playtime_df = playtime_df[~playtime_df['appid'].isin([730, 10, 240])]\n",
    "\n",
    "# drop user playtimes over x minutes\n",
    "# playtime_df = playtime_df[playtime_df['playtime_forever'] < 130000]\n",
    "\n",
    "# remove user playtimes under 60 minutes\n",
    "#playtime_df = playtime_df[playtime_df['playtime_forever'] > 60]\n",
    "\n",
    "# drop ridiculous playtime_2weeks values\n",
    "playtime_df = playtime_df[playtime_df['playtime_2weeks'] < 5000]"
   ]
  },
  {
   "cell_type": "code",
   "execution_count": null,
   "metadata": {},
   "outputs": [],
   "source": [
    "playtime_df.sort_values(by=['playtime_forever'], ascending=False).head(20)"
   ]
  },
  {
   "attachments": {},
   "cell_type": "markdown",
   "metadata": {},
   "source": [
    "### Z-SCORE"
   ]
  },
  {
   "cell_type": "code",
   "execution_count": null,
   "metadata": {},
   "outputs": [],
   "source": [
    "# get mean for playtime_forever\n",
    "users_mean = playtime_df['playtime_forever'].mean()"
   ]
  },
  {
   "cell_type": "code",
   "execution_count": null,
   "metadata": {},
   "outputs": [],
   "source": [
    "# get standard deviation for playtime_forever\n",
    "users_std = playtime_df['playtime_forever'].std()"
   ]
  },
  {
   "cell_type": "code",
   "execution_count": null,
   "metadata": {},
   "outputs": [],
   "source": [
    "print(users_mean, users_std)"
   ]
  },
  {
   "cell_type": "code",
   "execution_count": null,
   "metadata": {},
   "outputs": [],
   "source": [
    "def get_zscore(value, values):\n",
    "    \"\"\"Obtain the z-score of a given value\"\"\"\n",
    "    m = users_mean\n",
    "    s = users_std\n",
    "    z_score = (value - m)/s\n",
    "    return np.abs(z_score)"
   ]
  },
  {
   "cell_type": "code",
   "execution_count": null,
   "metadata": {},
   "outputs": [],
   "source": [
    "# compute z-scores for all values\n",
    "playtime_df['z-score'] = playtime_df['playtime_forever'].apply(lambda x: get_zscore(x, playtime_df['playtime_forever']))\n",
    "\n",
    "# find outliers\n",
    "outliers = playtime_df[playtime_df['z-score']>3]\n",
    "outliers"
   ]
  },
  {
   "cell_type": "code",
   "execution_count": null,
   "metadata": {},
   "outputs": [],
   "source": [
    "outliers.sort_values(by=['playtime_forever'], ascending=False).head(20)"
   ]
  },
  {
   "cell_type": "code",
   "execution_count": null,
   "metadata": {},
   "outputs": [],
   "source": [
    "inliers = playtime_df[playtime_df['z-score']<3]\n",
    "inliers"
   ]
  },
  {
   "cell_type": "code",
   "execution_count": null,
   "metadata": {},
   "outputs": [],
   "source": [
    "inliers.sort_values(by=['playtime_2weeks'], ascending=False).head(20)"
   ]
  },
  {
   "cell_type": "code",
   "execution_count": null,
   "metadata": {},
   "outputs": [],
   "source": [
    "playtime_df"
   ]
  },
  {
   "cell_type": "code",
   "execution_count": null,
   "metadata": {},
   "outputs": [],
   "source": [
    "len(playtime_df['steam_id'].unique())"
   ]
  },
  {
   "cell_type": "code",
   "execution_count": null,
   "metadata": {},
   "outputs": [],
   "source": [
    "sort_by_playtime_2weeks = playtime_df.sort_values(by='playtime_2weeks', ascending=False)"
   ]
  },
  {
   "cell_type": "code",
   "execution_count": null,
   "metadata": {},
   "outputs": [],
   "source": [
    "# there are 20160 minutes in two weeks, what is a reasonable max playtime per day?\n",
    "# stats say average daily playtime is 1.2 hours a day, make max 5 hours per day i.e. 4200 minutes in two weeks?\n",
    "sort_by_playtime_2weeks[sort_by_playtime_2weeks['playtime_2weeks'] < 4200]"
   ]
  },
  {
   "cell_type": "code",
   "execution_count": null,
   "metadata": {},
   "outputs": [],
   "source": [
    "playtime_df[playtime_df['playtime_2weeks'] < 5000]"
   ]
  },
  {
   "cell_type": "code",
   "execution_count": null,
   "metadata": {},
   "outputs": [],
   "source": [
    "# sort by playtime_forever\n",
    "sort_by_playtime = playtime_df.sort_values(by = ['playtime_forever'], ascending = False).reset_index()"
   ]
  },
  {
   "cell_type": "code",
   "execution_count": null,
   "metadata": {},
   "outputs": [],
   "source": [
    "sort_by_playtime"
   ]
  },
  {
   "cell_type": "code",
   "execution_count": null,
   "metadata": {},
   "outputs": [],
   "source": [
    "sort_by_playtime.plot(y='playtime_forever', use_index=True)"
   ]
  },
  {
   "cell_type": "code",
   "execution_count": null,
   "metadata": {},
   "outputs": [],
   "source": [
    "# plot sort_by_playtime\n",
    "sns.set(rc={'figure.figsize':(11.7,8.27)})\n",
    "sns.histplot(sort_by_playtime, x='playtime_forever', bins = 20, kde = True)\n"
   ]
  },
  {
   "cell_type": "code",
   "execution_count": null,
   "metadata": {},
   "outputs": [],
   "source": [
    "# plot sort_by_playtime with playtime_forever on the y axis\n",
    "sort_by_playtime."
   ]
  },
  {
   "cell_type": "code",
   "execution_count": null,
   "metadata": {},
   "outputs": [],
   "source": [
    "# group by appid\n",
    "playtime_by_game = playtime_df.groupby('appid').agg({'playtime_forever': 'median'})\n"
   ]
  },
  {
   "cell_type": "code",
   "execution_count": null,
   "metadata": {},
   "outputs": [],
   "source": [
    "# sort by playtime\n",
    "playtime_by_game = playtime_by_game.sort_values(by = 'playtime_forever', ascending = False)"
   ]
  },
  {
   "cell_type": "code",
   "execution_count": null,
   "metadata": {},
   "outputs": [],
   "source": [
    "playtime_by_game.head()"
   ]
  },
  {
   "cell_type": "code",
   "execution_count": null,
   "metadata": {},
   "outputs": [],
   "source": [
    "# plot playtime by game\n",
    "plt.figure(figsize=(20,10))\n",
    "sns.barplot(x = playtime_by_game.index, y = playtime_by_game['playtime_forever'])\n",
    "plt.title('Average Playtime by Game')\n",
    "plt.xlabel('Game')\n"
   ]
  },
  {
   "cell_type": "code",
   "execution_count": null,
   "metadata": {},
   "outputs": [],
   "source": [
    "# plot distribution of playtimes\n",
    "sortplaytime = playtime_df['playtime_forever'].sort_values(ascending = False)\n",
    "sortplaytime.plot(kind = 'hist')"
   ]
  },
  {
   "cell_type": "code",
   "execution_count": null,
   "metadata": {},
   "outputs": [],
   "source": [
    "sns.histplot(sortplaytime)\n",
    "plt.show()"
   ]
  },
  {
   "cell_type": "code",
   "execution_count": null,
   "metadata": {},
   "outputs": [],
   "source": [
    "# show bins of playtime forever\n",
    "playtime_df['playtime_forever'].hist(bins=100)"
   ]
  },
  {
   "cell_type": "code",
   "execution_count": null,
   "metadata": {},
   "outputs": [],
   "source": [
    "# plot boxplot\n",
    "plt.boxplot(playtime_df['playtime_forever'])\n",
    "plt.ylabel('playtime')\n",
    "plt.title('Box Plot')\n",
    "plt.show()"
   ]
  },
  {
   "cell_type": "code",
   "execution_count": null,
   "metadata": {},
   "outputs": [],
   "source": []
  }
 ],
 "metadata": {
  "kernelspec": {
   "display_name": "base",
   "language": "python",
   "name": "python3"
  },
  "language_info": {
   "codemirror_mode": {
    "name": "ipython",
    "version": 3
   },
   "file_extension": ".py",
   "mimetype": "text/x-python",
   "name": "python",
   "nbconvert_exporter": "python",
   "pygments_lexer": "ipython3",
   "version": "3.9.7"
  },
  "orig_nbformat": 4,
  "vscode": {
   "interpreter": {
    "hash": "4a3c54e841fe8ed729f88f1a4dbf5907a70c4a9986278aeeef34dd666b803d5d"
   }
  }
 },
 "nbformat": 4,
 "nbformat_minor": 2
}
