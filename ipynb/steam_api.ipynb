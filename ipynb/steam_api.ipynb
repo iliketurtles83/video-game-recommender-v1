{
 "cells": [
  {
   "cell_type": "markdown",
   "id": "06b0e2d9-0ef4-4cdd-a950-fa7d32736720",
   "metadata": {},
   "source": [
    "### Steam API requests to collect users metadata."
   ]
  },
  {
   "cell_type": "code",
   "execution_count": null,
   "id": "e2877129-3882-4618-90f9-ab7f260b3009",
   "metadata": {},
   "outputs": [],
   "source": [
    "# import libraries\n",
    "import numpy as np\n",
    "import pandas as pd\n",
    "import os\n",
    "import requests as re\n",
    "import time\n",
    "from tqdm import tqdm\n",
    "import random"
   ]
  },
  {
   "cell_type": "code",
   "execution_count": null,
   "id": "60768901-034a-4c43-940b-57816ae4f1c0",
   "metadata": {},
   "outputs": [],
   "source": [
    "# import our api key and steam id\n",
    "steam_api_key = os.environ['STEAM_API']\n",
    "steam_id = os.environ['STEAM_ID']"
   ]
  },
  {
   "cell_type": "markdown",
   "id": "00fb916b-337c-4a4b-8e16-721cf60e3362",
   "metadata": {},
   "source": [
    "### PLAYTIME PARSING"
   ]
  },
  {
   "cell_type": "code",
   "execution_count": null,
   "id": "567dd029-ff4f-4743-8fb4-3e370d25a2c7",
   "metadata": {},
   "outputs": [],
   "source": [
    "# create our playtime dataframe with columns appid, steam_id, playtime_2weeks, playtime_forever\n",
    "playtime_df = pd.DataFrame(columns = ['appid', 'steam_id', 'playtime_2weeks', 'playtime_forever'])"
   ]
  },
  {
   "cell_type": "code",
   "execution_count": null,
   "id": "5bc030a3-8eef-46a3-b030-e9831265c6c3",
   "metadata": {},
   "outputs": [],
   "source": [
    "# set up url\n",
    "owned_url = 'http://api.steampowered.com/IPlayerService/GetOwnedGames/v0001/'\n",
    "ownedparams = {'key': steam_api_key, 'steamid': steam_id, 'format': 'json'}"
   ]
  },
  {
   "cell_type": "code",
   "execution_count": null,
   "id": "c48de06c-3014-417a-841c-ad0536cfea75",
   "metadata": {},
   "outputs": [],
   "source": [
    "# function to get steam users playtime data \n",
    "def user_playtimes(steamid):\n",
    "    # global playtime_df\n",
    "    global playtime_df\n",
    "    # check if we parsed this one, i.e. steam_id is not in our dataframe steam_id column\n",
    "    if steamid not in playtime_df['steam_id'].values:\n",
    "        urlparams = {'key': steam_api_key, 'steamid': steamid, 'format': 'json'}\n",
    "        url_request = re.get(owned_url, params=urlparams)\n",
    "        time.sleep(1)\n",
    "        # if status_code is not 200, return\n",
    "        if url_request.status_code != 200:\n",
    "            print (url_request.status_code, end=\" \")\n",
    "            return\n",
    "        else:\n",
    "            req_json = url_request.json()\n",
    "            if 'games' in req_json['response']:\n",
    "                print ('p', end='') # p for parsing\n",
    "                # parse req_json fields for games user has played\n",
    "                for game in req_json['response']['games']:\n",
    "                    if game['playtime_forever'] > 0:\n",
    "                        appid = game['appid']\n",
    "                        playtime_forever = game['playtime_forever']\n",
    "                        # if key playtime_2weeks exists\n",
    "                        if 'playtime_2weeks' in game:\n",
    "                            playtime_2weeks = game['playtime_2weeks']\n",
    "                        else:\n",
    "                            playtime_2weeks = 0\n",
    "                        # append to dataframe\n",
    "                        playtime_df = playtime_df.append({'appid': appid, \n",
    "                                                          'steam_id': steamid, \n",
    "                                                          'playtime_2weeks': playtime_2weeks, \n",
    "                                                          'playtime_forever': playtime_forever},\n",
    "                                                         ignore_index=True)\n",
    "            else:\n",
    "                return"
   ]
  },
  {
   "cell_type": "code",
   "execution_count": null,
   "id": "0e916591-ba74-4914-8084-c4a89f93ee86",
   "metadata": {},
   "outputs": [],
   "source": [
    "# url for getting friend list steam id's\n",
    "getfriendlist_url = 'http://api.steampowered.com/ISteamUser/GetFriendList/v0001/'\n",
    "getfriendparams = {'key': steam_api_key, 'steamid': steam_id, 'relationship': 'all', 'format': 'json'}"
   ]
  },
  {
   "cell_type": "code",
   "execution_count": null,
   "id": "58dea53f-91a4-4d55-a2a7-17cf44bb8faa",
   "metadata": {},
   "outputs": [],
   "source": [
    "# function to get friends steam id's recursively, recursive depth set to 6\n",
    "def friends_games(steamid, depth = 0):\n",
    "    if depth == 6:\n",
    "        return\n",
    "    getfriendparams = {'key': steam_api_key, 'steamid': steamid, 'relationship': 'all', 'format': 'json'}\n",
    "    url_request = re.get(getfriendlist_url, params=getfriendparams)\n",
    "    time.sleep(1)\n",
    "    # if status_code is not 200, return\n",
    "    if url_request.status_code != 200:\n",
    "        print(url_request.status_code, end=\" \")\n",
    "        return\n",
    "    else:\n",
    "        req_json = url_request.json()\n",
    "        if 'friendslist' in req_json:\n",
    "            for friend in req_json['friendslist']['friends']:\n",
    "                steamid = friend['steamid']\n",
    "                # get playtime data for this friend\n",
    "                user_playtimes(steamid)\n",
    "                # run friends_games on this friend\n",
    "                friends_games(steamid, depth+1)\n",
    "                time.sleep(2)\n",
    "        else:\n",
    "            return"
   ]
  },
  {
   "cell_type": "code",
   "execution_count": null,
   "id": "0f94464d-63d4-45ad-b222-278db11b5464",
   "metadata": {
    "tags": []
   },
   "outputs": [],
   "source": [
    "# test run, parse through my friends\n",
    "friends_games(steam_id)"
   ]
  },
  {
   "cell_type": "code",
   "execution_count": null,
   "id": "93ea0e60-25d5-4c87-91b2-01155b63b6fc",
   "metadata": {
    "tags": []
   },
   "outputs": [],
   "source": [
    "# parse the csv files from https://steamid.uk/downloads/\n",
    "source1 = 'https://steamid.uk/downloads/3digitURLhistory04_06_2019.csv'\n",
    "source2 = 'https://steamid.uk/downloads/3digitURLhistory16_04_2019.csv'\n",
    "source3 = 'https://steamid.uk/downloads/3digitURLhistory18_01_2020.csv'\n",
    "source4 = 'https://steamid.uk/downloads/3digitURLhistory18_03_2019.csv'\n",
    "source5 = 'https://steamid.uk/downloads/3digitURLhistory26_02_2019.csv'\n",
    "history1 = pd.read_csv(source1, header=None, usecols=[1], names=['someid'])\n",
    "history2 = pd.read_csv(source2, header=None, usecols=[1], names=['someid'])\n",
    "history3 = pd.read_csv(source3, header=None, usecols=[1], names=['someid'])\n",
    "history4 = pd.read_csv(source4, header=None, usecols=[1], names=['someid'])\n",
    "history5 = pd.read_csv(source5, header=None, usecols=[0], names=['someid'])\n",
    "\n",
    "# append all the csv files together\n",
    "history = history1\n",
    "history = history.append(history2)\n",
    "history = history.append(history3)\n",
    "history = history.append(history4)\n",
    "history = history.append(history5)\n",
    "\n",
    "# remove duplicates\n",
    "history = history.drop_duplicates()"
   ]
  },
  {
   "cell_type": "code",
   "execution_count": null,
   "id": "534afbc4-30a8-4ac5-b314-4eb0d6939c7c",
   "metadata": {
    "tags": []
   },
   "outputs": [],
   "source": [
    "# loop through data and get user playtimes, takes less than a day :)\n",
    "for someid in tqdm(history['someid']):\n",
    "    user_playtimes(someid)"
   ]
  },
  {
   "cell_type": "code",
   "execution_count": null,
   "id": "59e992cb-e72c-4fc6-a5cd-41e05b68e930",
   "metadata": {},
   "outputs": [],
   "source": [
    "# create a list of unique steam_id's from playtime\n",
    "steamids = list(set(playtime_df['steam_id']))"
   ]
  },
  {
   "cell_type": "code",
   "execution_count": null,
   "id": "90983ec6-594a-4490-a94e-7474589f7393",
   "metadata": {
    "tags": []
   },
   "outputs": [],
   "source": [
    "# loop that picks random steam_id's from steamid_df and runs friends_games on it\n",
    "for i in range(10):\n",
    "    random_steamid = random.choice(steamids)\n",
    "    friends_games(random_steamid)\n",
    "    time.sleep(5)"
   ]
  },
  {
   "cell_type": "code",
   "execution_count": null,
   "id": "bf6481bc-2eb3-4568-a613-27261b6ab069",
   "metadata": {},
   "outputs": [],
   "source": [
    "# save data to csv\n",
    "playtime_df.to_csv('../data/steam_playtime.csv', index=False)"
   ]
  },
  {
   "cell_type": "markdown",
   "id": "6e080c0a-03ce-4089-951a-a38802db0f95",
   "metadata": {
    "tags": []
   },
   "source": [
    "### GAME METADATA PARSING"
   ]
  },
  {
   "cell_type": "code",
   "execution_count": null,
   "id": "8661957c-2aa8-4bd2-a45a-84fe77cefa6e",
   "metadata": {},
   "outputs": [],
   "source": [
    "# make dataframe of unique appids from playtime_df\n",
    "appid_df = pd.DataFrame(playtime_df['appid'].unique(), columns=['appid'])"
   ]
  },
  {
   "cell_type": "code",
   "execution_count": null,
   "id": "fd3f10ab-6798-4f0e-8732-1289f3a8a1dc",
   "metadata": {},
   "outputs": [],
   "source": [
    "# create an app df with columns appid, name, description, developr, publisher, metascore, genres\n",
    "app_df = pd.DataFrame(columns = ['appid', 'name', 'description', 'developer', 'publisher', 'categories', 'genres'])"
   ]
  },
  {
   "cell_type": "code",
   "execution_count": null,
   "id": "d65b95d4-f403-4318-ac50-f1485064ad33",
   "metadata": {},
   "outputs": [],
   "source": [
    "# keep a tally of appids that dont work out during parsing\n",
    "badapps_df = pd.DataFrame(columns=['appid'])"
   ]
  },
  {
   "cell_type": "code",
   "execution_count": null,
   "id": "841301df-f7c4-4671-b1cb-f16fa08cfed1",
   "metadata": {},
   "outputs": [],
   "source": [
    "# set up url and params for app data\n",
    "app_url = 'https://store.steampowered.com/api/appdetails?appids='\n",
    "app_url_params = {'key': steam_api_key, 'format': 'json'}"
   ]
  },
  {
   "cell_type": "markdown",
   "id": "99d86a52-0f02-47e2-9f22-01c35201a984",
   "metadata": {},
   "source": [
    "### Get Steam app details loop"
   ]
  },
  {
   "cell_type": "code",
   "execution_count": null,
   "id": "cd13e1de-de70-42fb-91d8-1ace13659d75",
   "metadata": {
    "tags": []
   },
   "outputs": [],
   "source": [
    "# loop for getting game metadata, takes over a day\n",
    "# time.sleep(4) did not give me any 429's. Maybe even 3 seconds would work?\n",
    "for appid in tqdm(appid_df['appid']):\n",
    "    appid = str(appid)\n",
    "    req_url = app_url + appid\n",
    "    # check if appid already in app_df\n",
    "    if int(appid) not in app_df['appid'].values and int(appid) not in badapps_df['appid'].values:\n",
    "        url_request = re.get(req_url, params=app_url_params)\n",
    "        time.sleep(4)\n",
    "        # if status_code is not 200, return\n",
    "        if url_request.status_code != 200:\n",
    "            print(url_request.status_code, end=\" \")\n",
    "        else:\n",
    "            req_json = url_request.json()\n",
    "            if req_json[appid]['success'] == True:\n",
    "                # get metadata for this app\n",
    "                name = req_json[appid]['data']['name']\n",
    "                description = req_json[appid]['data']['detailed_description']\n",
    "                # get developer if it exists\n",
    "                if 'developers' in req_json[appid]['data']:\n",
    "                    developer = req_json[appid]['data']['developers'][0]\n",
    "                else:\n",
    "                    developer = 'None'\n",
    "                publisher = req_json[appid]['data']['publishers'][0]\n",
    "                # loop through categories\n",
    "                categories = []\n",
    "                if 'categories' in req_json[appid]['data']:\n",
    "                    for category in req_json[appid]['data']['categories']:\n",
    "                        categories.append(category['description'])\n",
    "                # loop through genres\n",
    "                genres = []\n",
    "                if 'genres' in req_json[appid]['data']:\n",
    "                    for genre in req_json[appid]['data']['genres']:\n",
    "                        genres.append(genre['description'])\n",
    "                # append to dataframe\n",
    "                app_df = app_df.append({'appid': int(appid),\n",
    "                                        'name': name,\n",
    "                                        'description': description,\n",
    "                                        'developer': developer,\n",
    "                                        'publisher': publisher,\n",
    "                                        'categories': categories,\n",
    "                                        'genres': genres},\n",
    "                                        ignore_index=True)\n",
    "            else:\n",
    "                # add to badapps_df list\n",
    "                badapps_df = badapps_df.append({'appid': int(appid)}, ignore_index=True)"
   ]
  },
  {
   "cell_type": "code",
   "execution_count": null,
   "id": "d74c10e8-5c12-46c7-8180-b934978c4c50",
   "metadata": {},
   "outputs": [],
   "source": [
    "# save app_df to csv\n",
    "app_df.to_csv('../data/steam_app_metadata.csv', index=False)"
   ]
  },
  {
   "cell_type": "code",
   "execution_count": null,
   "id": "7d0a1b95-35c5-4055-8b0d-d849f8b2689d",
   "metadata": {},
   "outputs": [],
   "source": [
    "badapps_df.to_csv('../data/bad_apps.csv', index=False)"
   ]
  },
  {
   "cell_type": "code",
   "execution_count": null,
   "id": "7af37f87-3c16-4a03-9ca4-ae658fdb06b8",
   "metadata": {},
   "outputs": [],
   "source": []
  }
 ],
 "metadata": {
  "kernelspec": {
   "display_name": "Python 3 (ipykernel)",
   "language": "python",
   "name": "python3"
  },
  "language_info": {
   "codemirror_mode": {
    "name": "ipython",
    "version": 3
   },
   "file_extension": ".py",
   "mimetype": "text/x-python",
   "name": "python",
   "nbconvert_exporter": "python",
   "pygments_lexer": "ipython3",
   "version": "3.9.7"
  }
 },
 "nbformat": 4,
 "nbformat_minor": 5
}
