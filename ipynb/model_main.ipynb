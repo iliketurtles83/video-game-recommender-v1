{
 "cells": [
  {
   "cell_type": "markdown",
   "id": "b0b49732-d1f7-4bc4-ab84-915610b450f5",
   "metadata": {},
   "source": [
    "## Video Game Recommendation System based on Steam data \n",
    "### Uses a hybrid content-based and collaborative filtering approach to recommend games?"
   ]
  },
  {
   "cell_type": "code",
   "execution_count": 1,
   "id": "8f5f38da-ffa5-45f0-922d-b0e867e2210c",
   "metadata": {},
   "outputs": [],
   "source": [
    "# import libraries\n",
    "import pandas as pd\n",
    "import pickle\n",
    "from sklearn.preprocessing import StandardScaler\n",
    "from sklearn.preprocessing import RobustScaler\n",
    "from surprise import Reader, Dataset, KNNWithZScore\n",
    "from surprise.model_selection import cross_validate\n",
    "from surprise.model_selection import train_test_split\n",
    "from surprise.model_selection import GridSearchCV\n",
    "from surprise import accuracy\n",
    "from sklearn.metrics.pairwise import cosine_similarity"
   ]
  },
  {
   "cell_type": "code",
   "execution_count": 2,
   "id": "f5d3b57c-f639-4ddf-a348-0c3181310762",
   "metadata": {},
   "outputs": [],
   "source": [
    "# import our processed datasets\n",
    "users_df = pd.read_csv('../data/steam_playtime_clean.csv')\n",
    "games_df = pd.read_csv('../data/steam_app_metadata_clean.csv')\n",
    "gamesinfo_df = pd.read_csv('../data/steam_gameinfo.csv')"
   ]
  },
  {
   "cell_type": "markdown",
   "id": "0ecb52ae-5db1-4051-af51-a1a18ce0f68c",
   "metadata": {},
   "source": [
    "#### COLLABORATIVE FILTERING FOR USER PLAYTIME DATA"
   ]
  },
  {
   "cell_type": "code",
   "execution_count": 3,
   "id": "f5ec7e7f-ab41-4bc2-9fe6-3b5f294ffcdc",
   "metadata": {},
   "outputs": [],
   "source": [
    "# first do robustscaler to minimize outliers\n",
    "scaler = RobustScaler(with_centering=True, with_scaling=True, quantile_range=(25.0, 75.0), copy=True)\n",
    "users_df['playtime_forever'] = scaler.fit_transform(users_df['playtime_forever'].array.reshape(-1,1))"
   ]
  },
  {
   "cell_type": "code",
   "execution_count": 4,
   "id": "584860f1-5a60-438e-a714-4130169f3aac",
   "metadata": {},
   "outputs": [],
   "source": [
    "# use StandardScaler to scale user playtimes\n",
    "scaler = StandardScaler()\n",
    "users_df['playtime_forever'] = scaler.fit_transform(users_df['playtime_forever'].values.reshape(-1, 1))"
   ]
  },
  {
   "cell_type": "code",
   "execution_count": 5,
   "id": "b57aeb1b-80c6-40cb-b2f0-5b3836a8211d",
   "metadata": {},
   "outputs": [],
   "source": [
    "# instantiate surprise.Reader()\n",
    "reader = Reader()\n",
    "\n",
    "# make surprise dataset\n",
    "data = Dataset.load_from_df(users_df[['steam_id', 'appid', 'playtime_forever']], reader)"
   ]
  },
  {
   "cell_type": "code",
   "execution_count": 6,
   "id": "848c5dc1-22bf-41cd-aff3-dc5df929a102",
   "metadata": {},
   "outputs": [],
   "source": [
    "# make a training and test set\n",
    "trainset, testset = train_test_split(data, test_size=0.25)"
   ]
  },
  {
   "cell_type": "markdown",
   "id": "0a487ce3-ba02-4f74-bff5-df05341821be",
   "metadata": {},
   "source": [
    "### Collaborative Filtering: KNNWithZScore"
   ]
  },
  {
   "cell_type": "code",
   "execution_count": null,
   "id": "dee9d4dc-b6c0-4298-a7da-607a0a3c9d8d",
   "metadata": {},
   "outputs": [],
   "source": [
    "# set up gridsearch param_grid for KNNWithZScore\n",
    "knn_param_grid = {'k': [100, 200, 300, 400, 500]}"
   ]
  },
  {
   "cell_type": "code",
   "execution_count": null,
   "id": "ebd9fe85-6808-441f-a40b-7cb1d51e873b",
   "metadata": {},
   "outputs": [],
   "source": [
    "grid_search = GridSearchCV(KNNWithZScore, knn_param_grid, cv=5)"
   ]
  },
  {
   "cell_type": "code",
   "execution_count": null,
   "id": "f93ce9e5-e90f-44ae-bed5-6df72c7a9828",
   "metadata": {},
   "outputs": [],
   "source": [
    "grid_search.fit(data)"
   ]
  },
  {
   "cell_type": "code",
   "execution_count": null,
   "id": "1ef00892-80d0-4c61-97cc-c2cddbe35a0f",
   "metadata": {},
   "outputs": [],
   "source": [
    "# print best params for grid search\n",
    "print('Best params: ', grid_search.best_params)"
   ]
  },
  {
   "cell_type": "code",
   "execution_count": null,
   "id": "bde3b0ea-97ba-458f-b12a-123073c634e1",
   "metadata": {},
   "outputs": [],
   "source": [
    "# print best score for grid search\n",
    "print('Score: ', grid_search.best_score)"
   ]
  },
  {
   "cell_type": "code",
   "execution_count": null,
   "id": "8d745473-dd35-45fb-b790-4469df945736",
   "metadata": {},
   "outputs": [],
   "source": [
    "# make knn model with best params from gridsearch. i chose 300 and hardcoded it in\n",
    "knn = KNNWithZScore(k=300, sim_options={'name': 'pearson_baseline', 'user_based': False})"
   ]
  },
  {
   "cell_type": "code",
   "execution_count": null,
   "id": "cdd67ccd-087b-4d6a-a7f7-240c38aad310",
   "metadata": {},
   "outputs": [],
   "source": [
    "# fit the training data and test with our test set\n",
    "predictions = knn.fit(trainset).test(testset)"
   ]
  },
  {
   "cell_type": "code",
   "execution_count": null,
   "id": "d6253e04-89d9-40fb-a107-041e3b0c5492",
   "metadata": {},
   "outputs": [],
   "source": [
    "# get accuracy\n",
    "accuracy.rmse(predictions)"
   ]
  },
  {
   "cell_type": "code",
   "execution_count": 6,
   "id": "55c36a55-00b0-4b57-8e89-166264837cc0",
   "metadata": {},
   "outputs": [],
   "source": [
    "# build a full trainset now\n",
    "trainset = data.build_full_trainset()"
   ]
  },
  {
   "cell_type": "code",
   "execution_count": 7,
   "id": "da320a65-db35-455b-ad44-0f14d8212b9b",
   "metadata": {},
   "outputs": [],
   "source": [
    "# save model in pickle\n",
    "pickle.dump(trainset, open('../models/trainset.pkl', 'wb'))"
   ]
  },
  {
   "cell_type": "code",
   "execution_count": 7,
   "id": "503b9be7-d1c7-4c21-a4d0-89847508edbc",
   "metadata": {},
   "outputs": [],
   "source": [
    "# instantiate new knn\n",
    "knn = KNNWithZScore(k=300, sim_options={'name': 'pearson_baseline', 'user_based': False})"
   ]
  },
  {
   "cell_type": "code",
   "execution_count": 8,
   "id": "c5ef7c1d-ff85-43fc-9764-95ec6bbb517a",
   "metadata": {},
   "outputs": [
    {
     "name": "stdout",
     "output_type": "stream",
     "text": [
      "Estimating biases using als...\n",
      "Computing the pearson_baseline similarity matrix...\n",
      "Done computing similarity matrix.\n"
     ]
    },
    {
     "data": {
      "text/plain": [
       "<surprise.prediction_algorithms.knns.KNNWithZScore at 0x7fadf06a0790>"
      ]
     },
     "execution_count": 8,
     "metadata": {},
     "output_type": "execute_result"
    }
   ],
   "source": [
    "# fit the knn\n",
    "knn.fit(trainset)"
   ]
  },
  {
   "cell_type": "code",
   "execution_count": 9,
   "id": "0a9cda8f-b4b1-48db-a838-d271c691c343",
   "metadata": {},
   "outputs": [],
   "source": [
    "# save model in pickle\n",
    "pickle.dump(knn, open('../models/knn_model.pkl', 'wb'))"
   ]
  },
  {
   "cell_type": "code",
   "execution_count": 9,
   "id": "83ecbe4d-a9ed-41f6-8d2d-5ab44323fd0c",
   "metadata": {},
   "outputs": [],
   "source": [
    "# function that takes game title and returns the inner id\n",
    "def get_appid(title):\n",
    "    steam_id = gamesinfo_df[gamesinfo_df['name'] == title].iloc[0]['appid']\n",
    "    inner_id = trainset.to_inner_iid(steam_id)\n",
    "    return inner_id"
   ]
  },
  {
   "cell_type": "code",
   "execution_count": 10,
   "id": "a9b660de-3341-4729-838d-852dbadb8f8f",
   "metadata": {},
   "outputs": [],
   "source": [
    "# function that takes innerid and returns the game title\n",
    "def get_title(appid):\n",
    "    steam_id = trainset.to_raw_iid(appid)\n",
    "    title = gamesinfo_df[gamesinfo_df['appid'] == steam_id].iloc[0]['name']\n",
    "    return title"
   ]
  },
  {
   "cell_type": "code",
   "execution_count": 51,
   "id": "5fddbdf4-597d-40cc-be91-45c8a80e95e5",
   "metadata": {},
   "outputs": [],
   "source": [
    "# function that takes a game title and returns 10 nearest neighbours\n",
    "def recommend_knn(title):\n",
    "    # get inner id for game\n",
    "    inner_id = get_appid(title)\n",
    "    # get nearest neighbours\n",
    "    neighbors = knn.get_neighbors(inner_id, k=20)\n",
    "    # get game titles for those neighbours\n",
    "    titles = [get_title(i) for i in neighbors]\n",
    "    return titles"
   ]
  },
  {
   "cell_type": "code",
   "execution_count": 33,
   "id": "948bb94d-f235-4265-8d3a-6b1e0e6c9c6e",
   "metadata": {},
   "outputs": [
    {
     "data": {
      "text/plain": [
       "['HITMAN™ 2',\n",
       " 'The Binding of Isaac',\n",
       " 'Serious Sam 3: BFE',\n",
       " 'Warhammer: Vermintide 2',\n",
       " 'POSTAL 2',\n",
       " 'Just Cause™ 3',\n",
       " 'Half-Life 2: Episode One',\n",
       " 'Half-Life 2: Episode Two',\n",
       " 'Red Dead Redemption 2',\n",
       " 'Watch_Dogs® 2']"
      ]
     },
     "execution_count": 33,
     "metadata": {},
     "output_type": "execute_result"
    }
   ],
   "source": [
    "# test run\n",
    "recommend_knn('HITMAN™')"
   ]
  },
  {
   "cell_type": "markdown",
   "id": "4a6edc3f-faed-4f6a-8472-32350e354b52",
   "metadata": {},
   "source": [
    "### CONTENT-BASED FILTERING FOR GAME DATA"
   ]
  },
  {
   "cell_type": "code",
   "execution_count": 13,
   "id": "aadfaa13-0939-4c0b-a22b-07310bd22715",
   "metadata": {},
   "outputs": [],
   "source": [
    "# make a matrix out of games_df without the appid column\n",
    "matrix = games_df.drop(['appid'], axis=1).values"
   ]
  },
  {
   "cell_type": "code",
   "execution_count": 14,
   "id": "343b1bee-53a3-419b-b731-e05cb30ae8c7",
   "metadata": {},
   "outputs": [
    {
     "data": {
      "text/plain": [
       "(23045, 1572)"
      ]
     },
     "execution_count": 14,
     "metadata": {},
     "output_type": "execute_result"
    }
   ],
   "source": [
    "matrix.shape"
   ]
  },
  {
   "cell_type": "code",
   "execution_count": 15,
   "id": "94646139-38c9-4d31-b852-bc8025978650",
   "metadata": {},
   "outputs": [],
   "source": [
    "# make a cosine similarity matrix, maybe linear kernel instead?\n",
    "cosine_sim = cosine_similarity(matrix, matrix)"
   ]
  },
  {
   "cell_type": "code",
   "execution_count": 13,
   "id": "5f78b2f6-0074-43e0-adb9-55f78ddf3652",
   "metadata": {},
   "outputs": [],
   "source": [
    "# store cosine similarity matrix in pickle\n",
    "pickle.dump(cosine_sim, open('../models/cosine_sim.pkl', 'wb'))"
   ]
  },
  {
   "cell_type": "code",
   "execution_count": 16,
   "id": "6726e269-d9f0-47df-8c94-9633514229ce",
   "metadata": {},
   "outputs": [],
   "source": [
    "# Construct a reverse map of indices and game titles\n",
    "indices = pd.Series(gamesinfo_df.index, index=gamesinfo_df['name'])"
   ]
  },
  {
   "cell_type": "code",
   "execution_count": 58,
   "id": "635fa25f-225a-4238-b8d7-7c53abdc62fa",
   "metadata": {},
   "outputs": [],
   "source": [
    "# recommend function for content\n",
    "def recommend_content(title, cosine_sim = cosine_sim):\n",
    "    # get index for our movie\n",
    "    idx = indices[title]\n",
    "    \n",
    "    # get pairwise similarity scores of all movies w.r.t to our movie\n",
    "    sim_scores = list(enumerate(cosine_sim[idx]))\n",
    "    \n",
    "    # sort scores based on similarity\n",
    "    sim_scores = sorted(sim_scores, key=lambda x: x[1], reverse=True)\n",
    "    \n",
    "    # get scores for 10 similar movies, not including the game itself\n",
    "    sim_scores = sim_scores[1:21]\n",
    "    \n",
    "    # get the game indices\n",
    "    game_indices = [i[0] for i in sim_scores]\n",
    "    \n",
    "    # return the titles\n",
    "    return gamesinfo_df['name'].iloc[game_indices].tolist()"
   ]
  },
  {
   "cell_type": "code",
   "execution_count": 52,
   "id": "3de81040-407a-4458-9154-00f7d6f1bd7a",
   "metadata": {},
   "outputs": [],
   "source": [
    "idx = indices['HITMAN™']"
   ]
  },
  {
   "cell_type": "code",
   "execution_count": 53,
   "id": "cfff0729-7c4f-4c46-a6c5-14a320dafa22",
   "metadata": {},
   "outputs": [],
   "source": [
    "sim_scores = list(enumerate(cosine_sim[idx]))"
   ]
  },
  {
   "cell_type": "code",
   "execution_count": 54,
   "id": "3e702188-7b25-400b-8fdf-6ef514274041",
   "metadata": {},
   "outputs": [],
   "source": [
    "smtn = lambda sim_scores : sim_scores[1]"
   ]
  },
  {
   "cell_type": "code",
   "execution_count": 55,
   "id": "b170f9b0-3793-49b3-8047-b29c59aa5762",
   "metadata": {},
   "outputs": [
    {
     "data": {
      "text/plain": [
       "[(0,\n",
       "  array([0.38292411, 0.38136545, 0.1711322 , ..., 0.23000121, 0.43653039,\n",
       "         0.60206619])),\n",
       " (1,\n",
       "  array([0.38292411, 0.38136545, 0.1711322 , ..., 0.23000121, 0.43653039,\n",
       "         0.60206619]))]"
      ]
     },
     "execution_count": 55,
     "metadata": {},
     "output_type": "execute_result"
    }
   ],
   "source": [
    "list(enumerate(cosine_sim[idx]))"
   ]
  },
  {
   "cell_type": "code",
   "execution_count": 56,
   "id": "13e54daa-59c6-4a2c-ae40-c888bd2b5f14",
   "metadata": {},
   "outputs": [
    {
     "data": {
      "text/plain": [
       "(1,\n",
       " array([0.38292411, 0.38136545, 0.1711322 , ..., 0.23000121, 0.43653039,\n",
       "        0.60206619]))"
      ]
     },
     "execution_count": 56,
     "metadata": {},
     "output_type": "execute_result"
    }
   ],
   "source": [
    "smtn(list(enumerate(cosine_sim[idx])))"
   ]
  },
  {
   "cell_type": "code",
   "execution_count": 57,
   "id": "b35ed58d-9eac-408b-b39c-2243cdd97cdf",
   "metadata": {},
   "outputs": [
    {
     "ename": "ValueError",
     "evalue": "The truth value of an array with more than one element is ambiguous. Use a.any() or a.all()",
     "output_type": "error",
     "traceback": [
      "\u001b[0;31m---------------------------------------------------------------------------\u001b[0m",
      "\u001b[0;31mValueError\u001b[0m                                Traceback (most recent call last)",
      "\u001b[0;32m/tmp/ipykernel_145335/2833976606.py\u001b[0m in \u001b[0;36m<module>\u001b[0;34m\u001b[0m\n\u001b[0;32m----> 1\u001b[0;31m \u001b[0msim_scores\u001b[0m \u001b[0;34m=\u001b[0m \u001b[0msorted\u001b[0m\u001b[0;34m(\u001b[0m\u001b[0msim_scores\u001b[0m\u001b[0;34m,\u001b[0m \u001b[0mkey\u001b[0m\u001b[0;34m=\u001b[0m\u001b[0;32mlambda\u001b[0m \u001b[0mx\u001b[0m\u001b[0;34m:\u001b[0m \u001b[0mx\u001b[0m\u001b[0;34m[\u001b[0m\u001b[0;36m1\u001b[0m\u001b[0;34m]\u001b[0m\u001b[0;34m,\u001b[0m \u001b[0mreverse\u001b[0m\u001b[0;34m=\u001b[0m\u001b[0;32mTrue\u001b[0m\u001b[0;34m)\u001b[0m\u001b[0;34m\u001b[0m\u001b[0;34m\u001b[0m\u001b[0m\n\u001b[0m",
      "\u001b[0;31mValueError\u001b[0m: The truth value of an array with more than one element is ambiguous. Use a.any() or a.all()"
     ]
    }
   ],
   "source": [
    "sim_scores = sorted(sim_scores, key=lambda x: x[1], reverse=True)"
   ]
  },
  {
   "cell_type": "code",
   "execution_count": 48,
   "id": "6b6ae8cf-92bd-442e-93e3-94f154b7ce6e",
   "metadata": {},
   "outputs": [
    {
     "data": {
      "text/plain": [
       "[(1,\n",
       "  array([0.38292411, 0.38136545, 0.1711322 , ..., 0.23000121, 0.43653039,\n",
       "         0.60206619])),\n",
       " (0,\n",
       "  array([0.38292411, 0.38136545, 0.1711322 , ..., 0.23000121, 0.43653039,\n",
       "         0.60206619]))]"
      ]
     },
     "execution_count": 48,
     "metadata": {},
     "output_type": "execute_result"
    }
   ],
   "source": [
    "sim_scores"
   ]
  },
  {
   "cell_type": "code",
   "execution_count": 29,
   "id": "14ee41e6-6b66-47ef-a1d8-2bd2630594f4",
   "metadata": {},
   "outputs": [
    {
     "data": {
      "text/plain": [
       "False"
      ]
     },
     "execution_count": 29,
     "metadata": {},
     "output_type": "execute_result"
    }
   ],
   "source": [
    "'Hitman' in gamesinfo_df['name']"
   ]
  },
  {
   "cell_type": "code",
   "execution_count": 34,
   "id": "e8729710-b597-4267-8575-0d3839593db7",
   "metadata": {},
   "outputs": [
    {
     "ename": "ValueError",
     "evalue": "The truth value of an array with more than one element is ambiguous. Use a.any() or a.all()",
     "output_type": "error",
     "traceback": [
      "\u001b[0;31m---------------------------------------------------------------------------\u001b[0m",
      "\u001b[0;31mValueError\u001b[0m                                Traceback (most recent call last)",
      "\u001b[0;32m/tmp/ipykernel_145335/2346912076.py\u001b[0m in \u001b[0;36m<module>\u001b[0;34m\u001b[0m\n\u001b[1;32m      1\u001b[0m \u001b[0;31m# test run for conten\u001b[0m\u001b[0;34m\u001b[0m\u001b[0;34m\u001b[0m\u001b[0m\n\u001b[0;32m----> 2\u001b[0;31m \u001b[0mrecommend_content\u001b[0m\u001b[0;34m(\u001b[0m\u001b[0;34m'HITMAN™'\u001b[0m\u001b[0;34m)\u001b[0m\u001b[0;34m\u001b[0m\u001b[0;34m\u001b[0m\u001b[0m\n\u001b[0m",
      "\u001b[0;32m/tmp/ipykernel_145335/3104425390.py\u001b[0m in \u001b[0;36mrecommend_content\u001b[0;34m(title, cosine_sim)\u001b[0m\n\u001b[1;32m      8\u001b[0m \u001b[0;34m\u001b[0m\u001b[0m\n\u001b[1;32m      9\u001b[0m     \u001b[0;31m# sort scores based on similarity\u001b[0m\u001b[0;34m\u001b[0m\u001b[0;34m\u001b[0m\u001b[0m\n\u001b[0;32m---> 10\u001b[0;31m     \u001b[0msim_scores\u001b[0m \u001b[0;34m=\u001b[0m \u001b[0msorted\u001b[0m\u001b[0;34m(\u001b[0m\u001b[0msim_scores\u001b[0m\u001b[0;34m,\u001b[0m \u001b[0mkey\u001b[0m\u001b[0;34m=\u001b[0m\u001b[0;32mlambda\u001b[0m \u001b[0mx\u001b[0m\u001b[0;34m:\u001b[0m \u001b[0mx\u001b[0m\u001b[0;34m[\u001b[0m\u001b[0;36m1\u001b[0m\u001b[0;34m]\u001b[0m\u001b[0;34m,\u001b[0m \u001b[0mreverse\u001b[0m\u001b[0;34m=\u001b[0m\u001b[0;32mTrue\u001b[0m\u001b[0;34m)\u001b[0m\u001b[0;34m\u001b[0m\u001b[0;34m\u001b[0m\u001b[0m\n\u001b[0m\u001b[1;32m     11\u001b[0m \u001b[0;34m\u001b[0m\u001b[0m\n\u001b[1;32m     12\u001b[0m     \u001b[0;31m# get scores for 10 similar movies, not including the game itself\u001b[0m\u001b[0;34m\u001b[0m\u001b[0;34m\u001b[0m\u001b[0m\n",
      "\u001b[0;31mValueError\u001b[0m: The truth value of an array with more than one element is ambiguous. Use a.any() or a.all()"
     ]
    }
   ],
   "source": [
    "# test run for conten\n",
    "recommend_content('HITMAN™')"
   ]
  },
  {
   "cell_type": "code",
   "execution_count": 59,
   "id": "d089ed01-642c-4c18-bb19-07b2c72adb3c",
   "metadata": {},
   "outputs": [],
   "source": [
    "# function that takes a game title and returns\n",
    "def combined_recom(title):\n",
    "    # get recommended games from knn\n",
    "    knn_recom = recommend_knn(title)\n",
    "    # get recommended games from content based\n",
    "    cont_recom = recommend_content(title)\n",
    "    # print knn_recom\n",
    "    #print('Similar recommendations to', title, 'based on user data:')\n",
    "    #print(*knn_recom, sep='\\n')\n",
    "    #print('\\nSimilar recommendations to', title, 'based on game data:')\n",
    "    #print(*cont_recom.tolist(), sep='\\n')\n",
    "    list(set(knn_recom) & set(cont_recom))"
   ]
  },
  {
   "cell_type": "code",
   "execution_count": 61,
   "id": "a2586b9e-f6a0-4b2c-b3ec-e57981e69dcb",
   "metadata": {},
   "outputs": [
    {
     "data": {
      "text/plain": [
       "563"
      ]
     },
     "execution_count": 61,
     "metadata": {},
     "output_type": "execute_result"
    }
   ],
   "source": [
    "get_appid('DOOM')"
   ]
  },
  {
   "cell_type": "code",
   "execution_count": 62,
   "id": "ad82e090-9477-48c9-b03c-459971e5f7dd",
   "metadata": {},
   "outputs": [],
   "source": [
    "# test run for combined\n",
    "combined_recom('DOOM')"
   ]
  },
  {
   "cell_type": "code",
   "execution_count": null,
   "id": "ed794440-1426-4102-b7f3-160e5aa674f1",
   "metadata": {},
   "outputs": [],
   "source": []
  }
 ],
 "metadata": {
  "kernelspec": {
   "display_name": "Python 3 (ipykernel)",
   "language": "python",
   "name": "python3"
  },
  "language_info": {
   "codemirror_mode": {
    "name": "ipython",
    "version": 3
   },
   "file_extension": ".py",
   "mimetype": "text/x-python",
   "name": "python",
   "nbconvert_exporter": "python",
   "pygments_lexer": "ipython3",
   "version": "3.9.7"
  }
 },
 "nbformat": 4,
 "nbformat_minor": 5
}
