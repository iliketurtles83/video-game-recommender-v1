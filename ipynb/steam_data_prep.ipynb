{
 "cells": [
  {
   "cell_type": "markdown",
   "id": "5e343bd9-44d3-4805-aaa8-116975a0584f",
   "metadata": {},
   "source": [
    "## Data preparation for Steam datasets"
   ]
  },
  {
   "cell_type": "code",
   "execution_count": 1,
   "id": "cb29ec25-e35a-48ce-8052-4f45f8c66167",
   "metadata": {},
   "outputs": [],
   "source": [
    "# import libraries\n",
    "import pandas as pd\n",
    "import string\n",
    "import nltk\n",
    "import re\n",
    "import ast\n",
    "from nltk.stem.porter import PorterStemmer\n",
    "from sklearn.preprocessing import MultiLabelBinarizer\n",
    "from sklearn.feature_extraction.text import TfidfVectorizer"
   ]
  },
  {
   "cell_type": "markdown",
   "id": "c2eebc13-4f7e-4d3e-bd7a-089b1ef6daee",
   "metadata": {},
   "source": [
    "### PLAYTIME DATA PREP"
   ]
  },
  {
   "cell_type": "code",
   "execution_count": 78,
   "id": "c161acce-b6ce-42fd-8639-428e38a4c7b9",
   "metadata": {},
   "outputs": [],
   "source": [
    "# load steam_playtime.csv\n",
    "users_df = pd.read_csv('../data/steam_playtime.csv')\n",
    "\n",
    "# drop counterstrike i.e. drop rows where appid is 730, 10 or 240\n",
    "users_df = users_df[~users_df['appid'].isin([730, 10, 240])]\n",
    "\n",
    "# drop user playtimes over a 150k minutes\n",
    "# probably people who mine in-game content using scripts\n",
    "users_df = users_df[users_df['playtime_forever'] < 150000]\n",
    "\n",
    "# remove user playtimes under 60 minutes\n",
    "users_df = users_df[users_df['playtime_forever'] > 60]\n",
    "\n",
    "# drop playtime_2weeks column, not much there\n",
    "users_df = users_df.drop(columns = ['playtime_2weeks'])"
   ]
  },
  {
   "cell_type": "code",
   "execution_count": 79,
   "id": "14849b37-5b1b-43e8-9cc8-acc30f1507d7",
   "metadata": {},
   "outputs": [
    {
     "data": {
      "text/plain": [
       "1051857"
      ]
     },
     "execution_count": 79,
     "metadata": {},
     "output_type": "execute_result"
    }
   ],
   "source": [
    "len(users_df)"
   ]
  },
  {
   "cell_type": "code",
   "execution_count": 80,
   "id": "0ec8645d-9ebf-44d5-8604-2ec4f1c079fa",
   "metadata": {},
   "outputs": [
    {
     "data": {
      "text/plain": [
       "12568"
      ]
     },
     "execution_count": 80,
     "metadata": {},
     "output_type": "execute_result"
    }
   ],
   "source": [
    "len(users_df['steam_id'].unique())"
   ]
  },
  {
   "cell_type": "code",
   "execution_count": 81,
   "id": "c81a86f0-7bb3-4398-b9ad-3f3bd4b075f9",
   "metadata": {},
   "outputs": [
    {
     "data": {
      "text/plain": [
       "2159.7241155404204"
      ]
     },
     "execution_count": 81,
     "metadata": {},
     "output_type": "execute_result"
    }
   ],
   "source": [
    "users_df['playtime_forever'].mean()"
   ]
  },
  {
   "cell_type": "code",
   "execution_count": 82,
   "id": "9b1c9f85-1f5c-4123-9e08-a1427927da97",
   "metadata": {},
   "outputs": [
    {
     "data": {
      "text/plain": [
       "328.0"
      ]
     },
     "execution_count": 82,
     "metadata": {},
     "output_type": "execute_result"
    }
   ],
   "source": [
    "users_df['playtime_forever'].median()"
   ]
  },
  {
   "cell_type": "markdown",
   "id": "26256210-9633-4a12-804c-f907616b5bf4",
   "metadata": {
    "tags": []
   },
   "source": [
    "#### DATA EXPLORATION"
   ]
  },
  {
   "cell_type": "code",
   "execution_count": 83,
   "id": "d4cebcd5-8487-49a0-9eb3-b5a264922f2c",
   "metadata": {},
   "outputs": [
    {
     "data": {
      "text/plain": [
       "<AxesSubplot:>"
      ]
     },
     "execution_count": 83,
     "metadata": {},
     "output_type": "execute_result"
    },
    {
     "data": {
      "image/png": "[encoded data removed]",
      "text/plain": [
       "<Figure size 432x288 with 1 Axes>"
      ]
     },
     "metadata": {
      "needs_background": "light"
     },
     "output_type": "display_data"
    }
   ],
   "source": [
    "users_df.sort_values('playtime_forever', ascending=False)['playtime_forever'].hist()"
   ]
  },
  {
   "cell_type": "code",
   "execution_count": 84,
   "id": "ef3f1725-bdb0-45c4-b30a-e0129120b85b",
   "metadata": {},
   "outputs": [],
   "source": [
    "import seaborn as sns"
   ]
  },
  {
   "cell_type": "code",
   "execution_count": 85,
   "id": "9b4c2cfe-1070-4fa2-9d6f-5ee7f07ee4bb",
   "metadata": {},
   "outputs": [],
   "source": [
    "playtimes = users_df.sort_values('playtime_forever', ascending=False).reset_index()"
   ]
  },
  {
   "cell_type": "code",
   "execution_count": 86,
   "id": "c54dd909-8db9-49fb-9dcb-a38fb354dfe5",
   "metadata": {},
   "outputs": [],
   "source": [
    "playtimetotal = users_df.groupby('appid').sum().sort_values('playtime_forever', ascending=False).reset_index()"
   ]
  },
  {
   "cell_type": "code",
   "execution_count": 87,
   "id": "4c5c2439-c8e3-4d8a-a540-6444ad81b71f",
   "metadata": {},
   "outputs": [
    {
     "data": {
      "text/plain": [
       "<AxesSubplot:>"
      ]
     },
     "execution_count": 87,
     "metadata": {},
     "output_type": "execute_result"
    },
    {
     "data": {
      "image/png": "[encoded data removed]",
      "text/plain": [
       "<Figure size 432x288 with 1 Axes>"
      ]
     },
     "metadata": {
      "needs_background": "light"
     },
     "output_type": "display_data"
    }
   ],
   "source": [
    "playtimes['playtime_forever'].plot()"
   ]
  },
  {
   "cell_type": "code",
   "execution_count": 74,
   "id": "89603ef1-25bf-4168-b826-6ac1d52c4a05",
   "metadata": {},
   "outputs": [
    {
     "data": {
      "image/png": "[encoded data removed]",
      "text/plain": [
       "<Figure size 360x360 with 1 Axes>"
      ]
     },
     "metadata": {
      "needs_background": "light"
     },
     "output_type": "display_data"
    }
   ],
   "source": [
    "test = sns.displot(playtimes['playtime_forever'])"
   ]
  },
  {
   "cell_type": "code",
   "execution_count": 10,
   "id": "3e30a498-6aa0-41ed-b55a-f24c5f1b071c",
   "metadata": {},
   "outputs": [],
   "source": [
    "#test.savefig('out.png')"
   ]
  },
  {
   "cell_type": "markdown",
   "id": "39a84a71-f4bf-4fd0-b845-b24ba12b359c",
   "metadata": {},
   "source": [
    "### GAME DATA PREP"
   ]
  },
  {
   "cell_type": "code",
   "execution_count": 11,
   "id": "bcfefd6d-de00-44d6-a478-8e19cbd03cb3",
   "metadata": {},
   "outputs": [],
   "source": [
    "# load steam_app_metadata.csv\n",
    "games_df = pd.read_csv('../data/steam_app_metadata.csv')"
   ]
  },
  {
   "cell_type": "markdown",
   "id": "c95ad03f-9d53-42e2-bc99-547acbac4947",
   "metadata": {},
   "source": [
    "#### one hot encode categories and genres"
   ]
  },
  {
   "cell_type": "code",
   "execution_count": 12,
   "id": "79308513-43b6-4d79-83d1-4a52a242d57a",
   "metadata": {},
   "outputs": [],
   "source": [
    "# make categories and genres into lists\n",
    "games_df['categories'] = games_df['categories'].apply(ast.literal_eval)\n",
    "games_df['genres'] = games_df['genres'].apply(ast.literal_eval)"
   ]
  },
  {
   "cell_type": "code",
   "execution_count": 13,
   "id": "e75fc72a-7314-4307-ad8a-ea39c2467de8",
   "metadata": {},
   "outputs": [],
   "source": [
    "# multilabel binarizer\n",
    "mlb = MultiLabelBinarizer()"
   ]
  },
  {
   "cell_type": "code",
   "execution_count": 14,
   "id": "3bc5fd1c-c603-4ddb-b58b-656f2861627f",
   "metadata": {},
   "outputs": [],
   "source": [
    "# encode categories \n",
    "games_df = games_df.join(pd.DataFrame(mlb.fit_transform(games_df.pop('categories')),\n",
    "                          columns=mlb.classes_,\n",
    "                          index=games_df.index))"
   ]
  },
  {
   "cell_type": "code",
   "execution_count": 15,
   "id": "4fd22c31-306a-40be-a1ad-a22ad5d7b8bc",
   "metadata": {},
   "outputs": [],
   "source": [
    "# encode genres\n",
    "games_df = games_df.join(pd.DataFrame(mlb.fit_transform(games_df.pop('genres')),\n",
    "                          columns=mlb.classes_,\n",
    "                          index=games_df.index))"
   ]
  },
  {
   "cell_type": "markdown",
   "id": "a37fcb33-6412-415e-9327-c0de5b802778",
   "metadata": {},
   "source": [
    "#### process description column NLP style"
   ]
  },
  {
   "cell_type": "code",
   "execution_count": 16,
   "id": "85d7fb81-ceaf-43d3-a856-7764ab386924",
   "metadata": {},
   "outputs": [],
   "source": [
    "# fill 'description' column NaN with empty string\n",
    "games_df['description'] = games_df['description'].fillna('')"
   ]
  },
  {
   "cell_type": "code",
   "execution_count": 17,
   "id": "d4f2330d-c1bf-4e68-9fde-8fb7707f2155",
   "metadata": {},
   "outputs": [],
   "source": [
    "stopwords = nltk.corpus.stopwords.words('english')\n",
    "porter = PorterStemmer()"
   ]
  },
  {
   "cell_type": "code",
   "execution_count": 18,
   "id": "1ced1e8e-1d89-47af-93e3-40e166f02c58",
   "metadata": {},
   "outputs": [],
   "source": [
    "# function to clean text\n",
    "def clean_text(text):\n",
    "    # remove tags\n",
    "    text = re.sub(r'<.*?>',' ',text)\n",
    "    # remove URL links\n",
    "    text = re.sub(r'http\\S+', ' ', text)\n",
    "    # remove non-breaking space\n",
    "    text = text.replace(u'\\xa0', u' ')\n",
    "    # remove hex\n",
    "    text = re.sub(r'[^\\x00-\\x7f]',r'', text)\n",
    "    # remove punctuation\n",
    "    text = text.translate(str.maketrans('', '', string.punctuation))\n",
    "    # remove numbers\n",
    "    text = re.sub(r'[0-9]+', '', text)\n",
    "    # make lowercase\n",
    "    text = text.lower()\n",
    "    # tokenize text\n",
    "    tokens = nltk.word_tokenize(text)\n",
    "    # remove stopwords\n",
    "    tokens = [w for w in tokens if w not in stopwords]\n",
    "    # stem words\n",
    "    tokens = [porter.stem(w) for w in tokens]\n",
    "    # make tokens into string\n",
    "    text = ' '.join(tokens)\n",
    "    # return clean text\n",
    "    return text"
   ]
  },
  {
   "cell_type": "code",
   "execution_count": 19,
   "id": "cd0a1ec3-4263-488b-a40b-c261cc091616",
   "metadata": {},
   "outputs": [],
   "source": [
    "# apply clean_text function to description column\n",
    "games_df['description'] = games_df['description'].apply(clean_text)"
   ]
  },
  {
   "cell_type": "code",
   "execution_count": 20,
   "id": "c53bb28e-ed2c-49ca-9800-a0133fee51e5",
   "metadata": {},
   "outputs": [],
   "source": [
    "# make description column into type string, otherwise tfidf cries\n",
    "games_df['description'] = games_df['description'].astype(str)"
   ]
  },
  {
   "cell_type": "code",
   "execution_count": 21,
   "id": "0136cf01-a792-47ce-9dcd-14f2ed566780",
   "metadata": {},
   "outputs": [],
   "source": [
    "# instantiate tfidfvectorizer\n",
    "tfidf = TfidfVectorizer(max_features=1500, lowercase=False, min_df=5, ngram_range=(1,3))"
   ]
  },
  {
   "cell_type": "code",
   "execution_count": 22,
   "id": "6c5e8855-f244-4c37-8753-a8ea10bea445",
   "metadata": {},
   "outputs": [],
   "source": [
    "# fit tfidfvectorizer to description column\n",
    "tfidf_matrix = tfidf.fit_transform(games_df['description'])"
   ]
  },
  {
   "cell_type": "code",
   "execution_count": 23,
   "id": "dfbd7d36-90b1-4a47-b494-92f9cf18922f",
   "metadata": {
    "tags": []
   },
   "outputs": [
    {
     "name": "stderr",
     "output_type": "stream",
     "text": [
      "/home/berry/anaconda3/lib/python3.9/site-packages/sklearn/utils/deprecation.py:87: FutureWarning: Function get_feature_names is deprecated; get_feature_names is deprecated in 1.0 and will be removed in 1.2. Please use get_feature_names_out instead.\n",
      "  warnings.warn(msg, category=FutureWarning)\n"
     ]
    }
   ],
   "source": [
    "# make matrix into dataframe\n",
    "tfidf_df = pd.DataFrame(tfidf_matrix.toarray(), columns=tfidf.get_feature_names())"
   ]
  },
  {
   "cell_type": "code",
   "execution_count": 24,
   "id": "a2c9acdc-c328-4fa2-a855-510d6206b28f",
   "metadata": {},
   "outputs": [],
   "source": [
    "games_df = pd.concat([games_df, tfidf_df], axis=1)"
   ]
  },
  {
   "cell_type": "code",
   "execution_count": 25,
   "id": "f1fdd41c-3a21-4476-81ec-c2649fa159ae",
   "metadata": {},
   "outputs": [
    {
     "data": {
      "text/plain": [
       "(23045, 1578)"
      ]
     },
     "execution_count": 25,
     "metadata": {},
     "output_type": "execute_result"
    }
   ],
   "source": [
    "games_df.shape"
   ]
  },
  {
   "cell_type": "markdown",
   "id": "78f8ee05-8015-4c9b-bad8-4aef4f070eb4",
   "metadata": {},
   "source": [
    "#### Save some dataframes and other stuff"
   ]
  },
  {
   "cell_type": "code",
   "execution_count": 26,
   "id": "0ae8afc1-dd0f-4650-a0ab-1c7246be0310",
   "metadata": {},
   "outputs": [],
   "source": [
    "# make a dataframe from appid, name, developer and publisher. for our recommendations\n",
    "# i have to go by location because 'name' is possibly a tf-idf term now\n",
    "gameinfo_df = games_df.iloc[:, [0,1,3,4]]"
   ]
  },
  {
   "cell_type": "code",
   "execution_count": 27,
   "id": "3f5577a3-9e64-4289-97b7-c49a5f5366f8",
   "metadata": {},
   "outputs": [],
   "source": [
    "# save gameinfo_df to csv\n",
    "gameinfo_df.to_csv('../data/steam_gameinfo.csv', index=False)"
   ]
  },
  {
   "cell_type": "code",
   "execution_count": 28,
   "id": "93b747ea-8f7f-4090-88ff-0eedf1baddb5",
   "metadata": {},
   "outputs": [],
   "source": [
    "# drop rows from users_df where appid is not in games_df\n",
    "# play time for games is still in user profiles even if a game is no longer on steam\n",
    "users_df = users_df[users_df['appid'].isin(games_df['appid'])]"
   ]
  },
  {
   "cell_type": "code",
   "execution_count": 29,
   "id": "eae3ea6c-f7ce-4242-af1b-d7ba77af61de",
   "metadata": {},
   "outputs": [],
   "source": [
    "# save users_df to csv\n",
    "users_df.to_csv('../data/steam_playtime_clean.csv', index=False)"
   ]
  },
  {
   "cell_type": "code",
   "execution_count": 30,
   "id": "7e6e0fe5-bb6b-49cb-a24b-3909dc154776",
   "metadata": {},
   "outputs": [],
   "source": [
    "# drop name, developer and publisher from games_df\n",
    "games_df = games_df.drop(columns = ['name', 'developer', 'publisher', 'description'])"
   ]
  },
  {
   "cell_type": "code",
   "execution_count": 31,
   "id": "91921372-1cb3-4946-8779-ecb59d96b71b",
   "metadata": {},
   "outputs": [],
   "source": [
    "# save games_df to csv\n",
    "games_df.to_csv('../data/steam_app_metadata_clean.csv', index=False)"
   ]
  },
  {
   "cell_type": "code",
   "execution_count": null,
   "id": "4c16d2f0-cac3-440c-ba45-4265b9f7b43f",
   "metadata": {},
   "outputs": [],
   "source": []
  }
 ],
 "metadata": {
  "kernelspec": {
   "display_name": "Python 3 (ipykernel)",
   "language": "python",
   "name": "python3"
  },
  "language_info": {
   "codemirror_mode": {
    "name": "ipython",
    "version": 3
   },
   "file_extension": ".py",
   "mimetype": "text/x-python",
   "name": "python",
   "nbconvert_exporter": "python",
   "pygments_lexer": "ipython3",
   "version": "3.9.7"
  }
 },
 "nbformat": 4,
 "nbformat_minor": 5
}
